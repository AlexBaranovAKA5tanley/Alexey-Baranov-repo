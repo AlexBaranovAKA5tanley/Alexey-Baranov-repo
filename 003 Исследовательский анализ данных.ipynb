{
 "cells": [
  {
   "cell_type": "markdown",
   "metadata": {},
   "source": [
    "# Исследование объявлений о продаже квартир\n",
    "\n",
    "В вашем распоряжении данные сервиса Яндекс.Недвижимость — архив объявлений о продаже квартир в Санкт-Петербурге и соседних населённых пунктах за несколько лет. Нужно научиться определять рыночную стоимость объектов недвижимости. Ваша задача — установить параметры. Это позволит построить автоматизированную систему: она отследит аномалии и мошенническую деятельность. \n",
    "\n",
    "По каждой квартире на продажу доступны два вида данных. Первые вписаны пользователем, вторые получены автоматически на основе картографических данных. Например, расстояние до центра, аэропорта, ближайшего парка и водоёма. "
   ]
  },
  {
   "cell_type": "markdown",
   "metadata": {},
   "source": [
    "## Изучение данных из файла"
   ]
  },
  {
   "cell_type": "code",
   "execution_count": 1,
   "metadata": {},
   "outputs": [],
   "source": [
    "# импорт библиотк\n",
    "import pandas as pd\n",
    "import matplotlib.pyplot as plt \n",
    "import seaborn as sns"
   ]
  },
  {
   "cell_type": "code",
   "execution_count": 2,
   "metadata": {},
   "outputs": [
    {
     "name": "stdout",
     "output_type": "stream",
     "text": [
      "23699\n",
      "<class 'pandas.core.frame.DataFrame'>\n",
      "RangeIndex: 23699 entries, 0 to 23698\n",
      "Data columns (total 22 columns):\n",
      " #   Column                Non-Null Count  Dtype  \n",
      "---  ------                --------------  -----  \n",
      " 0   total_images          23699 non-null  int64  \n",
      " 1   last_price            23699 non-null  float64\n",
      " 2   total_area            23699 non-null  float64\n",
      " 3   first_day_exposition  23699 non-null  object \n",
      " 4   rooms                 23699 non-null  int64  \n",
      " 5   ceiling_height        14504 non-null  float64\n",
      " 6   floors_total          23613 non-null  float64\n",
      " 7   living_area           21796 non-null  float64\n",
      " 8   floor                 23699 non-null  int64  \n",
      " 9   is_apartment          2775 non-null   object \n",
      " 10  studio                23699 non-null  bool   \n",
      " 11  open_plan             23699 non-null  bool   \n",
      " 12  kitchen_area          21421 non-null  float64\n",
      " 13  balcony               12180 non-null  float64\n",
      " 14  locality_name         23650 non-null  object \n",
      " 15  airports_nearest      18157 non-null  float64\n",
      " 16  cityCenters_nearest   18180 non-null  float64\n",
      " 17  parks_around3000      18181 non-null  float64\n",
      " 18  parks_nearest         8079 non-null   float64\n",
      " 19  ponds_around3000      18181 non-null  float64\n",
      " 20  ponds_nearest         9110 non-null   float64\n",
      " 21  days_exposition       20518 non-null  float64\n",
      "dtypes: bool(2), float64(14), int64(3), object(3)\n",
      "memory usage: 3.7+ MB\n"
     ]
    }
   ],
   "source": [
    "# чтение файла и создание переменной датафрейма\n",
    "df = pd.read_csv(\"https://code.s3.yandex.net/datasets/real_estate_data.csv\", sep='\\t')\n",
    "print(len(df))\n",
    "df.info()"
   ]
  },
  {
   "cell_type": "code",
   "execution_count": 3,
   "metadata": {},
   "outputs": [
    {
     "data": {
      "text/plain": [
       "0"
      ]
     },
     "execution_count": 3,
     "metadata": {},
     "output_type": "execute_result"
    }
   ],
   "source": [
    "len(df[df.duplicated()])  # число явных дубликатов"
   ]
  },
  {
   "cell_type": "code",
   "execution_count": 4,
   "metadata": {},
   "outputs": [
    {
     "name": "stdout",
     "output_type": "stream",
     "text": [
      "В 14 показателях отсутствуют данные\n"
     ]
    },
    {
     "data": {
      "text/html": [
       "<div>\n",
       "<style scoped>\n",
       "    .dataframe tbody tr th:only-of-type {\n",
       "        vertical-align: middle;\n",
       "    }\n",
       "\n",
       "    .dataframe tbody tr th {\n",
       "        vertical-align: top;\n",
       "    }\n",
       "\n",
       "    .dataframe thead th {\n",
       "        text-align: right;\n",
       "    }\n",
       "</style>\n",
       "<table border=\"1\" class=\"dataframe\">\n",
       "  <thead>\n",
       "    <tr style=\"text-align: right;\">\n",
       "      <th></th>\n",
       "      <th>null_rate</th>\n",
       "      <th>null_counts</th>\n",
       "    </tr>\n",
       "  </thead>\n",
       "  <tbody>\n",
       "    <tr>\n",
       "      <th>locality_name</th>\n",
       "      <td>0.21%</td>\n",
       "      <td>49</td>\n",
       "    </tr>\n",
       "    <tr>\n",
       "      <th>floors_total</th>\n",
       "      <td>0.36%</td>\n",
       "      <td>86</td>\n",
       "    </tr>\n",
       "    <tr>\n",
       "      <th>living_area</th>\n",
       "      <td>8.03%</td>\n",
       "      <td>1903</td>\n",
       "    </tr>\n",
       "    <tr>\n",
       "      <th>kitchen_area</th>\n",
       "      <td>9.61%</td>\n",
       "      <td>2278</td>\n",
       "    </tr>\n",
       "    <tr>\n",
       "      <th>days_exposition</th>\n",
       "      <td>13.42%</td>\n",
       "      <td>3181</td>\n",
       "    </tr>\n",
       "    <tr>\n",
       "      <th>ponds_around3000</th>\n",
       "      <td>23.28%</td>\n",
       "      <td>5518</td>\n",
       "    </tr>\n",
       "    <tr>\n",
       "      <th>parks_around3000</th>\n",
       "      <td>23.28%</td>\n",
       "      <td>5518</td>\n",
       "    </tr>\n",
       "    <tr>\n",
       "      <th>cityCenters_nearest</th>\n",
       "      <td>23.29%</td>\n",
       "      <td>5519</td>\n",
       "    </tr>\n",
       "    <tr>\n",
       "      <th>airports_nearest</th>\n",
       "      <td>23.38%</td>\n",
       "      <td>5542</td>\n",
       "    </tr>\n",
       "    <tr>\n",
       "      <th>ceiling_height</th>\n",
       "      <td>38.80%</td>\n",
       "      <td>9195</td>\n",
       "    </tr>\n",
       "    <tr>\n",
       "      <th>balcony</th>\n",
       "      <td>48.61%</td>\n",
       "      <td>11519</td>\n",
       "    </tr>\n",
       "    <tr>\n",
       "      <th>ponds_nearest</th>\n",
       "      <td>61.56%</td>\n",
       "      <td>14589</td>\n",
       "    </tr>\n",
       "    <tr>\n",
       "      <th>parks_nearest</th>\n",
       "      <td>65.91%</td>\n",
       "      <td>15620</td>\n",
       "    </tr>\n",
       "    <tr>\n",
       "      <th>is_apartment</th>\n",
       "      <td>88.29%</td>\n",
       "      <td>20924</td>\n",
       "    </tr>\n",
       "  </tbody>\n",
       "</table>\n",
       "</div>"
      ],
      "text/plain": [
       "                    null_rate  null_counts\n",
       "locality_name           0.21%           49\n",
       "floors_total            0.36%           86\n",
       "living_area             8.03%         1903\n",
       "kitchen_area            9.61%         2278\n",
       "days_exposition        13.42%         3181\n",
       "ponds_around3000       23.28%         5518\n",
       "parks_around3000       23.28%         5518\n",
       "cityCenters_nearest    23.29%         5519\n",
       "airports_nearest       23.38%         5542\n",
       "ceiling_height         38.80%         9195\n",
       "balcony                48.61%        11519\n",
       "ponds_nearest          61.56%        14589\n",
       "parks_nearest          65.91%        15620\n",
       "is_apartment           88.29%        20924"
      ]
     },
     "execution_count": 4,
     "metadata": {},
     "output_type": "execute_result"
    }
   ],
   "source": [
    "# оформление общей таблицы для пропущенных значений\n",
    "missing_data = pd.DataFrame({'null_rate':df.isna().sum()/len(df)})\n",
    "missing_data['null_counts'] = df.isna().sum()\n",
    "missing_data_sorted = missing_data.sort_values('null_rate').query('null_rate > 0')\n",
    "missing_data_sorted['null_rate'] = missing_data_sorted['null_rate'].map(lambda x: '{:.2%}'.format(x))\n",
    "print(f'В {len(missing_data_sorted)} показателях отсутствуют данные')\n",
    "missing_data_sorted"
   ]
  },
  {
   "cell_type": "markdown",
   "metadata": {},
   "source": [
    "### Вывод\n",
    "* данные представлены в файле из 23699 строк и 22 показателей\n",
    "* явные дубликаты отсутствуют\n",
    "* в 13 показателях имеются пропуски"
   ]
  },
  {
   "cell_type": "markdown",
   "metadata": {},
   "source": [
    "## Предобработка данных"
   ]
  },
  {
   "cell_type": "code",
   "execution_count": 5,
   "metadata": {},
   "outputs": [
    {
     "data": {
      "text/plain": [
       "{'airports_nearest',\n",
       " 'balcony',\n",
       " 'ceiling_height',\n",
       " 'cityCenters_nearest',\n",
       " 'days_exposition',\n",
       " 'floors_total',\n",
       " 'is_apartment',\n",
       " 'kitchen_area',\n",
       " 'living_area',\n",
       " 'locality_name',\n",
       " 'parks_around3000',\n",
       " 'parks_nearest',\n",
       " 'ponds_around3000',\n",
       " 'ponds_nearest'}"
      ]
     },
     "execution_count": 5,
     "metadata": {},
     "output_type": "execute_result"
    }
   ],
   "source": [
    "# В следующих категориях данные отсутствуют\n",
    "set(missing_data_sorted.index)"
   ]
  },
  {
   "cell_type": "markdown",
   "metadata": {},
   "source": [
    "Сначала преобразуем данные общей площади и этажность в целые числа"
   ]
  },
  {
   "cell_type": "code",
   "execution_count": 6,
   "metadata": {},
   "outputs": [],
   "source": [
    "df.total_area = df.total_area.astype('int')"
   ]
  },
  {
   "cell_type": "markdown",
   "metadata": {},
   "source": [
    "Рассмотрим их по отедельности и попытаемся восстановить те из них, которые задействованы в постановленной задаче, некоторые из них оставим без изменения"
   ]
  },
  {
   "cell_type": "markdown",
   "metadata": {},
   "source": [
    "* ***airports_nearest*** - расстояние до ближайшего аэропорта в метрах (м): \n",
    "оставим без изменения\n",
    "* ***balcony*** - количество балконов: логично предположить, что отсутствие балкона в квартире могло быть не занесено, поэтому пропуски заменим на \"0\""
   ]
  },
  {
   "cell_type": "code",
   "execution_count": 7,
   "metadata": {},
   "outputs": [
    {
     "name": "stdout",
     "output_type": "stream",
     "text": [
      "Количество пропусков по балконам до обработки: 11519\n",
      "Количество пропусков по балконам после обработки: 0\n",
      "Уникальные значения для кол-ва балконов: [0 2 1 5 4 3]\n",
      "Тип данных в количестве балконов: int32\n"
     ]
    },
    {
     "data": {
      "text/plain": [
       "23699"
      ]
     },
     "execution_count": 7,
     "metadata": {},
     "output_type": "execute_result"
    }
   ],
   "source": [
    "print(f'Количество пропусков по балконам до обработки: {df.balcony.isna().sum()}')\n",
    "df.loc[df['balcony'].isna(), 'balcony'] = 0\n",
    "print(f'Количество пропусков по балконам после обработки: {df.balcony.isna().sum()}')\n",
    "df.balcony = df.balcony.astype('int')\n",
    "print(f'Уникальные значения для кол-ва балконов: {df.balcony.unique()}')\n",
    "print(f'Тип данных в количестве балконов: {df.balcony.dtype}')\n",
    "len(df.balcony)"
   ]
  },
  {
   "cell_type": "markdown",
   "metadata": {},
   "source": [
    "* ***ceiling_height*** - высота потолков: в большенстве своем дома построены типовые, поэтому заменим недостающие данные медианным значением"
   ]
  },
  {
   "cell_type": "code",
   "execution_count": 8,
   "metadata": {},
   "outputs": [
    {
     "name": "stdout",
     "output_type": "stream",
     "text": [
      "Количество пропусков в датасете по высоте потолков до обработки: 9195\n",
      "Медианное значение для высоты потолков: 2.65\n",
      "Количество пропусков в датасете по высоте потолков после обработки: 0\n"
     ]
    },
    {
     "data": {
      "text/plain": [
       "23699"
      ]
     },
     "execution_count": 8,
     "metadata": {},
     "output_type": "execute_result"
    }
   ],
   "source": [
    "print(f'Количество пропусков в датасете по высоте потолков до обработки: {df.ceiling_height.isna().sum()}')\n",
    "df.loc[df['ceiling_height'].isna(), 'ceiling_height'] = df.ceiling_height.median()\n",
    "print(f'Медианное значение для высоты потолков: {df.ceiling_height.median()}')\n",
    "print(f'Количество пропусков в датасете по высоте потолков после обработки: {df.ceiling_height.isna().sum()}')\n",
    "len(df.ceiling_height)"
   ]
  },
  {
   "cell_type": "markdown",
   "metadata": {},
   "source": [
    "* ***cityCenters_nearest*** - расстояние до центра города: оставим без изменения\n",
    "* ***days_exposition*** - длительность размещения публикации оставим без изменения\n",
    "* ***floors_total*** - всего этажей в доме: заменим неизвестные значения на \"1\" и преведем к натуральному виду"
   ]
  },
  {
   "cell_type": "code",
   "execution_count": 9,
   "metadata": {},
   "outputs": [
    {
     "name": "stdout",
     "output_type": "stream",
     "text": [
      "Кол-во незаполенных значений: 86\n",
      "Кол-во незаполенных значений: 0\n"
     ]
    }
   ],
   "source": [
    "print(f'Кол-во незаполенных значений: {df.floors_total.isna().sum()}')\n",
    "df.floors_total = df.floors_total.fillna(1)\n",
    "print(f'Кол-во незаполенных значений: {df.floors_total.isna().sum()}')\n",
    "df.floors_total = df.floors_total.astype('int')"
   ]
  },
  {
   "cell_type": "markdown",
   "metadata": {},
   "source": [
    "* ***is_apartment*** - апартаменты (булев тип): логично предположить, что позиции, не являющиеся апартаментами не заполнялись, поэтому заменим их на значение \"False\""
   ]
  },
  {
   "cell_type": "code",
   "execution_count": 10,
   "metadata": {},
   "outputs": [
    {
     "name": "stdout",
     "output_type": "stream",
     "text": [
      "Количество пропусков в датасете по апартаментам: 0\n",
      "Тип данных по апартаментам object\n"
     ]
    },
    {
     "data": {
      "text/plain": [
       "array([False, True], dtype=object)"
      ]
     },
     "execution_count": 10,
     "metadata": {},
     "output_type": "execute_result"
    }
   ],
   "source": [
    "df.loc[df['is_apartment'].isna(), 'is_apartment'] = False\n",
    "print(f'Количество пропусков в датасете по апартаментам: {df.is_apartment.isna().sum()}')\n",
    "print(f'Тип данных по апартаментам {df.is_apartment.dtype}')\n",
    "df.is_apartment.unique()"
   ]
  },
  {
   "cell_type": "code",
   "execution_count": 11,
   "metadata": {},
   "outputs": [],
   "source": [
    "# print('Количество студий без указания площади кухни: ', \\\n",
    "#     len(df[(df['studio'] == 1) & df['kitchen_area'].isna()]))\n",
    "# print(f'Общее число студий: {df.studio.sum()}')"
   ]
  },
  {
   "cell_type": "code",
   "execution_count": 12,
   "metadata": {},
   "outputs": [],
   "source": [
    "# print('Количество не студий без указания площади кухни до обработки: ', \\\n",
    "#     len(df[(df['studio'] == 0) & df['kitchen_area'].isna()]))\n",
    "# df.loc[df['studio'] == 0, 'kitchen_area'] = df.kitchen_area.median()  # медиана площади кухни не в студии\n",
    "# print(f'Медиана площади кухни: {df.kitchen_area.median()}')\n",
    "# print('Количество студий без указания площади кухни: ', \\\n",
    "#     len(df[(df['studio'] == 1) & df['kitchen_area'].isna()]))\n",
    "# print('Количество НЕ студий без указания площади кухни после обработки: ', \\\n",
    "#     len(df[(df['studio'] == 0) & df['kitchen_area'].isna()]))"
   ]
  },
  {
   "cell_type": "markdown",
   "metadata": {},
   "source": [
    "<span style='background:yellow'>***kitchen_area*** - площадь кухни заполним медианным значением в соответствии с разбиением по количеству комнат\n",
    "</span>"
   ]
  },
  {
   "cell_type": "code",
   "execution_count": 11,
   "metadata": {},
   "outputs": [
    {
     "name": "stdout",
     "output_type": "stream",
     "text": [
      "Количество не студий без указания площади кухни до обработки:  2129\n",
      "Медиана площади кухни: 9.5\n",
      "для кол-ва комнат: 3\n",
      "\n",
      "Медиана площади кухни: 9.04\n",
      "для кол-ва комнат: 1\n",
      "\n",
      "Медиана площади кухни: 8.8\n",
      "для кол-ва комнат: 2\n",
      "\n",
      "Медиана площади кухни: 11.1\n",
      "для кол-ва комнат: 4\n",
      "\n",
      "Медиана площади кухни: 15.1\n",
      "для кол-ва комнат: 5\n",
      "\n",
      "Медиана площади кухни: 19.5\n",
      "для кол-ва комнат: 6\n",
      "\n",
      "Медиана площади кухни: nan\n",
      "для кол-ва комнат: 0\n",
      "\n",
      "Медиана площади кухни: 20.0\n",
      "для кол-ва комнат: 7\n",
      "\n",
      "Медиана площади кухни: 12.600000000000001\n",
      "для кол-ва комнат: 11\n",
      "\n",
      "Медиана площади кухни: 25.0\n",
      "для кол-ва комнат: 8\n",
      "\n",
      "Медиана площади кухни: 21.25\n",
      "для кол-ва комнат: 14\n",
      "\n",
      "Медиана площади кухни: 19.8\n",
      "для кол-ва комнат: 10\n",
      "\n",
      "Медиана площади кухни: 100.0\n",
      "для кол-ва комнат: 15\n",
      "\n",
      "Медиана площади кухни: 14.3\n",
      "для кол-ва комнат: 9\n",
      "\n",
      "Медиана площади кухни: 27.6\n",
      "для кол-ва комнат: 19\n",
      "\n",
      "Медиана площади кухни: 13.0\n",
      "для кол-ва комнат: 16\n",
      "\n",
      "Медиана площади кухни: 112.0\n",
      "для кол-ва комнат: 12\n",
      "\n",
      "Количество НЕ студий без указания площади кухни после обработки:  59\n"
     ]
    }
   ],
   "source": [
    "print('Количество не студий без указания площади кухни до обработки: ', \\\n",
    "    len(df[(df['studio'] == 0) & df['kitchen_area'].isna()]))\n",
    "for unique_rooms in df.rooms.unique():\n",
    "    median = df.loc[df['rooms'] == unique_rooms, 'kitchen_area'].median()\n",
    "    print(f'Медиана площади кухни: {median}')\n",
    "    print(f'для кол-ва комнат: {unique_rooms}')\n",
    "    print()\n",
    "    df.loc[(df['kitchen_area'].isna()) & (df['rooms'] == unique_rooms), 'kitchen_area'] = median\n",
    "print('Количество НЕ студий без указания площади кухни после обработки: ', \\\n",
    "      len(df[(df['studio'] == 0) & df['kitchen_area'].isna()]))"
   ]
  },
  {
   "cell_type": "code",
   "execution_count": 12,
   "metadata": {},
   "outputs": [],
   "source": [
    "# print('Количество отсутствующих значений жилой плащади в студиях', \\\n",
    "#       df.loc[df['studio'] == 1, 'living_area'].isnull().sum())\n",
    "# print('Количество отсутствующих значений жилой плащади не в студиях', \\\n",
    "#       df.loc[df['studio'] == 0, 'living_area'].isnull().sum())\n",
    "\n",
    "# # Проведем замену отсутствующих значений жилой площади с разбиением по категории \"студия: да / нет\"\n",
    "# for unique_studio_value in df.studio.unique():\n",
    "#      median = df.loc[df['studio'] == unique_studio_value, 'living_area'].median()\n",
    "#      print(f'Тип студии: {unique_studio_value} \\nМедиана: {median}')\n",
    "#      print()\n",
    "#      df.loc[(df['living_area'].isna()) & (df['studio'] == unique_studio_value), 'living_area'] = median\n",
    "    \n",
    "# print('Количество отсутствующих значений жилой плащади в студиях', \\\n",
    "#       df.loc[df['studio'] == 1, 'living_area'].isnull().sum())\n",
    "# print('Количество отсутствующих значений жилой плащади не в студиях', \\\n",
    "#       df.loc[df['studio'] == 0, 'living_area'].isnull().sum())"
   ]
  },
  {
   "cell_type": "markdown",
   "metadata": {},
   "source": [
    "<span style='background:yellow'>***living_area*** - жилая площадь в квадратных метрах (м²), заполним медианным значением в соответствии с разбиением по количеству комнат и для студий\n",
    "</span>"
   ]
  },
  {
   "cell_type": "code",
   "execution_count": 13,
   "metadata": {},
   "outputs": [
    {
     "name": "stdout",
     "output_type": "stream",
     "text": [
      "Количество отсутствующих значений жилой плащади в студиях 10\n",
      "Количество отсутствующих значений жилой плащади НЕ в студиях 1893\n",
      "Количество отсутствующих значений жилой плащади в студиях 0\n",
      "Медиана жилой площади: 45.0\n",
      "для кол-ва комнат: 3\n",
      "\n",
      "Медиана жилой площади: 17.6\n",
      "для кол-ва комнат: 1\n",
      "\n",
      "Медиана жилой площади: 30.5\n",
      "для кол-ва комнат: 2\n",
      "\n",
      "Медиана жилой площади: 63.6\n",
      "для кол-ва комнат: 4\n",
      "\n",
      "Медиана жилой площади: 91.785\n",
      "для кол-ва комнат: 5\n",
      "\n",
      "Медиана жилой площади: 123.9\n",
      "для кол-ва комнат: 6\n",
      "\n",
      "Медиана жилой площади: 18.0\n",
      "для кол-ва комнат: 0\n",
      "\n",
      "Медиана жилой площади: 145.0\n",
      "для кол-ва комнат: 7\n",
      "\n",
      "Медиана жилой площади: 133.9\n",
      "для кол-ва комнат: 11\n",
      "\n",
      "Медиана жилой площади: 161.0\n",
      "для кол-ва комнат: 8\n",
      "\n",
      "Медиана жилой площади: 195.15\n",
      "для кол-ва комнат: 14\n",
      "\n",
      "Медиана жилой площади: 161.4\n",
      "для кол-ва комнат: 10\n",
      "\n",
      "Медиана жилой площади: 409.0\n",
      "для кол-ва комнат: 15\n",
      "\n",
      "Медиана жилой площади: 179.2\n",
      "для кол-ва комнат: 9\n",
      "\n",
      "Медиана жилой площади: 264.5\n",
      "для кол-ва комнат: 19\n",
      "\n",
      "Медиана жилой площади: 180.0\n",
      "для кол-ва комнат: 16\n",
      "\n",
      "Медиана жилой площади: 409.7\n",
      "для кол-ва комнат: 12\n",
      "\n",
      "Количество отсутствующих значений жилой плащади НЕ в студиях:  0\n"
     ]
    }
   ],
   "source": [
    "print('Количество отсутствующих значений жилой плащади в студиях', \\\n",
    "      df.loc[df['studio'] == 1, 'living_area'].isnull().sum())\n",
    "print('Количество отсутствующих значений жилой плащади НЕ в студиях', \\\n",
    "      df.loc[df['studio'] == 0, 'living_area'].isnull().sum())\n",
    "\n",
    "# замена пропусков жилой площади в студиях\n",
    "df.loc[df['studio'] == 1, 'studio'] = df.loc[df['studio'] == 1, 'living_area'].median()\n",
    "print('Количество отсутствующих значений жилой плащади в студиях', \\\n",
    "      df.loc[df['studio'] == 1, 'living_area'].isnull().sum())\n",
    "\n",
    "# замена пропусков жилой площади НЕ в студиях\n",
    "for unique_rooms in df.rooms.unique():\n",
    "    median = df.loc[df['rooms'] == unique_rooms, 'living_area'].median()\n",
    "    print(f'Медиана жилой площади: {median}')\n",
    "    print(f'для кол-ва комнат: {unique_rooms}')\n",
    "    print()\n",
    "    df.loc[(df['living_area'].isna()) & (df['rooms'] == unique_rooms), 'living_area'] = median\n",
    "print('Количество отсутствующих значений жилой плащади НЕ в студиях: ', \\\n",
    "      len(df[(df['studio'] == 0) & df['living_area'].isna()]))"
   ]
  },
  {
   "cell_type": "markdown",
   "metadata": {},
   "source": [
    "* ***locality_name*** - название населённого пункта: предугадать невозможно, оставим как есть\n",
    "* ***parks_around3000*** - число парков в радиусе 3 км: заменим на медианное значение"
   ]
  },
  {
   "cell_type": "code",
   "execution_count": 14,
   "metadata": {},
   "outputs": [
    {
     "name": "stdout",
     "output_type": "stream",
     "text": [
      "Количество пропусков по числу парков в радиусе 3 км до обработки: 5518\n",
      "Количество пропусков по числу парков в радиусе 3 км после обработки: 0\n",
      "Тип данных по числу парков в радиусе 3 км int32\n"
     ]
    }
   ],
   "source": [
    "print(f'Количество пропусков по числу парков в радиусе 3 км до обработки: {df.parks_around3000.isna().sum()}')\n",
    "df.loc[df['parks_around3000'].isna(), 'parks_around3000'] = df.parks_around3000.median()\n",
    "df.parks_around3000 = df.parks_around3000.astype('int')\n",
    "print(f'Количество пропусков по числу парков в радиусе 3 км после обработки: {df.parks_around3000.isna().sum()}')\n",
    "print(f'Тип данных по числу парков в радиусе 3 км {df.parks_around3000.dtype}')"
   ]
  },
  {
   "cell_type": "markdown",
   "metadata": {},
   "source": [
    "* ***parks_nearest*** - расстояние до ближайшего парка (м): заменим на медианное значение"
   ]
  },
  {
   "cell_type": "code",
   "execution_count": 15,
   "metadata": {},
   "outputs": [
    {
     "name": "stdout",
     "output_type": "stream",
     "text": [
      "Количество пропусков по расстоянию до ближайшего парка (м) до обработки: 15620\n",
      "Количество пропусков по расстоянию до ближайшего парка (м) после обработки: 0\n",
      "Тип данных по расстоянию до ближайшего парка (м) int32\n"
     ]
    }
   ],
   "source": [
    "print(f'Количество пропусков по расстоянию до ближайшего парка (м) до обработки: {df.parks_nearest.isna().sum()}')\n",
    "df.loc[df['parks_nearest'].isna(), 'parks_nearest'] = df.parks_nearest.median()\n",
    "df.parks_nearest = df.parks_nearest.astype('int')\n",
    "print(f'Количество пропусков по расстоянию до ближайшего парка (м) после обработки: {df.parks_nearest.isna().sum()}')\n",
    "print(f'Тип данных по расстоянию до ближайшего парка (м) {df.parks_nearest.dtype}')"
   ]
  },
  {
   "cell_type": "markdown",
   "metadata": {},
   "source": [
    "* ***ponds_around3000*** - число водоёмов в радиусе 3 км: заменим на медианное значение"
   ]
  },
  {
   "cell_type": "code",
   "execution_count": 16,
   "metadata": {},
   "outputs": [
    {
     "name": "stdout",
     "output_type": "stream",
     "text": [
      "Количество пропусков по числу водоёмов в радиусе 3 км после обработки: 5518\n",
      "Количество пропусков по числу водоёмов в радиусе 3 км до обработки: 0\n",
      "Тип данных по числу водоёмов в радиусе 3 км int32\n"
     ]
    }
   ],
   "source": [
    "print(f'Количество пропусков по числу водоёмов в радиусе 3 км после обработки: {df.ponds_around3000.isna().sum()}')\n",
    "df.loc[df['ponds_around3000'].isna(), 'ponds_around3000'] = df.ponds_around3000.median()\n",
    "df.ponds_around3000 = df.ponds_around3000.astype('int')\n",
    "print(f'Количество пропусков по числу водоёмов в радиусе 3 км до обработки: {df.ponds_around3000.isna().sum()}')\n",
    "print(f'Тип данных по числу водоёмов в радиусе 3 км {df.ponds_around3000.dtype}')"
   ]
  },
  {
   "cell_type": "markdown",
   "metadata": {},
   "source": [
    "* ***ponds_nearest*** - расстояние до ближайшего водоёма (м): заменим на медианное значение"
   ]
  },
  {
   "cell_type": "code",
   "execution_count": 17,
   "metadata": {},
   "outputs": [
    {
     "name": "stdout",
     "output_type": "stream",
     "text": [
      "Количество пропусков по расстоянию до ближайшего водоёма (м) до обработки: 14589\n",
      "Количество пропусков по расстоянию ближайшего водоёма (м) после обработки: 0\n",
      "Тип данных по расстоянию до ближайшего водоёма (м) int32\n"
     ]
    }
   ],
   "source": [
    "print(f'Количество пропусков по расстоянию до ближайшего водоёма (м) до обработки: {df.ponds_nearest.isna().sum()}')\n",
    "df.loc[df['ponds_nearest'].isna(), 'ponds_nearest'] = df.ponds_nearest.median()\n",
    "df.ponds_nearest = df.ponds_nearest.astype('int')\n",
    "print(f'Количество пропусков по расстоянию ближайшего водоёма (м) после обработки: {df.ponds_nearest.isna().sum()}')\n",
    "print(f'Тип данных по расстоянию до ближайшего водоёма (м) {df.ponds_nearest.dtype}')"
   ]
  },
  {
   "cell_type": "markdown",
   "metadata": {},
   "source": [
    "Представим результаты стадии предобработки данных в виде таблицы"
   ]
  },
  {
   "cell_type": "code",
   "execution_count": 18,
   "metadata": {},
   "outputs": [
    {
     "name": "stdout",
     "output_type": "stream",
     "text": [
      "В 5 показателях данные оставлены неизменными\n"
     ]
    },
    {
     "data": {
      "text/html": [
       "<div>\n",
       "<style scoped>\n",
       "    .dataframe tbody tr th:only-of-type {\n",
       "        vertical-align: middle;\n",
       "    }\n",
       "\n",
       "    .dataframe tbody tr th {\n",
       "        vertical-align: top;\n",
       "    }\n",
       "\n",
       "    .dataframe thead th {\n",
       "        text-align: right;\n",
       "    }\n",
       "</style>\n",
       "<table border=\"1\" class=\"dataframe\">\n",
       "  <thead>\n",
       "    <tr style=\"text-align: right;\">\n",
       "      <th></th>\n",
       "      <th>null_rate</th>\n",
       "      <th>null_counts</th>\n",
       "    </tr>\n",
       "  </thead>\n",
       "  <tbody>\n",
       "    <tr>\n",
       "      <th>locality_name</th>\n",
       "      <td>0.21%</td>\n",
       "      <td>49</td>\n",
       "    </tr>\n",
       "    <tr>\n",
       "      <th>kitchen_area</th>\n",
       "      <td>0.83%</td>\n",
       "      <td>197</td>\n",
       "    </tr>\n",
       "    <tr>\n",
       "      <th>days_exposition</th>\n",
       "      <td>13.42%</td>\n",
       "      <td>3181</td>\n",
       "    </tr>\n",
       "    <tr>\n",
       "      <th>cityCenters_nearest</th>\n",
       "      <td>23.29%</td>\n",
       "      <td>5519</td>\n",
       "    </tr>\n",
       "    <tr>\n",
       "      <th>airports_nearest</th>\n",
       "      <td>23.38%</td>\n",
       "      <td>5542</td>\n",
       "    </tr>\n",
       "  </tbody>\n",
       "</table>\n",
       "</div>"
      ],
      "text/plain": [
       "                    null_rate  null_counts\n",
       "locality_name           0.21%           49\n",
       "kitchen_area            0.83%          197\n",
       "days_exposition        13.42%         3181\n",
       "cityCenters_nearest    23.29%         5519\n",
       "airports_nearest       23.38%         5542"
      ]
     },
     "execution_count": 18,
     "metadata": {},
     "output_type": "execute_result"
    }
   ],
   "source": [
    "md_after_filling = pd.DataFrame({'null_rate':df.isna().sum()/len(df)})\n",
    "md_after_filling['null_counts'] = df.isna().sum()\n",
    "md_after_filling_sorted = md_after_filling.sort_values('null_rate').query('null_rate > 0')\n",
    "md_after_filling_sorted['null_rate'] = md_after_filling_sorted['null_rate'].map(lambda x: '{:.2%}'.format(x))\n",
    "print(f'В {len(md_after_filling_sorted)} показателях данные оставлены неизменными')\n",
    "md_after_filling_sorted"
   ]
  },
  {
   "cell_type": "code",
   "execution_count": 19,
   "metadata": {},
   "outputs": [
    {
     "data": {
      "text/html": [
       "<div>\n",
       "<style scoped>\n",
       "    .dataframe tbody tr th:only-of-type {\n",
       "        vertical-align: middle;\n",
       "    }\n",
       "\n",
       "    .dataframe tbody tr th {\n",
       "        vertical-align: top;\n",
       "    }\n",
       "\n",
       "    .dataframe thead th {\n",
       "        text-align: right;\n",
       "    }\n",
       "</style>\n",
       "<table border=\"1\" class=\"dataframe\">\n",
       "  <thead>\n",
       "    <tr style=\"text-align: right;\">\n",
       "      <th></th>\n",
       "      <th>null_rate_x</th>\n",
       "      <th>null_counts_x</th>\n",
       "      <th>null_rate_y</th>\n",
       "      <th>null_counts_y</th>\n",
       "    </tr>\n",
       "  </thead>\n",
       "  <tbody>\n",
       "    <tr>\n",
       "      <th>ceiling_height</th>\n",
       "      <td>0.387991</td>\n",
       "      <td>9195</td>\n",
       "      <td>0.000000</td>\n",
       "      <td>0</td>\n",
       "    </tr>\n",
       "    <tr>\n",
       "      <th>floors_total</th>\n",
       "      <td>0.003629</td>\n",
       "      <td>86</td>\n",
       "      <td>0.000000</td>\n",
       "      <td>0</td>\n",
       "    </tr>\n",
       "    <tr>\n",
       "      <th>living_area</th>\n",
       "      <td>0.080299</td>\n",
       "      <td>1903</td>\n",
       "      <td>0.000000</td>\n",
       "      <td>0</td>\n",
       "    </tr>\n",
       "    <tr>\n",
       "      <th>is_apartment</th>\n",
       "      <td>0.882906</td>\n",
       "      <td>20924</td>\n",
       "      <td>0.000000</td>\n",
       "      <td>0</td>\n",
       "    </tr>\n",
       "    <tr>\n",
       "      <th>kitchen_area</th>\n",
       "      <td>0.096122</td>\n",
       "      <td>2278</td>\n",
       "      <td>0.008313</td>\n",
       "      <td>197</td>\n",
       "    </tr>\n",
       "    <tr>\n",
       "      <th>balcony</th>\n",
       "      <td>0.486054</td>\n",
       "      <td>11519</td>\n",
       "      <td>0.000000</td>\n",
       "      <td>0</td>\n",
       "    </tr>\n",
       "    <tr>\n",
       "      <th>locality_name</th>\n",
       "      <td>0.002068</td>\n",
       "      <td>49</td>\n",
       "      <td>0.002068</td>\n",
       "      <td>49</td>\n",
       "    </tr>\n",
       "    <tr>\n",
       "      <th>airports_nearest</th>\n",
       "      <td>0.233850</td>\n",
       "      <td>5542</td>\n",
       "      <td>0.233850</td>\n",
       "      <td>5542</td>\n",
       "    </tr>\n",
       "    <tr>\n",
       "      <th>cityCenters_nearest</th>\n",
       "      <td>0.232879</td>\n",
       "      <td>5519</td>\n",
       "      <td>0.232879</td>\n",
       "      <td>5519</td>\n",
       "    </tr>\n",
       "    <tr>\n",
       "      <th>parks_around3000</th>\n",
       "      <td>0.232837</td>\n",
       "      <td>5518</td>\n",
       "      <td>0.000000</td>\n",
       "      <td>0</td>\n",
       "    </tr>\n",
       "    <tr>\n",
       "      <th>parks_nearest</th>\n",
       "      <td>0.659100</td>\n",
       "      <td>15620</td>\n",
       "      <td>0.000000</td>\n",
       "      <td>0</td>\n",
       "    </tr>\n",
       "    <tr>\n",
       "      <th>ponds_around3000</th>\n",
       "      <td>0.232837</td>\n",
       "      <td>5518</td>\n",
       "      <td>0.000000</td>\n",
       "      <td>0</td>\n",
       "    </tr>\n",
       "    <tr>\n",
       "      <th>ponds_nearest</th>\n",
       "      <td>0.615596</td>\n",
       "      <td>14589</td>\n",
       "      <td>0.000000</td>\n",
       "      <td>0</td>\n",
       "    </tr>\n",
       "    <tr>\n",
       "      <th>days_exposition</th>\n",
       "      <td>0.134225</td>\n",
       "      <td>3181</td>\n",
       "      <td>0.134225</td>\n",
       "      <td>3181</td>\n",
       "    </tr>\n",
       "  </tbody>\n",
       "</table>\n",
       "</div>"
      ],
      "text/plain": [
       "                     null_rate_x  null_counts_x  null_rate_y  null_counts_y\n",
       "ceiling_height          0.387991           9195     0.000000              0\n",
       "floors_total            0.003629             86     0.000000              0\n",
       "living_area             0.080299           1903     0.000000              0\n",
       "is_apartment            0.882906          20924     0.000000              0\n",
       "kitchen_area            0.096122           2278     0.008313            197\n",
       "balcony                 0.486054          11519     0.000000              0\n",
       "locality_name           0.002068             49     0.002068             49\n",
       "airports_nearest        0.233850           5542     0.233850           5542\n",
       "cityCenters_nearest     0.232879           5519     0.232879           5519\n",
       "parks_around3000        0.232837           5518     0.000000              0\n",
       "parks_nearest           0.659100          15620     0.000000              0\n",
       "ponds_around3000        0.232837           5518     0.000000              0\n",
       "ponds_nearest           0.615596          14589     0.000000              0\n",
       "days_exposition         0.134225           3181     0.134225           3181"
      ]
     },
     "metadata": {},
     "output_type": "display_data"
    },
    {
     "name": "stdout",
     "output_type": "stream",
     "text": [
      "Кол-во полностью заполненных параметров: 9\n"
     ]
    },
    {
     "data": {
      "text/html": [
       "<div>\n",
       "<style scoped>\n",
       "    .dataframe tbody tr th:only-of-type {\n",
       "        vertical-align: middle;\n",
       "    }\n",
       "\n",
       "    .dataframe tbody tr th {\n",
       "        vertical-align: top;\n",
       "    }\n",
       "\n",
       "    .dataframe thead th {\n",
       "        text-align: right;\n",
       "    }\n",
       "</style>\n",
       "<table border=\"1\" class=\"dataframe\">\n",
       "  <thead>\n",
       "    <tr style=\"text-align: right;\">\n",
       "      <th></th>\n",
       "      <th>null_rate_x</th>\n",
       "      <th>null_counts_x</th>\n",
       "      <th>null_rate_y</th>\n",
       "      <th>null_counts_y</th>\n",
       "    </tr>\n",
       "  </thead>\n",
       "  <tbody>\n",
       "    <tr>\n",
       "      <th>ceiling_height</th>\n",
       "      <td>0.387991</td>\n",
       "      <td>9195</td>\n",
       "      <td>0.0</td>\n",
       "      <td>0</td>\n",
       "    </tr>\n",
       "    <tr>\n",
       "      <th>floors_total</th>\n",
       "      <td>0.003629</td>\n",
       "      <td>86</td>\n",
       "      <td>0.0</td>\n",
       "      <td>0</td>\n",
       "    </tr>\n",
       "    <tr>\n",
       "      <th>living_area</th>\n",
       "      <td>0.080299</td>\n",
       "      <td>1903</td>\n",
       "      <td>0.0</td>\n",
       "      <td>0</td>\n",
       "    </tr>\n",
       "    <tr>\n",
       "      <th>is_apartment</th>\n",
       "      <td>0.882906</td>\n",
       "      <td>20924</td>\n",
       "      <td>0.0</td>\n",
       "      <td>0</td>\n",
       "    </tr>\n",
       "    <tr>\n",
       "      <th>balcony</th>\n",
       "      <td>0.486054</td>\n",
       "      <td>11519</td>\n",
       "      <td>0.0</td>\n",
       "      <td>0</td>\n",
       "    </tr>\n",
       "    <tr>\n",
       "      <th>parks_around3000</th>\n",
       "      <td>0.232837</td>\n",
       "      <td>5518</td>\n",
       "      <td>0.0</td>\n",
       "      <td>0</td>\n",
       "    </tr>\n",
       "    <tr>\n",
       "      <th>parks_nearest</th>\n",
       "      <td>0.659100</td>\n",
       "      <td>15620</td>\n",
       "      <td>0.0</td>\n",
       "      <td>0</td>\n",
       "    </tr>\n",
       "    <tr>\n",
       "      <th>ponds_around3000</th>\n",
       "      <td>0.232837</td>\n",
       "      <td>5518</td>\n",
       "      <td>0.0</td>\n",
       "      <td>0</td>\n",
       "    </tr>\n",
       "    <tr>\n",
       "      <th>ponds_nearest</th>\n",
       "      <td>0.615596</td>\n",
       "      <td>14589</td>\n",
       "      <td>0.0</td>\n",
       "      <td>0</td>\n",
       "    </tr>\n",
       "  </tbody>\n",
       "</table>\n",
       "</div>"
      ],
      "text/plain": [
       "                  null_rate_x  null_counts_x  null_rate_y  null_counts_y\n",
       "ceiling_height       0.387991           9195          0.0              0\n",
       "floors_total         0.003629             86          0.0              0\n",
       "living_area          0.080299           1903          0.0              0\n",
       "is_apartment         0.882906          20924          0.0              0\n",
       "balcony              0.486054          11519          0.0              0\n",
       "parks_around3000     0.232837           5518          0.0              0\n",
       "parks_nearest        0.659100          15620          0.0              0\n",
       "ponds_around3000     0.232837           5518          0.0              0\n",
       "ponds_nearest        0.615596          14589          0.0              0"
      ]
     },
     "execution_count": 19,
     "metadata": {},
     "output_type": "execute_result"
    }
   ],
   "source": [
    "null_rate_comparison_df = missing_data.merge(md_after_filling, left_index=True, right_index=True) \\\n",
    "    .query('null_rate_x > 0')\n",
    "\n",
    "display(null_rate_comparison_df)\n",
    "\n",
    "print('Кол-во полностью заполненных параметров:', \\\n",
    "      len(null_rate_comparison_df.query('null_rate_x != 0 & null_rate_y == 0')))\n",
    "null_rate_comparison_df.query('null_counts_x != 0 & null_counts_y == 0')"
   ]
  },
  {
   "cell_type": "markdown",
   "metadata": {},
   "source": [
    "### ***Вывод***\n",
    "Заполнены пропуски в таких показателях, как:\n",
    "* Количество балконов\n",
    "* Высота потолков\n",
    "* Первый этаж\n",
    "* Статус апартаментов\n",
    "* Площадь кухни\n",
    "* Жилая площадь\n",
    "* Число парков в радиусе 3 км\n",
    "* Расстояние до ближайшего парка (м)\n",
    "* Число водоёмов в радиусе 3 км\n",
    "* Расстояние до ближайшего водоёма (м)"
   ]
  },
  {
   "cell_type": "markdown",
   "metadata": {},
   "source": [
    "## Расчёты и добавление результатов в таблицу"
   ]
  },
  {
   "cell_type": "markdown",
   "metadata": {},
   "source": [
    "### Цена квадратного метра"
   ]
  },
  {
   "cell_type": "code",
   "execution_count": 20,
   "metadata": {},
   "outputs": [
    {
     "data": {
      "text/plain": [
       "0    120370\n",
       "1     83750\n",
       "2     92785\n",
       "3    408176\n",
       "4    100000\n",
       "Name: a_squere_meter_price, dtype: int32"
      ]
     },
     "execution_count": 20,
     "metadata": {},
     "output_type": "execute_result"
    }
   ],
   "source": [
    "df['a_squere_meter_price'] = df['last_price'] / df['total_area']\n",
    "df['a_squere_meter_price'].astype('int').head()"
   ]
  },
  {
   "cell_type": "markdown",
   "metadata": {},
   "source": [
    "### День недели, месяц и год публикации объявления\n",
    "#### День недели публикации объявления"
   ]
  },
  {
   "cell_type": "code",
   "execution_count": 21,
   "metadata": {},
   "outputs": [
    {
     "data": {
      "text/plain": [
       "0    2019-03-07T00:00:00\n",
       "Name: first_day_exposition, dtype: object"
      ]
     },
     "execution_count": 21,
     "metadata": {},
     "output_type": "execute_result"
    }
   ],
   "source": [
    "df.first_day_exposition.head(1)    # проверка вида хранения даты"
   ]
  },
  {
   "cell_type": "code",
   "execution_count": 22,
   "metadata": {},
   "outputs": [
    {
     "data": {
      "text/plain": [
       "0   2019-03-07\n",
       "1   2018-12-04\n",
       "2   2015-08-20\n",
       "Name: date, dtype: datetime64[ns]"
      ]
     },
     "execution_count": 22,
     "metadata": {},
     "output_type": "execute_result"
    }
   ],
   "source": [
    "df['date'] = pd.to_datetime(df['first_day_exposition'], format='%Y-%m-%dT%H:%M') # перевод в унив. вид\n",
    "df.date.head(3)"
   ]
  },
  {
   "cell_type": "code",
   "execution_count": 23,
   "metadata": {},
   "outputs": [
    {
     "data": {
      "text/plain": [
       "[0, 1, 2, 3, 4, 5, 6]"
      ]
     },
     "execution_count": 23,
     "metadata": {},
     "output_type": "execute_result"
    }
   ],
   "source": [
    "df['a_day'] = df['date'].dt.weekday   # добавление столбца дня недели\n",
    "sorted(df.a_day.unique())"
   ]
  },
  {
   "cell_type": "markdown",
   "metadata": {},
   "source": [
    "#### Месяц  публикации объявления"
   ]
  },
  {
   "cell_type": "code",
   "execution_count": 24,
   "metadata": {},
   "outputs": [
    {
     "data": {
      "text/plain": [
       "[1, 2, 3, 4, 5, 6, 7, 8, 9, 10, 11, 12]"
      ]
     },
     "execution_count": 24,
     "metadata": {},
     "output_type": "execute_result"
    }
   ],
   "source": [
    "df['a_month'] = df['date'].dt.month   # добавление столбца месяца\n",
    "sorted(df.a_month.unique())"
   ]
  },
  {
   "cell_type": "code",
   "execution_count": 25,
   "metadata": {},
   "outputs": [
    {
     "data": {
      "text/plain": [
       "[2014, 2015, 2016, 2017, 2018, 2019]"
      ]
     },
     "execution_count": 25,
     "metadata": {},
     "output_type": "execute_result"
    }
   ],
   "source": [
    "df['a_year'] = df['date'].dt.year   # добавление столбца месяца\n",
    "sorted(df.a_year.unique())"
   ]
  },
  {
   "cell_type": "markdown",
   "metadata": {},
   "source": [
    "### Этаж квартиры (*варианты — первый, последний, другой*)"
   ]
  },
  {
   "cell_type": "code",
   "execution_count": 26,
   "metadata": {},
   "outputs": [
    {
     "data": {
      "text/plain": [
       "0"
      ]
     },
     "execution_count": 26,
     "metadata": {},
     "output_type": "execute_result"
    }
   ],
   "source": [
    "df.floors_total.isna().sum()            # кол-во пропусков"
   ]
  },
  {
   "cell_type": "code",
   "execution_count": 27,
   "metadata": {},
   "outputs": [
    {
     "data": {
      "text/plain": [
       "0"
      ]
     },
     "execution_count": 27,
     "metadata": {},
     "output_type": "execute_result"
    }
   ],
   "source": [
    "df.floor.isna().sum()            # кол-во пропусков"
   ]
  },
  {
   "cell_type": "code",
   "execution_count": 28,
   "metadata": {},
   "outputs": [
    {
     "name": "stdout",
     "output_type": "stream",
     "text": [
      "[1, 2, 3, 4, 5, 6, 7, 8, 9, 10, 11, 12, 13, 14, 15, 16, 17, 18, 19, 20, 21, 22, 23, 24, 25, 26, 27, 28, 29, 30, 31, 32, 33]\n"
     ]
    }
   ],
   "source": [
    "print(sorted(df.floor.unique()))  # проверка имеющихся значений этажей"
   ]
  },
  {
   "cell_type": "code",
   "execution_count": 29,
   "metadata": {},
   "outputs": [
    {
     "name": "stdout",
     "output_type": "stream",
     "text": [
      "[1, 2, 3, 4, 5, 6, 7, 8, 9, 10, 11, 12, 13, 14, 15, 16, 17, 18, 19, 20, 21, 22, 23, 24, 25, 26, 27, 28, 29, 33, 34, 35, 36, 37, 52, 60]\n"
     ]
    }
   ],
   "source": [
    "print(sorted(df.floors_total.unique()))  # проверка имеющейся этажности"
   ]
  },
  {
   "cell_type": "code",
   "execution_count": 30,
   "metadata": {},
   "outputs": [
    {
     "data": {
      "text/plain": [
       "other    17363\n",
       "last      3336\n",
       "first     3000\n",
       "Name: a_floor_cat, dtype: int64"
      ]
     },
     "execution_count": 30,
     "metadata": {},
     "output_type": "execute_result"
    }
   ],
   "source": [
    "row_values = [df.floors_total, df.floor]\n",
    "row_columns = ['floors_total', 'floor']    \n",
    "row = pd.Series(data=row_values, index=row_columns)\n",
    "\n",
    "def floor_cat(row):             # определение ф-ции для внесения категорий разбиения этажа\n",
    "    \n",
    "    val_floors_total = row['floors_total']\n",
    "    val_floor = row['floor']\n",
    "    \n",
    "    if val_floors_total == 1:\n",
    "        return 'first'\n",
    "    if val_floors_total == 2:\n",
    "        if val_floor == 1:\n",
    "            return 'first'\n",
    "        else: return 'last'\n",
    "    else:\n",
    "        if val_floor == 1:\n",
    "            return 'first'\n",
    "        if val_floor == val_floors_total:\n",
    "            return 'last'\n",
    "        else: return 'other'\n",
    "\n",
    "df['a_floor_cat'] = df.apply(floor_cat, axis=1 )   # добавление столбца категории этажа\n",
    "df['a_floor_cat'].value_counts()"
   ]
  },
  {
   "cell_type": "markdown",
   "metadata": {},
   "source": [
    "### Соотношение жилой и общей площади, а также отношение площади кухни к общей\n",
    "#### Соотношение жилой и общей площади"
   ]
  },
  {
   "cell_type": "code",
   "execution_count": 31,
   "metadata": {},
   "outputs": [
    {
     "data": {
      "text/plain": [
       "count    23699.000000\n",
       "mean         0.566423\n",
       "std          0.111237\n",
       "min          0.021583\n",
       "25%          0.493147\n",
       "50%          0.568519\n",
       "75%          0.641394\n",
       "max          1.514286\n",
       "Name: a_living_to_total_area, dtype: float64"
      ]
     },
     "execution_count": 31,
     "metadata": {},
     "output_type": "execute_result"
    }
   ],
   "source": [
    "df['a_living_to_total_area'] = df.living_area / df.total_area  # добавление столобца\n",
    "df.a_living_to_total_area.describe()"
   ]
  },
  {
   "cell_type": "markdown",
   "metadata": {},
   "source": [
    "#### Соотношение площади кухни к общей площади"
   ]
  },
  {
   "cell_type": "code",
   "execution_count": 32,
   "metadata": {},
   "outputs": [
    {
     "data": {
      "text/plain": [
       "count    23502.000000\n",
       "mean         0.189195\n",
       "std          0.074742\n",
       "min          0.018300\n",
       "25%          0.134125\n",
       "50%          0.173660\n",
       "75%          0.234043\n",
       "max          0.787879\n",
       "Name: a_kitchen_to_total_area, dtype: float64"
      ]
     },
     "execution_count": 32,
     "metadata": {},
     "output_type": "execute_result"
    }
   ],
   "source": [
    "df['a_kitchen_to_total_area'] = df.kitchen_area  / df.total_area    # добавление столобца\n",
    "df.a_kitchen_to_total_area.describe()"
   ]
  },
  {
   "cell_type": "markdown",
   "metadata": {},
   "source": [
    "#### ***Вывод***\n",
    "\n",
    "Добавлены значения:\n",
    "* Цена квадратного метра\n",
    "* День недели, месяц и год публикации объявления\n",
    "\n",
    "Проведена группировка этажей квартир по этажности: первый этаж, последний этаж, другой\n",
    "* Проведена группировка этажей квартир по этажности: первый этаж, последний этаж, другой\n",
    "* 3000 квартир на первом этаже\n",
    "* 3336 квартир на последнем этаже\n",
    "* 17363 квартиры сгруппированы по этажности в категорию «другие»\n",
    "\n",
    "\n",
    "* Соотношение жилой и общей площади составляет в медиане порядка 50%\n",
    "* Соотношение площади кухни к общей площади составляет в медиане порядка 18%\n"
   ]
  },
  {
   "cell_type": "markdown",
   "metadata": {},
   "source": [
    "## Исследовательский анализ данных"
   ]
  },
  {
   "cell_type": "markdown",
   "metadata": {},
   "source": [
    "Рассмотрим следующие параметры: площадь, цена, число комнат, высота потолков. Построим гистограммы для каждого параметра."
   ]
  },
  {
   "cell_type": "markdown",
   "metadata": {},
   "source": [
    "### Площадь"
   ]
  },
  {
   "cell_type": "code",
   "execution_count": 33,
   "metadata": {},
   "outputs": [
    {
     "data": {
      "text/plain": [
       "count    23699.000000\n",
       "mean        60.120511\n",
       "std         35.665822\n",
       "min         12.000000\n",
       "25%         40.000000\n",
       "50%         52.000000\n",
       "75%         69.000000\n",
       "max        900.000000\n",
       "Name: total_area, dtype: float64"
      ]
     },
     "execution_count": 33,
     "metadata": {},
     "output_type": "execute_result"
    }
   ],
   "source": [
    "df.total_area.describe()"
   ]
  },
  {
   "cell_type": "markdown",
   "metadata": {},
   "source": [
    "* Минимальное значение составляет 12кв.м\n",
    "* Среднее - 60кв.м\n",
    "* Медиана - 52кв.м\n",
    "* Максимальное - 900кв.м (скорее всего ошибка ввода)"
   ]
  },
  {
   "cell_type": "code",
   "execution_count": 34,
   "metadata": {},
   "outputs": [
    {
     "data": {
      "text/plain": [
       "<AxesSubplot:>"
      ]
     },
     "execution_count": 34,
     "metadata": {},
     "output_type": "execute_result"
    },
    {
     "data": {
      "image/png": "[encoded data removed]",
      "text/plain": [
       "<Figure size 432x288 with 1 Axes>"
      ]
     },
     "metadata": {
      "needs_background": "light"
     },
     "output_type": "display_data"
    }
   ],
   "source": [
    "df.query('total_area').total_area.hist(bins=100)   # общая гистограмма"
   ]
  },
  {
   "cell_type": "markdown",
   "metadata": {},
   "source": [
    "Так как возникают отчетливые отдельные всплески данных, начиная приблизительно от 120кв.м., а студии начинаются от 12кв.м, то можно предположить, что данные всплески являются результатом неправильного ввода. Рассмотрим их подробнее"
   ]
  },
  {
   "cell_type": "code",
   "execution_count": 35,
   "metadata": {},
   "outputs": [
    {
     "data": {
      "text/plain": [
       "<AxesSubplot:>"
      ]
     },
     "execution_count": 35,
     "metadata": {},
     "output_type": "execute_result"
    },
    {
     "data": {
      "image/png": "[encoded data removed]",
      "text/plain": [
       "<Figure size 432x288 with 1 Axes>"
      ]
     },
     "metadata": {
      "needs_background": "light"
     },
     "output_type": "display_data"
    }
   ],
   "source": [
    "df.query('100 < total_area < 200').total_area.hist(bins=100) # гистограмма для площади от 100кв.м до 200кв.м"
   ]
  },
  {
   "cell_type": "markdown",
   "metadata": {},
   "source": [
    "Явно выделенных групп, которые соответствуют ошибкам ввода не выявлено"
   ]
  },
  {
   "cell_type": "markdown",
   "metadata": {},
   "source": [
    "### Цена"
   ]
  },
  {
   "cell_type": "code",
   "execution_count": 36,
   "metadata": {},
   "outputs": [
    {
     "data": {
      "text/plain": [
       "count     23699.000000\n",
       "mean       6541.548772\n",
       "std       10887.013268\n",
       "min          12.190000\n",
       "25%        3400.000000\n",
       "50%        4650.000000\n",
       "75%        6800.000000\n",
       "max      763000.000000\n",
       "Name: last_price, dtype: float64"
      ]
     },
     "execution_count": 36,
     "metadata": {},
     "output_type": "execute_result"
    }
   ],
   "source": [
    "#Для наглядности переведем цену в тысячи\n",
    "df.last_price = df.last_price / 1000\n",
    "df.last_price.describe()"
   ]
  },
  {
   "cell_type": "markdown",
   "metadata": {},
   "source": [
    "* Минимальное значение составляет 12.000р (скорее всего, ошибка)\n",
    "* Среднее - 6,500,000р\n",
    "* Медиана - 4,650,000р\n",
    "* Максимальное - 763,000,000р"
   ]
  },
  {
   "cell_type": "code",
   "execution_count": 37,
   "metadata": {},
   "outputs": [
    {
     "data": {
      "text/plain": [
       "<AxesSubplot:>"
      ]
     },
     "execution_count": 37,
     "metadata": {},
     "output_type": "execute_result"
    },
    {
     "data": {
      "image/png": "[encoded data removed]",
      "text/plain": [
       "<Figure size 432x288 with 1 Axes>"
      ]
     },
     "metadata": {
      "needs_background": "light"
     },
     "output_type": "display_data"
    }
   ],
   "source": [
    "df.last_price.hist(bins=60)    # общая гистограмма"
   ]
  },
  {
   "cell_type": "code",
   "execution_count": 38,
   "metadata": {},
   "outputs": [
    {
     "data": {
      "text/plain": [
       "<AxesSubplot:>"
      ]
     },
     "execution_count": 38,
     "metadata": {},
     "output_type": "execute_result"
    },
    {
     "data": {
      "image/png": "[encoded data removed]",
      "text/plain": [
       "<Figure size 432x288 with 1 Axes>"
      ]
     },
     "metadata": {
      "needs_background": "light"
     },
     "output_type": "display_data"
    }
   ],
   "source": [
    "# рассмотрим цену до 15,000,000р\n",
    "df.query('0 < last_price < 15000').last_price.hist(bins=100)  # гистограмма для цены от 0р.м до 15 млн.р"
   ]
  },
  {
   "cell_type": "code",
   "execution_count": 39,
   "metadata": {},
   "outputs": [
    {
     "data": {
      "text/plain": [
       "<AxesSubplot:>"
      ]
     },
     "execution_count": 39,
     "metadata": {},
     "output_type": "execute_result"
    },
    {
     "data": {
      "image/png": "[encoded data removed]",
      "text/plain": [
       "<Figure size 432x288 with 1 Axes>"
      ]
     },
     "metadata": {
      "needs_background": "light"
     },
     "output_type": "display_data"
    }
   ],
   "source": [
    "# рассмотрим цену вплоть до максимальной\n",
    "df.query('150000 < last_price < 764000').last_price.hist(bins=100)  # гистограмма для цены от 15 млн.р до 764млн.р."
   ]
  },
  {
   "cell_type": "markdown",
   "metadata": {},
   "source": [
    "Имеются группы и отдельные продажы с высоким показателем цены, что естественно для предложений дорогих объектов жилой недвижимости и аппартаментов"
   ]
  },
  {
   "cell_type": "markdown",
   "metadata": {},
   "source": [
    "### Число комнат"
   ]
  },
  {
   "cell_type": "code",
   "execution_count": 40,
   "metadata": {},
   "outputs": [
    {
     "data": {
      "text/plain": [
       "count    23699.000000\n",
       "mean         2.070636\n",
       "std          1.078405\n",
       "min          0.000000\n",
       "25%          1.000000\n",
       "50%          2.000000\n",
       "75%          3.000000\n",
       "max         19.000000\n",
       "Name: rooms, dtype: float64"
      ]
     },
     "execution_count": 40,
     "metadata": {},
     "output_type": "execute_result"
    }
   ],
   "source": [
    "df.rooms.describe()"
   ]
  },
  {
   "cell_type": "markdown",
   "metadata": {},
   "source": [
    "* Минимальное значение составляет 0 (для студий)\n",
    "* Среднее - 2 комнаты\n",
    "* Медиана - 2 комнаты\n",
    "* Максимальное - 19 комнат"
   ]
  },
  {
   "cell_type": "code",
   "execution_count": 41,
   "metadata": {},
   "outputs": [
    {
     "data": {
      "text/plain": [
       "<AxesSubplot:>"
      ]
     },
     "execution_count": 41,
     "metadata": {},
     "output_type": "execute_result"
    },
    {
     "data": {
      "image/png": "[encoded data removed]",
      "text/plain": [
       "<Figure size 432x288 with 1 Axes>"
      ]
     },
     "metadata": {
      "needs_background": "light"
     },
     "output_type": "display_data"
    }
   ],
   "source": [
    "df.rooms.hist()"
   ]
  },
  {
   "cell_type": "code",
   "execution_count": 42,
   "metadata": {},
   "outputs": [
    {
     "data": {
      "text/plain": [
       "<AxesSubplot:>"
      ]
     },
     "execution_count": 42,
     "metadata": {},
     "output_type": "execute_result"
    },
    {
     "data": {
      "image/png": "[encoded data removed]",
      "text/plain": [
       "<Figure size 432x288 with 1 Axes>"
      ]
     },
     "metadata": {
      "needs_background": "light"
     },
     "output_type": "display_data"
    }
   ],
   "source": [
    "# предлождение объектов с количеством комнта до 6 комнат\n",
    "df.query('0 < rooms < 6').rooms.hist(bins=10)"
   ]
  },
  {
   "cell_type": "code",
   "execution_count": 43,
   "metadata": {},
   "outputs": [
    {
     "data": {
      "text/plain": [
       "<AxesSubplot:>"
      ]
     },
     "execution_count": 43,
     "metadata": {},
     "output_type": "execute_result"
    },
    {
     "data": {
      "image/png": "[encoded data removed]",
      "text/plain": [
       "<Figure size 432x288 with 1 Axes>"
      ]
     },
     "metadata": {
      "needs_background": "light"
     },
     "output_type": "display_data"
    }
   ],
   "source": [
    "df.query('7 < rooms < 20').rooms.hist(bins=20)"
   ]
  },
  {
   "cell_type": "markdown",
   "metadata": {},
   "source": [
    "Предаставлен один объект с комнатами в кол-ве 19"
   ]
  },
  {
   "cell_type": "markdown",
   "metadata": {},
   "source": [
    "### Высота потолков"
   ]
  },
  {
   "cell_type": "code",
   "execution_count": 44,
   "metadata": {},
   "outputs": [
    {
     "data": {
      "text/plain": [
       "count    23699.000000\n",
       "mean         2.724358\n",
       "std          0.988298\n",
       "min          1.000000\n",
       "25%          2.600000\n",
       "50%          2.650000\n",
       "75%          2.700000\n",
       "max        100.000000\n",
       "Name: ceiling_height, dtype: float64"
      ]
     },
     "execution_count": 44,
     "metadata": {},
     "output_type": "execute_result"
    }
   ],
   "source": [
    "df.ceiling_height.describe()"
   ]
  },
  {
   "cell_type": "code",
   "execution_count": 45,
   "metadata": {},
   "outputs": [
    {
     "data": {
      "text/plain": [
       "1"
      ]
     },
     "execution_count": 45,
     "metadata": {},
     "output_type": "execute_result"
    }
   ],
   "source": [
    "df.query('ceiling_height > 50')['ceiling_height'].count()"
   ]
  },
  {
   "cell_type": "markdown",
   "metadata": {},
   "source": [
    "* Среднее - 2.72м\n",
    "* Медиана - 2,65м\n",
    "* Максимальное - 100м, что однозначно является ошибкой, если только человек не живет в Лахта центре, причем на ресепш, хотя кто его туда пропишет )"
   ]
  },
  {
   "cell_type": "code",
   "execution_count": 46,
   "metadata": {},
   "outputs": [
    {
     "data": {
      "text/plain": [
       "<AxesSubplot:>"
      ]
     },
     "execution_count": 46,
     "metadata": {},
     "output_type": "execute_result"
    },
    {
     "data": {
      "image/png": "[encoded data removed]",
      "text/plain": [
       "<Figure size 432x288 with 1 Axes>"
      ]
     },
     "metadata": {
      "needs_background": "light"
     },
     "output_type": "display_data"
    }
   ],
   "source": [
    "# общая гистограмма\n",
    "df.ceiling_height.hist(bins=30)"
   ]
  },
  {
   "cell_type": "code",
   "execution_count": 47,
   "metadata": {},
   "outputs": [
    {
     "data": {
      "text/plain": [
       "<AxesSubplot:>"
      ]
     },
     "execution_count": 47,
     "metadata": {},
     "output_type": "execute_result"
    },
    {
     "data": {
      "image/png": "[encoded data removed]",
      "text/plain": [
       "<Figure size 432x288 with 1 Axes>"
      ]
     },
     "metadata": {
      "needs_background": "light"
     },
     "output_type": "display_data"
    }
   ],
   "source": [
    "# высота потолков от 2,5м до 4,5м\n",
    "df.query(' 2.5 < ceiling_height < 4.5')['ceiling_height'].hist(bins=30)"
   ]
  },
  {
   "cell_type": "code",
   "execution_count": 48,
   "metadata": {},
   "outputs": [
    {
     "data": {
      "text/plain": [
       "0.03236423477783873"
      ]
     },
     "execution_count": 48,
     "metadata": {},
     "output_type": "execute_result"
    }
   ],
   "source": [
    "# Доля предложений с потолком выше 3,25м\n",
    "len(df.query('3.25 < ceiling_height')) / len(df)"
   ]
  },
  {
   "cell_type": "markdown",
   "metadata": {},
   "source": [
    "Для потолков высотой от 2,5м до 4,5м распределение имеет обычную форму и стремится к Пуассоновскому"
   ]
  },
  {
   "cell_type": "code",
   "execution_count": 49,
   "metadata": {},
   "outputs": [
    {
     "data": {
      "text/plain": [
       "<AxesSubplot:>"
      ]
     },
     "execution_count": 49,
     "metadata": {},
     "output_type": "execute_result"
    },
    {
     "data": {
      "image/png": "[encoded data removed]",
      "text/plain": [
       "<Figure size 432x288 with 1 Axes>"
      ]
     },
     "metadata": {
      "needs_background": "light"
     },
     "output_type": "display_data"
    }
   ],
   "source": [
    "# высота потолков от 5м до 20м\n",
    "\n",
    "df.query(' 5 < ceiling_height < 20')['ceiling_height'].hist(bins=30)"
   ]
  },
  {
   "cell_type": "markdown",
   "metadata": {},
   "source": [
    "Для потолков от 5м до 20м имеются всплески, которые можно объяснить человеческим фактором, однако точно указать, какое значение хотел внести оператор, в данном случае невозможно."
   ]
  },
  {
   "cell_type": "code",
   "execution_count": 50,
   "metadata": {},
   "outputs": [
    {
     "data": {
      "text/plain": [
       "<AxesSubplot:>"
      ]
     },
     "execution_count": 50,
     "metadata": {},
     "output_type": "execute_result"
    },
    {
     "data": {
      "image/png": "[encoded data removed]",
      "text/plain": [
       "<Figure size 432x288 with 1 Axes>"
      ]
     },
     "metadata": {
      "needs_background": "light"
     },
     "output_type": "display_data"
    }
   ],
   "source": [
    "# высота потолков от 18м до 50м\n",
    "df.query(' 18 < ceiling_height < 50')['ceiling_height'].hist(bins=30)"
   ]
  },
  {
   "cell_type": "markdown",
   "metadata": {},
   "source": [
    "Для высоты от 20м до 50м наблюдаются значения в промежутке от 20м до 32м, что явно говорит о человеском факторе: оператор при внесении данных ошибся и пропустил запятую. Таким образом эти значение стоит разделить на 10, чтобы они были полезны и соответствовали действительнотси."
   ]
  },
  {
   "cell_type": "code",
   "execution_count": 51,
   "metadata": {},
   "outputs": [
    {
     "data": {
      "text/plain": [
       "0"
      ]
     },
     "execution_count": 51,
     "metadata": {},
     "output_type": "execute_result"
    }
   ],
   "source": [
    "df.loc[(df['ceiling_height'] < 50) & (df['ceiling_height'] > 18), 'ceiling_height'] = \\\n",
    "    df.loc[(df['ceiling_height'] < 50) & (df['ceiling_height'] > 18), 'ceiling_height'] / 10\n",
    "\n",
    "# проверим, остались ли ошибки в диапазоне от 18м до 50м\n",
    "df.query(' 18 < ceiling_height < 50')['ceiling_height'].count()"
   ]
  },
  {
   "cell_type": "code",
   "execution_count": 52,
   "metadata": {},
   "outputs": [
    {
     "data": {
      "text/plain": [
       "0"
      ]
     },
     "execution_count": 52,
     "metadata": {},
     "output_type": "execute_result"
    }
   ],
   "source": [
    "# проверим, остались ли ошибки в диапазоне от 18м до 50м\n",
    "df.query(' 18 < ceiling_height < 50')['ceiling_height'].count()"
   ]
  },
  {
   "cell_type": "markdown",
   "metadata": {},
   "source": [
    "### Исследование длительности продажи"
   ]
  },
  {
   "cell_type": "code",
   "execution_count": 53,
   "metadata": {},
   "outputs": [
    {
     "data": {
      "text/plain": [
       "count    20518.000000\n",
       "mean       180.888634\n",
       "std        219.727988\n",
       "min          1.000000\n",
       "25%         45.000000\n",
       "50%         95.000000\n",
       "75%        232.000000\n",
       "max       1580.000000\n",
       "Name: days_exposition, dtype: float64"
      ]
     },
     "execution_count": 53,
     "metadata": {},
     "output_type": "execute_result"
    }
   ],
   "source": [
    "df.days_exposition.describe()"
   ]
  },
  {
   "cell_type": "code",
   "execution_count": 54,
   "metadata": {},
   "outputs": [
    {
     "data": {
      "text/plain": [
       "<AxesSubplot:>"
      ]
     },
     "execution_count": 54,
     "metadata": {},
     "output_type": "execute_result"
    },
    {
     "data": {
      "image/png": "[encoded data removed]",
      "text/plain": [
       "<Figure size 432x288 with 1 Axes>"
      ]
     },
     "metadata": {
      "needs_background": "light"
     },
     "output_type": "display_data"
    }
   ],
   "source": [
    "df.days_exposition.hist(bins=100)"
   ]
  },
  {
   "cell_type": "markdown",
   "metadata": {},
   "source": [
    "Рассмотрим более подробно 4-й квартиль: (232 продаже и более) "
   ]
  },
  {
   "cell_type": "code",
   "execution_count": 55,
   "metadata": {},
   "outputs": [
    {
     "data": {
      "text/plain": [
       "<AxesSubplot:>"
      ]
     },
     "execution_count": 55,
     "metadata": {},
     "output_type": "execute_result"
    },
    {
     "data": {
      "image/png": "[encoded data removed]",
      "text/plain": [
       "<Figure size 432x288 with 1 Axes>"
      ]
     },
     "metadata": {
      "needs_background": "light"
     },
     "output_type": "display_data"
    }
   ],
   "source": [
    "df.query(' 232 < days_exposition')['days_exposition'].hist(bins=30)"
   ]
  },
  {
   "cell_type": "code",
   "execution_count": 56,
   "metadata": {},
   "outputs": [
    {
     "data": {
      "text/plain": [
       "<AxesSubplot:>"
      ]
     },
     "execution_count": 56,
     "metadata": {},
     "output_type": "execute_result"
    },
    {
     "data": {
      "image/png": "[encoded data removed]",
      "text/plain": [
       "<Figure size 432x288 with 1 Axes>"
      ]
     },
     "metadata": {
      "needs_background": "light"
     },
     "output_type": "display_data"
    }
   ],
   "source": [
    "# рассмотрим \"хвост\"\n",
    "df.query(' 1000 < days_exposition')['days_exposition'].hist(bins=30)"
   ]
  },
  {
   "cell_type": "markdown",
   "metadata": {},
   "source": [
    "Время продажи квардир приближается к Пуассоновскому распределению и вопросов не вызывает"
   ]
  },
  {
   "cell_type": "markdown",
   "metadata": {},
   "source": [
    "Сгруппируем данные по времени продажи квартир и сделаем вывод"
   ]
  },
  {
   "cell_type": "code",
   "execution_count": 57,
   "metadata": {},
   "outputs": [
    {
     "data": {
      "text/plain": [
       "[NaN, 'average', 'slowly', 'rather_quickly', 'rather_slowly', 'quckly']\n",
       "Categories (5, object): ['quckly' < 'rather_quickly' < 'average' < 'rather_slowly' < 'slowly']"
      ]
     },
     "execution_count": 57,
     "metadata": {},
     "output_type": "execute_result"
    }
   ],
   "source": [
    "labels = ['quckly', 'rather_quickly', 'average', 'rather_slowly', 'slowly']\n",
    "df['a_sale_speed'] = pd.qcut(df.days_exposition , q=5, labels=labels)\n",
    "df.a_sale_speed.unique()"
   ]
  },
  {
   "cell_type": "markdown",
   "metadata": {},
   "source": [
    "Методом ***describe()*** найдем параметры, соответствующие каждой из групп и объедим полученные значения в единую таблицу"
   ]
  },
  {
   "cell_type": "code",
   "execution_count": 58,
   "metadata": {},
   "outputs": [],
   "source": [
    "quckly = df.loc[df['a_sale_speed'] == 'quckly']['days_exposition'].describe()\n",
    "rather_quickly = df.loc[df['a_sale_speed'] == 'rather_quickly']['days_exposition'].describe()\n",
    "average = df.loc[df['a_sale_speed'] == 'average']['days_exposition'].describe()\n",
    "rather_slowly = df.loc[df['a_sale_speed'] == 'rather_slowly']['days_exposition'].describe()\n",
    "slowly = df.loc[df['a_sale_speed'] == 'slowly']['days_exposition'].describe()"
   ]
  },
  {
   "cell_type": "code",
   "execution_count": 59,
   "metadata": {},
   "outputs": [
    {
     "data": {
      "text/html": [
       "<div>\n",
       "<style scoped>\n",
       "    .dataframe tbody tr th:only-of-type {\n",
       "        vertical-align: middle;\n",
       "    }\n",
       "\n",
       "    .dataframe tbody tr th {\n",
       "        vertical-align: top;\n",
       "    }\n",
       "\n",
       "    .dataframe thead th {\n",
       "        text-align: right;\n",
       "    }\n",
       "</style>\n",
       "<table border=\"1\" class=\"dataframe\">\n",
       "  <thead>\n",
       "    <tr style=\"text-align: right;\">\n",
       "      <th></th>\n",
       "      <th>count</th>\n",
       "      <th>mean</th>\n",
       "      <th>std</th>\n",
       "      <th>min</th>\n",
       "      <th>25%</th>\n",
       "      <th>50%</th>\n",
       "      <th>75%</th>\n",
       "      <th>max</th>\n",
       "    </tr>\n",
       "  </thead>\n",
       "  <tbody>\n",
       "    <tr>\n",
       "      <th>quckly</th>\n",
       "      <td>4218.0</td>\n",
       "      <td>17.813419</td>\n",
       "      <td>9.675824</td>\n",
       "      <td>1.0</td>\n",
       "      <td>9.0</td>\n",
       "      <td>17.0</td>\n",
       "      <td>26.0</td>\n",
       "      <td>35.0</td>\n",
       "    </tr>\n",
       "    <tr>\n",
       "      <th>rather_quickly</th>\n",
       "      <td>4018.0</td>\n",
       "      <td>50.989547</td>\n",
       "      <td>8.737302</td>\n",
       "      <td>36.0</td>\n",
       "      <td>45.0</td>\n",
       "      <td>49.0</td>\n",
       "      <td>60.0</td>\n",
       "      <td>67.0</td>\n",
       "    </tr>\n",
       "    <tr>\n",
       "      <th>average</th>\n",
       "      <td>4102.0</td>\n",
       "      <td>98.283276</td>\n",
       "      <td>19.026700</td>\n",
       "      <td>68.0</td>\n",
       "      <td>83.0</td>\n",
       "      <td>96.0</td>\n",
       "      <td>114.0</td>\n",
       "      <td>135.0</td>\n",
       "    </tr>\n",
       "    <tr>\n",
       "      <th>rather_slowly</th>\n",
       "      <td>4078.0</td>\n",
       "      <td>198.003188</td>\n",
       "      <td>43.177040</td>\n",
       "      <td>136.0</td>\n",
       "      <td>161.0</td>\n",
       "      <td>191.0</td>\n",
       "      <td>232.0</td>\n",
       "      <td>287.0</td>\n",
       "    </tr>\n",
       "    <tr>\n",
       "      <th>slowly</th>\n",
       "      <td>4102.0</td>\n",
       "      <td>541.405412</td>\n",
       "      <td>241.146637</td>\n",
       "      <td>288.0</td>\n",
       "      <td>364.0</td>\n",
       "      <td>460.0</td>\n",
       "      <td>647.0</td>\n",
       "      <td>1580.0</td>\n",
       "    </tr>\n",
       "  </tbody>\n",
       "</table>\n",
       "</div>"
      ],
      "text/plain": [
       "                 count        mean         std    min    25%    50%    75%  \\\n",
       "quckly          4218.0   17.813419    9.675824    1.0    9.0   17.0   26.0   \n",
       "rather_quickly  4018.0   50.989547    8.737302   36.0   45.0   49.0   60.0   \n",
       "average         4102.0   98.283276   19.026700   68.0   83.0   96.0  114.0   \n",
       "rather_slowly   4078.0  198.003188   43.177040  136.0  161.0  191.0  232.0   \n",
       "slowly          4102.0  541.405412  241.146637  288.0  364.0  460.0  647.0   \n",
       "\n",
       "                   max  \n",
       "quckly            35.0  \n",
       "rather_quickly    67.0  \n",
       "average          135.0  \n",
       "rather_slowly    287.0  \n",
       "slowly          1580.0  "
      ]
     },
     "execution_count": 59,
     "metadata": {},
     "output_type": "execute_result"
    }
   ],
   "source": [
    "frames = [quckly, rather_quickly, average, rather_slowly, slowly]\n",
    "df_sale_speed = pd.concat(frames,  axis=1)\n",
    "df_sale_speed.columns = ['quckly', 'rather_quickly', 'average', 'rather_slowly', 'slowly']\n",
    "df_sale_speed = df_sale_speed.transpose()\n",
    "df_sale_speed"
   ]
  },
  {
   "cell_type": "code",
   "execution_count": 60,
   "metadata": {},
   "outputs": [
    {
     "data": {
      "text/plain": [
       "Text(0, 0.5, 'days')"
      ]
     },
     "execution_count": 60,
     "metadata": {},
     "output_type": "execute_result"
    },
    {
     "data": {
      "image/png": "[encoded data removed]",
      "text/plain": [
       "<Figure size 432x288 with 1 Axes>"
      ]
     },
     "metadata": {
      "needs_background": "light"
     },
     "output_type": "display_data"
    }
   ],
   "source": [
    "# Средняя скорость продажи\n",
    "df_sale_speed['mean'].plot(style='o-', grid=True)\n",
    "plt.title(\"Mean: mean speed of sale\")\n",
    "plt.ylabel(\"days\")"
   ]
  },
  {
   "cell_type": "code",
   "execution_count": 61,
   "metadata": {},
   "outputs": [
    {
     "data": {
      "text/plain": [
       "Text(0, 0.5, 'days')"
      ]
     },
     "execution_count": 61,
     "metadata": {},
     "output_type": "execute_result"
    },
    {
     "data": {
      "image/png": "[encoded data removed]",
      "text/plain": [
       "<Figure size 432x288 with 1 Axes>"
      ]
     },
     "metadata": {
      "needs_background": "light"
     },
     "output_type": "display_data"
    }
   ],
   "source": [
    "# Стандартное отклонение\n",
    "df_sale_speed['std'].plot(style='o-',  grid=True)\n",
    "plt.title(\"STD: standard deviation\")\n",
    "plt.ylabel(\"days\")"
   ]
  },
  {
   "cell_type": "code",
   "execution_count": 62,
   "metadata": {},
   "outputs": [
    {
     "data": {
      "text/plain": [
       "Text(0, 0.5, 'days')"
      ]
     },
     "execution_count": 62,
     "metadata": {},
     "output_type": "execute_result"
    },
    {
     "data": {
      "image/png": "[encoded data removed]",
      "text/plain": [
       "<Figure size 432x288 with 1 Axes>"
      ]
     },
     "metadata": {
      "needs_background": "light"
     },
     "output_type": "display_data"
    }
   ],
   "source": [
    "# Медиана\n",
    "df_sale_speed['50%'].plot(style='o-',  grid=True)\n",
    "plt.title(\"2nd QUARTILE (MEDIAN) for speed of sale\")\n",
    "plt.ylabel(\"days\")"
   ]
  },
  {
   "cell_type": "markdown",
   "metadata": {},
   "source": [
    "#### ***Вывод***\n",
    "* Средняя площадь квартиры порядка 60кв.м.\n",
    "* Цена в среднем составляет около 4,500,000р\n",
    "* Дорогой сегмент начинает от 6,800,000р и достегает 400,000,000р\n",
    "* В основном продают двух-  и трехкомнатные квартиры, однако есть предложения в 4, 5, 8 и более комнат\n",
    "* Высота потолков стандартна и составляет порядка 2,7м. есть предложения с высотой потолков более 3,25м, которых около 3%\n",
    "\n",
    "\n",
    "* В среднем квартира продается за порядка 3 месяца (98 дней) \n",
    "* Можно считать, что продажа осуществлена быстро, если квартира продана в среднем за 2 - 3 недели (вреднем 17 дней)\n",
    "* Долго продающиеся квартиры ожидают сделки порядка 1,5 лет (в среднем 541 день)"
   ]
  },
  {
   "cell_type": "markdown",
   "metadata": {},
   "source": [
    "### Удаление редких и выбивающихся значений"
   ]
  },
  {
   "cell_type": "markdown",
   "metadata": {},
   "source": [
    "Была обнаружены следующие предложения с выбивающимися и нелогичными параметрами"
   ]
  },
  {
   "cell_type": "code",
   "execution_count": 63,
   "metadata": {},
   "outputs": [
    {
     "data": {
      "text/html": [
       "<div>\n",
       "<style scoped>\n",
       "    .dataframe tbody tr th:only-of-type {\n",
       "        vertical-align: middle;\n",
       "    }\n",
       "\n",
       "    .dataframe tbody tr th {\n",
       "        vertical-align: top;\n",
       "    }\n",
       "\n",
       "    .dataframe thead th {\n",
       "        text-align: right;\n",
       "    }\n",
       "</style>\n",
       "<table border=\"1\" class=\"dataframe\">\n",
       "  <thead>\n",
       "    <tr style=\"text-align: right;\">\n",
       "      <th></th>\n",
       "      <th>total_images</th>\n",
       "      <th>last_price</th>\n",
       "      <th>total_area</th>\n",
       "      <th>first_day_exposition</th>\n",
       "      <th>rooms</th>\n",
       "      <th>ceiling_height</th>\n",
       "      <th>floors_total</th>\n",
       "      <th>living_area</th>\n",
       "      <th>floor</th>\n",
       "      <th>is_apartment</th>\n",
       "      <th>...</th>\n",
       "      <th>days_exposition</th>\n",
       "      <th>a_squere_meter_price</th>\n",
       "      <th>date</th>\n",
       "      <th>a_day</th>\n",
       "      <th>a_month</th>\n",
       "      <th>a_year</th>\n",
       "      <th>a_floor_cat</th>\n",
       "      <th>a_living_to_total_area</th>\n",
       "      <th>a_kitchen_to_total_area</th>\n",
       "      <th>a_sale_speed</th>\n",
       "    </tr>\n",
       "  </thead>\n",
       "  <tbody>\n",
       "    <tr>\n",
       "      <th>12971</th>\n",
       "      <td>19</td>\n",
       "      <td>763000.0</td>\n",
       "      <td>400</td>\n",
       "      <td>2017-09-30T00:00:00</td>\n",
       "      <td>7</td>\n",
       "      <td>2.65</td>\n",
       "      <td>10</td>\n",
       "      <td>250.0</td>\n",
       "      <td>10</td>\n",
       "      <td>False</td>\n",
       "      <td>...</td>\n",
       "      <td>33.0</td>\n",
       "      <td>1.907500e+06</td>\n",
       "      <td>2017-09-30</td>\n",
       "      <td>5</td>\n",
       "      <td>9</td>\n",
       "      <td>2017</td>\n",
       "      <td>last</td>\n",
       "      <td>0.625000</td>\n",
       "      <td>0.050000</td>\n",
       "      <td>quckly</td>\n",
       "    </tr>\n",
       "    <tr>\n",
       "      <th>14498</th>\n",
       "      <td>6</td>\n",
       "      <td>32250.0</td>\n",
       "      <td>374</td>\n",
       "      <td>2018-06-09T00:00:00</td>\n",
       "      <td>19</td>\n",
       "      <td>2.65</td>\n",
       "      <td>5</td>\n",
       "      <td>264.5</td>\n",
       "      <td>2</td>\n",
       "      <td>False</td>\n",
       "      <td>...</td>\n",
       "      <td>114.0</td>\n",
       "      <td>8.622995e+04</td>\n",
       "      <td>2018-06-09</td>\n",
       "      <td>5</td>\n",
       "      <td>6</td>\n",
       "      <td>2018</td>\n",
       "      <td>other</td>\n",
       "      <td>0.707219</td>\n",
       "      <td>0.073797</td>\n",
       "      <td>average</td>\n",
       "    </tr>\n",
       "    <tr>\n",
       "      <th>19540</th>\n",
       "      <td>8</td>\n",
       "      <td>420000.0</td>\n",
       "      <td>900</td>\n",
       "      <td>2017-12-06T00:00:00</td>\n",
       "      <td>12</td>\n",
       "      <td>2.80</td>\n",
       "      <td>25</td>\n",
       "      <td>409.7</td>\n",
       "      <td>25</td>\n",
       "      <td>False</td>\n",
       "      <td>...</td>\n",
       "      <td>106.0</td>\n",
       "      <td>4.666667e+05</td>\n",
       "      <td>2017-12-06</td>\n",
       "      <td>2</td>\n",
       "      <td>12</td>\n",
       "      <td>2017</td>\n",
       "      <td>last</td>\n",
       "      <td>0.455222</td>\n",
       "      <td>0.124444</td>\n",
       "      <td>average</td>\n",
       "    </tr>\n",
       "    <tr>\n",
       "      <th>22869</th>\n",
       "      <td>0</td>\n",
       "      <td>15000.0</td>\n",
       "      <td>25</td>\n",
       "      <td>2018-07-25T00:00:00</td>\n",
       "      <td>1</td>\n",
       "      <td>100.00</td>\n",
       "      <td>5</td>\n",
       "      <td>14.0</td>\n",
       "      <td>5</td>\n",
       "      <td>True</td>\n",
       "      <td>...</td>\n",
       "      <td>19.0</td>\n",
       "      <td>6.000000e+05</td>\n",
       "      <td>2018-07-25</td>\n",
       "      <td>2</td>\n",
       "      <td>7</td>\n",
       "      <td>2018</td>\n",
       "      <td>last</td>\n",
       "      <td>0.560000</td>\n",
       "      <td>0.440000</td>\n",
       "      <td>quckly</td>\n",
       "    </tr>\n",
       "  </tbody>\n",
       "</table>\n",
       "<p>4 rows × 31 columns</p>\n",
       "</div>"
      ],
      "text/plain": [
       "       total_images  last_price  total_area first_day_exposition  rooms  \\\n",
       "12971            19    763000.0         400  2017-09-30T00:00:00      7   \n",
       "14498             6     32250.0         374  2018-06-09T00:00:00     19   \n",
       "19540             8    420000.0         900  2017-12-06T00:00:00     12   \n",
       "22869             0     15000.0          25  2018-07-25T00:00:00      1   \n",
       "\n",
       "       ceiling_height  floors_total  living_area  floor is_apartment  ...  \\\n",
       "12971            2.65            10        250.0     10        False  ...   \n",
       "14498            2.65             5        264.5      2        False  ...   \n",
       "19540            2.80            25        409.7     25        False  ...   \n",
       "22869          100.00             5         14.0      5         True  ...   \n",
       "\n",
       "      days_exposition  a_squere_meter_price       date  a_day a_month  a_year  \\\n",
       "12971            33.0          1.907500e+06 2017-09-30      5       9    2017   \n",
       "14498           114.0          8.622995e+04 2018-06-09      5       6    2018   \n",
       "19540           106.0          4.666667e+05 2017-12-06      2      12    2017   \n",
       "22869            19.0          6.000000e+05 2018-07-25      2       7    2018   \n",
       "\n",
       "       a_floor_cat  a_living_to_total_area  a_kitchen_to_total_area  \\\n",
       "12971         last                0.625000                 0.050000   \n",
       "14498        other                0.707219                 0.073797   \n",
       "19540         last                0.455222                 0.124444   \n",
       "22869         last                0.560000                 0.440000   \n",
       "\n",
       "       a_sale_speed  \n",
       "12971        quckly  \n",
       "14498       average  \n",
       "19540       average  \n",
       "22869        quckly  \n",
       "\n",
       "[4 rows x 31 columns]"
      ]
     },
     "execution_count": 63,
     "metadata": {},
     "output_type": "execute_result"
    }
   ],
   "source": [
    "df.loc[(df['ceiling_height'] == df.ceiling_height.max()) \\\n",
    "       | (df['last_price'] == df.last_price.max())       \\\n",
    "       | (df['rooms'] == df.rooms.max())                 \\\n",
    "       | (df['total_area'] == df.total_area.max()) ]"
   ]
  },
  {
   "cell_type": "code",
   "execution_count": 64,
   "metadata": {},
   "outputs": [
    {
     "name": "stdout",
     "output_type": "stream",
     "text": [
      "для которых:\n",
      "Высота потолков:  100.0\n",
      "Цена:  763000.0\n",
      "Количество комнат:  19\n",
      "Общая площадь:  900\n"
     ]
    }
   ],
   "source": [
    "print('для которых:')\n",
    "print('Высота потолков: ', df.ceiling_height.max())\n",
    "print('Цена: ', df.last_price.max())  \n",
    "print('Количество комнат: ', df.rooms.max())\n",
    "print('Общая площадь: ', df.total_area.max())"
   ]
  },
  {
   "cell_type": "markdown",
   "metadata": {},
   "source": [
    "Данные параметра можно объяснить человеческим фактором, но направление, в котором можно исправить данные значения, определить сложно. В связи с этим информацию о даннах предложениях лучше не использовать в дальнейшем анализе"
   ]
  },
  {
   "cell_type": "code",
   "execution_count": 65,
   "metadata": {},
   "outputs": [
    {
     "name": "stdout",
     "output_type": "stream",
     "text": [
      "Удалены 4 строки\n"
     ]
    }
   ],
   "source": [
    "df_len_initial = len(df)\n",
    "df = df.loc[(df['ceiling_height'] != df.ceiling_height.max()) \\\n",
    "       & (df['last_price'] != df.last_price.max())            \\\n",
    "       & (df['rooms'] != df.rooms.max())                      \\\n",
    "       & (df['total_area'] != df.total_area.max()) ]\n",
    "df_len_final = len(df)\n",
    "print(f'Удалены {df_len_initial - df_len_final} строки')"
   ]
  },
  {
   "cell_type": "markdown",
   "metadata": {},
   "source": [
    "### Корреляция цены квартиры"
   ]
  },
  {
   "cell_type": "markdown",
   "metadata": {},
   "source": [
    "#### Для всей выборки"
   ]
  },
  {
   "cell_type": "code",
   "execution_count": 66,
   "metadata": {},
   "outputs": [
    {
     "name": "stdout",
     "output_type": "stream",
     "text": [
      "Корреляция цены квартиры с площадью: 0.6954754600639843\n",
      "Корреляция цены квартиры с числом комнат: 0.3920717108671085\n",
      "Корреляция цены квартиры с удаленностью от центар: -0.23654535155967954\n",
      "\n",
      "Корреляция цены квартиры от категории этажа:\n",
      "first - первый этаж\n",
      "other - другой этаж\n",
      "last - последний этаж\n",
      "\n",
      "other\t-0.014350321528788925\n",
      "first\t0.05282084818974536\n",
      "last\t0.02127011877187642\n"
     ]
    }
   ],
   "source": [
    "print(f'Корреляция цены квартиры с площадью: {df.last_price.corr(df.total_area)}')\n",
    "print(f'Корреляция цены квартиры с числом комнат: {df.last_price.corr(df.rooms)}')\n",
    "print(f'Корреляция цены квартиры с удаленностью от центар: {df.last_price.corr(df.cityCenters_nearest)}')\n",
    "print()\n",
    "print('Корреляция цены квартиры от категории этажа:\\nfirst - первый этаж\\nother - другой этаж\\nlast - последний этаж')\n",
    "print()\n",
    "for value in df.a_floor_cat.unique():\n",
    "    print(value, end='\\t')\n",
    "    print(df.query('a_floor_cat == @value')['floor'].corr(df.query('a_floor_cat == @value')['last_price']))"
   ]
  },
  {
   "cell_type": "code",
   "execution_count": 67,
   "metadata": {},
   "outputs": [],
   "source": [
    "# print(f'Зависимость цены квартиры от дня недели: {df.last_price.corr(df.a_day)}')\n",
    "# print(f'Зависимость цены квартиры от месяца: {df.last_price.corr(df.a_month)}')\n",
    "# print(f'Зависимость цены квартиры от года: {df.last_price.corr(df.a_year)}')\n"
   ]
  },
  {
   "cell_type": "markdown",
   "metadata": {},
   "source": [
    "Рассмотрим корреляцию в общих данных следующих параметров между собой:\n",
    "* количество комнта\n",
    "* этаж\n",
    "* удаленность от центра\n",
    "* дата подачи объявления"
   ]
  },
  {
   "cell_type": "code",
   "execution_count": 68,
   "metadata": {},
   "outputs": [
    {
     "name": "stdout",
     "output_type": "stream",
     "text": [
      "Параметр: rooms,\n",
      "корелляция с ценой: 0.04474281818746408\n",
      "\n",
      "Параметр: floor,\n",
      "корелляция с ценой: 0.13156173834189774\n",
      "\n",
      "Параметр: cityCenters_nearest,\n",
      "корелляция с ценой: -0.32772704709526834\n",
      "\n",
      "Параметр: date_num,\n",
      "корелляция с ценой: 0.00999952971015093\n",
      "\n"
     ]
    },
    {
     "data": {
      "text/plain": [
       "<AxesSubplot:>"
      ]
     },
     "execution_count": 68,
     "metadata": {},
     "output_type": "execute_result"
    },
    {
     "data": {
      "image/png": "[encoded data removed]",
      "text/plain": [
       "<Figure size 720x144 with 2 Axes>"
      ]
     },
     "metadata": {
      "needs_background": "light"
     },
     "output_type": "display_data"
    }
   ],
   "source": [
    "df['date_num'] = pd.to_numeric(df['date'], errors='coerce')\n",
    "df_whole = df[['rooms', 'floor', 'cityCenters_nearest', 'date_num', 'a_squere_meter_price']]\n",
    "param = ['rooms', 'floor', 'cityCenters_nearest', 'date_num']\n",
    "for item in param:\n",
    "    print(f'Параметр: {item},\\nкорелляция с ценой: {df_whole.a_squere_meter_price.corr(df_whole[item])}')\n",
    "    print()\n",
    "\n",
    "fig, ax = plt.subplots(figsize=(10,2))\n",
    "sns.heatmap(df_whole.corr(), annot = True, vmin=-1, vmax=1, center= 0, cmap= 'coolwarm', ax = ax)"
   ]
  },
  {
   "cell_type": "markdown",
   "metadata": {},
   "source": [
    "<span style='background:yellow'>Для отображения возможной имеющейся зависимости таких параметров, как количество комнат, этаж, ,удаленность от центра и дата подачи объявления будем использовать диаграмму матрицы рассеивания\n",
    "</span>"
   ]
  },
  {
   "cell_type": "code",
   "execution_count": 69,
   "metadata": {},
   "outputs": [
    {
     "data": {
      "text/plain": [
       "array([[<AxesSubplot:xlabel='rooms', ylabel='rooms'>,\n",
       "        <AxesSubplot:xlabel='floor', ylabel='rooms'>,\n",
       "        <AxesSubplot:xlabel='cityCenters_nearest', ylabel='rooms'>,\n",
       "        <AxesSubplot:xlabel='date_num', ylabel='rooms'>],\n",
       "       [<AxesSubplot:xlabel='rooms', ylabel='floor'>,\n",
       "        <AxesSubplot:xlabel='floor', ylabel='floor'>,\n",
       "        <AxesSubplot:xlabel='cityCenters_nearest', ylabel='floor'>,\n",
       "        <AxesSubplot:xlabel='date_num', ylabel='floor'>],\n",
       "       [<AxesSubplot:xlabel='rooms', ylabel='cityCenters_nearest'>,\n",
       "        <AxesSubplot:xlabel='floor', ylabel='cityCenters_nearest'>,\n",
       "        <AxesSubplot:xlabel='cityCenters_nearest', ylabel='cityCenters_nearest'>,\n",
       "        <AxesSubplot:xlabel='date_num', ylabel='cityCenters_nearest'>],\n",
       "       [<AxesSubplot:xlabel='rooms', ylabel='date_num'>,\n",
       "        <AxesSubplot:xlabel='floor', ylabel='date_num'>,\n",
       "        <AxesSubplot:xlabel='cityCenters_nearest', ylabel='date_num'>,\n",
       "        <AxesSubplot:xlabel='date_num', ylabel='date_num'>]], dtype=object)"
      ]
     },
     "execution_count": 69,
     "metadata": {},
     "output_type": "execute_result"
    },
    {
     "data": {
      "image/png": "[encoded data removed]",
      "text/plain": [
       "<Figure size 1008x576 with 16 Axes>"
      ]
     },
     "metadata": {
      "needs_background": "light"
     },
     "output_type": "display_data"
    }
   ],
   "source": [
    "df_scat = df[['rooms', 'floor', 'cityCenters_nearest', 'date_num']]\n",
    "pd.plotting.scatter_matrix(df_scat, figsize=(14, 8))"
   ]
  },
  {
   "cell_type": "markdown",
   "metadata": {},
   "source": [
    "<span style='background:yellow'>Можно сделать вывод об отчетливом отображении зависимости количества этажности зданий от удаленности от центра города, что логично, так как высотная застройка в центре города в основном запрещена из-за исторической ценности\n",
    "</span>\n",
    "\n",
    "\n"
   ]
  },
  {
   "cell_type": "markdown",
   "metadata": {},
   "source": [
    "<span style='background:yellow'>\n",
    "Также видно увеличение количества комнат для объектов в центральной части города\n",
    "</span>"
   ]
  },
  {
   "cell_type": "markdown",
   "metadata": {},
   "source": [
    "<span style='background:yellow'>Расчитаем и отобразим среднюю цену объекта продажи для таких параметров, как день, месяц и год</span>"
   ]
  },
  {
   "cell_type": "code",
   "execution_count": 70,
   "metadata": {},
   "outputs": [],
   "source": [
    "df_pivot_day = pd.pivot_table(df, index='a_day', values='last_price')\n",
    "df_pivot_month = pd.pivot_table(df, index='a_month', values='last_price')\n",
    "df_pivot_year = pd.pivot_table(df, index='a_year', values='last_price')"
   ]
  },
  {
   "cell_type": "code",
   "execution_count": 71,
   "metadata": {},
   "outputs": [
    {
     "name": "stdout",
     "output_type": "stream",
     "text": [
      "max last_price    6708.663232\n",
      "dtype: float64\n",
      "min last_price    6246.180298\n",
      "dtype: float64\n",
      "last_price    6.893817\n",
      "dtype: float64\n"
     ]
    },
    {
     "data": {
      "image/png": "[encoded data removed]",
      "text/plain": [
       "<Figure size 432x288 with 1 Axes>"
      ]
     },
     "metadata": {
      "needs_background": "light"
     },
     "output_type": "display_data"
    }
   ],
   "source": [
    "df_pivot_day.plot(style='o-',  grid=True)\n",
    "plt.title(\"Last Price vs. Week Day\")\n",
    "plt.ylabel(\"last price\")\n",
    "plt.xlabel(\"week day\")\n",
    "maximum = df_pivot_day.max()\n",
    "print(f'max {maximum}')\n",
    "minimum = df_pivot_day.min()\n",
    "print(f'min {minimum}')\n",
    "print((maximum - minimum) / maximum * 100)"
   ]
  },
  {
   "cell_type": "code",
   "execution_count": 72,
   "metadata": {},
   "outputs": [
    {
     "name": "stdout",
     "output_type": "stream",
     "text": [
      "max last_price    6759.909318\n",
      "dtype: float64\n",
      "min last_price    6235.013094\n",
      "dtype: float64\n",
      "last_price    7.764841\n",
      "dtype: float64\n"
     ]
    },
    {
     "data": {
      "image/png": "[encoded data removed]",
      "text/plain": [
       "<Figure size 432x288 with 1 Axes>"
      ]
     },
     "metadata": {
      "needs_background": "light"
     },
     "output_type": "display_data"
    }
   ],
   "source": [
    "df_pivot_month.plot(style='o-',  grid=True)\n",
    "plt.title(\"Last Price vs. Month\")\n",
    "plt.ylabel(\"last price\")\n",
    "plt.xlabel(\"month\")\n",
    "maximum = df_pivot_month.max()\n",
    "print(f'max {maximum}')\n",
    "minimum = df_pivot_month.min()\n",
    "print(f'min {minimum}')\n",
    "print((maximum - minimum) / maximum * 100)"
   ]
  },
  {
   "cell_type": "code",
   "execution_count": 73,
   "metadata": {},
   "outputs": [
    {
     "name": "stdout",
     "output_type": "stream",
     "text": [
      "max last_price    12087.135942\n",
      "dtype: float64\n",
      "min last_price    5946.816139\n",
      "dtype: float64\n",
      "last_price    50.800453\n",
      "dtype: float64\n"
     ]
    },
    {
     "data": {
      "image/png": "[encoded data removed]",
      "text/plain": [
       "<Figure size 432x288 with 1 Axes>"
      ]
     },
     "metadata": {
      "needs_background": "light"
     },
     "output_type": "display_data"
    }
   ],
   "source": [
    "df_pivot_year.plot(style='o-',  grid=True)\n",
    "plt.title(\"Last Price vs. Year\")\n",
    "plt.ylabel(\"last price\")\n",
    "plt.xlabel(\"year\")\n",
    "maximum = df_pivot_year.max()\n",
    "print(f'max {maximum}')\n",
    "minimum = df_pivot_year.min()\n",
    "print(f'min {minimum}')\n",
    "print((maximum - minimum) / maximum * 100)"
   ]
  },
  {
   "cell_type": "markdown",
   "metadata": {},
   "source": [
    "<span style='background:yellow'>\n",
    "В период с 2014 по 2019гг. включительно замечены следующие особенности в параметре \"Цена объекта\" (\"last price\")\n",
    "</span>"
   ]
  },
  {
   "cell_type": "markdown",
   "metadata": {},
   "source": [
    "<span style='background:yellow'>* **День недели**: максимальная средняя цена выставляемого на продажу объекта соответствует четвергу, минимальная - воскресенью, и колеблется в пределах от 6,246,000р до 6709,000р., что показывает разрыв в 6,89% от максимального значения</span>"
   ]
  },
  {
   "cell_type": "markdown",
   "metadata": {},
   "source": [
    "<span style='background:yellow'>* **Месяц**: максимальная средняя цена выставляемого на продажу объекта соответствует декабрю, минимальная - октябрю, и колеблется в пределах от 6,235,000р до 6,760,000р., что показывает разрыв в 7,76% от максимального значения</span>"
   ]
  },
  {
   "cell_type": "markdown",
   "metadata": {},
   "source": [
    "<span style='background:yellow'>* **Год**: максимальная средняя цена выставляемого на продажу объекта соответствует 2014г., минимальная - 2018г., и колеблется в пределах от 5,947,000р до 12,087,000р., что показывает разрыв в почти 51% от максимального значения</span>"
   ]
  },
  {
   "cell_type": "markdown",
   "metadata": {},
   "source": [
    "#### Для центра\n",
    "Топ 10 насленных пунктов и городов по кол-ву поданых объявлений"
   ]
  },
  {
   "cell_type": "code",
   "execution_count": 74,
   "metadata": {},
   "outputs": [
    {
     "data": {
      "text/plain": [
       "Index(['Санкт-Петербург', 'посёлок Мурино', 'посёлок Шушары', 'Всеволожск',\n",
       "       'Пушкин', 'Колпино', 'посёлок Парголово', 'Гатчина', 'деревня Кудрово',\n",
       "       'Выборг'],\n",
       "      dtype='object')"
      ]
     },
     "execution_count": 74,
     "metadata": {},
     "output_type": "execute_result"
    }
   ],
   "source": [
    "top10_offer_locations = df['locality_name'].value_counts().sort_values(ascending=False).head(10).index\n",
    "top10_offer_locations"
   ]
  },
  {
   "cell_type": "code",
   "execution_count": 75,
   "metadata": {},
   "outputs": [
    {
     "data": {
      "text/html": [
       "<div>\n",
       "<style scoped>\n",
       "    .dataframe tbody tr th:only-of-type {\n",
       "        vertical-align: middle;\n",
       "    }\n",
       "\n",
       "    .dataframe tbody tr th {\n",
       "        vertical-align: top;\n",
       "    }\n",
       "\n",
       "    .dataframe thead th {\n",
       "        text-align: right;\n",
       "    }\n",
       "</style>\n",
       "<table border=\"1\" class=\"dataframe\">\n",
       "  <thead>\n",
       "    <tr style=\"text-align: right;\">\n",
       "      <th></th>\n",
       "      <th>locality_name</th>\n",
       "      <th>a_squere_meter_price</th>\n",
       "    </tr>\n",
       "  </thead>\n",
       "  <tbody>\n",
       "    <tr>\n",
       "      <th>0</th>\n",
       "      <td>Санкт-Петербург</td>\n",
       "      <td>115182</td>\n",
       "    </tr>\n",
       "    <tr>\n",
       "      <th>1</th>\n",
       "      <td>Пушкин</td>\n",
       "      <td>103611</td>\n",
       "    </tr>\n",
       "    <tr>\n",
       "      <th>2</th>\n",
       "      <td>деревня Кудрово</td>\n",
       "      <td>93002</td>\n",
       "    </tr>\n",
       "    <tr>\n",
       "      <th>3</th>\n",
       "      <td>посёлок Парголово</td>\n",
       "      <td>90675</td>\n",
       "    </tr>\n",
       "    <tr>\n",
       "      <th>4</th>\n",
       "      <td>посёлок Мурино</td>\n",
       "      <td>86379</td>\n",
       "    </tr>\n",
       "    <tr>\n",
       "      <th>5</th>\n",
       "      <td>посёлок Шушары</td>\n",
       "      <td>79068</td>\n",
       "    </tr>\n",
       "    <tr>\n",
       "      <th>6</th>\n",
       "      <td>Колпино</td>\n",
       "      <td>75735</td>\n",
       "    </tr>\n",
       "    <tr>\n",
       "      <th>7</th>\n",
       "      <td>Гатчина</td>\n",
       "      <td>69045</td>\n",
       "    </tr>\n",
       "    <tr>\n",
       "      <th>8</th>\n",
       "      <td>Всеволожск</td>\n",
       "      <td>68985</td>\n",
       "    </tr>\n",
       "    <tr>\n",
       "      <th>9</th>\n",
       "      <td>Выборг</td>\n",
       "      <td>58296</td>\n",
       "    </tr>\n",
       "  </tbody>\n",
       "</table>\n",
       "</div>"
      ],
      "text/plain": [
       "       locality_name  a_squere_meter_price\n",
       "0    Санкт-Петербург                115182\n",
       "1             Пушкин                103611\n",
       "2    деревня Кудрово                 93002\n",
       "3  посёлок Парголово                 90675\n",
       "4     посёлок Мурино                 86379\n",
       "5     посёлок Шушары                 79068\n",
       "6            Колпино                 75735\n",
       "7            Гатчина                 69045\n",
       "8         Всеволожск                 68985\n",
       "9             Выборг                 58296"
      ]
     },
     "execution_count": 75,
     "metadata": {},
     "output_type": "execute_result"
    }
   ],
   "source": [
    "top10_square_meter = df.query('locality_name in @top10_offer_locations')                 \\\n",
    "    .pivot_table(index='locality_name', values='a_squere_meter_price', aggfunc='mean')   \\\n",
    "    .sort_values('a_squere_meter_price',ascending=False).reset_index()\n",
    "top10_square_meter.a_squere_meter_price = top10_square_meter.a_squere_meter_price.astype('int')\n",
    "top10_square_meter"
   ]
  },
  {
   "cell_type": "code",
   "execution_count": 80,
   "metadata": {},
   "outputs": [
    {
     "name": "stdout",
     "output_type": "stream",
     "text": [
      "Максимальная цена в городе:  Санкт-Петербург\n",
      "Минимальная цена в городе:  Выборг\n"
     ]
    }
   ],
   "source": [
    "#Максиммальная цена кв.метра\n",
    "temp1 = top10_square_meter.query('a_squere_meter_price == a_squere_meter_price.max()')['locality_name']\n",
    "print(f'Максимальная цена в городе: ', temp1[temp1.index.max()])\n",
    "\n",
    "#Минимальная цена кв.метра\n",
    "temp2 = top10_square_meter.query('a_squere_meter_price == a_squere_meter_price.min()')['locality_name']\n",
    "print(f'Минимальная цена в городе: ', temp2[temp2.index.max()])"
   ]
  },
  {
   "cell_type": "code",
   "execution_count": 81,
   "metadata": {},
   "outputs": [
    {
     "data": {
      "text/plain": [
       "(array([0, 1, 2, 3, 4, 5, 6, 7, 8, 9]),\n",
       " [Text(0, 0, 'Санкт-Петербург'),\n",
       "  Text(1, 0, 'Пушкин'),\n",
       "  Text(2, 0, 'деревня Кудрово'),\n",
       "  Text(3, 0, 'посёлок Парголово'),\n",
       "  Text(4, 0, 'посёлок Мурино'),\n",
       "  Text(5, 0, 'посёлок Шушары'),\n",
       "  Text(6, 0, 'Колпино'),\n",
       "  Text(7, 0, 'Гатчина'),\n",
       "  Text(8, 0, 'Всеволожск'),\n",
       "  Text(9, 0, 'Выборг')])"
      ]
     },
     "execution_count": 81,
     "metadata": {},
     "output_type": "execute_result"
    },
    {
     "data": {
      "image/png": "[encoded data removed]",
      "text/plain": [
       "<Figure size 432x288 with 1 Axes>"
      ]
     },
     "metadata": {
      "needs_background": "light"
     },
     "output_type": "display_data"
    }
   ],
   "source": [
    "top10_square_meter.plot(x='locality_name', y='a_squere_meter_price', grid = True, kind = 'bar')\n",
    "plt.xticks(rotation=70)"
   ]
  },
  {
   "cell_type": "code",
   "execution_count": 82,
   "metadata": {},
   "outputs": [
    {
     "data": {
      "text/html": [
       "<div>\n",
       "<style scoped>\n",
       "    .dataframe tbody tr th:only-of-type {\n",
       "        vertical-align: middle;\n",
       "    }\n",
       "\n",
       "    .dataframe tbody tr th {\n",
       "        vertical-align: top;\n",
       "    }\n",
       "\n",
       "    .dataframe thead th {\n",
       "        text-align: right;\n",
       "    }\n",
       "</style>\n",
       "<table border=\"1\" class=\"dataframe\">\n",
       "  <thead>\n",
       "    <tr style=\"text-align: right;\">\n",
       "      <th></th>\n",
       "      <th>a_squere_meter_price</th>\n",
       "    </tr>\n",
       "    <tr>\n",
       "      <th>a_dist</th>\n",
       "      <th></th>\n",
       "    </tr>\n",
       "  </thead>\n",
       "  <tbody>\n",
       "    <tr>\n",
       "      <th>0</th>\n",
       "      <td>187717.073514</td>\n",
       "    </tr>\n",
       "    <tr>\n",
       "      <th>1</th>\n",
       "      <td>166806.271576</td>\n",
       "    </tr>\n",
       "    <tr>\n",
       "      <th>2</th>\n",
       "      <td>147017.069402</td>\n",
       "    </tr>\n",
       "    <tr>\n",
       "      <th>3</th>\n",
       "      <td>126498.797347</td>\n",
       "    </tr>\n",
       "    <tr>\n",
       "      <th>4</th>\n",
       "      <td>137582.002379</td>\n",
       "    </tr>\n",
       "  </tbody>\n",
       "</table>\n",
       "</div>"
      ],
      "text/plain": [
       "        a_squere_meter_price\n",
       "a_dist                      \n",
       "0              187717.073514\n",
       "1              166806.271576\n",
       "2              147017.069402\n",
       "3              126498.797347\n",
       "4              137582.002379"
      ]
     },
     "metadata": {},
     "output_type": "display_data"
    },
    {
     "data": {
      "text/plain": [
       "<AxesSubplot:xlabel='a_dist'>"
      ]
     },
     "execution_count": 82,
     "metadata": {},
     "output_type": "execute_result"
    },
    {
     "data": {
      "image/png": "[encoded data removed]",
      "text/plain": [
       "<Figure size 720x216 with 1 Axes>"
      ]
     },
     "metadata": {
      "needs_background": "light"
     },
     "output_type": "display_data"
    }
   ],
   "source": [
    "df['a_dist'] = df.cityCenters_nearest / 1000                  # по условию задачи делим перевод в км\n",
    "df_dist = df[['a_dist','a_squere_meter_price']]               # отдельный фрейм для расчета\n",
    "df_dist = df_dist.dropna()                                    # удаление пропусков\n",
    "df_dist.a_dist = df_dist.a_dist.astype('int')                 # перевод в натуральные числа\n",
    "df_dist_price = df_dist.pivot_table(index='a_dist', values='a_squere_meter_price')\n",
    "display(df_dist_price.head())\n",
    "df_dist_price.plot(y='a_squere_meter_price', style='o-', xlim=(0, 40), grid=True, figsize=(10, 3))"
   ]
  },
  {
   "cell_type": "markdown",
   "metadata": {},
   "source": [
    "Можно сделать вывод, что центральная зона СПб. заканчивается при удалении от центра на расстояние более 8км"
   ]
  },
  {
   "cell_type": "code",
   "execution_count": 83,
   "metadata": {},
   "outputs": [],
   "source": [
    "# # описание параметров: общая площадь, средняя цена за м.кв, кол-во комнат, высота потолков\n",
    "# df_center = df.loc[df['a_dist'].notna()]\n",
    "# df_center = df_center.query('a_dist <= 8')\n",
    "\n",
    "# params = ['total_area', 'a_squere_meter_price', 'rooms', 'ceiling_height']\n",
    "# for item in params:\n",
    "#     print(f'Параметр: {item}')\n",
    "#     print(df_center[item].describe())\n",
    "#     print()    "
   ]
  },
  {
   "cell_type": "code",
   "execution_count": 84,
   "metadata": {},
   "outputs": [
    {
     "name": "stdout",
     "output_type": "stream",
     "text": [
      "Параметр: total_area\n",
      "count    3725.000000\n",
      "mean       91.705235\n",
      "std        58.609382\n",
      "min        12.000000\n",
      "25%        56.000000\n",
      "50%        77.000000\n",
      "75%       108.000000\n",
      "max       631.000000\n",
      "Name: total_area, dtype: float64\n",
      "\n",
      "Параметр: a_squere_meter_price\n",
      "count    3.725000e+03\n",
      "mean     1.441586e+05\n",
      "std      8.702427e+04\n",
      "min      1.538462e+04\n",
      "25%      1.000000e+05\n",
      "50%      1.236364e+05\n",
      "75%      1.553304e+05\n",
      "max      1.736842e+06\n",
      "Name: a_squere_meter_price, dtype: float64\n",
      "\n",
      "Параметр: rooms\n",
      "count    3725.000000\n",
      "mean        2.805906\n",
      "std         1.420718\n",
      "min         0.000000\n",
      "25%         2.000000\n",
      "50%         3.000000\n",
      "75%         3.000000\n",
      "max        16.000000\n",
      "Name: rooms, dtype: float64\n",
      "\n",
      "Параметр: ceiling_height\n",
      "count    3725.000000\n",
      "mean        2.929289\n",
      "std         0.370142\n",
      "min         2.000000\n",
      "25%         2.650000\n",
      "50%         2.800000\n",
      "75%         3.100000\n",
      "max         6.000000\n",
      "Name: ceiling_height, dtype: float64\n",
      "\n"
     ]
    }
   ],
   "source": [
    "# описание параметров: общая площадь, средняя цена за м.кв, кол-во комнат, высота потолков\n",
    "df_center = df.loc[df['a_dist'].notna()]\n",
    "df_center = df_center.query('a_dist <= 8')\n",
    "\n",
    "params = ['total_area', 'a_squere_meter_price', 'rooms', 'ceiling_height']\n",
    "for item in params:\n",
    "    print(f'Параметр: {item}')\n",
    "    print(df_center[item].describe())\n",
    "    print()    "
   ]
  },
  {
   "cell_type": "code",
   "execution_count": 85,
   "metadata": {},
   "outputs": [
    {
     "name": "stdout",
     "output_type": "stream",
     "text": [
      "\n",
      "\n",
      "\n",
      "\n"
     ]
    },
    {
     "data": {
      "image/png": "[encoded data removed]",
      "text/plain": [
       "<Figure size 432x288 with 1 Axes>"
      ]
     },
     "metadata": {
      "needs_background": "light"
     },
     "output_type": "display_data"
    },
    {
     "data": {
      "image/png": "[encoded data removed]",
      "text/plain": [
       "<Figure size 432x288 with 1 Axes>"
      ]
     },
     "metadata": {
      "needs_background": "light"
     },
     "output_type": "display_data"
    },
    {
     "data": {
      "image/png": "[encoded data removed]",
      "text/plain": [
       "<Figure size 432x288 with 1 Axes>"
      ]
     },
     "metadata": {
      "needs_background": "light"
     },
     "output_type": "display_data"
    },
    {
     "data": {
      "image/png": "[encoded data removed]",
      "text/plain": [
       "<Figure size 432x288 with 1 Axes>"
      ]
     },
     "metadata": {
      "needs_background": "light"
     },
     "output_type": "display_data"
    }
   ],
   "source": [
    "# описание параметров: общая площадь, средняя цена за м.кв, кол-во комнат, высота потолков\n",
    "df_center = df.loc[df['a_dist'].notna()]\n",
    "df_center = df_center.query('a_dist <= 8')\n",
    "\n",
    "params = ['total_area', 'a_squere_meter_price', 'rooms', 'ceiling_height']\n",
    "for item in params:\n",
    "    df_center.hist(item)\n",
    "    print()   "
   ]
  },
  {
   "cell_type": "markdown",
   "metadata": {},
   "source": [
    "* Общая площадь:\n",
    "\n",
    "<span style='background:yellow'>Представлено 3725 объектов со средней площадью 91кв.м. и максимальной площадью 631кв.м.\n",
    "</span>\n",
    "\n",
    "* Цена кв.м.\n",
    "\n",
    "<span style='background:yellow'>Средняя цена кв.м. составляет около 144,000р. и достигает в максимуме 1.737.000р.\n",
    "</span>\n",
    "\n",
    "* Высота потолков\n",
    "\n",
    "<span style='background:yellow'>Медианная и средняя высота потолков равны стандарту: 2,80 - 2,92м. Присутствуют объекты с высотой потолков более 5м\n",
    "</span>"
   ]
  },
  {
   "cell_type": "markdown",
   "metadata": {},
   "source": [
    "Построим корреляционную матрицу для нескольких параметров:"
   ]
  },
  {
   "cell_type": "code",
   "execution_count": 86,
   "metadata": {},
   "outputs": [],
   "source": [
    "# df_center_param = df_center[['rooms', 'floor', 'cityCenters_nearest', 'date_num', 'a_squere_meter_price', 'total_area', 'last_price']]\n",
    "# param = ['rooms', 'floor', 'cityCenters_nearest', 'date_num', 'a_squere_meter_price', 'total_area', 'last_price']\n",
    "# for item in param:\n",
    "#     print(f'Параметр: {item},\\nкорелляция с ценой: {df_center_param.last_price.corr(df_center_param[item])}')\n",
    "#     print()\n",
    "\n",
    "# fig, ax = plt.subplots(figsize=(10,2))\n",
    "# sns.heatmap(df_center_param.corr(), annot = True, vmin=-1, vmax=1, center= 0, cmap= 'coolwarm', ax = ax)"
   ]
  },
  {
   "cell_type": "code",
   "execution_count": 87,
   "metadata": {},
   "outputs": [
    {
     "name": "stdout",
     "output_type": "stream",
     "text": [
      "Параметр: rooms,\n",
      "корелляция с ценой: 0.3470992740325556\n",
      "\n",
      "Параметр: floor,\n",
      "корелляция с ценой: 0.09894269071991252\n",
      "\n",
      "Параметр: total_area,\n",
      "корелляция с ценой: 0.6694486901543271\n",
      "\n",
      "Параметр: last_price,\n",
      "корелляция с ценой: 1.0\n",
      "\n"
     ]
    },
    {
     "data": {
      "text/plain": [
       "<AxesSubplot:>"
      ]
     },
     "execution_count": 87,
     "metadata": {},
     "output_type": "execute_result"
    },
    {
     "data": {
      "image/png": "[encoded data removed]",
      "text/plain": [
       "<Figure size 720x144 with 2 Axes>"
      ]
     },
     "metadata": {
      "needs_background": "light"
     },
     "output_type": "display_data"
    }
   ],
   "source": [
    "df_center_param = df_center[['rooms', 'floor', 'total_area', 'last_price']]\n",
    "param = ['rooms', 'floor', 'total_area', 'last_price']\n",
    "for item in param:\n",
    "    print(f'Параметр: {item},\\nкорелляция с ценой: {df_center_param.last_price.corr(df_center_param[item])}')\n",
    "    print()\n",
    "\n",
    "fig, ax = plt.subplots(figsize=(10,2))\n",
    "sns.heatmap(df_center_param.corr(), annot = True, vmin=-1, vmax=1, center= 0, cmap= 'coolwarm', ax = ax)"
   ]
  },
  {
   "cell_type": "markdown",
   "metadata": {},
   "source": [
    "<span style='background:yellow'>Аналогично общему датасету представим диаграму матрицы рассеивания для заданных параметров относительно центральной зоны СПб<span>"
   ]
  },
  {
   "cell_type": "code",
   "execution_count": 89,
   "metadata": {},
   "outputs": [
    {
     "data": {
      "image/png": "[encoded data removed]",
      "text/plain": [
       "<Figure size 1008x576 with 16 Axes>"
      ]
     },
     "metadata": {
      "needs_background": "light"
     },
     "output_type": "display_data"
    }
   ],
   "source": [
    "pd.plotting.scatter_matrix(df_center_param, figsize=(14, 8), alpha=0.2)\n",
    "plt.show()"
   ]
  },
  {
   "cell_type": "markdown",
   "metadata": {},
   "source": [
    "<span style='background:yellow'>\n",
    "Исходя из графического представления и корреляционных коэффициентов видна зависимость цены объекта от общей площади обхекта и количества комнат\n",
    "</span>"
   ]
  },
  {
   "cell_type": "markdown",
   "metadata": {},
   "source": [
    "Сравним цену объекта и за кв.м. в центре и за центром СПб."
   ]
  },
  {
   "cell_type": "code",
   "execution_count": 90,
   "metadata": {},
   "outputs": [
    {
     "name": "stdout",
     "output_type": "stream",
     "text": [
      "Цена за кв.м. в центре: 144158.62834244897\n",
      "Цена за кв.м. вне центра: 102421.53787281737\n",
      "Цена за объект в центре: 14393.685984161075\n",
      "Цена за объект вне центра: 5731.792629921805\n",
      "\n",
      "Цена за кв.м. больше в центра в 1.4075030636764985 раз\n",
      "Цена за объект больше в центра в 2.5112014536292526 раз\n"
     ]
    }
   ],
   "source": [
    "square_meter_incenter = df.query('a_dist < 8')['a_squere_meter_price'].mean()\n",
    "square_meter_outofcenter = df.query('a_dist > 8')['a_squere_meter_price'].mean()\n",
    "price_incenter = df_center.query('a_dist <=8')['last_price'].mean()\n",
    "price_outofcenter = df.query('a_dist > 8')['last_price'].mean()\n",
    "print(f'Цена за кв.м. в центре: {square_meter_incenter}')\n",
    "print(f'Цена за кв.м. вне центра: {square_meter_outofcenter}')\n",
    "print(f'Цена за объект в центре: {price_incenter}')\n",
    "print(f'Цена за объект вне центра: {price_outofcenter}')\n",
    "print()\n",
    "# Соотношение цен объектов в разныех зонах:\n",
    "print(f'Цена за кв.м. больше в центра в {square_meter_incenter / square_meter_outofcenter} раз')\n",
    "print(f'Цена за объект больше в центра в {price_incenter / price_outofcenter} раз')"
   ]
  },
  {
   "cell_type": "markdown",
   "metadata": {},
   "source": [
    "#### ***Вывод***\n",
    "\n",
    "***Корреляция средней цены для всего набора данных с:***\n",
    "* День недели, месяц и год -  не обнаружена\n",
    "* Кол-во комнат, этаж, расстояние до центра, дата – не обнаружена\n",
    "* Этаж незначительно влияет на цену квадратного метра, коэфф-т составляет 0,13\n",
    "\n",
    "\n",
    "\n",
    "***В центральную зону СПб. входят объекты на расстоянии порядка 8км от города.***\n",
    "\n",
    "Корреляция средней цены для центра города с:\n",
    "* Цена квадратного метра мало коррелирует с количеством комнат, этажом и расстоянием до центра\n",
    "* Максимальный коэфф-т корреляции имеют общая площадь (0,67) и средняя цена за 1кв.м (0,78)\n",
    "* Цена за кв.м. в центральной зоне больше на 40%\n",
    "* Цена объекта в центральной зоне больше в 2,5 раза\n",
    "\n",
    "\n",
    "***Топ 10 по кол-ву предложений:***\n",
    "* Санкт-Петербург\n",
    "* Пушкин\n",
    "* деревня Кудрово\n",
    "* посёлок Парголово\n",
    "* посёлок Мурино\n",
    "* посёлок Шушары\n",
    "* Колпино\n",
    "* Гатчина\n",
    "* Всеволожск\n",
    "* Выборг"
   ]
  },
  {
   "cell_type": "markdown",
   "metadata": {},
   "source": [
    "## Общий вывод"
   ]
  },
  {
   "cell_type": "markdown",
   "metadata": {},
   "source": [
    "* данные представлены в файле из 23699 строк и 22 показателей\n",
    "* явные дубликаты отсутствуют\n",
    "* в 13 показателях имеются пропуски\n",
    "* данные представлены для СПб. и пригородов за период с 2014 по 2019 годы\n",
    "\n",
    "***Заполнены пропуски в таких показателях, как:***\n",
    "* Количество балконов\n",
    "* Высота потолков\n",
    "* Первый этаж\n",
    "* Статус апартаментов\n",
    "* Площадь кухни\n",
    "* Жилая площадь\n",
    "* Число парков в радиусе 3 км\n",
    "* Расстояние до ближайшего парка (м)\n",
    "* Число водоёмов в радиусе 3 км\n",
    "* Расстояние до ближайшего водоёма (м)\n",
    "\n",
    "***Добавлены значения:***\n",
    "* Цена квадратного метра\n",
    "* День недели, месяц и год публикации объявления\n",
    "\n",
    "***Этажность:***\n",
    "* Проведена группировка этажей квартир по этажности: первый этаж, последний этаж, другой\n",
    "* 3000 квартир на первом этаже\n",
    "* 3336 квартир на последнем этаже\n",
    "* 17363 квартиры сгруппированы по этажности в категорию «другие»\n",
    "\n",
    "***Площадь***\n",
    "* Соотношение жилой и общей площади составляет в медиане порядка 50%\n",
    "* Соотношение площади кухни к общей площади составляет в медиане порядка 18%\n",
    "\n",
    "***Параметры квартир***\n",
    "* Средняя площадь квартиры порядка 60кв.м.\n",
    "* Цена в среднем составляет около 4,500,000р\n",
    "* Дорогой сегмент начинает от 6,800,000р и достегает 400,000,000р\n",
    "* В основном продают двух-  и трехкомнатные квартиры, однако есть предложения в 4, 5, 8 и более комнат\n",
    "* Высота потолков стандартна и составляет порядка 2,7м. есть предложения с высотой потолков более 3,25м, которых около 3%\n",
    "\n",
    "***Скорость продажи квартир***\n",
    "* В среднем квартира продается за порядка 3 месяца (98 дней) \n",
    "* Можно считать, что продажа осуществлена быстро, если квартира продана в среднем за 2 - 3 недели (вреднем 17 дней)\n",
    "* Долго продающиеся квартиры ожидают сделки порядка 1,5 лет (в среднем 541 день)\n",
    "\n",
    "~***Корреляция средней цены для всего набора данных с:***~\n",
    "~* День недели, месяц и год -  не обнаружена~\n",
    "~* Кол-во комнат, этаж, расстояние до центра, дата – не обнаружена~\n",
    "~* Этаж незначительно влияет на цену квадратного метра, коэфф-т составляет 0,13~\n",
    "\n",
    "\n",
    "\n",
    "***Средняя цена объекта относительно дня недели, месяца и года продажи:***\n",
    "\n",
    "\n",
    "<span style='background:yellow'>\n",
    "***В период с 2014 по 2019гг. включительно замечены следующие особенности в параметре \"Цена объекта\" (\"last price\")***\n",
    "</span>\n",
    "\n",
    "<span style='background:yellow'>* **День недели**: максимальная средняя цена выставляемого на продажу объекта соответствует четвергу, минимальная - воскресенью, и колеблется в пределах от 6,246,000р до 6709,000р., что показывает разрыв в 6,89% от максимального значения</span>\n",
    "\n",
    "<span style='background:yellow'>* **Месяц**: максимальная средняя цена выставляемого на продажу объекта соответствует декабрю, минимальная - октябрю, и колеблется в пределах от 6,235,000р до 6,760,000р., что показывает разрыв в 7,76% от максимального значения</span>\n",
    "\n",
    "<span style='background:yellow'>* **Год**: максимальная средняя цена выставляемого на продажу объекта соответствует 2014г., минимальная - 2018г., и колеблется в пределах от 5,947,000р до 12,087,000р., что показывает разрыв в почти 51% от максимального значения</span>\n",
    "\n",
    "\n",
    "***В центральную зону СПб. входят объекты на расстоянии порядка 8км от города.***\n",
    "\n",
    "Корреляция средней цены для центра города с:\n",
    "* Цена квадратного метра мало коррелирует с количеством комнат, этажом и расстоянием до центра\n",
    "* Максимальный коэфф-т корреляции имеют общая площадь (0,67) и средняя цена за 1кв.м (0,78)\n",
    "* Цена за кв.м. в центральной зоне больше на 40%\n",
    "* Цена объекта в центральной зоне больше в 2,5 раза\n",
    "\n",
    "***Топ 10 по кол-ву предложений:***\n",
    "* Санкт-Петербург\n",
    "* Пушкин\n",
    "* деревня Кудрово\n",
    "* посёлок Парголово\n",
    "* посёлок Мурино\n",
    "* посёлок Шушары\n",
    "* Колпино\n",
    "* Гатчина\n",
    "* Всеволожск\n",
    "* Выборг"
   ]
  }
 ],
 "metadata": {
  "ExecuteTimeLog": [
   {
    "duration": 1432,
    "start_time": "2022-02-10T16:35:26.174Z"
   },
   {
    "duration": 93,
    "start_time": "2022-02-10T16:35:53.984Z"
   },
   {
    "duration": 41,
    "start_time": "2022-02-10T16:36:09.808Z"
   },
   {
    "duration": 43,
    "start_time": "2022-02-10T16:36:17.303Z"
   },
   {
    "duration": 6,
    "start_time": "2022-02-10T16:37:10.544Z"
   },
   {
    "duration": 8,
    "start_time": "2022-02-10T16:37:29.941Z"
   },
   {
    "duration": 19,
    "start_time": "2022-02-10T16:38:17.623Z"
   },
   {
    "duration": 17,
    "start_time": "2022-02-10T16:38:33.735Z"
   },
   {
    "duration": 11,
    "start_time": "2022-02-10T16:39:09.258Z"
   },
   {
    "duration": 19,
    "start_time": "2022-02-10T16:39:30.535Z"
   },
   {
    "duration": 10,
    "start_time": "2022-02-10T16:39:55.323Z"
   },
   {
    "duration": 21,
    "start_time": "2022-02-10T16:40:11.082Z"
   },
   {
    "duration": 26,
    "start_time": "2022-02-10T16:40:32.960Z"
   },
   {
    "duration": 13,
    "start_time": "2022-02-10T16:41:05.904Z"
   },
   {
    "duration": 15,
    "start_time": "2022-02-10T16:41:22.274Z"
   },
   {
    "duration": 14,
    "start_time": "2022-02-10T16:42:16.456Z"
   },
   {
    "duration": 15,
    "start_time": "2022-02-10T16:42:33.084Z"
   },
   {
    "duration": 26,
    "start_time": "2022-02-10T16:43:13.042Z"
   },
   {
    "duration": 37,
    "start_time": "2022-02-10T16:43:26.472Z"
   },
   {
    "duration": 9,
    "start_time": "2022-02-10T16:44:22.382Z"
   },
   {
    "duration": 8,
    "start_time": "2022-02-10T16:45:16.700Z"
   },
   {
    "duration": 15,
    "start_time": "2022-02-10T16:45:22.684Z"
   },
   {
    "duration": 11,
    "start_time": "2022-02-10T16:45:30.638Z"
   },
   {
    "duration": 12,
    "start_time": "2022-02-10T16:45:47.063Z"
   },
   {
    "duration": 10,
    "start_time": "2022-02-10T16:45:53.284Z"
   },
   {
    "duration": 7,
    "start_time": "2022-02-10T16:46:28.772Z"
   },
   {
    "duration": 6,
    "start_time": "2022-02-10T16:46:34.440Z"
   },
   {
    "duration": 5,
    "start_time": "2022-02-10T16:46:42.044Z"
   },
   {
    "duration": 5,
    "start_time": "2022-02-10T16:46:49.067Z"
   },
   {
    "duration": 757,
    "start_time": "2022-02-10T16:46:55.368Z"
   },
   {
    "duration": 13,
    "start_time": "2022-02-10T16:48:08.977Z"
   },
   {
    "duration": 13,
    "start_time": "2022-02-10T16:48:40.794Z"
   },
   {
    "duration": 11,
    "start_time": "2022-02-10T16:50:01.508Z"
   },
   {
    "duration": 539,
    "start_time": "2022-02-10T16:50:20.300Z"
   },
   {
    "duration": 523,
    "start_time": "2022-02-10T16:50:37.653Z"
   },
   {
    "duration": 14,
    "start_time": "2022-02-10T16:51:07.462Z"
   },
   {
    "duration": 502,
    "start_time": "2022-02-10T16:51:57.660Z"
   },
   {
    "duration": 540,
    "start_time": "2022-02-10T16:52:09.652Z"
   },
   {
    "duration": 531,
    "start_time": "2022-02-10T16:52:18.173Z"
   },
   {
    "duration": 13,
    "start_time": "2022-02-10T16:52:45.075Z"
   },
   {
    "duration": 305,
    "start_time": "2022-02-10T16:53:00.381Z"
   },
   {
    "duration": 373,
    "start_time": "2022-02-10T16:53:07.702Z"
   },
   {
    "duration": 302,
    "start_time": "2022-02-10T16:53:18.440Z"
   },
   {
    "duration": 13,
    "start_time": "2022-02-10T16:54:04.897Z"
   },
   {
    "duration": 9,
    "start_time": "2022-02-10T16:54:10.880Z"
   },
   {
    "duration": 331,
    "start_time": "2022-02-10T16:55:44.655Z"
   },
   {
    "duration": 366,
    "start_time": "2022-02-10T16:55:54.804Z"
   },
   {
    "duration": 12,
    "start_time": "2022-02-10T16:56:03.318Z"
   },
   {
    "duration": 340,
    "start_time": "2022-02-10T16:57:05.404Z"
   },
   {
    "duration": 436,
    "start_time": "2022-02-10T16:57:25.652Z"
   },
   {
    "duration": 12,
    "start_time": "2022-02-10T16:57:47.998Z"
   },
   {
    "duration": 350,
    "start_time": "2022-02-10T16:58:22.053Z"
   },
   {
    "duration": 433,
    "start_time": "2022-02-10T16:58:36.556Z"
   },
   {
    "duration": 20,
    "start_time": "2022-02-10T16:58:49.732Z"
   },
   {
    "duration": 14,
    "start_time": "2022-02-10T17:04:42.597Z"
   },
   {
    "duration": 555,
    "start_time": "2022-02-10T17:04:48.877Z"
   },
   {
    "duration": 380,
    "start_time": "2022-02-10T17:05:31.913Z"
   },
   {
    "duration": 349,
    "start_time": "2022-02-10T17:05:39.550Z"
   },
   {
    "duration": 15,
    "start_time": "2022-02-10T17:06:10.825Z"
   },
   {
    "duration": 39,
    "start_time": "2022-02-10T17:06:51.352Z"
   },
   {
    "duration": 20,
    "start_time": "2022-02-10T17:06:56.883Z"
   },
   {
    "duration": 554,
    "start_time": "2022-02-10T17:07:05.631Z"
   },
   {
    "duration": 1552,
    "start_time": "2022-02-10T17:07:43.774Z"
   },
   {
    "duration": 99,
    "start_time": "2022-02-10T17:07:45.328Z"
   },
   {
    "duration": 49,
    "start_time": "2022-02-10T17:07:45.430Z"
   },
   {
    "duration": 34,
    "start_time": "2022-02-10T17:07:45.481Z"
   },
   {
    "duration": 35,
    "start_time": "2022-02-10T17:07:45.519Z"
   },
   {
    "duration": 9,
    "start_time": "2022-02-10T17:07:45.557Z"
   },
   {
    "duration": 20,
    "start_time": "2022-02-10T17:07:45.569Z"
   },
   {
    "duration": 57,
    "start_time": "2022-02-10T17:07:45.593Z"
   },
   {
    "duration": 10,
    "start_time": "2022-02-10T17:07:45.654Z"
   },
   {
    "duration": 23,
    "start_time": "2022-02-10T17:07:45.667Z"
   },
   {
    "duration": 11,
    "start_time": "2022-02-10T17:07:45.693Z"
   },
   {
    "duration": 62,
    "start_time": "2022-02-10T17:07:45.707Z"
   },
   {
    "duration": 26,
    "start_time": "2022-02-10T17:07:45.771Z"
   },
   {
    "duration": 12,
    "start_time": "2022-02-10T17:07:45.800Z"
   },
   {
    "duration": 16,
    "start_time": "2022-02-10T17:07:45.849Z"
   },
   {
    "duration": 14,
    "start_time": "2022-02-10T17:07:45.867Z"
   },
   {
    "duration": 92,
    "start_time": "2022-02-10T17:07:45.884Z"
   },
   {
    "duration": 400,
    "start_time": "2022-02-10T17:07:45.581Z"
   },
   {
    "duration": 397,
    "start_time": "2022-02-10T17:07:45.586Z"
   },
   {
    "duration": 394,
    "start_time": "2022-02-10T17:07:45.591Z"
   },
   {
    "duration": 391,
    "start_time": "2022-02-10T17:07:45.595Z"
   },
   {
    "duration": 389,
    "start_time": "2022-02-10T17:07:45.599Z"
   },
   {
    "duration": 387,
    "start_time": "2022-02-10T17:07:45.602Z"
   },
   {
    "duration": 386,
    "start_time": "2022-02-10T17:07:45.605Z"
   },
   {
    "duration": 375,
    "start_time": "2022-02-10T17:07:45.618Z"
   },
   {
    "duration": 372,
    "start_time": "2022-02-10T17:07:45.622Z"
   },
   {
    "duration": 369,
    "start_time": "2022-02-10T17:07:45.627Z"
   },
   {
    "duration": 365,
    "start_time": "2022-02-10T17:07:45.632Z"
   },
   {
    "duration": 363,
    "start_time": "2022-02-10T17:07:45.636Z"
   },
   {
    "duration": 359,
    "start_time": "2022-02-10T17:07:45.641Z"
   },
   {
    "duration": 356,
    "start_time": "2022-02-10T17:07:45.646Z"
   },
   {
    "duration": 352,
    "start_time": "2022-02-10T17:07:45.651Z"
   },
   {
    "duration": 350,
    "start_time": "2022-02-10T17:07:45.655Z"
   },
   {
    "duration": 347,
    "start_time": "2022-02-10T17:07:45.659Z"
   },
   {
    "duration": 346,
    "start_time": "2022-02-10T17:07:45.662Z"
   },
   {
    "duration": 344,
    "start_time": "2022-02-10T17:07:45.665Z"
   },
   {
    "duration": 343,
    "start_time": "2022-02-10T17:07:45.668Z"
   },
   {
    "duration": 341,
    "start_time": "2022-02-10T17:07:45.671Z"
   },
   {
    "duration": 339,
    "start_time": "2022-02-10T17:07:45.675Z"
   },
   {
    "duration": 334,
    "start_time": "2022-02-10T17:07:45.681Z"
   },
   {
    "duration": 332,
    "start_time": "2022-02-10T17:07:45.684Z"
   },
   {
    "duration": 330,
    "start_time": "2022-02-10T17:07:45.687Z"
   },
   {
    "duration": 328,
    "start_time": "2022-02-10T17:07:45.690Z"
   },
   {
    "duration": 355,
    "start_time": "2022-02-10T17:07:45.693Z"
   },
   {
    "duration": 352,
    "start_time": "2022-02-10T17:07:45.697Z"
   },
   {
    "duration": 350,
    "start_time": "2022-02-10T17:07:45.700Z"
   },
   {
    "duration": 350,
    "start_time": "2022-02-10T17:07:45.703Z"
   },
   {
    "duration": 347,
    "start_time": "2022-02-10T17:07:45.707Z"
   },
   {
    "duration": 346,
    "start_time": "2022-02-10T17:07:45.710Z"
   },
   {
    "duration": 343,
    "start_time": "2022-02-10T17:07:45.714Z"
   },
   {
    "duration": 336,
    "start_time": "2022-02-10T17:07:45.723Z"
   },
   {
    "duration": 333,
    "start_time": "2022-02-10T17:07:45.727Z"
   },
   {
    "duration": 332,
    "start_time": "2022-02-10T17:07:45.730Z"
   },
   {
    "duration": 329,
    "start_time": "2022-02-10T17:07:45.735Z"
   },
   {
    "duration": 326,
    "start_time": "2022-02-10T17:07:45.739Z"
   },
   {
    "duration": 324,
    "start_time": "2022-02-10T17:07:45.743Z"
   },
   {
    "duration": 320,
    "start_time": "2022-02-10T17:07:45.748Z"
   },
   {
    "duration": 319,
    "start_time": "2022-02-10T17:07:45.751Z"
   },
   {
    "duration": 317,
    "start_time": "2022-02-10T17:07:45.754Z"
   },
   {
    "duration": 315,
    "start_time": "2022-02-10T17:07:45.757Z"
   },
   {
    "duration": 313,
    "start_time": "2022-02-10T17:07:45.760Z"
   },
   {
    "duration": 310,
    "start_time": "2022-02-10T17:07:45.765Z"
   },
   {
    "duration": 414,
    "start_time": "2022-02-10T17:07:56.232Z"
   },
   {
    "duration": 7159,
    "start_time": "2022-02-10T17:08:05.576Z"
   },
   {
    "duration": 601,
    "start_time": "2022-02-10T17:08:12.137Z"
   },
   {
    "duration": 4,
    "start_time": "2022-02-10T17:08:46.116Z"
   },
   {
    "duration": 84,
    "start_time": "2022-02-10T17:08:46.742Z"
   },
   {
    "duration": 40,
    "start_time": "2022-02-10T17:08:47.321Z"
   },
   {
    "duration": 30,
    "start_time": "2022-02-10T17:08:47.722Z"
   },
   {
    "duration": 5,
    "start_time": "2022-02-10T17:08:48.344Z"
   },
   {
    "duration": 5,
    "start_time": "2022-02-10T17:08:48.893Z"
   },
   {
    "duration": 17,
    "start_time": "2022-02-10T17:08:49.829Z"
   },
   {
    "duration": 15,
    "start_time": "2022-02-10T17:08:50.556Z"
   },
   {
    "duration": 11,
    "start_time": "2022-02-10T17:08:51.205Z"
   },
   {
    "duration": 20,
    "start_time": "2022-02-10T17:08:52.110Z"
   },
   {
    "duration": 11,
    "start_time": "2022-02-10T17:08:52.827Z"
   },
   {
    "duration": 23,
    "start_time": "2022-02-10T17:08:55.378Z"
   },
   {
    "duration": 29,
    "start_time": "2022-02-10T17:08:56.464Z"
   },
   {
    "duration": 13,
    "start_time": "2022-02-10T17:08:58.814Z"
   },
   {
    "duration": 16,
    "start_time": "2022-02-10T17:09:01.518Z"
   },
   {
    "duration": 15,
    "start_time": "2022-02-10T17:09:11.727Z"
   },
   {
    "duration": 98,
    "start_time": "2022-02-10T17:09:12.076Z"
   },
   {
    "duration": 13,
    "start_time": "2022-02-10T17:09:20.248Z"
   },
   {
    "duration": 28,
    "start_time": "2022-02-10T17:09:21.348Z"
   },
   {
    "duration": 35,
    "start_time": "2022-02-10T17:09:23.117Z"
   },
   {
    "duration": 11,
    "start_time": "2022-02-10T17:09:24.802Z"
   },
   {
    "duration": 6,
    "start_time": "2022-02-10T17:09:25.757Z"
   },
   {
    "duration": 16,
    "start_time": "2022-02-10T17:09:26.132Z"
   },
   {
    "duration": 11,
    "start_time": "2022-02-10T17:09:26.646Z"
   },
   {
    "duration": 10,
    "start_time": "2022-02-10T17:09:27.454Z"
   },
   {
    "duration": 13,
    "start_time": "2022-02-10T17:09:27.729Z"
   },
   {
    "duration": 7,
    "start_time": "2022-02-10T17:09:28.276Z"
   },
   {
    "duration": 7,
    "start_time": "2022-02-10T17:09:28.655Z"
   },
   {
    "duration": 5,
    "start_time": "2022-02-10T17:09:29.163Z"
   },
   {
    "duration": 6,
    "start_time": "2022-02-10T17:09:29.451Z"
   },
   {
    "duration": 776,
    "start_time": "2022-02-10T17:09:29.741Z"
   },
   {
    "duration": 14,
    "start_time": "2022-02-10T17:09:30.519Z"
   },
   {
    "duration": 14,
    "start_time": "2022-02-10T17:09:31.139Z"
   },
   {
    "duration": 11,
    "start_time": "2022-02-10T17:09:33.143Z"
   },
   {
    "duration": 543,
    "start_time": "2022-02-10T17:09:34.138Z"
   },
   {
    "duration": 552,
    "start_time": "2022-02-10T17:09:35.680Z"
   },
   {
    "duration": 17,
    "start_time": "2022-02-10T17:09:37.244Z"
   },
   {
    "duration": 498,
    "start_time": "2022-02-10T17:09:38.387Z"
   },
   {
    "duration": 545,
    "start_time": "2022-02-10T17:09:39.349Z"
   },
   {
    "duration": 555,
    "start_time": "2022-02-10T17:09:39.897Z"
   },
   {
    "duration": 12,
    "start_time": "2022-02-10T17:09:41.582Z"
   },
   {
    "duration": 305,
    "start_time": "2022-02-10T17:09:42.708Z"
   },
   {
    "duration": 313,
    "start_time": "2022-02-10T17:09:43.509Z"
   },
   {
    "duration": 312,
    "start_time": "2022-02-10T17:09:44.396Z"
   },
   {
    "duration": 13,
    "start_time": "2022-02-10T17:09:45.979Z"
   },
   {
    "duration": 10,
    "start_time": "2022-02-10T17:09:46.782Z"
   },
   {
    "duration": 330,
    "start_time": "2022-02-10T17:09:48.185Z"
   },
   {
    "duration": 415,
    "start_time": "2022-02-10T17:09:48.714Z"
   },
   {
    "duration": 10,
    "start_time": "2022-02-10T17:09:49.784Z"
   },
   {
    "duration": 378,
    "start_time": "2022-02-10T17:09:52.841Z"
   },
   {
    "duration": 457,
    "start_time": "2022-02-10T17:09:54.110Z"
   },
   {
    "duration": 23,
    "start_time": "2022-02-10T17:09:57.119Z"
   },
   {
    "duration": 330,
    "start_time": "2022-02-10T17:09:58.000Z"
   },
   {
    "duration": 13,
    "start_time": "2022-02-10T17:10:08.825Z"
   },
   {
    "duration": 548,
    "start_time": "2022-02-10T17:10:09.932Z"
   },
   {
    "duration": 364,
    "start_time": "2022-02-10T17:10:11.287Z"
   },
   {
    "duration": 355,
    "start_time": "2022-02-10T17:10:14.141Z"
   },
   {
    "duration": 16,
    "start_time": "2022-02-10T17:10:15.744Z"
   },
   {
    "duration": 37,
    "start_time": "2022-02-10T17:10:19.519Z"
   },
   {
    "duration": 20,
    "start_time": "2022-02-10T17:10:22.228Z"
   },
   {
    "duration": 546,
    "start_time": "2022-02-10T17:10:23.496Z"
   },
   {
    "duration": 4,
    "start_time": "2022-02-10T17:10:58.521Z"
   },
   {
    "duration": 528,
    "start_time": "2022-02-10T17:11:43.801Z"
   },
   {
    "duration": 556,
    "start_time": "2022-02-10T17:12:30.827Z"
   },
   {
    "duration": 235,
    "start_time": "2022-02-10T17:12:37.770Z"
   },
   {
    "duration": 234,
    "start_time": "2022-02-10T17:13:13.767Z"
   },
   {
    "duration": 499,
    "start_time": "2022-02-10T17:15:38.724Z"
   },
   {
    "duration": 890,
    "start_time": "2022-02-10T17:16:28.902Z"
   },
   {
    "duration": 625,
    "start_time": "2022-02-10T17:16:50.688Z"
   },
   {
    "duration": 258,
    "start_time": "2022-02-10T17:16:57.326Z"
   },
   {
    "duration": 94,
    "start_time": "2022-02-10T17:17:29.319Z"
   },
   {
    "duration": 245,
    "start_time": "2022-02-10T17:17:33.568Z"
   },
   {
    "duration": 530,
    "start_time": "2022-02-10T17:17:41.657Z"
   },
   {
    "duration": 943,
    "start_time": "2022-02-10T17:17:46.154Z"
   },
   {
    "duration": 264,
    "start_time": "2022-02-10T17:17:51.632Z"
   },
   {
    "duration": 544,
    "start_time": "2022-02-10T17:18:39.648Z"
   },
   {
    "duration": 268,
    "start_time": "2022-02-10T17:19:53.483Z"
   },
   {
    "duration": 248,
    "start_time": "2022-02-10T17:20:13.471Z"
   },
   {
    "duration": 261,
    "start_time": "2022-02-10T17:20:56.335Z"
   },
   {
    "duration": 278,
    "start_time": "2022-02-10T17:21:10.950Z"
   },
   {
    "duration": 94,
    "start_time": "2022-02-10T17:22:19.985Z"
   },
   {
    "duration": 100,
    "start_time": "2022-02-10T17:22:26.650Z"
   },
   {
    "duration": 93,
    "start_time": "2022-02-10T17:22:29.784Z"
   },
   {
    "duration": 269,
    "start_time": "2022-02-10T17:22:43.136Z"
   },
   {
    "duration": 95,
    "start_time": "2022-02-10T17:22:49.865Z"
   },
   {
    "duration": 87,
    "start_time": "2022-02-10T17:22:59.625Z"
   },
   {
    "duration": 251,
    "start_time": "2022-02-10T17:23:04.865Z"
   },
   {
    "duration": 265,
    "start_time": "2022-02-10T17:24:31.817Z"
   },
   {
    "duration": 42,
    "start_time": "2022-02-10T17:26:54.598Z"
   },
   {
    "duration": 9,
    "start_time": "2022-02-10T17:27:17.425Z"
   },
   {
    "duration": 18,
    "start_time": "2022-02-10T17:27:38.548Z"
   },
   {
    "duration": 46,
    "start_time": "2022-02-10T17:34:00.964Z"
   },
   {
    "duration": 11,
    "start_time": "2022-02-10T17:34:12.208Z"
   },
   {
    "duration": 522,
    "start_time": "2022-02-10T17:34:26.722Z"
   },
   {
    "duration": 11,
    "start_time": "2022-02-10T17:34:55.578Z"
   },
   {
    "duration": 34,
    "start_time": "2022-02-10T17:35:03.006Z"
   },
   {
    "duration": 14,
    "start_time": "2022-02-10T17:35:41.064Z"
   },
   {
    "duration": 336,
    "start_time": "2022-02-10T17:35:57.991Z"
   },
   {
    "duration": 327,
    "start_time": "2022-02-10T17:36:15.675Z"
   },
   {
    "duration": 35,
    "start_time": "2022-02-10T17:36:43.204Z"
   },
   {
    "duration": 717,
    "start_time": "2022-02-10T17:37:21.954Z"
   },
   {
    "duration": 33,
    "start_time": "2022-02-10T17:37:47.864Z"
   },
   {
    "duration": 29,
    "start_time": "2022-02-10T17:37:59.025Z"
   },
   {
    "duration": 1453,
    "start_time": "2022-02-10T17:39:42.646Z"
   },
   {
    "duration": 101,
    "start_time": "2022-02-10T17:39:44.102Z"
   },
   {
    "duration": 55,
    "start_time": "2022-02-10T17:39:44.205Z"
   },
   {
    "duration": 35,
    "start_time": "2022-02-10T17:39:44.264Z"
   },
   {
    "duration": 6,
    "start_time": "2022-02-10T17:39:44.303Z"
   },
   {
    "duration": 42,
    "start_time": "2022-02-10T17:39:44.312Z"
   },
   {
    "duration": 25,
    "start_time": "2022-02-10T17:39:44.356Z"
   },
   {
    "duration": 15,
    "start_time": "2022-02-10T17:39:44.385Z"
   },
   {
    "duration": 10,
    "start_time": "2022-02-10T17:39:44.403Z"
   },
   {
    "duration": 19,
    "start_time": "2022-02-10T17:39:44.449Z"
   },
   {
    "duration": 9,
    "start_time": "2022-02-10T17:39:44.471Z"
   },
   {
    "duration": 23,
    "start_time": "2022-02-10T17:39:44.483Z"
   },
   {
    "duration": 65,
    "start_time": "2022-02-10T17:39:44.509Z"
   },
   {
    "duration": 12,
    "start_time": "2022-02-10T17:39:44.577Z"
   },
   {
    "duration": 14,
    "start_time": "2022-02-10T17:39:44.592Z"
   },
   {
    "duration": 51,
    "start_time": "2022-02-10T17:39:44.608Z"
   },
   {
    "duration": 13,
    "start_time": "2022-02-10T17:39:44.662Z"
   },
   {
    "duration": 27,
    "start_time": "2022-02-10T17:39:44.678Z"
   },
   {
    "duration": 70,
    "start_time": "2022-02-10T17:39:44.707Z"
   },
   {
    "duration": 8,
    "start_time": "2022-02-10T17:39:44.780Z"
   },
   {
    "duration": 8,
    "start_time": "2022-02-10T17:39:44.790Z"
   },
   {
    "duration": 59,
    "start_time": "2022-02-10T17:39:44.800Z"
   },
   {
    "duration": 11,
    "start_time": "2022-02-10T17:39:44.865Z"
   },
   {
    "duration": 11,
    "start_time": "2022-02-10T17:39:44.880Z"
   },
   {
    "duration": 10,
    "start_time": "2022-02-10T17:39:44.893Z"
   },
   {
    "duration": 44,
    "start_time": "2022-02-10T17:39:44.906Z"
   },
   {
    "duration": 7,
    "start_time": "2022-02-10T17:39:44.952Z"
   },
   {
    "duration": 12,
    "start_time": "2022-02-10T17:39:44.962Z"
   },
   {
    "duration": 8,
    "start_time": "2022-02-10T17:39:44.977Z"
   },
   {
    "duration": 806,
    "start_time": "2022-02-10T17:39:44.988Z"
   },
   {
    "duration": 15,
    "start_time": "2022-02-10T17:39:45.797Z"
   },
   {
    "duration": 37,
    "start_time": "2022-02-10T17:39:45.815Z"
   },
   {
    "duration": 11,
    "start_time": "2022-02-10T17:39:45.854Z"
   },
   {
    "duration": 548,
    "start_time": "2022-02-10T17:39:45.867Z"
   },
   {
    "duration": 536,
    "start_time": "2022-02-10T17:39:46.418Z"
   },
   {
    "duration": 12,
    "start_time": "2022-02-10T17:39:46.957Z"
   },
   {
    "duration": 646,
    "start_time": "2022-02-10T17:39:46.972Z"
   },
   {
    "duration": 536,
    "start_time": "2022-02-10T17:39:47.621Z"
   },
   {
    "duration": 559,
    "start_time": "2022-02-10T17:39:48.160Z"
   },
   {
    "duration": 30,
    "start_time": "2022-02-10T17:39:48.722Z"
   },
   {
    "duration": 334,
    "start_time": "2022-02-10T17:39:48.755Z"
   },
   {
    "duration": 366,
    "start_time": "2022-02-10T17:39:49.092Z"
   },
   {
    "duration": 331,
    "start_time": "2022-02-10T17:39:49.461Z"
   },
   {
    "duration": 12,
    "start_time": "2022-02-10T17:39:49.795Z"
   },
   {
    "duration": 10,
    "start_time": "2022-02-10T17:39:49.809Z"
   },
   {
    "duration": 369,
    "start_time": "2022-02-10T17:39:49.821Z"
   },
   {
    "duration": 384,
    "start_time": "2022-02-10T17:39:50.193Z"
   },
   {
    "duration": 12,
    "start_time": "2022-02-10T17:39:50.580Z"
   },
   {
    "duration": 368,
    "start_time": "2022-02-10T17:39:50.594Z"
   },
   {
    "duration": 464,
    "start_time": "2022-02-10T17:39:50.964Z"
   },
   {
    "duration": 30,
    "start_time": "2022-02-10T17:39:51.430Z"
   },
   {
    "duration": 339,
    "start_time": "2022-02-10T17:39:51.462Z"
   },
   {
    "duration": 11,
    "start_time": "2022-02-10T17:39:51.804Z"
   },
   {
    "duration": 710,
    "start_time": "2022-02-10T17:39:51.817Z"
   },
   {
    "duration": 405,
    "start_time": "2022-02-10T17:39:52.530Z"
   },
   {
    "duration": 376,
    "start_time": "2022-02-10T17:39:52.938Z"
   },
   {
    "duration": 34,
    "start_time": "2022-02-10T17:39:53.317Z"
   },
   {
    "duration": 38,
    "start_time": "2022-02-10T17:39:53.354Z"
   },
   {
    "duration": 21,
    "start_time": "2022-02-10T17:39:53.395Z"
   },
   {
    "duration": 312,
    "start_time": "2022-02-10T17:39:53.420Z"
   },
   {
    "duration": 273,
    "start_time": "2022-02-10T17:39:53.735Z"
   },
   {
    "duration": 277,
    "start_time": "2022-02-10T17:39:54.011Z"
   },
   {
    "duration": 59,
    "start_time": "2022-02-10T17:39:54.291Z"
   },
   {
    "duration": 10,
    "start_time": "2022-02-10T17:39:54.354Z"
   },
   {
    "duration": 20,
    "start_time": "2022-02-10T17:39:54.367Z"
   },
   {
    "duration": 95,
    "start_time": "2022-02-10T17:39:54.390Z"
   },
   {
    "duration": 10,
    "start_time": "2022-02-10T17:39:54.488Z"
   },
   {
    "duration": 502,
    "start_time": "2022-02-10T17:39:54.508Z"
   },
   {
    "duration": 12,
    "start_time": "2022-02-10T17:39:55.013Z"
   },
   {
    "duration": 53,
    "start_time": "2022-02-10T17:39:55.028Z"
   },
   {
    "duration": 13,
    "start_time": "2022-02-10T17:39:55.084Z"
   },
   {
    "duration": 366,
    "start_time": "2022-02-10T17:39:55.100Z"
   },
   {
    "duration": 479,
    "start_time": "2022-02-10T17:39:55.469Z"
   },
   {
    "duration": 37,
    "start_time": "2022-02-10T17:39:55.951Z"
   },
   {
    "duration": 911,
    "start_time": "2022-02-10T17:39:55.991Z"
   },
   {
    "duration": 51,
    "start_time": "2022-02-10T17:39:56.905Z"
   },
   {
    "duration": 5,
    "start_time": "2022-02-10T17:40:10.077Z"
   },
   {
    "duration": 89,
    "start_time": "2022-02-10T17:40:14.055Z"
   },
   {
    "duration": 36,
    "start_time": "2022-02-10T17:40:15.406Z"
   },
   {
    "duration": 29,
    "start_time": "2022-02-10T17:40:16.078Z"
   },
   {
    "duration": 6,
    "start_time": "2022-02-10T17:40:17.731Z"
   },
   {
    "duration": 6,
    "start_time": "2022-02-10T17:40:19.152Z"
   },
   {
    "duration": 17,
    "start_time": "2022-02-10T17:40:21.912Z"
   },
   {
    "duration": 16,
    "start_time": "2022-02-10T17:40:22.905Z"
   },
   {
    "duration": 10,
    "start_time": "2022-02-10T17:40:23.866Z"
   },
   {
    "duration": 19,
    "start_time": "2022-02-10T17:40:25.001Z"
   },
   {
    "duration": 11,
    "start_time": "2022-02-10T17:40:25.947Z"
   },
   {
    "duration": 25,
    "start_time": "2022-02-10T17:40:26.820Z"
   },
   {
    "duration": 28,
    "start_time": "2022-02-10T17:40:28.001Z"
   },
   {
    "duration": 15,
    "start_time": "2022-02-10T17:40:28.929Z"
   },
   {
    "duration": 15,
    "start_time": "2022-02-10T17:40:30.126Z"
   },
   {
    "duration": 14,
    "start_time": "2022-02-10T17:40:31.246Z"
   },
   {
    "duration": 15,
    "start_time": "2022-02-10T17:40:32.357Z"
   },
   {
    "duration": 28,
    "start_time": "2022-02-10T17:40:33.204Z"
   },
   {
    "duration": 38,
    "start_time": "2022-02-10T17:40:33.740Z"
   },
   {
    "duration": 10,
    "start_time": "2022-02-10T17:40:35.784Z"
   },
   {
    "duration": 8,
    "start_time": "2022-02-10T17:40:36.775Z"
   },
   {
    "duration": 22,
    "start_time": "2022-02-10T17:40:37.192Z"
   },
   {
    "duration": 11,
    "start_time": "2022-02-10T17:40:37.744Z"
   },
   {
    "duration": 11,
    "start_time": "2022-02-10T17:40:38.759Z"
   },
   {
    "duration": 11,
    "start_time": "2022-02-10T17:40:39.244Z"
   },
   {
    "duration": 6,
    "start_time": "2022-02-10T17:40:40.159Z"
   },
   {
    "duration": 6,
    "start_time": "2022-02-10T17:40:40.616Z"
   },
   {
    "duration": 6,
    "start_time": "2022-02-10T17:40:41.115Z"
   },
   {
    "duration": 6,
    "start_time": "2022-02-10T17:40:41.617Z"
   },
   {
    "duration": 741,
    "start_time": "2022-02-10T17:40:42.692Z"
   },
   {
    "duration": 14,
    "start_time": "2022-02-10T17:40:48.719Z"
   },
   {
    "duration": 14,
    "start_time": "2022-02-10T17:40:49.804Z"
   },
   {
    "duration": 13,
    "start_time": "2022-02-10T17:40:52.193Z"
   },
   {
    "duration": 528,
    "start_time": "2022-02-10T17:40:53.415Z"
   },
   {
    "duration": 859,
    "start_time": "2022-02-10T17:40:54.837Z"
   },
   {
    "duration": 13,
    "start_time": "2022-02-10T17:40:57.244Z"
   },
   {
    "duration": 439,
    "start_time": "2022-02-10T17:40:58.577Z"
   },
   {
    "duration": 696,
    "start_time": "2022-02-10T17:40:59.655Z"
   },
   {
    "duration": 583,
    "start_time": "2022-02-10T17:41:00.354Z"
   },
   {
    "duration": 15,
    "start_time": "2022-02-10T17:41:02.528Z"
   },
   {
    "duration": 345,
    "start_time": "2022-02-10T17:41:03.669Z"
   },
   {
    "duration": 307,
    "start_time": "2022-02-10T17:41:04.570Z"
   },
   {
    "duration": 312,
    "start_time": "2022-02-10T17:41:05.140Z"
   },
   {
    "duration": 12,
    "start_time": "2022-02-10T17:41:07.496Z"
   },
   {
    "duration": 10,
    "start_time": "2022-02-10T17:41:08.165Z"
   },
   {
    "duration": 326,
    "start_time": "2022-02-10T17:41:09.523Z"
   },
   {
    "duration": 389,
    "start_time": "2022-02-10T17:41:10.714Z"
   },
   {
    "duration": 11,
    "start_time": "2022-02-10T17:41:11.751Z"
   },
   {
    "duration": 339,
    "start_time": "2022-02-10T17:41:14.293Z"
   },
   {
    "duration": 522,
    "start_time": "2022-02-10T17:41:24.959Z"
   },
   {
    "duration": 22,
    "start_time": "2022-02-10T17:41:27.175Z"
   },
   {
    "duration": 336,
    "start_time": "2022-02-10T17:41:28.260Z"
   },
   {
    "duration": 11,
    "start_time": "2022-02-10T17:41:35.655Z"
   },
   {
    "duration": 14,
    "start_time": "2022-02-10T17:41:42.086Z"
   },
   {
    "duration": 528,
    "start_time": "2022-02-10T17:41:42.609Z"
   },
   {
    "duration": 523,
    "start_time": "2022-02-10T17:41:43.736Z"
   },
   {
    "duration": 343,
    "start_time": "2022-02-10T17:41:44.437Z"
   },
   {
    "duration": 15,
    "start_time": "2022-02-10T17:41:46.477Z"
   },
   {
    "duration": 35,
    "start_time": "2022-02-10T17:41:48.509Z"
   },
   {
    "duration": 20,
    "start_time": "2022-02-10T17:41:55.953Z"
   },
   {
    "duration": 260,
    "start_time": "2022-02-10T17:41:56.821Z"
   },
   {
    "duration": 252,
    "start_time": "2022-02-10T17:41:57.917Z"
   },
   {
    "duration": 239,
    "start_time": "2022-02-10T17:41:59.105Z"
   },
   {
    "duration": 43,
    "start_time": "2022-02-10T17:42:02.749Z"
   },
   {
    "duration": 10,
    "start_time": "2022-02-10T17:42:03.418Z"
   },
   {
    "duration": 22,
    "start_time": "2022-02-10T17:42:05.383Z"
   },
   {
    "duration": 49,
    "start_time": "2022-02-10T17:42:10.648Z"
   },
   {
    "duration": 43,
    "start_time": "2022-02-10T17:42:43.647Z"
   },
   {
    "duration": 9,
    "start_time": "2022-02-10T17:42:51.582Z"
   },
   {
    "duration": 490,
    "start_time": "2022-02-10T17:42:53.171Z"
   },
   {
    "duration": 12,
    "start_time": "2022-02-10T17:42:56.213Z"
   },
   {
    "duration": 32,
    "start_time": "2022-02-10T17:42:56.730Z"
   },
   {
    "duration": 13,
    "start_time": "2022-02-10T17:42:59.061Z"
   },
   {
    "duration": 321,
    "start_time": "2022-02-10T17:43:01.580Z"
   },
   {
    "duration": 349,
    "start_time": "2022-02-10T17:43:16.707Z"
   },
   {
    "duration": 37,
    "start_time": "2022-02-10T17:43:21.468Z"
   },
   {
    "duration": 692,
    "start_time": "2022-02-10T17:43:29.457Z"
   },
   {
    "duration": 32,
    "start_time": "2022-02-10T17:43:32.678Z"
   },
   {
    "duration": 1147,
    "start_time": "2022-02-16T14:47:51.237Z"
   },
   {
    "duration": 74,
    "start_time": "2022-02-16T14:47:52.386Z"
   },
   {
    "duration": 28,
    "start_time": "2022-02-16T14:47:52.462Z"
   },
   {
    "duration": 22,
    "start_time": "2022-02-16T14:47:52.492Z"
   },
   {
    "duration": 4,
    "start_time": "2022-02-16T14:47:52.531Z"
   },
   {
    "duration": 10,
    "start_time": "2022-02-16T14:47:52.536Z"
   },
   {
    "duration": 13,
    "start_time": "2022-02-16T14:47:52.547Z"
   },
   {
    "duration": 14,
    "start_time": "2022-02-16T14:47:52.561Z"
   },
   {
    "duration": 12,
    "start_time": "2022-02-16T14:47:52.578Z"
   },
   {
    "duration": 52,
    "start_time": "2022-02-16T14:47:52.592Z"
   },
   {
    "duration": 7,
    "start_time": "2022-02-16T14:47:52.646Z"
   },
   {
    "duration": 15,
    "start_time": "2022-02-16T14:47:52.654Z"
   },
   {
    "duration": 18,
    "start_time": "2022-02-16T14:47:52.670Z"
   },
   {
    "duration": 41,
    "start_time": "2022-02-16T14:47:52.690Z"
   },
   {
    "duration": 11,
    "start_time": "2022-02-16T14:47:52.732Z"
   },
   {
    "duration": 9,
    "start_time": "2022-02-16T14:47:52.745Z"
   },
   {
    "duration": 10,
    "start_time": "2022-02-16T14:47:52.755Z"
   },
   {
    "duration": 18,
    "start_time": "2022-02-16T14:47:52.767Z"
   },
   {
    "duration": 57,
    "start_time": "2022-02-16T14:47:52.786Z"
   },
   {
    "duration": 7,
    "start_time": "2022-02-16T14:47:52.844Z"
   },
   {
    "duration": 6,
    "start_time": "2022-02-16T14:47:52.852Z"
   },
   {
    "duration": 13,
    "start_time": "2022-02-16T14:47:52.859Z"
   },
   {
    "duration": 8,
    "start_time": "2022-02-16T14:47:52.874Z"
   },
   {
    "duration": 7,
    "start_time": "2022-02-16T14:47:52.884Z"
   },
   {
    "duration": 42,
    "start_time": "2022-02-16T14:47:52.892Z"
   },
   {
    "duration": 5,
    "start_time": "2022-02-16T14:47:52.936Z"
   },
   {
    "duration": 4,
    "start_time": "2022-02-16T14:47:52.945Z"
   },
   {
    "duration": 3,
    "start_time": "2022-02-16T14:47:52.952Z"
   },
   {
    "duration": 4,
    "start_time": "2022-02-16T14:47:52.957Z"
   },
   {
    "duration": 578,
    "start_time": "2022-02-16T14:47:52.963Z"
   },
   {
    "duration": 12,
    "start_time": "2022-02-16T14:47:53.543Z"
   },
   {
    "duration": 12,
    "start_time": "2022-02-16T14:47:53.557Z"
   },
   {
    "duration": 10,
    "start_time": "2022-02-16T14:47:53.571Z"
   },
   {
    "duration": 450,
    "start_time": "2022-02-16T14:47:53.582Z"
   },
   {
    "duration": 314,
    "start_time": "2022-02-16T14:47:54.033Z"
   },
   {
    "duration": 9,
    "start_time": "2022-02-16T14:47:54.348Z"
   },
   {
    "duration": 320,
    "start_time": "2022-02-16T14:47:54.358Z"
   },
   {
    "duration": 326,
    "start_time": "2022-02-16T14:47:54.679Z"
   },
   {
    "duration": 329,
    "start_time": "2022-02-16T14:47:55.007Z"
   },
   {
    "duration": 7,
    "start_time": "2022-02-16T14:47:55.338Z"
   },
   {
    "duration": 198,
    "start_time": "2022-02-16T14:47:55.347Z"
   },
   {
    "duration": 204,
    "start_time": "2022-02-16T14:47:55.547Z"
   },
   {
    "duration": 192,
    "start_time": "2022-02-16T14:47:55.753Z"
   },
   {
    "duration": 8,
    "start_time": "2022-02-16T14:47:55.946Z"
   },
   {
    "duration": 9,
    "start_time": "2022-02-16T14:47:55.956Z"
   },
   {
    "duration": 219,
    "start_time": "2022-02-16T14:47:55.967Z"
   },
   {
    "duration": 222,
    "start_time": "2022-02-16T14:47:56.187Z"
   },
   {
    "duration": 7,
    "start_time": "2022-02-16T14:47:56.411Z"
   },
   {
    "duration": 213,
    "start_time": "2022-02-16T14:47:56.420Z"
   },
   {
    "duration": 297,
    "start_time": "2022-02-16T14:47:56.635Z"
   },
   {
    "duration": 13,
    "start_time": "2022-02-16T14:47:56.934Z"
   },
   {
    "duration": 8,
    "start_time": "2022-02-16T14:47:56.949Z"
   },
   {
    "duration": 9,
    "start_time": "2022-02-16T14:47:56.959Z"
   },
   {
    "duration": 341,
    "start_time": "2022-02-16T14:47:56.970Z"
   },
   {
    "duration": 224,
    "start_time": "2022-02-16T14:47:57.313Z"
   },
   {
    "duration": 205,
    "start_time": "2022-02-16T14:47:57.539Z"
   },
   {
    "duration": 11,
    "start_time": "2022-02-16T14:47:57.746Z"
   },
   {
    "duration": 23,
    "start_time": "2022-02-16T14:47:57.758Z"
   },
   {
    "duration": 12,
    "start_time": "2022-02-16T14:47:57.783Z"
   },
   {
    "duration": 179,
    "start_time": "2022-02-16T14:47:57.796Z"
   },
   {
    "duration": 158,
    "start_time": "2022-02-16T14:47:57.977Z"
   },
   {
    "duration": 166,
    "start_time": "2022-02-16T14:47:58.137Z"
   },
   {
    "duration": 37,
    "start_time": "2022-02-16T14:47:58.305Z"
   },
   {
    "duration": 7,
    "start_time": "2022-02-16T14:47:58.344Z"
   },
   {
    "duration": 17,
    "start_time": "2022-02-16T14:47:58.353Z"
   },
   {
    "duration": 59,
    "start_time": "2022-02-16T14:47:58.372Z"
   },
   {
    "duration": 8,
    "start_time": "2022-02-16T14:47:58.433Z"
   },
   {
    "duration": 332,
    "start_time": "2022-02-16T14:47:58.443Z"
   },
   {
    "duration": 10,
    "start_time": "2022-02-16T14:47:58.776Z"
   },
   {
    "duration": 21,
    "start_time": "2022-02-16T14:47:58.788Z"
   },
   {
    "duration": 27,
    "start_time": "2022-02-16T14:47:58.811Z"
   },
   {
    "duration": 217,
    "start_time": "2022-02-16T14:47:58.840Z"
   },
   {
    "duration": 218,
    "start_time": "2022-02-16T14:47:59.058Z"
   },
   {
    "duration": 23,
    "start_time": "2022-02-16T14:47:59.278Z"
   },
   {
    "duration": 501,
    "start_time": "2022-02-16T14:47:59.303Z"
   },
   {
    "duration": 125,
    "start_time": "2022-02-16T14:47:59.806Z"
   },
   {
    "duration": 5,
    "start_time": "2022-02-16T14:55:46.367Z"
   },
   {
    "duration": 7,
    "start_time": "2022-02-16T14:56:43.901Z"
   },
   {
    "duration": 1920,
    "start_time": "2022-02-17T15:12:13.034Z"
   },
   {
    "duration": 136,
    "start_time": "2022-02-17T15:12:14.958Z"
   },
   {
    "duration": 41,
    "start_time": "2022-02-17T15:12:15.096Z"
   },
   {
    "duration": 55,
    "start_time": "2022-02-17T15:12:15.140Z"
   },
   {
    "duration": 6,
    "start_time": "2022-02-17T15:12:15.197Z"
   },
   {
    "duration": 12,
    "start_time": "2022-02-17T15:12:15.206Z"
   },
   {
    "duration": 20,
    "start_time": "2022-02-17T15:12:15.221Z"
   },
   {
    "duration": 57,
    "start_time": "2022-02-17T15:12:15.246Z"
   },
   {
    "duration": 11,
    "start_time": "2022-02-17T15:12:15.306Z"
   },
   {
    "duration": 19,
    "start_time": "2022-02-17T15:12:15.319Z"
   },
   {
    "duration": 11,
    "start_time": "2022-02-17T15:12:15.340Z"
   },
   {
    "duration": 21,
    "start_time": "2022-02-17T15:12:15.394Z"
   },
   {
    "duration": 35,
    "start_time": "2022-02-17T15:12:15.418Z"
   },
   {
    "duration": 49,
    "start_time": "2022-02-17T15:12:15.456Z"
   },
   {
    "duration": 16,
    "start_time": "2022-02-17T15:12:15.507Z"
   },
   {
    "duration": 14,
    "start_time": "2022-02-17T15:12:15.526Z"
   },
   {
    "duration": 53,
    "start_time": "2022-02-17T15:12:15.542Z"
   },
   {
    "duration": 37,
    "start_time": "2022-02-17T15:12:15.597Z"
   },
   {
    "duration": 56,
    "start_time": "2022-02-17T15:12:15.637Z"
   },
   {
    "duration": 9,
    "start_time": "2022-02-17T15:12:15.696Z"
   },
   {
    "duration": 8,
    "start_time": "2022-02-17T15:12:15.707Z"
   },
   {
    "duration": 17,
    "start_time": "2022-02-17T15:12:15.717Z"
   },
   {
    "duration": 14,
    "start_time": "2022-02-17T15:12:15.740Z"
   },
   {
    "duration": 11,
    "start_time": "2022-02-17T15:12:15.796Z"
   },
   {
    "duration": 12,
    "start_time": "2022-02-17T15:12:15.810Z"
   },
   {
    "duration": 7,
    "start_time": "2022-02-17T15:12:15.825Z"
   },
   {
    "duration": 9,
    "start_time": "2022-02-17T15:12:15.835Z"
   },
   {
    "duration": 6,
    "start_time": "2022-02-17T15:12:15.895Z"
   },
   {
    "duration": 9,
    "start_time": "2022-02-17T15:12:15.905Z"
   },
   {
    "duration": 848,
    "start_time": "2022-02-17T15:12:15.917Z"
   },
   {
    "duration": 13,
    "start_time": "2022-02-17T15:12:16.767Z"
   },
   {
    "duration": 13,
    "start_time": "2022-02-17T15:12:16.794Z"
   },
   {
    "duration": 11,
    "start_time": "2022-02-17T15:12:16.809Z"
   },
   {
    "duration": 571,
    "start_time": "2022-02-17T15:12:16.822Z"
   },
   {
    "duration": 554,
    "start_time": "2022-02-17T15:12:17.396Z"
   },
   {
    "duration": 13,
    "start_time": "2022-02-17T15:12:17.952Z"
   },
   {
    "duration": 542,
    "start_time": "2022-02-17T15:12:17.967Z"
   },
   {
    "duration": 604,
    "start_time": "2022-02-17T15:12:18.512Z"
   },
   {
    "duration": 565,
    "start_time": "2022-02-17T15:12:19.119Z"
   },
   {
    "duration": 10,
    "start_time": "2022-02-17T15:12:19.694Z"
   },
   {
    "duration": 343,
    "start_time": "2022-02-17T15:12:19.707Z"
   },
   {
    "duration": 390,
    "start_time": "2022-02-17T15:12:20.053Z"
   },
   {
    "duration": 347,
    "start_time": "2022-02-17T15:12:20.446Z"
   },
   {
    "duration": 18,
    "start_time": "2022-02-17T15:12:20.797Z"
   },
   {
    "duration": 12,
    "start_time": "2022-02-17T15:12:20.819Z"
   },
   {
    "duration": 395,
    "start_time": "2022-02-17T15:12:20.833Z"
   },
   {
    "duration": 420,
    "start_time": "2022-02-17T15:12:21.231Z"
   },
   {
    "duration": 11,
    "start_time": "2022-02-17T15:12:21.653Z"
   },
   {
    "duration": 408,
    "start_time": "2022-02-17T15:12:21.667Z"
   },
   {
    "duration": 470,
    "start_time": "2022-02-17T15:12:22.078Z"
   },
   {
    "duration": 21,
    "start_time": "2022-02-17T15:12:22.551Z"
   },
   {
    "duration": 12,
    "start_time": "2022-02-17T15:12:22.594Z"
   },
   {
    "duration": 28,
    "start_time": "2022-02-17T15:12:22.609Z"
   },
   {
    "duration": 922,
    "start_time": "2022-02-17T15:12:22.641Z"
   },
   {
    "duration": 389,
    "start_time": "2022-02-17T15:12:23.566Z"
   },
   {
    "duration": 499,
    "start_time": "2022-02-17T15:12:23.957Z"
   },
   {
    "duration": 36,
    "start_time": "2022-02-17T15:12:24.459Z"
   },
   {
    "duration": 49,
    "start_time": "2022-02-17T15:12:24.498Z"
   },
   {
    "duration": 46,
    "start_time": "2022-02-17T15:12:24.550Z"
   },
   {
    "duration": 298,
    "start_time": "2022-02-17T15:12:24.599Z"
   },
   {
    "duration": 293,
    "start_time": "2022-02-17T15:12:24.900Z"
   },
   {
    "duration": 278,
    "start_time": "2022-02-17T15:12:25.196Z"
   },
   {
    "duration": 55,
    "start_time": "2022-02-17T15:12:25.477Z"
   },
   {
    "duration": 9,
    "start_time": "2022-02-17T15:12:25.534Z"
   },
   {
    "duration": 58,
    "start_time": "2022-02-17T15:12:25.546Z"
   },
   {
    "duration": 57,
    "start_time": "2022-02-17T15:12:25.608Z"
   },
   {
    "duration": 35,
    "start_time": "2022-02-17T15:12:25.668Z"
   },
   {
    "duration": 537,
    "start_time": "2022-02-17T15:12:25.712Z"
   },
   {
    "duration": 12,
    "start_time": "2022-02-17T15:12:26.253Z"
   },
   {
    "duration": 52,
    "start_time": "2022-02-17T15:12:26.268Z"
   },
   {
    "duration": 13,
    "start_time": "2022-02-17T15:12:26.322Z"
   },
   {
    "duration": 385,
    "start_time": "2022-02-17T15:12:26.337Z"
   },
   {
    "duration": 377,
    "start_time": "2022-02-17T15:12:26.724Z"
   },
   {
    "duration": 36,
    "start_time": "2022-02-17T15:12:27.104Z"
   },
   {
    "duration": 790,
    "start_time": "2022-02-17T15:12:27.143Z"
   },
   {
    "duration": 165,
    "start_time": "2022-02-17T15:12:27.936Z"
   },
   {
    "duration": 3,
    "start_time": "2022-02-17T15:13:54.058Z"
   },
   {
    "duration": 3,
    "start_time": "2022-02-17T15:14:19.144Z"
   },
   {
    "duration": 91,
    "start_time": "2022-02-17T15:14:34.174Z"
   },
   {
    "duration": 84,
    "start_time": "2022-02-17T15:14:49.384Z"
   },
   {
    "duration": 4,
    "start_time": "2022-02-17T15:15:16.306Z"
   },
   {
    "duration": 131,
    "start_time": "2022-02-17T15:15:38.992Z"
   },
   {
    "duration": 4,
    "start_time": "2022-02-17T15:15:47.272Z"
   },
   {
    "duration": 113,
    "start_time": "2022-02-17T15:15:47.279Z"
   },
   {
    "duration": 36,
    "start_time": "2022-02-17T15:15:47.395Z"
   },
   {
    "duration": 30,
    "start_time": "2022-02-17T15:15:47.434Z"
   },
   {
    "duration": 7,
    "start_time": "2022-02-17T15:15:47.495Z"
   },
   {
    "duration": 15,
    "start_time": "2022-02-17T15:15:47.504Z"
   },
   {
    "duration": 18,
    "start_time": "2022-02-17T15:15:47.523Z"
   },
   {
    "duration": 58,
    "start_time": "2022-02-17T15:15:47.545Z"
   },
   {
    "duration": 9,
    "start_time": "2022-02-17T15:15:47.606Z"
   },
   {
    "duration": 43,
    "start_time": "2022-02-17T15:15:47.617Z"
   },
   {
    "duration": 3,
    "start_time": "2022-02-17T15:15:47.662Z"
   },
   {
    "duration": 25,
    "start_time": "2022-02-17T15:15:47.668Z"
   },
   {
    "duration": 136,
    "start_time": "2022-02-17T15:15:47.696Z"
   },
   {
    "duration": 3,
    "start_time": "2022-02-17T15:15:47.834Z"
   },
   {
    "duration": 155,
    "start_time": "2022-02-17T15:15:47.840Z"
   },
   {
    "duration": 82,
    "start_time": "2022-02-17T15:17:38.676Z"
   },
   {
    "duration": 5,
    "start_time": "2022-02-17T15:20:20.835Z"
   },
   {
    "duration": 112,
    "start_time": "2022-02-17T15:20:20.842Z"
   },
   {
    "duration": 61,
    "start_time": "2022-02-17T15:20:20.957Z"
   },
   {
    "duration": 72,
    "start_time": "2022-02-17T15:20:21.021Z"
   },
   {
    "duration": 6,
    "start_time": "2022-02-17T15:20:21.097Z"
   },
   {
    "duration": 12,
    "start_time": "2022-02-17T15:20:21.105Z"
   },
   {
    "duration": 18,
    "start_time": "2022-02-17T15:20:21.119Z"
   },
   {
    "duration": 55,
    "start_time": "2022-02-17T15:20:21.141Z"
   },
   {
    "duration": 9,
    "start_time": "2022-02-17T15:20:21.199Z"
   },
   {
    "duration": 23,
    "start_time": "2022-02-17T15:20:21.210Z"
   },
   {
    "duration": 12,
    "start_time": "2022-02-17T15:20:21.235Z"
   },
   {
    "duration": 8,
    "start_time": "2022-02-17T15:20:21.249Z"
   },
   {
    "duration": 139,
    "start_time": "2022-02-17T15:20:21.259Z"
   },
   {
    "duration": 3,
    "start_time": "2022-02-17T15:20:21.401Z"
   },
   {
    "duration": 138,
    "start_time": "2022-02-17T15:20:21.407Z"
   },
   {
    "duration": 16,
    "start_time": "2022-02-17T15:20:21.548Z"
   },
   {
    "duration": 38,
    "start_time": "2022-02-17T15:20:21.566Z"
   },
   {
    "duration": 28,
    "start_time": "2022-02-17T15:20:21.607Z"
   },
   {
    "duration": 13,
    "start_time": "2022-02-17T15:20:21.638Z"
   },
   {
    "duration": 53,
    "start_time": "2022-02-17T15:20:21.654Z"
   },
   {
    "duration": 32,
    "start_time": "2022-02-17T15:20:21.709Z"
   },
   {
    "duration": 8,
    "start_time": "2022-02-17T15:20:21.744Z"
   },
   {
    "duration": 39,
    "start_time": "2022-02-17T15:20:21.759Z"
   },
   {
    "duration": 17,
    "start_time": "2022-02-17T15:20:21.802Z"
   },
   {
    "duration": 19,
    "start_time": "2022-02-17T15:20:21.821Z"
   },
   {
    "duration": 11,
    "start_time": "2022-02-17T15:20:21.843Z"
   },
   {
    "duration": 42,
    "start_time": "2022-02-17T15:20:21.857Z"
   },
   {
    "duration": 6,
    "start_time": "2022-02-17T15:20:21.902Z"
   },
   {
    "duration": 10,
    "start_time": "2022-02-17T15:20:21.910Z"
   },
   {
    "duration": 9,
    "start_time": "2022-02-17T15:20:21.922Z"
   },
   {
    "duration": 10,
    "start_time": "2022-02-17T15:20:21.934Z"
   },
   {
    "duration": 883,
    "start_time": "2022-02-17T15:20:21.947Z"
   },
   {
    "duration": 14,
    "start_time": "2022-02-17T15:20:22.833Z"
   },
   {
    "duration": 14,
    "start_time": "2022-02-17T15:20:22.849Z"
   },
   {
    "duration": 35,
    "start_time": "2022-02-17T15:20:22.866Z"
   },
   {
    "duration": 577,
    "start_time": "2022-02-17T15:20:22.904Z"
   },
   {
    "duration": 585,
    "start_time": "2022-02-17T15:20:23.483Z"
   },
   {
    "duration": 26,
    "start_time": "2022-02-17T15:20:24.071Z"
   },
   {
    "duration": 489,
    "start_time": "2022-02-17T15:20:24.100Z"
   },
   {
    "duration": 591,
    "start_time": "2022-02-17T15:20:24.594Z"
   },
   {
    "duration": 744,
    "start_time": "2022-02-17T15:20:25.188Z"
   },
   {
    "duration": 11,
    "start_time": "2022-02-17T15:20:25.935Z"
   },
   {
    "duration": 349,
    "start_time": "2022-02-17T15:20:25.948Z"
   },
   {
    "duration": 350,
    "start_time": "2022-02-17T15:20:26.299Z"
   },
   {
    "duration": 334,
    "start_time": "2022-02-17T15:20:26.652Z"
   },
   {
    "duration": 16,
    "start_time": "2022-02-17T15:20:26.988Z"
   },
   {
    "duration": 9,
    "start_time": "2022-02-17T15:20:27.006Z"
   },
   {
    "duration": 362,
    "start_time": "2022-02-17T15:20:27.018Z"
   },
   {
    "duration": 393,
    "start_time": "2022-02-17T15:20:27.382Z"
   },
   {
    "duration": 19,
    "start_time": "2022-02-17T15:20:27.778Z"
   },
   {
    "duration": 384,
    "start_time": "2022-02-17T15:20:27.800Z"
   },
   {
    "duration": 384,
    "start_time": "2022-02-17T15:20:28.194Z"
   },
   {
    "duration": 28,
    "start_time": "2022-02-17T15:20:28.580Z"
   },
   {
    "duration": 15,
    "start_time": "2022-02-17T15:20:28.610Z"
   },
   {
    "duration": 11,
    "start_time": "2022-02-17T15:20:28.627Z"
   },
   {
    "duration": 595,
    "start_time": "2022-02-17T15:20:28.641Z"
   },
   {
    "duration": 407,
    "start_time": "2022-02-17T15:20:29.238Z"
   },
   {
    "duration": 376,
    "start_time": "2022-02-17T15:20:29.648Z"
   },
   {
    "duration": 14,
    "start_time": "2022-02-17T15:20:30.027Z"
   },
   {
    "duration": 63,
    "start_time": "2022-02-17T15:20:30.044Z"
   },
   {
    "duration": 21,
    "start_time": "2022-02-17T15:20:30.110Z"
   },
   {
    "duration": 279,
    "start_time": "2022-02-17T15:20:30.133Z"
   },
   {
    "duration": 284,
    "start_time": "2022-02-17T15:20:30.414Z"
   },
   {
    "duration": 277,
    "start_time": "2022-02-17T15:20:30.700Z"
   },
   {
    "duration": 44,
    "start_time": "2022-02-17T15:20:30.980Z"
   },
   {
    "duration": 8,
    "start_time": "2022-02-17T15:20:31.027Z"
   },
   {
    "duration": 18,
    "start_time": "2022-02-17T15:20:31.038Z"
   },
   {
    "duration": 48,
    "start_time": "2022-02-17T15:20:31.096Z"
   },
   {
    "duration": 9,
    "start_time": "2022-02-17T15:20:31.146Z"
   },
   {
    "duration": 676,
    "start_time": "2022-02-17T15:20:31.158Z"
   },
   {
    "duration": 8405,
    "start_time": "2022-02-17T15:20:52.421Z"
   },
   {
    "duration": 94,
    "start_time": "2022-02-17T15:21:23.556Z"
   },
   {
    "duration": 6301,
    "start_time": "2022-02-17T15:23:51.478Z"
   },
   {
    "duration": 5,
    "start_time": "2022-02-17T15:24:06.162Z"
   },
   {
    "duration": 141,
    "start_time": "2022-02-17T15:24:06.170Z"
   },
   {
    "duration": 80,
    "start_time": "2022-02-17T15:24:06.315Z"
   },
   {
    "duration": 32,
    "start_time": "2022-02-17T15:24:06.398Z"
   },
   {
    "duration": 5,
    "start_time": "2022-02-17T15:24:06.432Z"
   },
   {
    "duration": 53,
    "start_time": "2022-02-17T15:24:06.440Z"
   },
   {
    "duration": 18,
    "start_time": "2022-02-17T15:24:06.498Z"
   },
   {
    "duration": 17,
    "start_time": "2022-02-17T15:24:06.519Z"
   },
   {
    "duration": 55,
    "start_time": "2022-02-17T15:24:06.539Z"
   },
   {
    "duration": 19,
    "start_time": "2022-02-17T15:24:06.597Z"
   },
   {
    "duration": 5,
    "start_time": "2022-02-17T15:24:06.619Z"
   },
   {
    "duration": 8,
    "start_time": "2022-02-17T15:24:06.626Z"
   },
   {
    "duration": 177,
    "start_time": "2022-02-17T15:24:06.636Z"
   },
   {
    "duration": 4,
    "start_time": "2022-02-17T15:24:06.816Z"
   },
   {
    "duration": 135,
    "start_time": "2022-02-17T15:24:06.822Z"
   },
   {
    "duration": 37,
    "start_time": "2022-02-17T15:24:06.960Z"
   },
   {
    "duration": 17,
    "start_time": "2022-02-17T15:24:07.000Z"
   },
   {
    "duration": 16,
    "start_time": "2022-02-17T15:24:07.020Z"
   },
   {
    "duration": 56,
    "start_time": "2022-02-17T15:24:07.044Z"
   },
   {
    "duration": 33,
    "start_time": "2022-02-17T15:24:07.105Z"
   },
   {
    "duration": 70,
    "start_time": "2022-02-17T15:24:07.141Z"
   },
   {
    "duration": 10,
    "start_time": "2022-02-17T15:24:07.214Z"
   },
   {
    "duration": 10,
    "start_time": "2022-02-17T15:24:07.226Z"
   },
   {
    "duration": 16,
    "start_time": "2022-02-17T15:24:07.238Z"
   },
   {
    "duration": 12,
    "start_time": "2022-02-17T15:24:07.294Z"
   },
   {
    "duration": 11,
    "start_time": "2022-02-17T15:24:07.309Z"
   },
   {
    "duration": 12,
    "start_time": "2022-02-17T15:24:07.322Z"
   },
   {
    "duration": 7,
    "start_time": "2022-02-17T15:24:07.336Z"
   },
   {
    "duration": 51,
    "start_time": "2022-02-17T15:24:07.345Z"
   },
   {
    "duration": 5,
    "start_time": "2022-02-17T15:24:07.398Z"
   },
   {
    "duration": 10,
    "start_time": "2022-02-17T15:24:07.406Z"
   },
   {
    "duration": 855,
    "start_time": "2022-02-17T15:24:07.419Z"
   },
   {
    "duration": 27,
    "start_time": "2022-02-17T15:24:08.277Z"
   },
   {
    "duration": 18,
    "start_time": "2022-02-17T15:24:08.307Z"
   },
   {
    "duration": 14,
    "start_time": "2022-02-17T15:24:08.328Z"
   },
   {
    "duration": 967,
    "start_time": "2022-02-17T15:24:08.345Z"
   },
   {
    "duration": 1204,
    "start_time": "2022-02-17T15:24:09.315Z"
   },
   {
    "duration": 21,
    "start_time": "2022-02-17T15:24:10.522Z"
   },
   {
    "duration": 460,
    "start_time": "2022-02-17T15:24:10.546Z"
   },
   {
    "duration": 562,
    "start_time": "2022-02-17T15:24:11.009Z"
   },
   {
    "duration": 586,
    "start_time": "2022-02-17T15:24:11.573Z"
   },
   {
    "duration": 11,
    "start_time": "2022-02-17T15:24:12.162Z"
   },
   {
    "duration": 324,
    "start_time": "2022-02-17T15:24:12.176Z"
   },
   {
    "duration": 441,
    "start_time": "2022-02-17T15:24:12.503Z"
   },
   {
    "duration": 539,
    "start_time": "2022-02-17T15:24:12.947Z"
   },
   {
    "duration": 14,
    "start_time": "2022-02-17T15:24:13.489Z"
   },
   {
    "duration": 9,
    "start_time": "2022-02-17T15:24:13.505Z"
   },
   {
    "duration": 381,
    "start_time": "2022-02-17T15:24:13.517Z"
   },
   {
    "duration": 424,
    "start_time": "2022-02-17T15:24:13.901Z"
   },
   {
    "duration": 13,
    "start_time": "2022-02-17T15:24:14.328Z"
   },
   {
    "duration": 364,
    "start_time": "2022-02-17T15:24:14.344Z"
   },
   {
    "duration": 392,
    "start_time": "2022-02-17T15:24:14.711Z"
   },
   {
    "duration": 21,
    "start_time": "2022-02-17T15:24:15.106Z"
   },
   {
    "duration": 17,
    "start_time": "2022-02-17T15:24:15.129Z"
   },
   {
    "duration": 41,
    "start_time": "2022-02-17T15:24:15.156Z"
   },
   {
    "duration": 676,
    "start_time": "2022-02-17T15:24:15.200Z"
   },
   {
    "duration": 400,
    "start_time": "2022-02-17T15:24:15.879Z"
   },
   {
    "duration": 357,
    "start_time": "2022-02-17T15:24:16.282Z"
   },
   {
    "duration": 15,
    "start_time": "2022-02-17T15:24:16.642Z"
   },
   {
    "duration": 61,
    "start_time": "2022-02-17T15:24:16.660Z"
   },
   {
    "duration": 20,
    "start_time": "2022-02-17T15:24:16.724Z"
   },
   {
    "duration": 286,
    "start_time": "2022-02-17T15:24:16.746Z"
   },
   {
    "duration": 286,
    "start_time": "2022-02-17T15:24:17.035Z"
   },
   {
    "duration": 263,
    "start_time": "2022-02-17T15:24:17.323Z"
   },
   {
    "duration": 46,
    "start_time": "2022-02-17T15:24:17.588Z"
   },
   {
    "duration": 10,
    "start_time": "2022-02-17T15:24:17.637Z"
   },
   {
    "duration": 52,
    "start_time": "2022-02-17T15:24:17.651Z"
   },
   {
    "duration": 49,
    "start_time": "2022-02-17T15:24:17.706Z"
   },
   {
    "duration": 45,
    "start_time": "2022-02-17T15:24:17.758Z"
   },
   {
    "duration": 569,
    "start_time": "2022-02-17T15:24:17.806Z"
   },
   {
    "duration": 8977,
    "start_time": "2022-02-17T15:24:18.378Z"
   },
   {
    "duration": 11,
    "start_time": "2022-02-17T15:24:27.357Z"
   },
   {
    "duration": 54,
    "start_time": "2022-02-17T15:24:27.370Z"
   },
   {
    "duration": 14,
    "start_time": "2022-02-17T15:24:27.426Z"
   },
   {
    "duration": 440,
    "start_time": "2022-02-17T15:24:27.442Z"
   },
   {
    "duration": 382,
    "start_time": "2022-02-17T15:24:27.884Z"
   },
   {
    "duration": 3,
    "start_time": "2022-02-17T15:24:28.269Z"
   },
   {
    "duration": 1275,
    "start_time": "2022-02-17T15:24:34.234Z"
   },
   {
    "duration": 3,
    "start_time": "2022-02-17T15:25:16.091Z"
   },
   {
    "duration": 403,
    "start_time": "2022-02-17T15:25:20.893Z"
   },
   {
    "duration": 3184,
    "start_time": "2022-02-17T15:25:48.537Z"
   },
   {
    "duration": 86,
    "start_time": "2022-02-17T15:26:17.807Z"
   },
   {
    "duration": 39,
    "start_time": "2022-02-17T15:29:08.513Z"
   },
   {
    "duration": 1495,
    "start_time": "2022-02-17T15:42:39.780Z"
   },
   {
    "duration": 105,
    "start_time": "2022-02-17T15:42:41.279Z"
   },
   {
    "duration": 42,
    "start_time": "2022-02-17T15:42:41.394Z"
   },
   {
    "duration": 59,
    "start_time": "2022-02-17T15:42:41.439Z"
   },
   {
    "duration": 6,
    "start_time": "2022-02-17T15:42:41.502Z"
   },
   {
    "duration": 9,
    "start_time": "2022-02-17T15:42:41.511Z"
   },
   {
    "duration": 18,
    "start_time": "2022-02-17T15:42:41.523Z"
   },
   {
    "duration": 60,
    "start_time": "2022-02-17T15:42:41.545Z"
   },
   {
    "duration": 10,
    "start_time": "2022-02-17T15:42:41.609Z"
   },
   {
    "duration": 23,
    "start_time": "2022-02-17T15:42:41.622Z"
   },
   {
    "duration": 3,
    "start_time": "2022-02-17T15:42:41.647Z"
   },
   {
    "duration": 43,
    "start_time": "2022-02-17T15:42:41.653Z"
   },
   {
    "duration": 131,
    "start_time": "2022-02-17T15:42:41.698Z"
   },
   {
    "duration": 3,
    "start_time": "2022-02-17T15:42:41.831Z"
   },
   {
    "duration": 156,
    "start_time": "2022-02-17T15:42:41.837Z"
   },
   {
    "duration": 12,
    "start_time": "2022-02-17T15:42:41.996Z"
   },
   {
    "duration": 16,
    "start_time": "2022-02-17T15:42:42.011Z"
   },
   {
    "duration": 13,
    "start_time": "2022-02-17T15:42:42.030Z"
   },
   {
    "duration": 56,
    "start_time": "2022-02-17T15:42:42.046Z"
   },
   {
    "duration": 31,
    "start_time": "2022-02-17T15:42:42.104Z"
   },
   {
    "duration": 68,
    "start_time": "2022-02-17T15:42:42.138Z"
   },
   {
    "duration": 8,
    "start_time": "2022-02-17T15:42:42.208Z"
   },
   {
    "duration": 8,
    "start_time": "2022-02-17T15:42:42.223Z"
   },
   {
    "duration": 14,
    "start_time": "2022-02-17T15:42:42.235Z"
   },
   {
    "duration": 49,
    "start_time": "2022-02-17T15:42:42.252Z"
   },
   {
    "duration": 15,
    "start_time": "2022-02-17T15:42:42.308Z"
   },
   {
    "duration": 19,
    "start_time": "2022-02-17T15:42:42.325Z"
   },
   {
    "duration": 8,
    "start_time": "2022-02-17T15:42:42.347Z"
   },
   {
    "duration": 6,
    "start_time": "2022-02-17T15:42:42.394Z"
   },
   {
    "duration": 10,
    "start_time": "2022-02-17T15:42:42.403Z"
   },
   {
    "duration": 7,
    "start_time": "2022-02-17T15:42:42.415Z"
   },
   {
    "duration": 854,
    "start_time": "2022-02-17T15:42:42.425Z"
   },
   {
    "duration": 20,
    "start_time": "2022-02-17T15:42:43.282Z"
   },
   {
    "duration": 14,
    "start_time": "2022-02-17T15:42:43.305Z"
   },
   {
    "duration": 11,
    "start_time": "2022-02-17T15:42:43.322Z"
   },
   {
    "duration": 620,
    "start_time": "2022-02-17T15:42:43.336Z"
   },
   {
    "duration": 677,
    "start_time": "2022-02-17T15:42:43.960Z"
   },
   {
    "duration": 12,
    "start_time": "2022-02-17T15:42:44.640Z"
   },
   {
    "duration": 548,
    "start_time": "2022-02-17T15:42:44.655Z"
   },
   {
    "duration": 590,
    "start_time": "2022-02-17T15:42:45.206Z"
   },
   {
    "duration": 585,
    "start_time": "2022-02-17T15:42:45.798Z"
   },
   {
    "duration": 16,
    "start_time": "2022-02-17T15:42:46.386Z"
   },
   {
    "duration": 349,
    "start_time": "2022-02-17T15:42:46.405Z"
   },
   {
    "duration": 342,
    "start_time": "2022-02-17T15:42:46.757Z"
   },
   {
    "duration": 334,
    "start_time": "2022-02-17T15:42:47.102Z"
   },
   {
    "duration": 11,
    "start_time": "2022-02-17T15:42:47.438Z"
   },
   {
    "duration": 17,
    "start_time": "2022-02-17T15:42:47.452Z"
   },
   {
    "duration": 353,
    "start_time": "2022-02-17T15:42:47.471Z"
   },
   {
    "duration": 391,
    "start_time": "2022-02-17T15:42:47.827Z"
   },
   {
    "duration": 10,
    "start_time": "2022-02-17T15:42:48.221Z"
   },
   {
    "duration": 359,
    "start_time": "2022-02-17T15:42:48.234Z"
   },
   {
    "duration": 454,
    "start_time": "2022-02-17T15:42:48.596Z"
   },
   {
    "duration": 20,
    "start_time": "2022-02-17T15:42:49.053Z"
   },
   {
    "duration": 27,
    "start_time": "2022-02-17T15:42:49.075Z"
   },
   {
    "duration": 14,
    "start_time": "2022-02-17T15:42:49.104Z"
   },
   {
    "duration": 568,
    "start_time": "2022-02-17T15:42:49.120Z"
   },
   {
    "duration": 400,
    "start_time": "2022-02-17T15:42:49.693Z"
   },
   {
    "duration": 377,
    "start_time": "2022-02-17T15:42:50.096Z"
   },
   {
    "duration": 27,
    "start_time": "2022-02-17T15:42:50.475Z"
   },
   {
    "duration": 37,
    "start_time": "2022-02-17T15:42:50.505Z"
   },
   {
    "duration": 19,
    "start_time": "2022-02-17T15:42:50.545Z"
   },
   {
    "duration": 288,
    "start_time": "2022-02-17T15:42:50.594Z"
   },
   {
    "duration": 268,
    "start_time": "2022-02-17T15:42:50.884Z"
   },
   {
    "duration": 265,
    "start_time": "2022-02-17T15:42:51.155Z"
   },
   {
    "duration": 41,
    "start_time": "2022-02-17T15:42:51.422Z"
   },
   {
    "duration": 31,
    "start_time": "2022-02-17T15:42:51.465Z"
   },
   {
    "duration": 20,
    "start_time": "2022-02-17T15:42:51.498Z"
   },
   {
    "duration": 72,
    "start_time": "2022-02-17T15:42:51.525Z"
   },
   {
    "duration": 8,
    "start_time": "2022-02-17T15:42:51.600Z"
   },
   {
    "duration": 531,
    "start_time": "2022-02-17T15:42:51.610Z"
   },
   {
    "duration": 9702,
    "start_time": "2022-02-17T15:42:52.144Z"
   },
   {
    "duration": 11,
    "start_time": "2022-02-17T15:43:01.849Z"
   },
   {
    "duration": 62,
    "start_time": "2022-02-17T15:43:01.862Z"
   },
   {
    "duration": 14,
    "start_time": "2022-02-17T15:43:01.928Z"
   },
   {
    "duration": 384,
    "start_time": "2022-02-17T15:43:01.944Z"
   },
   {
    "duration": 369,
    "start_time": "2022-02-17T15:43:02.331Z"
   },
   {
    "duration": 4,
    "start_time": "2022-02-17T15:43:02.703Z"
   },
   {
    "duration": 46,
    "start_time": "2022-02-17T15:43:02.710Z"
   },
   {
    "duration": 1311,
    "start_time": "2022-02-17T15:43:02.759Z"
   },
   {
    "duration": 3,
    "start_time": "2022-02-17T15:43:04.073Z"
   },
   {
    "duration": 413,
    "start_time": "2022-02-17T15:43:04.094Z"
   },
   {
    "duration": 3623,
    "start_time": "2022-02-17T15:43:04.510Z"
   },
   {
    "duration": 37,
    "start_time": "2022-02-17T15:43:08.135Z"
   },
   {
    "duration": 1611,
    "start_time": "2022-02-17T15:43:33.017Z"
   },
   {
    "duration": 95,
    "start_time": "2022-02-17T15:43:34.631Z"
   },
   {
    "duration": 41,
    "start_time": "2022-02-17T15:43:34.730Z"
   },
   {
    "duration": 48,
    "start_time": "2022-02-17T15:43:34.774Z"
   },
   {
    "duration": 5,
    "start_time": "2022-02-17T15:43:34.824Z"
   },
   {
    "duration": 7,
    "start_time": "2022-02-17T15:43:34.831Z"
   },
   {
    "duration": 17,
    "start_time": "2022-02-17T15:43:34.840Z"
   },
   {
    "duration": 15,
    "start_time": "2022-02-17T15:43:34.893Z"
   },
   {
    "duration": 11,
    "start_time": "2022-02-17T15:43:34.912Z"
   },
   {
    "duration": 18,
    "start_time": "2022-02-17T15:43:34.926Z"
   },
   {
    "duration": 3,
    "start_time": "2022-02-17T15:43:34.946Z"
   },
   {
    "duration": 3,
    "start_time": "2022-02-17T15:43:34.993Z"
   },
   {
    "duration": 136,
    "start_time": "2022-02-17T15:43:34.998Z"
   },
   {
    "duration": 3,
    "start_time": "2022-02-17T15:43:35.137Z"
   },
   {
    "duration": 129,
    "start_time": "2022-02-17T15:43:35.142Z"
   },
   {
    "duration": 29,
    "start_time": "2022-02-17T15:43:35.273Z"
   },
   {
    "duration": 12,
    "start_time": "2022-02-17T15:43:35.304Z"
   },
   {
    "duration": 14,
    "start_time": "2022-02-17T15:43:35.319Z"
   },
   {
    "duration": 12,
    "start_time": "2022-02-17T15:43:35.335Z"
   },
   {
    "duration": 70,
    "start_time": "2022-02-17T15:43:35.349Z"
   },
   {
    "duration": 35,
    "start_time": "2022-02-17T15:43:35.422Z"
   },
   {
    "duration": 38,
    "start_time": "2022-02-17T15:43:35.460Z"
   },
   {
    "duration": 10,
    "start_time": "2022-02-17T15:43:35.501Z"
   },
   {
    "duration": 16,
    "start_time": "2022-02-17T15:43:35.514Z"
   },
   {
    "duration": 21,
    "start_time": "2022-02-17T15:43:35.533Z"
   },
   {
    "duration": 43,
    "start_time": "2022-02-17T15:43:35.557Z"
   },
   {
    "duration": 10,
    "start_time": "2022-02-17T15:43:35.607Z"
   },
   {
    "duration": 5,
    "start_time": "2022-02-17T15:43:35.621Z"
   },
   {
    "duration": 7,
    "start_time": "2022-02-17T15:43:35.629Z"
   },
   {
    "duration": 10,
    "start_time": "2022-02-17T15:43:35.638Z"
   },
   {
    "duration": 5,
    "start_time": "2022-02-17T15:43:35.694Z"
   },
   {
    "duration": 813,
    "start_time": "2022-02-17T15:43:35.702Z"
   },
   {
    "duration": 12,
    "start_time": "2022-02-17T15:43:36.518Z"
   },
   {
    "duration": 12,
    "start_time": "2022-02-17T15:43:36.532Z"
   },
   {
    "duration": 10,
    "start_time": "2022-02-17T15:43:36.546Z"
   },
   {
    "duration": 566,
    "start_time": "2022-02-17T15:43:36.595Z"
   },
   {
    "duration": 583,
    "start_time": "2022-02-17T15:43:37.163Z"
   },
   {
    "duration": 13,
    "start_time": "2022-02-17T15:43:37.748Z"
   },
   {
    "duration": 531,
    "start_time": "2022-02-17T15:43:37.763Z"
   },
   {
    "duration": 601,
    "start_time": "2022-02-17T15:43:38.296Z"
   },
   {
    "duration": 609,
    "start_time": "2022-02-17T15:43:38.900Z"
   },
   {
    "duration": 11,
    "start_time": "2022-02-17T15:43:39.511Z"
   },
   {
    "duration": 353,
    "start_time": "2022-02-17T15:43:39.524Z"
   },
   {
    "duration": 391,
    "start_time": "2022-02-17T15:43:39.879Z"
   },
   {
    "duration": 391,
    "start_time": "2022-02-17T15:43:40.272Z"
   },
   {
    "duration": 12,
    "start_time": "2022-02-17T15:43:40.665Z"
   },
   {
    "duration": 11,
    "start_time": "2022-02-17T15:43:40.695Z"
   },
   {
    "duration": 384,
    "start_time": "2022-02-17T15:43:40.709Z"
   },
   {
    "duration": 398,
    "start_time": "2022-02-17T15:43:41.096Z"
   },
   {
    "duration": 10,
    "start_time": "2022-02-17T15:43:41.497Z"
   },
   {
    "duration": 384,
    "start_time": "2022-02-17T15:43:41.509Z"
   },
   {
    "duration": 464,
    "start_time": "2022-02-17T15:43:41.896Z"
   },
   {
    "duration": 34,
    "start_time": "2022-02-17T15:43:42.363Z"
   },
   {
    "duration": 10,
    "start_time": "2022-02-17T15:43:42.399Z"
   },
   {
    "duration": 11,
    "start_time": "2022-02-17T15:43:42.411Z"
   },
   {
    "duration": 584,
    "start_time": "2022-02-17T15:43:42.424Z"
   },
   {
    "duration": 386,
    "start_time": "2022-02-17T15:43:43.010Z"
   },
   {
    "duration": 369,
    "start_time": "2022-02-17T15:43:43.399Z"
   },
   {
    "duration": 24,
    "start_time": "2022-02-17T15:43:43.771Z"
   },
   {
    "duration": 35,
    "start_time": "2022-02-17T15:43:43.797Z"
   },
   {
    "duration": 20,
    "start_time": "2022-02-17T15:43:43.834Z"
   },
   {
    "duration": 321,
    "start_time": "2022-02-17T15:43:43.856Z"
   },
   {
    "duration": 275,
    "start_time": "2022-02-17T15:43:44.179Z"
   },
   {
    "duration": 293,
    "start_time": "2022-02-17T15:43:44.457Z"
   },
   {
    "duration": 56,
    "start_time": "2022-02-17T15:43:44.753Z"
   },
   {
    "duration": 9,
    "start_time": "2022-02-17T15:43:44.811Z"
   },
   {
    "duration": 24,
    "start_time": "2022-02-17T15:43:44.823Z"
   },
   {
    "duration": 83,
    "start_time": "2022-02-17T15:43:44.849Z"
   },
   {
    "duration": 8,
    "start_time": "2022-02-17T15:43:44.935Z"
   },
   {
    "duration": 527,
    "start_time": "2022-02-17T15:43:44.946Z"
   },
   {
    "duration": 8286,
    "start_time": "2022-02-17T15:43:45.477Z"
   },
   {
    "duration": 28,
    "start_time": "2022-02-17T15:43:53.766Z"
   },
   {
    "duration": 36,
    "start_time": "2022-02-17T15:43:53.796Z"
   },
   {
    "duration": 12,
    "start_time": "2022-02-17T15:43:53.835Z"
   },
   {
    "duration": 393,
    "start_time": "2022-02-17T15:43:53.850Z"
   },
   {
    "duration": 365,
    "start_time": "2022-02-17T15:43:54.246Z"
   },
   {
    "duration": 4,
    "start_time": "2022-02-17T15:43:54.613Z"
   },
   {
    "duration": 43,
    "start_time": "2022-02-17T15:43:54.619Z"
   },
   {
    "duration": 1292,
    "start_time": "2022-02-17T15:43:54.665Z"
   },
   {
    "duration": 3,
    "start_time": "2022-02-17T15:43:55.960Z"
   },
   {
    "duration": 455,
    "start_time": "2022-02-17T15:43:55.970Z"
   },
   {
    "duration": 3471,
    "start_time": "2022-02-17T15:43:56.428Z"
   },
   {
    "duration": 33,
    "start_time": "2022-02-17T15:43:59.901Z"
   },
   {
    "duration": 4,
    "start_time": "2022-02-17T15:44:27.153Z"
   },
   {
    "duration": 93,
    "start_time": "2022-02-17T15:44:28.360Z"
   },
   {
    "duration": 38,
    "start_time": "2022-02-17T15:44:30.609Z"
   },
   {
    "duration": 32,
    "start_time": "2022-02-17T15:44:31.070Z"
   },
   {
    "duration": 6,
    "start_time": "2022-02-17T15:44:34.318Z"
   },
   {
    "duration": 6,
    "start_time": "2022-02-17T15:44:37.034Z"
   },
   {
    "duration": 18,
    "start_time": "2022-02-17T15:44:38.510Z"
   },
   {
    "duration": 16,
    "start_time": "2022-02-17T15:44:41.035Z"
   },
   {
    "duration": 11,
    "start_time": "2022-02-17T15:44:44.132Z"
   },
   {
    "duration": 20,
    "start_time": "2022-02-17T15:44:44.858Z"
   },
   {
    "duration": 4,
    "start_time": "2022-02-17T15:44:47.496Z"
   },
   {
    "duration": 4,
    "start_time": "2022-02-17T15:44:48.125Z"
   },
   {
    "duration": 116,
    "start_time": "2022-02-17T15:44:53.685Z"
   },
   {
    "duration": 3,
    "start_time": "2022-02-17T15:45:04.979Z"
   },
   {
    "duration": 106,
    "start_time": "2022-02-17T15:45:07.720Z"
   },
   {
    "duration": 12,
    "start_time": "2022-02-17T15:45:20.559Z"
   },
   {
    "duration": 15,
    "start_time": "2022-02-17T15:45:26.927Z"
   },
   {
    "duration": 15,
    "start_time": "2022-02-17T15:45:33.361Z"
   },
   {
    "duration": 15,
    "start_time": "2022-02-17T15:45:36.147Z"
   },
   {
    "duration": 33,
    "start_time": "2022-02-17T15:45:47.169Z"
   },
   {
    "duration": 40,
    "start_time": "2022-02-17T15:46:19.529Z"
   },
   {
    "duration": 1308,
    "start_time": "2022-02-17T21:18:25.966Z"
   },
   {
    "duration": 87,
    "start_time": "2022-02-17T21:18:27.277Z"
   },
   {
    "duration": 39,
    "start_time": "2022-02-17T21:18:27.366Z"
   },
   {
    "duration": 27,
    "start_time": "2022-02-17T21:18:27.407Z"
   },
   {
    "duration": 5,
    "start_time": "2022-02-17T21:18:27.435Z"
   },
   {
    "duration": 31,
    "start_time": "2022-02-17T21:18:27.442Z"
   },
   {
    "duration": 44,
    "start_time": "2022-02-17T21:18:27.475Z"
   },
   {
    "duration": 15,
    "start_time": "2022-02-17T21:18:27.520Z"
   },
   {
    "duration": 9,
    "start_time": "2022-02-17T21:18:27.538Z"
   },
   {
    "duration": 23,
    "start_time": "2022-02-17T21:18:27.549Z"
   },
   {
    "duration": 4,
    "start_time": "2022-02-17T21:18:27.575Z"
   },
   {
    "duration": 14,
    "start_time": "2022-02-17T21:18:27.582Z"
   },
   {
    "duration": 85,
    "start_time": "2022-02-17T21:18:27.598Z"
   },
   {
    "duration": 3,
    "start_time": "2022-02-17T21:18:27.685Z"
   },
   {
    "duration": 110,
    "start_time": "2022-02-17T21:18:27.691Z"
   },
   {
    "duration": 9,
    "start_time": "2022-02-17T21:18:27.803Z"
   },
   {
    "duration": 14,
    "start_time": "2022-02-17T21:18:27.813Z"
   },
   {
    "duration": 37,
    "start_time": "2022-02-17T21:18:27.829Z"
   },
   {
    "duration": 30,
    "start_time": "2022-02-17T21:18:27.870Z"
   },
   {
    "duration": 26,
    "start_time": "2022-02-17T21:18:27.902Z"
   },
   {
    "duration": 31,
    "start_time": "2022-02-17T21:18:27.930Z"
   },
   {
    "duration": 9,
    "start_time": "2022-02-17T21:18:27.963Z"
   },
   {
    "duration": 30,
    "start_time": "2022-02-17T21:18:27.974Z"
   },
   {
    "duration": 44,
    "start_time": "2022-02-17T21:18:28.006Z"
   },
   {
    "duration": 32,
    "start_time": "2022-02-17T21:18:28.052Z"
   },
   {
    "duration": 12,
    "start_time": "2022-02-17T21:18:28.086Z"
   },
   {
    "duration": 23,
    "start_time": "2022-02-17T21:18:28.102Z"
   },
   {
    "duration": 14,
    "start_time": "2022-02-17T21:18:28.129Z"
   },
   {
    "duration": 11,
    "start_time": "2022-02-17T21:18:28.145Z"
   },
   {
    "duration": 9,
    "start_time": "2022-02-17T21:18:28.158Z"
   },
   {
    "duration": 16,
    "start_time": "2022-02-17T21:18:28.170Z"
   },
   {
    "duration": 563,
    "start_time": "2022-02-17T21:18:28.188Z"
   },
   {
    "duration": 17,
    "start_time": "2022-02-17T21:18:28.752Z"
   },
   {
    "duration": 14,
    "start_time": "2022-02-17T21:18:28.773Z"
   },
   {
    "duration": 15,
    "start_time": "2022-02-17T21:18:28.789Z"
   },
   {
    "duration": 443,
    "start_time": "2022-02-17T21:18:28.806Z"
   },
   {
    "duration": 436,
    "start_time": "2022-02-17T21:18:29.251Z"
   },
   {
    "duration": 11,
    "start_time": "2022-02-17T21:18:29.689Z"
   },
   {
    "duration": 418,
    "start_time": "2022-02-17T21:18:29.701Z"
   },
   {
    "duration": 437,
    "start_time": "2022-02-17T21:18:30.121Z"
   },
   {
    "duration": 443,
    "start_time": "2022-02-17T21:18:30.560Z"
   },
   {
    "duration": 8,
    "start_time": "2022-02-17T21:18:31.005Z"
   },
   {
    "duration": 254,
    "start_time": "2022-02-17T21:18:31.015Z"
   },
   {
    "duration": 264,
    "start_time": "2022-02-17T21:18:31.271Z"
   },
   {
    "duration": 260,
    "start_time": "2022-02-17T21:18:31.537Z"
   },
   {
    "duration": 8,
    "start_time": "2022-02-17T21:18:31.799Z"
   },
   {
    "duration": 29,
    "start_time": "2022-02-17T21:18:31.809Z"
   },
   {
    "duration": 277,
    "start_time": "2022-02-17T21:18:31.840Z"
   },
   {
    "duration": 310,
    "start_time": "2022-02-17T21:18:32.119Z"
   },
   {
    "duration": 7,
    "start_time": "2022-02-17T21:18:32.431Z"
   },
   {
    "duration": 279,
    "start_time": "2022-02-17T21:18:32.440Z"
   },
   {
    "duration": 395,
    "start_time": "2022-02-17T21:18:32.721Z"
   },
   {
    "duration": 15,
    "start_time": "2022-02-17T21:18:33.118Z"
   },
   {
    "duration": 7,
    "start_time": "2022-02-17T21:18:33.135Z"
   },
   {
    "duration": 30,
    "start_time": "2022-02-17T21:18:33.144Z"
   },
   {
    "duration": 428,
    "start_time": "2022-02-17T21:18:33.177Z"
   },
   {
    "duration": 299,
    "start_time": "2022-02-17T21:18:33.606Z"
   },
   {
    "duration": 292,
    "start_time": "2022-02-17T21:18:33.907Z"
   },
   {
    "duration": 12,
    "start_time": "2022-02-17T21:18:34.201Z"
   },
   {
    "duration": 35,
    "start_time": "2022-02-17T21:18:34.214Z"
   },
   {
    "duration": 34,
    "start_time": "2022-02-17T21:18:34.251Z"
   },
   {
    "duration": 226,
    "start_time": "2022-02-17T21:18:34.287Z"
   },
   {
    "duration": 205,
    "start_time": "2022-02-17T21:18:34.515Z"
   },
   {
    "duration": 208,
    "start_time": "2022-02-17T21:18:34.722Z"
   },
   {
    "duration": 46,
    "start_time": "2022-02-17T21:18:34.932Z"
   },
   {
    "duration": 8,
    "start_time": "2022-02-17T21:18:34.982Z"
   },
   {
    "duration": 20,
    "start_time": "2022-02-17T21:18:34.992Z"
   },
   {
    "duration": 65,
    "start_time": "2022-02-17T21:18:35.014Z"
   },
   {
    "duration": 8,
    "start_time": "2022-02-17T21:18:35.082Z"
   },
   {
    "duration": 449,
    "start_time": "2022-02-17T21:18:35.091Z"
   },
   {
    "duration": 6426,
    "start_time": "2022-02-17T21:18:35.542Z"
   },
   {
    "duration": 15,
    "start_time": "2022-02-17T21:18:41.971Z"
   },
   {
    "duration": 27,
    "start_time": "2022-02-17T21:18:41.988Z"
   },
   {
    "duration": 10,
    "start_time": "2022-02-17T21:18:42.017Z"
   },
   {
    "duration": 310,
    "start_time": "2022-02-17T21:18:42.029Z"
   },
   {
    "duration": 301,
    "start_time": "2022-02-17T21:18:42.341Z"
   },
   {
    "duration": 2,
    "start_time": "2022-02-17T21:18:42.644Z"
   },
   {
    "duration": 60,
    "start_time": "2022-02-17T21:18:42.648Z"
   },
   {
    "duration": 987,
    "start_time": "2022-02-17T21:18:42.710Z"
   },
   {
    "duration": 2,
    "start_time": "2022-02-17T21:18:43.699Z"
   },
   {
    "duration": 360,
    "start_time": "2022-02-17T21:18:43.706Z"
   },
   {
    "duration": 2694,
    "start_time": "2022-02-17T21:18:44.070Z"
   },
   {
    "duration": 32,
    "start_time": "2022-02-17T21:18:46.766Z"
   }
  ],
  "kernelspec": {
   "display_name": "Python 3 (ipykernel)",
   "language": "python",
   "name": "python3"
  },
  "language_info": {
   "codemirror_mode": {
    "name": "ipython",
    "version": 3
   },
   "file_extension": ".py",
   "mimetype": "text/x-python",
   "name": "python",
   "nbconvert_exporter": "python",
   "pygments_lexer": "ipython3",
   "version": "3.9.7"
  },
  "toc": {
   "base_numbering": 1,
   "nav_menu": {},
   "number_sections": false,
   "sideBar": true,
   "skip_h1_title": false,
   "title_cell": "Содержание",
   "title_sidebar": "Contents",
   "toc_cell": true,
   "toc_position": {
    "height": "calc(100% - 180px)",
    "left": "10px",
    "top": "150px",
    "width": "277.933px"
   },
   "toc_section_display": true,
   "toc_window_display": true
  }
 },
 "nbformat": 4,
 "nbformat_minor": 2
}
