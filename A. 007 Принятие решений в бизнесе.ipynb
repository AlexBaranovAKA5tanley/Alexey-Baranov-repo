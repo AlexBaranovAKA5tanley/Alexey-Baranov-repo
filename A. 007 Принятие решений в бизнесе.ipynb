{
 "cells": [
  {
   "cell_type": "markdown",
   "metadata": {},
   "source": [
    "Описание проекта\n",
    "\n",
    "Вы — аналитик крупного интернет-магазина. Вместе с отделом маркетинга вы подготовили список гипотез для увеличения выручки.\n",
    "Приоритизируйте гипотезы, запустите A/B-тест и проанализируйте результаты.\n",
    "\n",
    "**Часть 1. Приоритизация гипотез.**\n",
    "\n",
    "В файле `/datasets/hypothesis.csv` 9 гипотез по увеличению выручки интернет-магазина с указанными параметрами `Reach`, `Impact`, `Confidence`, `Effort`.\n",
    "\n",
    "**Задача**\n",
    "\n",
    "* Примените фреймворк `ICE` для приоритизации гипотез. Отсортируйте их по убыванию приоритета.\n",
    "* Примените фреймворк `RICE` для приоритизации гипотез. Отсортируйте их по убыванию приоритета.\n",
    "* Укажите, как изменилась приоритизация гипотез при применении `RICE` вместо `ICE`. Объясните, почему так произошло.\n",
    "\n",
    "**Часть 2. Анализ A/B-теста**\n",
    "\n",
    "Вы провели A/B-тест и получили результаты, которые описаны в файлах `/datasets/orders.csv и /datasets/visitors.csv`.\n",
    "\n",
    "Задача\n",
    "\n",
    "Проанализируйте A/B-тест:\n",
    "1.\tПостройте график кумулятивной выручки по группам. Сделайте выводы и предположения.\n",
    "2.\tПостройте график кумулятивного среднего чека по группам. Сделайте выводы и предположения.\n",
    "3.\tПостройте график относительного изменения кумулятивного среднего чека группы B к группе A. Сделайте выводы и предположения.\n",
    "4.\tПостройте график кумулятивной конверсии по группам. Сделайте выводы и предположения.\n",
    "5.\tПостройте график относительного изменения кумулятивной конверсии группы B к группе A. Сделайте выводы и предположения.\n",
    "6.\tПостройте точечный график количества заказов по пользователям. Сделайте выводы и предположения.\n",
    "7.\tПосчитайте 95-й и 99-й перцентили количества заказов на пользователя. Выберите границу для определения аномальных пользователей.\n",
    "8.\tПостройте точечный график стоимостей заказов. Сделайте выводы и предположения.\n",
    "9.\tПосчитайте 95-й и 99-й перцентили стоимости заказов. Выберите границу для определения аномальных заказов.\n",
    "10.\tПосчитайте статистическую значимость различий в конверсии между группами по «сырым» данным. Сделайте выводы и предположения.\n",
    "11.\tПосчитайте статистическую значимость различий в среднем чеке заказа между группами по «сырым» данным. Сделайте выводы и предположения.\n",
    "12.\tПосчитайте статистическую значимость различий в конверсии между группами по «очищенным» данным. Сделайте выводы и предположения.\n",
    "13.\tПосчитайте статистическую значимость различий в среднем чеке заказа между группами по «очищенным» данным. Сделайте выводы и предположения.\n",
    "14.\tПримите решение по результатам теста и объясните его. Варианты решений: 1. Остановить тест, зафиксировать победу одной из групп. 2. Остановить тест, зафиксировать отсутствие различий между группами. 3. Продолжить тест.\n"
   ]
  },
  {
   "cell_type": "code",
   "execution_count": 1,
   "metadata": {},
   "outputs": [],
   "source": [
    "# импорт библиотк\n",
    "import math\n",
    "import numpy as np\n",
    "import pandas as pd\n",
    "import matplotlib.pyplot as plt \n",
    "import seaborn as sns\n",
    "from datetime import datetime\n",
    "from scipy import stats as st\n",
    "import datetime as dt\n",
    "# from datetime import date, timedelta"
   ]
  },
  {
   "cell_type": "markdown",
   "metadata": {},
   "source": [
    "## Анализ и предобработка данных"
   ]
  },
  {
   "cell_type": "code",
   "execution_count": 2,
   "metadata": {},
   "outputs": [],
   "source": [
    "# присвоение переменным значения данных из файлов\n",
    "hypo = pd.read_csv(\"https://code.s3.yandex.net/datasets/hypothesis.csv\")\n",
    "visitors = pd.read_csv(\"https://code.s3.yandex.net/datasets/visitors.csv\")\n",
    "orders = pd.read_csv(\"https://code.s3.yandex.net/datasets/orders.csv\")\n"
   ]
  },
  {
   "cell_type": "code",
   "execution_count": 3,
   "metadata": {},
   "outputs": [
    {
     "name": "stdout",
     "output_type": "stream",
     "text": [
      "\u001b[1mINFO Hypothesis\u001b[0m\n",
      "\n",
      "<class 'pandas.core.frame.DataFrame'>\n",
      "RangeIndex: 9 entries, 0 to 8\n",
      "Data columns (total 5 columns):\n",
      " #   Column      Non-Null Count  Dtype \n",
      "---  ------      --------------  ----- \n",
      " 0   Hypothesis  9 non-null      object\n",
      " 1   Reach       9 non-null      int64 \n",
      " 2   Impact      9 non-null      int64 \n",
      " 3   Confidence  9 non-null      int64 \n",
      " 4   Efforts     9 non-null      int64 \n",
      "dtypes: int64(4), object(1)\n",
      "memory usage: 488.0+ bytes\n",
      "None\n",
      "\n",
      "\u001b[1mInitial Duplicates in Hypothesis: \u001b[0m 0\n",
      "\n",
      "\u001b[1mNumber of NULLs in Hypothesis:\u001b[0m\n",
      " Hypothesis    0\n",
      "Reach         0\n",
      "Impact        0\n",
      "Confidence    0\n",
      "Efforts       0\n",
      "dtype: int64\n",
      "\n",
      "\u001b[1mColumns in Hypothesis:\u001b[0m\n",
      " Index(['hypothesis', 'reach', 'impact', 'confidence', 'efforts'], dtype='object')\n"
     ]
    },
    {
     "data": {
      "text/html": [
       "<div>\n",
       "<style scoped>\n",
       "    .dataframe tbody tr th:only-of-type {\n",
       "        vertical-align: middle;\n",
       "    }\n",
       "\n",
       "    .dataframe tbody tr th {\n",
       "        vertical-align: top;\n",
       "    }\n",
       "\n",
       "    .dataframe thead th {\n",
       "        text-align: right;\n",
       "    }\n",
       "</style>\n",
       "<table border=\"1\" class=\"dataframe\">\n",
       "  <thead>\n",
       "    <tr style=\"text-align: right;\">\n",
       "      <th></th>\n",
       "      <th>hypothesis</th>\n",
       "      <th>reach</th>\n",
       "      <th>impact</th>\n",
       "      <th>confidence</th>\n",
       "      <th>efforts</th>\n",
       "    </tr>\n",
       "  </thead>\n",
       "  <tbody>\n",
       "    <tr>\n",
       "      <th>0</th>\n",
       "      <td>Добавить два новых канала привлечения трафика,...</td>\n",
       "      <td>3</td>\n",
       "      <td>10</td>\n",
       "      <td>8</td>\n",
       "      <td>6</td>\n",
       "    </tr>\n",
       "  </tbody>\n",
       "</table>\n",
       "</div>"
      ],
      "text/plain": [
       "                                          hypothesis  reach  impact  \\\n",
       "0  Добавить два новых канала привлечения трафика,...      3      10   \n",
       "\n",
       "   confidence  efforts  \n",
       "0           8        6  "
      ]
     },
     "metadata": {},
     "output_type": "display_data"
    },
    {
     "name": "stdout",
     "output_type": "stream",
     "text": [
      "============================================================\n",
      "\u001b[1mINFO Visits\u001b[0m\n",
      "\n",
      "<class 'pandas.core.frame.DataFrame'>\n",
      "RangeIndex: 62 entries, 0 to 61\n",
      "Data columns (total 3 columns):\n",
      " #   Column    Non-Null Count  Dtype \n",
      "---  ------    --------------  ----- \n",
      " 0   date      62 non-null     object\n",
      " 1   group     62 non-null     object\n",
      " 2   visitors  62 non-null     int64 \n",
      "dtypes: int64(1), object(2)\n",
      "memory usage: 1.6+ KB\n",
      "None\n",
      "\n",
      "\u001b[1mInitial Duplicates in Visits: \u001b[0m 0\n",
      "\n",
      "\u001b[1mNumber of NULLs in Visits:\u001b[0m\n",
      " date        0\n",
      "group       0\n",
      "visitors    0\n",
      "dtype: int64\n",
      "\n",
      "\u001b[1mColumns in Visits:\u001b[0m\n",
      " Index(['date', 'group', 'visitors'], dtype='object')\n"
     ]
    },
    {
     "data": {
      "text/html": [
       "<div>\n",
       "<style scoped>\n",
       "    .dataframe tbody tr th:only-of-type {\n",
       "        vertical-align: middle;\n",
       "    }\n",
       "\n",
       "    .dataframe tbody tr th {\n",
       "        vertical-align: top;\n",
       "    }\n",
       "\n",
       "    .dataframe thead th {\n",
       "        text-align: right;\n",
       "    }\n",
       "</style>\n",
       "<table border=\"1\" class=\"dataframe\">\n",
       "  <thead>\n",
       "    <tr style=\"text-align: right;\">\n",
       "      <th></th>\n",
       "      <th>date</th>\n",
       "      <th>group</th>\n",
       "      <th>visitors</th>\n",
       "    </tr>\n",
       "  </thead>\n",
       "  <tbody>\n",
       "    <tr>\n",
       "      <th>0</th>\n",
       "      <td>2019-08-01</td>\n",
       "      <td>A</td>\n",
       "      <td>719</td>\n",
       "    </tr>\n",
       "  </tbody>\n",
       "</table>\n",
       "</div>"
      ],
      "text/plain": [
       "         date group  visitors\n",
       "0  2019-08-01     A       719"
      ]
     },
     "metadata": {},
     "output_type": "display_data"
    },
    {
     "name": "stdout",
     "output_type": "stream",
     "text": [
      "============================================================\n",
      "\u001b[1mINFO Orders\u001b[0m\n",
      "\n",
      "<class 'pandas.core.frame.DataFrame'>\n",
      "RangeIndex: 1197 entries, 0 to 1196\n",
      "Data columns (total 5 columns):\n",
      " #   Column         Non-Null Count  Dtype \n",
      "---  ------         --------------  ----- \n",
      " 0   transactionId  1197 non-null   int64 \n",
      " 1   visitorId      1197 non-null   int64 \n",
      " 2   date           1197 non-null   object\n",
      " 3   revenue        1197 non-null   int64 \n",
      " 4   group          1197 non-null   object\n",
      "dtypes: int64(3), object(2)\n",
      "memory usage: 46.9+ KB\n",
      "None\n",
      "\n",
      "\u001b[1mInitial Duplicates in Orders: \u001b[0m 0\n",
      "\n",
      "\u001b[1mNumber of NULLs in Orders:\u001b[0m\n",
      " transactionId    0\n",
      "visitorId        0\n",
      "date             0\n",
      "revenue          0\n",
      "group            0\n",
      "dtype: int64\n",
      "\n",
      "\u001b[1mColumns in Orders:\u001b[0m\n",
      " Index(['transactionid', 'visitorid', 'date', 'revenue', 'group'], dtype='object')\n"
     ]
    },
    {
     "data": {
      "text/html": [
       "<div>\n",
       "<style scoped>\n",
       "    .dataframe tbody tr th:only-of-type {\n",
       "        vertical-align: middle;\n",
       "    }\n",
       "\n",
       "    .dataframe tbody tr th {\n",
       "        vertical-align: top;\n",
       "    }\n",
       "\n",
       "    .dataframe thead th {\n",
       "        text-align: right;\n",
       "    }\n",
       "</style>\n",
       "<table border=\"1\" class=\"dataframe\">\n",
       "  <thead>\n",
       "    <tr style=\"text-align: right;\">\n",
       "      <th></th>\n",
       "      <th>transactionid</th>\n",
       "      <th>visitorid</th>\n",
       "      <th>date</th>\n",
       "      <th>revenue</th>\n",
       "      <th>group</th>\n",
       "    </tr>\n",
       "  </thead>\n",
       "  <tbody>\n",
       "    <tr>\n",
       "      <th>0</th>\n",
       "      <td>3667963787</td>\n",
       "      <td>3312258926</td>\n",
       "      <td>2019-08-15</td>\n",
       "      <td>1650</td>\n",
       "      <td>B</td>\n",
       "    </tr>\n",
       "  </tbody>\n",
       "</table>\n",
       "</div>"
      ],
      "text/plain": [
       "   transactionid   visitorid        date  revenue group\n",
       "0     3667963787  3312258926  2019-08-15     1650     B"
      ]
     },
     "metadata": {},
     "output_type": "display_data"
    },
    {
     "name": "stdout",
     "output_type": "stream",
     "text": [
      "============================================================\n"
     ]
    }
   ],
   "source": [
    "# 1. выводи инфо о данных\n",
    "# 2. проверка дубликатов и условное удаление дубликатов из данных\n",
    "# 3. проверка пропусков в данных\n",
    "# 4. приведение колонок в данных к стилю \"snake_style\" и проверка\n",
    "\n",
    "dfs_dict = {'Hypothesis':hypo, 'Visits':visitors, 'Orders':orders}\n",
    "for name_, df_ in dfs_dict.items():\n",
    "    print('\\033[1m'+f'INFO {name_}'+'\\033[0m', end='\\n\\n')\n",
    "    print(df_.info(), end='\\n\\n')\n",
    "    print('\\033[1m'+f'Initial Duplicates in {name_}: '+'\\033[0m', df_.duplicated().sum(), end='\\n\\n')\n",
    "    if df_.duplicated().sum() > 0:\n",
    "        df_.drop_duplicates()\n",
    "        print('\\033[1m'+f'Final Duplicates  in {name_}: '+'\\033[0m', df_.duplicated().sum(), end='\\n\\n')\n",
    "    print('\\033[1m'+f'Number of NULLs in {name_}:'+'\\033[0m\\n', df_.isna().sum(), end='\\n\\n')\n",
    "    df_.columns = df_.columns.str.lower().str.replace(' ', '_')\n",
    "    print('\\033[1m'+f'Columns in {name_}:'+'\\033[0m\\n', df_.columns)\n",
    "    display(df_.head(1))\n",
    "    print('='*60)\n"
   ]
  },
  {
   "cell_type": "markdown",
   "metadata": {},
   "source": [
    "* данные представлены в трех файлах\n",
    "* пропуски и дубликаты отсутствуют\n",
    "* название колонок приведены к ***snake_style***\n",
    "* данные дат, групп и название гипотез представлены в виде строк\n",
    "* id, доход, количество посетителей и расчетные категории гипотез представлены в виде целых чисел"
   ]
  },
  {
   "cell_type": "code",
   "execution_count": 4,
   "metadata": {},
   "outputs": [
    {
     "name": "stdout",
     "output_type": "stream",
     "text": [
      "Кол-во клиентов в группе А: \n",
      " 0    503\n",
      "Name: visitorid, dtype: int64\n",
      "\n",
      "Кол-во клиентов в группе B: \n",
      " 1    586\n",
      "Name: visitorid, dtype: int64\n"
     ]
    }
   ],
   "source": [
    "# проверка уникальности пользователей в группах\n",
    "groups = orders.groupby('group', as_index=False).visitorid.nunique()\n",
    "print('Кол-во клиентов в группе А: \\n', groups.query('group == \"A\"').visitorid)\n",
    "print()\n",
    "print('Кол-во клиентов в группе B: \\n', groups.query('group == \"B\"').visitorid)"
   ]
  },
  {
   "cell_type": "code",
   "execution_count": 5,
   "metadata": {},
   "outputs": [
    {
     "data": {
      "text/plain": [
       "group    58\n",
       "dtype: int64"
      ]
     },
     "execution_count": 5,
     "metadata": {},
     "output_type": "execute_result"
    }
   ],
   "source": [
    "\n",
    "orders.pivot_table(index='visitorid', values='group', aggfunc='nunique').query('group > 1').count()"
   ]
  },
  {
   "cell_type": "code",
   "execution_count": 6,
   "metadata": {},
   "outputs": [
    {
     "name": "stdout",
     "output_type": "stream",
     "text": [
      "Кол-во пользователей, входящих в обе группы:  58\n"
     ]
    }
   ],
   "source": [
    "# проверка численности пользователей в обоих группых одновременно\n",
    "print('Кол-во пользователей, входящих в обе группы: ', len(orders.groupby('visitorid', as_index=False).group.nunique().query('group > 1')))"
   ]
  },
  {
   "cell_type": "code",
   "execution_count": 7,
   "metadata": {},
   "outputs": [
    {
     "data": {
      "text/plain": [
       "'ID пользователей, входящих в обе группы: \\n'"
      ]
     },
     "metadata": {},
     "output_type": "display_data"
    },
    {
     "data": {
      "text/plain": [
       "2       8300375\n",
       "44    199603092\n",
       "51    232979603\n",
       "55    237748145\n",
       "66    276558944\n",
       "Name: visitorid, dtype: int64"
      ]
     },
     "metadata": {},
     "output_type": "display_data"
    }
   ],
   "source": [
    "display('ID пользователей, входящих в обе группы: \\n',orders.groupby('visitorid', as_index=False).group.nunique().query('group > 1').visitorid.head())"
   ]
  },
  {
   "cell_type": "markdown",
   "metadata": {},
   "source": [
    "## Расчет ICE и RICE"
   ]
  },
  {
   "cell_type": "markdown",
   "metadata": {},
   "source": [
    "### ICE"
   ]
  },
  {
   "cell_type": "markdown",
   "metadata": {},
   "source": [
    "Фреймворк ICE состоит из четырёх компонент:\n",
    "*    Impact — влияние изменения на поведение и удовлетворенность пользователей;\n",
    "*    Confidence — степень уверенности во влиянии изменения;\n",
    "*    Efforts — оценка стоимости теста гипотезы."
   ]
  },
  {
   "cell_type": "code",
   "execution_count": 8,
   "metadata": {},
   "outputs": [
    {
     "data": {
      "text/html": [
       "<div>\n",
       "<style scoped>\n",
       "    .dataframe tbody tr th:only-of-type {\n",
       "        vertical-align: middle;\n",
       "    }\n",
       "\n",
       "    .dataframe tbody tr th {\n",
       "        vertical-align: top;\n",
       "    }\n",
       "\n",
       "    .dataframe thead th {\n",
       "        text-align: right;\n",
       "    }\n",
       "</style>\n",
       "<table border=\"1\" class=\"dataframe\">\n",
       "  <thead>\n",
       "    <tr style=\"text-align: right;\">\n",
       "      <th></th>\n",
       "      <th>hypothesis</th>\n",
       "      <th>ICE</th>\n",
       "    </tr>\n",
       "  </thead>\n",
       "  <tbody>\n",
       "    <tr>\n",
       "      <th>8</th>\n",
       "      <td>Запустить акцию, дающую скидку на товар в день...</td>\n",
       "      <td>16.200000</td>\n",
       "    </tr>\n",
       "    <tr>\n",
       "      <th>0</th>\n",
       "      <td>Добавить два новых канала привлечения трафика,...</td>\n",
       "      <td>13.333333</td>\n",
       "    </tr>\n",
       "    <tr>\n",
       "      <th>7</th>\n",
       "      <td>Добавить форму подписки на все основные страни...</td>\n",
       "      <td>11.200000</td>\n",
       "    </tr>\n",
       "    <tr>\n",
       "      <th>6</th>\n",
       "      <td>Показать на главной странице баннеры с актуаль...</td>\n",
       "      <td>8.000000</td>\n",
       "    </tr>\n",
       "    <tr>\n",
       "      <th>2</th>\n",
       "      <td>Добавить блоки рекомендаций товаров на сайт ин...</td>\n",
       "      <td>7.000000</td>\n",
       "    </tr>\n",
       "    <tr>\n",
       "      <th>1</th>\n",
       "      <td>Запустить собственную службу доставки, что сок...</td>\n",
       "      <td>2.000000</td>\n",
       "    </tr>\n",
       "    <tr>\n",
       "      <th>5</th>\n",
       "      <td>Добавить страницу отзывов клиентов о магазине,...</td>\n",
       "      <td>1.333333</td>\n",
       "    </tr>\n",
       "    <tr>\n",
       "      <th>3</th>\n",
       "      <td>Изменить структура категорий, что увеличит кон...</td>\n",
       "      <td>1.125000</td>\n",
       "    </tr>\n",
       "    <tr>\n",
       "      <th>4</th>\n",
       "      <td>Изменить цвет фона главной страницы, чтобы уве...</td>\n",
       "      <td>1.000000</td>\n",
       "    </tr>\n",
       "  </tbody>\n",
       "</table>\n",
       "</div>"
      ],
      "text/plain": [
       "                                          hypothesis        ICE\n",
       "8  Запустить акцию, дающую скидку на товар в день...  16.200000\n",
       "0  Добавить два новых канала привлечения трафика,...  13.333333\n",
       "7  Добавить форму подписки на все основные страни...  11.200000\n",
       "6  Показать на главной странице баннеры с актуаль...   8.000000\n",
       "2  Добавить блоки рекомендаций товаров на сайт ин...   7.000000\n",
       "1  Запустить собственную службу доставки, что сок...   2.000000\n",
       "5  Добавить страницу отзывов клиентов о магазине,...   1.333333\n",
       "3  Изменить структура категорий, что увеличит кон...   1.125000\n",
       "4  Изменить цвет фона главной страницы, чтобы уве...   1.000000"
      ]
     },
     "metadata": {},
     "output_type": "display_data"
    },
    {
     "data": {
      "image/png": "[encoded data removed]",
      "text/plain": [
       "<Figure size 864x144 with 1 Axes>"
      ]
     },
     "metadata": {
      "needs_background": "light"
     },
     "output_type": "display_data"
    }
   ],
   "source": [
    "hypo['ICE'] = hypo.impact * hypo.confidence / hypo.efforts\n",
    "ice_sorted = hypo[['hypothesis', 'ICE']].sort_values('ICE',ascending=False)\n",
    "display(ice_sorted)\n",
    "ice_sorted.plot(use_index=True, y='ICE', grid = True, kind = 'bar', title=\"ICE Rating\", figsize=(12,2), rot=0)\n",
    "plt.xlabel('Номера гипотез')\n",
    "plt.ylabel('Рейтинг Гипотез')\n",
    "plt.show()"
   ]
  },
  {
   "cell_type": "markdown",
   "metadata": {},
   "source": [
    "### RICE"
   ]
  },
  {
   "cell_type": "markdown",
   "metadata": {},
   "source": [
    "В отличие от `ICE`, `RICE` учитывает количество пользователей, которых будет затрагивать нововведение."
   ]
  },
  {
   "cell_type": "code",
   "execution_count": 9,
   "metadata": {},
   "outputs": [
    {
     "data": {
      "text/html": [
       "<div>\n",
       "<style scoped>\n",
       "    .dataframe tbody tr th:only-of-type {\n",
       "        vertical-align: middle;\n",
       "    }\n",
       "\n",
       "    .dataframe tbody tr th {\n",
       "        vertical-align: top;\n",
       "    }\n",
       "\n",
       "    .dataframe thead th {\n",
       "        text-align: right;\n",
       "    }\n",
       "</style>\n",
       "<table border=\"1\" class=\"dataframe\">\n",
       "  <thead>\n",
       "    <tr style=\"text-align: right;\">\n",
       "      <th></th>\n",
       "      <th>hypothesis</th>\n",
       "      <th>RICE</th>\n",
       "    </tr>\n",
       "  </thead>\n",
       "  <tbody>\n",
       "    <tr>\n",
       "      <th>7</th>\n",
       "      <td>Добавить форму подписки на все основные страни...</td>\n",
       "      <td>112.0</td>\n",
       "    </tr>\n",
       "    <tr>\n",
       "      <th>2</th>\n",
       "      <td>Добавить блоки рекомендаций товаров на сайт ин...</td>\n",
       "      <td>56.0</td>\n",
       "    </tr>\n",
       "    <tr>\n",
       "      <th>0</th>\n",
       "      <td>Добавить два новых канала привлечения трафика,...</td>\n",
       "      <td>40.0</td>\n",
       "    </tr>\n",
       "    <tr>\n",
       "      <th>6</th>\n",
       "      <td>Показать на главной странице баннеры с актуаль...</td>\n",
       "      <td>40.0</td>\n",
       "    </tr>\n",
       "    <tr>\n",
       "      <th>8</th>\n",
       "      <td>Запустить акцию, дающую скидку на товар в день...</td>\n",
       "      <td>16.2</td>\n",
       "    </tr>\n",
       "    <tr>\n",
       "      <th>3</th>\n",
       "      <td>Изменить структура категорий, что увеличит кон...</td>\n",
       "      <td>9.0</td>\n",
       "    </tr>\n",
       "    <tr>\n",
       "      <th>1</th>\n",
       "      <td>Запустить собственную службу доставки, что сок...</td>\n",
       "      <td>4.0</td>\n",
       "    </tr>\n",
       "    <tr>\n",
       "      <th>5</th>\n",
       "      <td>Добавить страницу отзывов клиентов о магазине,...</td>\n",
       "      <td>4.0</td>\n",
       "    </tr>\n",
       "    <tr>\n",
       "      <th>4</th>\n",
       "      <td>Изменить цвет фона главной страницы, чтобы уве...</td>\n",
       "      <td>3.0</td>\n",
       "    </tr>\n",
       "  </tbody>\n",
       "</table>\n",
       "</div>"
      ],
      "text/plain": [
       "                                          hypothesis   RICE\n",
       "7  Добавить форму подписки на все основные страни...  112.0\n",
       "2  Добавить блоки рекомендаций товаров на сайт ин...   56.0\n",
       "0  Добавить два новых канала привлечения трафика,...   40.0\n",
       "6  Показать на главной странице баннеры с актуаль...   40.0\n",
       "8  Запустить акцию, дающую скидку на товар в день...   16.2\n",
       "3  Изменить структура категорий, что увеличит кон...    9.0\n",
       "1  Запустить собственную службу доставки, что сок...    4.0\n",
       "5  Добавить страницу отзывов клиентов о магазине,...    4.0\n",
       "4  Изменить цвет фона главной страницы, чтобы уве...    3.0"
      ]
     },
     "metadata": {},
     "output_type": "display_data"
    },
    {
     "data": {
      "image/png": "[encoded data removed]",
      "text/plain": [
       "<Figure size 864x144 with 1 Axes>"
      ]
     },
     "metadata": {
      "needs_background": "light"
     },
     "output_type": "display_data"
    }
   ],
   "source": [
    "hypo['RICE'] = hypo.reach * hypo.impact * hypo.confidence / hypo.efforts\n",
    "rice_sorted = hypo[['hypothesis', 'RICE']].sort_values('RICE',ascending=False)\n",
    "display(rice_sorted)\n",
    "rice_sorted.plot(use_index=True, y='RICE', grid = True, kind = 'bar', title=\"RICE Rating\", figsize=(12,2), rot=0)\n",
    "plt.xlabel('Номера гипотез')\n",
    "plt.ylabel('Рейтинг Гипотез')\n",
    "plt.show()"
   ]
  },
  {
   "cell_type": "code",
   "execution_count": 10,
   "metadata": {},
   "outputs": [
    {
     "name": "stdout",
     "output_type": "stream",
     "text": [
      "Diff. between two first hypos on ICE, normalized:  18.0 %\n",
      "Diff. between two first hypos on RICE, normalized:  50.0 %\n"
     ]
    },
    {
     "data": {
      "image/png": "[encoded data removed]",
      "text/plain": [
       "<Figure size 864x144 with 1 Axes>"
      ]
     },
     "metadata": {
      "needs_background": "light"
     },
     "output_type": "display_data"
    },
    {
     "data": {
      "image/png": "[encoded data removed]",
      "text/plain": [
       "<Figure size 864x144 with 1 Axes>"
      ]
     },
     "metadata": {
      "needs_background": "light"
     },
     "output_type": "display_data"
    }
   ],
   "source": [
    "ice_sorted['n_ICE'] = ice_sorted.ICE / ice_sorted.ICE.max()\n",
    "rice_sorted['n_RICE'] = rice_sorted.RICE / rice_sorted.RICE.max()\n",
    "ice_sorted.plot(use_index=True, y='n_ICE', grid = True, kind = 'bar', title=\"ICE Normalized\", figsize=(12,2), rot=0)\n",
    "plt.xlabel('Hypothesis #')\n",
    "plt.ylabel('Hypothesis normalized rating')\n",
    "rice_sorted.plot(use_index=True, y='n_RICE', grid = True, kind = 'bar', title=\"RICE Normalized\", figsize=(12,2), rot=0)\n",
    "plt.xlabel('Hypothesis #')\n",
    "plt.ylabel('Hypothesis normalized rating')\n",
    "print('Diff. between two first hypos on ICE, normalized: ', round((ice_sorted.n_ICE[8] - ice_sorted.n_ICE[0]), 2) * 100, '%')\n",
    "print('Diff. between two first hypos on RICE, normalized: ', round((rice_sorted.n_RICE[7]-rice_sorted.n_RICE[2]),2) * 100, '%')"
   ]
  },
  {
   "cell_type": "markdown",
   "metadata": {},
   "source": [
    "### **Вывод**\n",
    "* При учете влияния, степени уверенности и затрат на усилия для проведения проверки гипотез лучший показатель ICE имеет гипотеза №8, причем следующая за ней гипотеза №0 отстоит по нормализованному уровню на 18%\n",
    "* При включении в формулу объема вовлеченных пользователей лидером становится гипотеза № 7, причем разрыв со вторым местом, которое занимает гипотеза №2, составляет уже 50%\n"
   ]
  },
  {
   "cell_type": "markdown",
   "metadata": {},
   "source": [
    "## Анализ A/B-теста"
   ]
  },
  {
   "cell_type": "markdown",
   "metadata": {},
   "source": [
    "### Кумулятивная выручки по группам"
   ]
  },
  {
   "cell_type": "code",
   "execution_count": 11,
   "metadata": {},
   "outputs": [],
   "source": [
    "# массив уникальных пар значений дат и групп теста\n",
    "datesGroups = visitors[['date','group']]"
   ]
  },
  {
   "cell_type": "code",
   "execution_count": 12,
   "metadata": {},
   "outputs": [],
   "source": [
    "# агрегация данных заказа по дням:\n",
    "# даты заказа, группы, количество уникальных транзакций (заказов), пользователей, сумма выручки\n",
    "\n",
    "ordersAggregated = datesGroups.apply(lambda x: orders[np.logical_and(orders['date'] <= x['date'], orders['group'] == x['group'])]\\\n",
    ".agg({'date' : 'max', 'group' : 'max', 'transactionid' : 'nunique', 'visitorid' : 'nunique', 'revenue' : 'sum'}), axis=1).sort_values(by=['date','group'])"
   ]
  },
  {
   "cell_type": "code",
   "execution_count": 13,
   "metadata": {},
   "outputs": [],
   "source": [
    "# агрегация данных пользователей по дням:\n",
    "# даты заказа, группы, количество пользователей\n",
    "\n",
    "visitorsAggregated = datesGroups.apply(lambda x: visitors[np.logical_and(visitors['date'] <= x['date'], visitors['group'] == x['group'])]\\\n",
    ".agg({'date' : 'max', 'group' : 'max', 'visitors' : 'sum'}), axis=1).sort_values(by=['date','group'])"
   ]
  },
  {
   "cell_type": "code",
   "execution_count": 14,
   "metadata": {},
   "outputs": [
    {
     "name": "stdout",
     "output_type": "stream",
     "text": [
      "         date group  orders  buyers  revenue  visitors\n",
      "0  2019-08-01     A      24      20   148579       719\n",
      "1  2019-08-01     B      21      20   101217       713\n",
      "2  2019-08-02     A      44      38   242401      1338\n",
      "3  2019-08-02     B      45      43   266748      1294\n",
      "4  2019-08-03     A      68      62   354874      1845\n"
     ]
    }
   ],
   "source": [
    "# общие кумулятивные данные\n",
    "\n",
    "cumulativeData = ordersAggregated.merge(visitorsAggregated, left_on=['date', 'group'], right_on=['date', 'group'])\n",
    "cumulativeData.columns = ['date', 'group', 'orders', 'buyers', 'revenue', 'visitors']\n",
    "\n",
    "print(cumulativeData.head(5))"
   ]
  },
  {
   "cell_type": "code",
   "execution_count": 15,
   "metadata": {},
   "outputs": [
    {
     "data": {
      "image/png": "[encoded data removed]",
      "text/plain": [
       "<Figure size 1080x288 with 1 Axes>"
      ]
     },
     "metadata": {
      "needs_background": "light"
     },
     "output_type": "display_data"
    }
   ],
   "source": [
    "plt.rcParams[\"figure.figsize\"] = (15, 4)    # размер графика\n",
    "\n",
    "# датафрейм с кумулятивным количеством заказов и кумулятивной выручкой по дням в группе А\n",
    "cumulativeRevenueA = cumulativeData[cumulativeData['group']=='A'][['date','revenue', 'orders']]\n",
    "\n",
    "# датафрейм с кумулятивным количеством заказов и кумулятивной выручкой по дням в группе B\n",
    "cumulativeRevenueB = cumulativeData[cumulativeData['group']=='B'][['date','revenue', 'orders']]\n",
    "\n",
    "# график выручки группы А\n",
    "plt.plot(cumulativeRevenueA['date'], cumulativeRevenueA['revenue'], label='A')\n",
    "\n",
    "# график выручки группы B\n",
    "plt.plot(cumulativeRevenueB['date'], cumulativeRevenueB['revenue'], label='B')\n",
    "\n",
    "plt.xticks(rotation=90) \n",
    "plt.legend()\n",
    "plt.xticks(cumulativeData.date)\n",
    "plt.title('Кумулятивная выручка по группам')\n",
    "plt.xlabel('Дата')\n",
    "plt.ylabel('Выручка, р.')\n",
    "plt.show()"
   ]
  },
  {
   "cell_type": "markdown",
   "metadata": {},
   "source": [
    "#### **Вывод**\n",
    "Кумулятивная выручка для группы В до 2019-08-19 слегка опережает этот же параметр для группы А, после чего начинается резкое стабильное значительное превышение. Это может говорить о повышении среднего чека, об увеличении кол-ва покупателей и/или об увеличении кол-ва покупок на одного покупателя."
   ]
  },
  {
   "cell_type": "markdown",
   "metadata": {},
   "source": [
    "### Кумулятивный средний чек по группам"
   ]
  },
  {
   "cell_type": "code",
   "execution_count": 16,
   "metadata": {},
   "outputs": [
    {
     "data": {
      "image/png": "[encoded data removed]",
      "text/plain": [
       "<Figure size 1080x288 with 1 Axes>"
      ]
     },
     "metadata": {
      "needs_background": "light"
     },
     "output_type": "display_data"
    }
   ],
   "source": [
    "plt.plot(cumulativeRevenueA['date'], cumulativeRevenueA['revenue']/cumulativeRevenueA['orders'], label='A')\n",
    "plt.plot(cumulativeRevenueB['date'], cumulativeRevenueB['revenue']/cumulativeRevenueB['orders'], label='B')\n",
    "plt.legend()\n",
    "plt.xticks(rotation=90) \n",
    "plt.legend()\n",
    "plt.xticks(cumulativeData.date)\n",
    "plt.title('Кумулятивный средний чек по группам')\n",
    "plt.xlabel('Дата')\n",
    "plt.ylabel('Средний чек, р.')\n",
    "plt.show()"
   ]
  },
  {
   "cell_type": "markdown",
   "metadata": {},
   "source": [
    "#### **Вывод**\n",
    "Кумулятивн средний чек для группы В также превышате этот же показатель для группы А после 2019-08-19"
   ]
  },
  {
   "cell_type": "markdown",
   "metadata": {},
   "source": [
    "### График относительного изменения кумулятивного среднего чека группы B к группе A"
   ]
  },
  {
   "cell_type": "code",
   "execution_count": 18,
   "metadata": {},
   "outputs": [
    {
     "data": {
      "image/png": "[encoded data removed]",
      "text/plain": [
       "<Figure size 1080x288 with 1 Axes>"
      ]
     },
     "metadata": {
      "needs_background": "light"
     },
     "output_type": "display_data"
    }
   ],
   "source": [
    "# объединение данных\n",
    "mergedCumulativeRevenue = cumulativeRevenueA.merge(cumulativeRevenueB, left_on='date', right_on='date', how='left', suffixes=['A', 'B'])\n",
    "\n",
    "# отношение средних чеков\n",
    "plt.plot(mergedCumulativeRevenue['date'], (mergedCumulativeRevenue['revenueB']/mergedCumulativeRevenue['ordersB'])/(mergedCumulativeRevenue['revenueA']/mergedCumulativeRevenue['ordersA'])-1, label='Относительное превышение кумулятивного среднего чека гр.B к гр.A')\n",
    "plt.legend()\n",
    "plt.axhline(y=0, color='black', linestyle='--') # ось X\n",
    "plt.xticks(rotation=90) \n",
    "# plt.legend()\n",
    "plt.xticks(cumulativeData.date)\n",
    "plt.title('Отн-ое изменение кумулятивного среднего чека группы B к группе A')\n",
    "plt.xlabel('Дата')\n",
    "plt.ylabel('Отн-ое изменение')\n",
    "plt.show()"
   ]
  },
  {
   "cell_type": "code",
   "execution_count": 19,
   "metadata": {},
   "outputs": [
    {
     "name": "stdout",
     "output_type": "stream",
     "text": [
      "Максимум относительного превышения кумулятивного среднего чека В над А :\n",
      " 49.47 %\n"
     ]
    }
   ],
   "source": [
    "print('Максимум относительного превышения кумулятивного среднего чека В над А :\\n', \\\n",
    "      round(((mergedCumulativeRevenue['revenueB']/mergedCumulativeRevenue['ordersB'])/\\\n",
    "             (mergedCumulativeRevenue['revenueA']/mergedCumulativeRevenue['ordersA'])-1).max()*100, 2), \"%\")"
   ]
  },
  {
   "cell_type": "markdown",
   "metadata": {},
   "source": [
    "#### **Вывод**\n",
    "Относительное сравнение кумулятивного среднего чека группы В с группой А так же показывает в основном превышение данного показателя за отчетный период и составляет в максимуме 49,47%, что приходится на дату 2019-08-19"
   ]
  },
  {
   "cell_type": "markdown",
   "metadata": {},
   "source": [
    "### Кумулятивная конверсия по группам"
   ]
  },
  {
   "cell_type": "code",
   "execution_count": 20,
   "metadata": {},
   "outputs": [
    {
     "data": {
      "image/png": "[encoded data removed]",
      "text/plain": [
       "<Figure size 1080x288 with 1 Axes>"
      ]
     },
     "metadata": {
      "needs_background": "light"
     },
     "output_type": "display_data"
    }
   ],
   "source": [
    "# кумулятивная конверсия\n",
    "cumulativeData['conversion'] = cumulativeData['orders']/cumulativeData['visitors']\n",
    "\n",
    "cumulativeDataA = cumulativeData[cumulativeData['group']=='A']              # данные по группе A\n",
    "cumulativeDataB = cumulativeData[cumulativeData['group']=='B']              # данные по группе B\n",
    "\n",
    "plt.plot(cumulativeDataA['date'], cumulativeDataA['conversion'], label='A') # графики\n",
    "plt.plot(cumulativeDataB['date'], cumulativeDataB['conversion'], label='B')\n",
    "plt.legend()\n",
    "plt.xticks(rotation=90) \n",
    "plt.axis([\"2019-08-01\", '2019-08-31', 0, 0.05])                             # масштаб осей\n",
    "plt.title('Кумулятивная конверсия по группам')\n",
    "plt.xlabel('Дата')\n",
    "plt.ylabel('Уровень конверсии')\n",
    "plt.show()"
   ]
  },
  {
   "cell_type": "markdown",
   "metadata": {},
   "source": [
    "#### **Вывод**\n",
    "Кумулятивная конверсия по группам нестабильна в течение первых шести дней, что говорит о дребезге на низких объемах анализа, после чего показатель для группы В стабильно превышает показатель группы А"
   ]
  },
  {
   "cell_type": "markdown",
   "metadata": {},
   "source": [
    "### График относительного изменения кумулятивной конверсии группы B к группе A"
   ]
  },
  {
   "cell_type": "code",
   "execution_count": 21,
   "metadata": {},
   "outputs": [
    {
     "data": {
      "image/png": "[encoded data removed]",
      "text/plain": [
       "<Figure size 1080x288 with 1 Axes>"
      ]
     },
     "metadata": {
      "needs_background": "light"
     },
     "output_type": "display_data"
    }
   ],
   "source": [
    "mergedCumulativeConversions = cumulativeDataA[['date','conversion']].merge(cumulativeDataB[['date','conversion']], left_on='date', right_on='date', how='left', suffixes=['A', 'B'])\n",
    "\n",
    "plt.plot(mergedCumulativeConversions['date'], mergedCumulativeConversions['conversionB']/mergedCumulativeConversions['conversionA']-1, label=\"Относительное превышение конверсии гр.B относительно гр.A\")\n",
    "plt.legend()\n",
    "plt.xticks(rotation=90) \n",
    "plt.axhline(y=0, color='black', linestyle='--')\n",
    "plt.axhline(y=-0.1, color='grey', linestyle='--')\n",
    "plt.axis([\"2019-08-01\", '2019-08-31', -0.6, 0.6])\n",
    "plt.title('Отн-ое изменение уровня конверсии группы B к группе A')\n",
    "plt.xlabel('Дата')\n",
    "plt.ylabel('Отн-ое изменение')\n",
    "plt.show()"
   ]
  },
  {
   "cell_type": "code",
   "execution_count": 22,
   "metadata": {},
   "outputs": [
    {
     "name": "stdout",
     "output_type": "stream",
     "text": [
      "Максимум относительного превышения конверии В над А : 20.86 %\n"
     ]
    }
   ],
   "source": [
    "print('Максимум относительного превышения конверии В над А :', \\\n",
    "      round(((mergedCumulativeConversions['conversionB']/mergedCumulativeConversions['conversionA']-1).max())*100, 2), \"%\")"
   ]
  },
  {
   "cell_type": "markdown",
   "metadata": {},
   "source": [
    "#### **Вывод**\n",
    "Относительная кумулятивная конверсия группы В после получения достаточного объема данных стабильно превышает показатель гр.А по прошествии шести дней с начала наблюдения и достигает положительного экстремума в 20,86%"
   ]
  },
  {
   "cell_type": "markdown",
   "metadata": {},
   "source": [
    "### Точечный график количества заказов по пользователям, перцентили 90 и 95"
   ]
  },
  {
   "cell_type": "code",
   "execution_count": 23,
   "metadata": {},
   "outputs": [
    {
     "name": "stdout",
     "output_type": "stream",
     "text": [
      "          userId  orders\n",
      "1023  4256040402      11\n",
      "591   2458001652      11\n",
      "569   2378935119       9\n",
      "487   2038680547       8\n",
      "44     199603092       5\n",
      "744   3062433592       5\n",
      "55     237748145       5\n",
      "917   3803269165       5\n",
      "299   1230306981       5\n",
      "897   3717692402       5\n"
     ]
    }
   ],
   "source": [
    "ordersByUsers = (\n",
    "    orders.groupby('visitorid', as_index=False)\n",
    "    .agg({'transactionid': 'nunique'})\n",
    ")\n",
    "\n",
    "ordersByUsers.columns = ['userId', 'orders']\n",
    "\n",
    "print(ordersByUsers.sort_values('orders', ascending=False).head(10))"
   ]
  },
  {
   "cell_type": "code",
   "execution_count": 24,
   "metadata": {},
   "outputs": [
    {
     "data": {
      "image/png": "[encoded data removed]",
      "text/plain": [
       "<Figure size 1080x288 with 1 Axes>"
      ]
     },
     "metadata": {
      "needs_background": "light"
     },
     "output_type": "display_data"
    }
   ],
   "source": [
    "plt.hist(ordersByUsers['orders'], bins=12)\n",
    "plt.title('Гистограмма распределения кол-ва заказов на клиента')\n",
    "plt.xlabel('Кол-во заказов на одного клиента')\n",
    "plt.ylabel('Кол-во пользователей')\n",
    "plt.show()"
   ]
  },
  {
   "cell_type": "code",
   "execution_count": 25,
   "metadata": {},
   "outputs": [
    {
     "data": {
      "image/png": "[encoded data removed]",
      "text/plain": [
       "<Figure size 1080x288 with 1 Axes>"
      ]
     },
     "metadata": {
      "needs_background": "light"
     },
     "output_type": "display_data"
    }
   ],
   "source": [
    "x_values = pd.Series(range(0,len(ordersByUsers)))\n",
    "plt.scatter(x_values, ordersByUsers['orders'])\n",
    "plt.title('Точечное распределение кол-ва заказов на клиента')\n",
    "plt.xlabel('Кол-во клиентов')\n",
    "plt.ylabel('Кол-во заказов на одного клиента')\n",
    "plt.show()"
   ]
  },
  {
   "cell_type": "code",
   "execution_count": 26,
   "metadata": {},
   "outputs": [
    {
     "name": "stdout",
     "output_type": "stream",
     "text": [
      "[2. 4.]\n"
     ]
    }
   ],
   "source": [
    "print(np.percentile(ordersByUsers['orders'], [95, 99]))"
   ]
  },
  {
   "cell_type": "markdown",
   "metadata": {},
   "source": [
    "#### **Вывод**\n",
    "* Подавляющая часть пользователей делает заказы в одном количестве. Нередки пользователи, которые делают 2 заказа. Также встречаются пользователи, делающие более двух заказов\n",
    "* 95% клиентов делают до 2-х заказов включительно\n",
    "* 99% - до 4-х включительно"
   ]
  },
  {
   "cell_type": "markdown",
   "metadata": {},
   "source": [
    "### Точечный график стоимостей заказов, перцентили 90 и 95"
   ]
  },
  {
   "cell_type": "code",
   "execution_count": 27,
   "metadata": {},
   "outputs": [
    {
     "data": {
      "image/png": "[encoded data removed]",
      "text/plain": [
       "<Figure size 1080x288 with 1 Axes>"
      ]
     },
     "metadata": {
      "needs_background": "light"
     },
     "output_type": "display_data"
    }
   ],
   "source": [
    "plt.hist(orders['revenue'],bins=100)\n",
    "plt.title('Гистограмма распределения стоимости заказов на клиента')\n",
    "plt.xlabel('Стоимость заказов')\n",
    "plt.ylabel('Кол-во клиентов')\n",
    "plt.show()"
   ]
  },
  {
   "cell_type": "code",
   "execution_count": 28,
   "metadata": {},
   "outputs": [
    {
     "data": {
      "image/png": "[encoded data removed]",
      "text/plain": [
       "<Figure size 1080x288 with 1 Axes>"
      ]
     },
     "metadata": {
      "needs_background": "light"
     },
     "output_type": "display_data"
    }
   ],
   "source": [
    "x_values = pd.Series(range(0,len(orders['revenue'])))\n",
    "plt.scatter(x_values, orders['revenue'])\n",
    "plt.title('Гистограмма распределения стоимости заказов на клиента')\n",
    "plt.xlabel('Кол-во клиентов')\n",
    "plt.ylabel('Стоимость заказов')\n",
    "plt.show()"
   ]
  },
  {
   "cell_type": "code",
   "execution_count": 29,
   "metadata": {},
   "outputs": [
    {
     "name": "stdout",
     "output_type": "stream",
     "text": [
      "[28000.  58233.2]\n"
     ]
    }
   ],
   "source": [
    "print(np.percentile(orders['revenue'], [95, 99]))"
   ]
  },
  {
   "cell_type": "markdown",
   "metadata": {},
   "source": [
    "#### **Вывод**\n",
    "* 95% клиентов делают до заказ на сумму до 28,000р\n",
    "* 99% - приблизительно до 58.233р\n",
    "* принято, что обычный пользователель совершает не более двух заказов за короткий срок, поэтому выбираем границу необычности / нормальности в 95%\n"
   ]
  },
  {
   "cell_type": "markdown",
   "metadata": {},
   "source": [
    "### Статистическая значимость различий в конверсии  и среднего чека между группами в случае неотфильтрованных выбросов («сырые» данные)"
   ]
  },
  {
   "cell_type": "markdown",
   "metadata": {},
   "source": [
    "#### Отличие конверсий"
   ]
  },
  {
   "cell_type": "markdown",
   "metadata": {},
   "source": [
    "* В качестве нулевой гипотезы $Н_{0}$ примем, что статистически значимого различия между конверсиями групп нет;\n",
    "* Гипотеза $Н_{1}$ будет говорить о противоположном: имеется статистически значимое различие между уровнями конверсий двух групп на выбранном пороговом уровне значимости alpha;\n",
    "* За уровень значимости возьмем стандарт alpha=0.05\n",
    "* Для расчета стат.значимости различий уровня конверсий будет использоваться непараметрический тест Уилкоксона-Манна-Уитни\n"
   ]
  },
  {
   "cell_type": "code",
   "execution_count": 30,
   "metadata": {},
   "outputs": [],
   "source": [
    "ordersByUsersA = (\n",
    "    orders[orders['group'] == 'A']\n",
    "    .groupby('visitorid', as_index=False)\n",
    "    .agg({'transactionid': pd.Series.nunique})\n",
    ")\n",
    "ordersByUsersA.columns = ['userId', 'orders']\n",
    "\n",
    "ordersByUsersB = (\n",
    "    orders[orders['group'] == 'B']\n",
    "    .groupby('visitorid', as_index=False)\n",
    "    .agg({'transactionid': pd.Series.nunique})\n",
    ")\n",
    "ordersByUsersB.columns = ['userId', 'orders']"
   ]
  },
  {
   "cell_type": "code",
   "execution_count": 31,
   "metadata": {},
   "outputs": [
    {
     "name": "stdout",
     "output_type": "stream",
     "text": [
      "         date  ordersPerDateA  revenuePerDateA  ordersPerDateB  \\\n",
      "0  2019-08-01              24           148579              21   \n",
      "1  2019-08-02              20            93822              24   \n",
      "2  2019-08-03              24           112473              16   \n",
      "3  2019-08-04              16            70825              17   \n",
      "4  2019-08-05              25           124218              23   \n",
      "\n",
      "   revenuePerDateB  ordersCummulativeA  revenueCummulativeA  \\\n",
      "0           101217                  24               148579   \n",
      "1           165531                  44               242401   \n",
      "2           114248                  68               354874   \n",
      "3           108571                  84               425699   \n",
      "4            92428                 109               549917   \n",
      "\n",
      "   ordersCummulativeB  revenueCummulativeB  visitorsPerDateA  \\\n",
      "0                  21               101217               719   \n",
      "1                  45               266748               619   \n",
      "2                  61               380996               507   \n",
      "3                  78               489567               717   \n",
      "4                 101               581995               756   \n",
      "\n",
      "   visitorsPerDateB  visitorsCummulativeA  visitorsCummulativeB  \n",
      "0               713                   719                   713  \n",
      "1               581                  1338                  1294  \n",
      "2               509                  1845                  1803  \n",
      "3               770                  2562                  2573  \n",
      "4               707                  3318                  3280  \n"
     ]
    }
   ],
   "source": [
    "visitorsADaily = visitors[visitors['group'] == 'A'][['date', 'visitors']]\n",
    "visitorsADaily.columns = ['date', 'visitorsPerDateA']\n",
    "\n",
    "visitorsACummulative = visitorsADaily.apply(\n",
    "    lambda x: visitorsADaily[visitorsADaily['date'] <= x['date']].agg(\n",
    "        {'date': 'max', 'visitorsPerDateA': 'sum'}\n",
    "    ),\n",
    "    axis=1,\n",
    ")\n",
    "visitorsACummulative.columns = ['date', 'visitorsCummulativeA']\n",
    "\n",
    "visitorsBDaily = visitors[visitors['group'] == 'B'][['date', 'visitors']]\n",
    "visitorsBDaily.columns = ['date', 'visitorsPerDateB']\n",
    "\n",
    "visitorsBCummulative = visitorsBDaily.apply(\n",
    "    lambda x: visitorsBDaily[visitorsBDaily['date'] <= x['date']].agg(\n",
    "        {'date': 'max', 'visitorsPerDateB': 'sum'}\n",
    "    ),\n",
    "    axis=1,\n",
    ")\n",
    "visitorsBCummulative.columns = ['date', 'visitorsCummulativeB']\n",
    "\n",
    "ordersADaily = (\n",
    "    orders[orders['group'] == 'A'][['date', 'transactionid', 'visitorid', 'revenue']]\n",
    "    .groupby('date', as_index=False)\n",
    "    .agg({'transactionid': pd.Series.nunique, 'revenue': 'sum'})\n",
    ")\n",
    "ordersADaily.columns = ['date', 'ordersPerDateA', 'revenuePerDateA']\n",
    "\n",
    "ordersACummulative = ordersADaily.apply(\n",
    "    lambda x: ordersADaily[ordersADaily['date'] <= x['date']].agg(\n",
    "        {'date': 'max', 'ordersPerDateA': 'sum', 'revenuePerDateA': 'sum'}\n",
    "    ),\n",
    "    axis=1,\n",
    ").sort_values(by=['date'])\n",
    "ordersACummulative.columns = [\n",
    "    'date',\n",
    "    'ordersCummulativeA',\n",
    "    'revenueCummulativeA',\n",
    "]\n",
    "\n",
    "ordersBDaily = (\n",
    "    orders[orders['group'] == 'B'][['date', 'transactionid', 'visitorid', 'revenue']]\n",
    "    .groupby('date', as_index=False)\n",
    "    .agg({'transactionid': pd.Series.nunique, 'revenue': 'sum'})\n",
    ")\n",
    "ordersBDaily.columns = ['date', 'ordersPerDateB', 'revenuePerDateB']\n",
    "\n",
    "ordersBCummulative = ordersBDaily.apply(\n",
    "    lambda x: ordersBDaily[ordersBDaily['date'] <= x['date']].agg(\n",
    "        {'date': 'max', 'ordersPerDateB': 'sum', 'revenuePerDateB': 'sum'}\n",
    "    ),\n",
    "    axis=1,\n",
    ").sort_values(by=['date'])\n",
    "ordersBCummulative.columns = [\n",
    "    'date',\n",
    "    'ordersCummulativeB',\n",
    "    'revenueCummulativeB',\n",
    "]\n",
    "\n",
    "data = (\n",
    "    ordersADaily.merge(\n",
    "        ordersBDaily, left_on='date', right_on='date', how='left'\n",
    "    )\n",
    "    .merge(ordersACummulative, left_on='date', right_on='date', how='left')\n",
    "    .merge(ordersBCummulative, left_on='date', right_on='date', how='left')\n",
    "    .merge(visitorsADaily, left_on='date', right_on='date', how='left')\n",
    "    .merge(visitorsBDaily, left_on='date', right_on='date', how='left')\n",
    "    .merge(visitorsACummulative, left_on='date', right_on='date', how='left')\n",
    "    .merge(visitorsBCummulative, left_on='date', right_on='date', how='left')\n",
    ")\n",
    "print(data.head(5))"
   ]
  },
  {
   "cell_type": "code",
   "execution_count": 32,
   "metadata": {},
   "outputs": [],
   "source": [
    "pd.Series(0, index=np.arange(data['visitorsPerDateA'].sum() - len(ordersByUsersA['orders'])), name='orders')\n",
    "sampleA = pd.concat([ordersByUsersA['orders'],pd.Series(0, index=np.arange(data['visitorsPerDateA'].sum() - len(ordersByUsersA['orders'])), name='orders')],axis=0)\n",
    "sampleB = pd.concat([ordersByUsersB['orders'],pd.Series(0, index=np.arange(data['visitorsPerDateB'].sum() - len(ordersByUsersB['orders'])), name='orders')],axis=0)"
   ]
  },
  {
   "cell_type": "code",
   "execution_count": 33,
   "metadata": {},
   "outputs": [
    {
     "name": "stdout",
     "output_type": "stream",
     "text": [
      "p.value =  0.017\n",
      "Конверсии групп статистически значимо отличаются\n",
      "Относительное отличие конверсии гр.В от гр.А =  0.138\n"
     ]
    }
   ],
   "source": [
    "ordersByUsersA = (\n",
    "    orders[orders['group'] == 'A']\n",
    "    .groupby('visitorid', as_index=False)\n",
    "    .agg({'transactionid': pd.Series.nunique})\n",
    ")\n",
    "ordersByUsersA.columns = ['visitorid', 'orders']\n",
    "\n",
    "ordersByUsersB = (\n",
    "    orders[orders['group'] == 'B']\n",
    "    .groupby('visitorid', as_index=False)\n",
    "    .agg({'transactionid': pd.Series.nunique})\n",
    ")\n",
    "ordersByUsersB.columns = ['visitorid', 'orders']\n",
    "\n",
    "sampleA = pd.concat(\n",
    "    [\n",
    "        ordersByUsersA['orders'],\n",
    "        pd.Series(\n",
    "            0,\n",
    "            index=np.arange(\n",
    "                data['visitorsPerDateA'].sum() - len(ordersByUsersA['orders'])\n",
    "            ),\n",
    "            name='orders',\n",
    "        ),\n",
    "    ],\n",
    "    axis=0,\n",
    ")\n",
    "\n",
    "sampleB = pd.concat(\n",
    "    [\n",
    "        ordersByUsersB['orders'],\n",
    "        pd.Series(\n",
    "            0,\n",
    "            index=np.arange(\n",
    "                data['visitorsPerDateB'].sum() - len(ordersByUsersB['orders'])\n",
    "            ),\n",
    "            name='orders',\n",
    "        ),\n",
    "    ],\n",
    "    axis=0,\n",
    ")\n",
    "alpha = 0.05\n",
    "result = st.mannwhitneyu(sampleA, sampleB)[1]\n",
    "print('p.value = ', \"{0:.3f}\".format(result))\n",
    "if result > alpha: print(\"Стат.значемого отличия в конверсии между группами нет\")\n",
    "else: print(\"Конверсии групп статистически значимо отличаются\") \n",
    "\n",
    "print(\"Относительное отличие конверсии гр.В от гр.А = \", \"{0:.3f}\".format(sampleB.mean() / sampleA.mean() - 1))\n"
   ]
  },
  {
   "cell_type": "markdown",
   "metadata": {},
   "source": [
    "#### Отличие средних чеков"
   ]
  },
  {
   "cell_type": "code",
   "execution_count": 34,
   "metadata": {},
   "outputs": [
    {
     "name": "stdout",
     "output_type": "stream",
     "text": [
      "p.value =  0.729\n",
      "Стат.значемого отличия между средними чеками между группами нет\n",
      "Относительное отличие средних чеков гр.В от гр.А =  0.259\n"
     ]
    }
   ],
   "source": [
    "# по аналогии с конверсией, Н0 - различий нет, Н1 - есть, alpha =0.05\n",
    "result = st.mannwhitneyu(orders[orders['group']=='A']['revenue'], orders[orders['group']=='B']['revenue'])[1]\n",
    "print('p.value = ', \"{0:.3f}\".format(result))\n",
    "if result > alpha: print(\"Стат.значемого отличия между средними чеками между группами нет\")\n",
    "else: print(\"Средние чеков групп статистически значимо отличаются\") \n",
    "print(\"Относительное отличие средних чеков гр.В от гр.А = \", '{0:.3f}'.format(orders[orders['group']=='B']['revenue'].mean()/orders[orders['group']=='A']['revenue'].mean()-1))"
   ]
  },
  {
   "cell_type": "markdown",
   "metadata": {},
   "source": [
    "#### **Вывод** неочищенные данные\n",
    "* Конверсии групп статистически отличимы\n",
    "* Стат.значемого отличия в средними чеками между группами нет"
   ]
  },
  {
   "cell_type": "markdown",
   "metadata": {},
   "source": [
    "### Статистическая значимость различий в конверсии  и среднего чека между группами в случае очищенных данных"
   ]
  },
  {
   "cell_type": "code",
   "execution_count": 35,
   "metadata": {},
   "outputs": [
    {
     "name": "stdout",
     "output_type": "stream",
     "text": [
      "Кол-во пользователей с необычным пользовательским поведением: 74\n"
     ]
    }
   ],
   "source": [
    "# Кол-во необычных по поводенеию пользователей\n",
    "usersWithManyOrders = pd.concat(\n",
    "    [\n",
    "        ordersByUsersA[ordersByUsersA['orders'] > 2]['visitorid'],            # более 2-х заказов\n",
    "        ordersByUsersB[ordersByUsersB['orders'] > 2]['visitorid'],\n",
    "    ],\n",
    "    axis=0,\n",
    ")\n",
    "usersWithExpensiveOrders = orders[orders['revenue'] > 28000]['visitorid']     # сумма заказа более \n",
    "exceptional = (                                                               # 28000р для 5%\n",
    "    pd.concat([usersWithManyOrders, usersWithExpensiveOrders], axis=0)        # клиентов\n",
    "    .drop_duplicates()\n",
    "    .sort_values()\n",
    ")\n",
    "# print(exceptional.head(5))\n",
    "print(f'Кол-во пользователей с необычным пользовательским поведением: {len(exceptional)}')"
   ]
  },
  {
   "cell_type": "code",
   "execution_count": 36,
   "metadata": {},
   "outputs": [],
   "source": [
    "# фильтрация групп от необычных пользователей\n",
    "\n",
    "sampleAFiltered = pd.concat(\n",
    "    [\n",
    "        ordersByUsersA[\n",
    "            np.logical_not(ordersByUsersA['visitorid'].isin(exceptional))\n",
    "        ]['orders'],\n",
    "        pd.Series(\n",
    "            0,\n",
    "            index=np.arange(\n",
    "                data['visitorsPerDateA'].sum() - len(ordersByUsersA['orders'])\n",
    "            ),\n",
    "            name='orders',\n",
    "        ),\n",
    "    ],\n",
    "    axis=0,\n",
    ")\n",
    "\n",
    "sampleBFiltered = pd.concat(\n",
    "    [\n",
    "        ordersByUsersB[\n",
    "            np.logical_not(ordersByUsersB['visitorid'].isin(exceptional))\n",
    "        ]['orders'],\n",
    "        pd.Series(\n",
    "            0,\n",
    "            index=np.arange(\n",
    "                data['visitorsPerDateB'].sum() - len(ordersByUsersB['orders'])\n",
    "            ),\n",
    "            name='orders',\n",
    "        ),\n",
    "    ],\n",
    "    axis=0,\n",
    ")"
   ]
  },
  {
   "cell_type": "markdown",
   "metadata": {},
   "source": [
    "Аналогчным образом расчитываем стат.значимость гипотез для очищенных данных"
   ]
  },
  {
   "cell_type": "code",
   "execution_count": 37,
   "metadata": {},
   "outputs": [
    {
     "name": "stdout",
     "output_type": "stream",
     "text": [
      "p.value =  0.013\n",
      "Конверсии групп статистически значимо отличаются\n",
      "Относительное отличие конверсии отфильтрованных гр.В от гр.А =  0.173\n"
     ]
    }
   ],
   "source": [
    "result = st.mannwhitneyu(sampleAFiltered, sampleBFiltered)[1]\n",
    "print('p.value = ', \"{0:.3f}\".format(result))\n",
    "if result > alpha: print(\"Стат.значемого отличия в конверсии между группами нет\")\n",
    "else: print(\"Конверсии групп статистически значимо отличаются\") \n",
    "\n",
    "print(\"Относительное отличие конверсии отфильтрованных гр.В от гр.А = \", \"{0:.3f}\".format(sampleBFiltered.mean() / sampleAFiltered.mean() - 1))"
   ]
  },
  {
   "cell_type": "code",
   "execution_count": 39,
   "metadata": {},
   "outputs": [
    {
     "name": "stdout",
     "output_type": "stream",
     "text": [
      "p.value =  0.738\n",
      "Стат.значемого отличия между средними чеками между группами нет\n",
      "Относительное отличие средних чеков гр.В от гр.А =  -0.020\n"
     ]
    }
   ],
   "source": [
    "result = st.mannwhitneyu(orders[np.logical_and(orders['group'] == 'A'\n",
    "        ,np.logical_not(orders['visitorid'].isin(exceptional)),)]['revenue']\n",
    "        ,orders[np.logical_and(orders['group'] == 'B'\n",
    "        , np.logical_not(orders['visitorid'].isin(exceptional)),)]['revenue'],)[1]\n",
    "\n",
    "print('p.value = ', '{0:.3f}'.format(result))\n",
    "if result > alpha: print(\"Стат.значемого отличия между средними чеками между группами нет\")\n",
    "else: print(\"Средние чеков групп статистически значимо отличаются\") \n",
    "print(\"Относительное отличие средних чеков гр.В от гр.А = \", \"{0:.3f}\".format(orders[np.logical_and(orders['group'] == 'B'\n",
    "        , np.logical_not(orders['visitorid'].isin(exceptional)),)]['revenue'].mean()\\\n",
    "        / orders[np.logical_and(orders['group'] == 'A', np.logical_not(orders['visitorid']\n",
    "        .isin(exceptional)),)]['revenue'].mean() - 1))"
   ]
  },
  {
   "cell_type": "markdown",
   "metadata": {},
   "source": [
    "#### **Вывод**\n",
    "* Конверсии групп статистически значимо отличаются (для неочищенных данных p.value = 1.7%, для очищенных данных p.value = 1.3%)\n",
    "* Стат.значемого отличия между средними чеками между группами нет  (для неочищенных данных p.value = 72.9%, для очищенных данные - 73.8%)\n",
    "* Различие между группами обусловлено разницей между конверсиями: конверсия в гр.В выше, чем в гр.А"
   ]
  },
  {
   "cell_type": "markdown",
   "metadata": {},
   "source": [
    "### **Общий вывод**\n",
    "\n",
    "**Данные**\n",
    "* При учете влияния, степени уверенности и затрат на усилия для проведения проверки гипотез лучший показатель ICE имеет гипотеза №8, причем следующая за ней гипотеза №0 отстоит по нормализованному уровню на 18%\n",
    "* При включении в формулу объема вовлеченных пользователей лидером становится гипотеза № 7, причем разрыв со вторым местом, которое занимает гипотеза №2, составляет уже 50%\n",
    "\n",
    "**Кумулятивная выручки по группам**\n",
    "\n",
    "Кумулятивная выручка для группы В до 2019-08-19 слегка опережает этот же параметр для группы А, после чего начинается резкое стабильное значительное превышение. Это может говорить о повышении среднего чека, об увеличении кол-ва покупателей и/или об увеличении кол-ва покупок на одного покупателя.\n",
    "\n",
    "**Кумулятивный средний чек по группам**\n",
    "\n",
    "Кумулятивн средний чек для группы В также превышате этот же показатель для группы А после 2019-08-19\n",
    "Относительное сравнение кумулятивного среднего чека группы В с группой А так же показывает в основном превышение данного показателя за отчетный период и составляет в максимуме 49,47%, что приходится на дату 2019-08-19\n",
    "\n",
    "**Кумулятивная конверсия по группам**\n",
    "\n",
    "Кумулятивная конверсия по группам нестабильна в течение первых шести дней, что говорит о дребезге на низких объемах анализа, после чего показатель для группы В стабильно превышает показатель группы А\n",
    "\n",
    "Относительная кумулятивная конверсия гр.В после получения достаточного объема данных стабильно превышает показатель гр.А по прошествии шести дней с начала наблюдения и достигает положительного экстремума в 20,86%\n",
    "\n",
    "**Количества заказов по пользователям**\n",
    "\n",
    "* Подавляющая часть пользователей делает заказы в одном количестве. Нередки пользователи, которые делают 2 заказа. Также встречаются пользователи, делающие более двух заказов\n",
    "* 95% клиентов делают до 2-х заказов включительно\n",
    "* 99% - до 4-х включительно\n",
    "стоимостей заказов\n",
    "* 95% клиентов делают до заказ на сумму до 28,000р\n",
    "* 99% - приблизительно до 58.233р\n",
    "* Принято, что обычный пользователель совершает не более двух заказов за короткий срок, поэтому выбрана границу необычности / нормальности в 95%\n",
    "\n",
    "\n",
    "**Статистическая значимость различий в конверсии и среднего чека между группами в случае неотфильтрованных выбросов («сырые» данные)**\n",
    "\n",
    "* Конверсии групп статистически отличимы\n",
    "* Стат.значемого отличия в средними чеками между группами нет\n",
    "\n",
    "**Статистическая значимость различий в конверсии и среднего чека между группами в случае очищенных данных**\n",
    "* Конверсии групп статистически значимо отличаются (для неочищенных данных p.value = 1.7%, для очищенных данные - 1.3%)\n",
    "* Стат.значемого отличия между средними чеками между группами нет (для неочищенных данных p.value = 72.9%, для очищенных данных - 73.8%)\n",
    "* Различие между группами обусловлено разницей между конверсиями: конверсия в гр.В выше, чем в гр.А\n",
    "\n"
   ]
  },
  {
   "cell_type": "markdown",
   "metadata": {},
   "source": [
    "**Итог**: в связи с положительной устойчивостью показателя конверсии гр.В в сравнении с гр.А в течение тестового периода продолжительностью в месяц рекомендуется остановить тест, зафиксировать результат победы гр.В в части метрик «конверсия»."
   ]
  },
  {
   "cell_type": "code",
   "execution_count": null,
   "metadata": {},
   "outputs": [],
   "source": []
  }
 ],
 "metadata": {
  "ExecuteTimeLog": [
   {
    "duration": 1324,
    "start_time": "2022-04-16T22:12:59.580Z"
   },
   {
    "duration": 5,
    "start_time": "2022-04-16T22:13:13.444Z"
   },
   {
    "duration": 107,
    "start_time": "2022-04-16T22:13:23.924Z"
   },
   {
    "duration": 35,
    "start_time": "2022-04-16T22:14:24.915Z"
   },
   {
    "duration": 55,
    "start_time": "2022-04-16T22:14:34.986Z"
   },
   {
    "duration": 153,
    "start_time": "2022-04-16T22:15:55.605Z"
   },
   {
    "duration": 139,
    "start_time": "2022-04-16T22:16:36.236Z"
   },
   {
    "duration": 292,
    "start_time": "2022-04-16T22:16:49.585Z"
   },
   {
    "duration": 66,
    "start_time": "2022-04-16T22:17:06.384Z"
   },
   {
    "duration": 3,
    "start_time": "2022-04-16T22:17:36.629Z"
   },
   {
    "duration": 152,
    "start_time": "2022-04-16T22:17:41.438Z"
   },
   {
    "duration": 107,
    "start_time": "2022-04-16T22:17:55.670Z"
   },
   {
    "duration": 9,
    "start_time": "2022-04-16T22:18:02.858Z"
   },
   {
    "duration": 360,
    "start_time": "2022-04-16T22:18:10.712Z"
   },
   {
    "duration": 345,
    "start_time": "2022-04-16T22:18:38.972Z"
   },
   {
    "duration": 613,
    "start_time": "2022-04-16T22:19:12.228Z"
   },
   {
    "duration": 5,
    "start_time": "2022-04-16T22:19:22.866Z"
   },
   {
    "duration": 233,
    "start_time": "2022-04-16T22:19:56.191Z"
   },
   {
    "duration": 371,
    "start_time": "2022-04-16T22:20:20.233Z"
   },
   {
    "duration": 5,
    "start_time": "2022-04-16T22:20:30.782Z"
   },
   {
    "duration": 4,
    "start_time": "2022-04-16T22:20:42.137Z"
   },
   {
    "duration": 9,
    "start_time": "2022-04-16T22:21:44.675Z"
   },
   {
    "duration": 112,
    "start_time": "2022-04-16T22:21:54.855Z"
   },
   {
    "duration": 109,
    "start_time": "2022-04-16T22:22:01.481Z"
   },
   {
    "duration": 4,
    "start_time": "2022-04-16T22:22:08.677Z"
   },
   {
    "duration": 221,
    "start_time": "2022-04-16T22:22:35.801Z"
   },
   {
    "duration": 128,
    "start_time": "2022-04-16T22:22:44.275Z"
   },
   {
    "duration": 5,
    "start_time": "2022-04-16T22:22:51.283Z"
   },
   {
    "duration": 116,
    "start_time": "2022-04-16T22:23:59.223Z"
   },
   {
    "duration": 204,
    "start_time": "2022-04-16T22:24:06.249Z"
   },
   {
    "duration": 6,
    "start_time": "2022-04-16T22:24:41.817Z"
   },
   {
    "duration": 142,
    "start_time": "2022-04-16T22:24:48.623Z"
   },
   {
    "duration": 11,
    "start_time": "2022-04-16T22:25:32.116Z"
   },
   {
    "duration": 8,
    "start_time": "2022-04-16T22:27:20.758Z"
   },
   {
    "duration": 9,
    "start_time": "2022-04-16T22:29:29.586Z"
   },
   {
    "duration": 8,
    "start_time": "2022-04-16T22:29:42.477Z"
   },
   {
    "duration": 25,
    "start_time": "2022-04-16T22:30:05.437Z"
   },
   {
    "duration": 14,
    "start_time": "2022-04-16T22:30:13.274Z"
   },
   {
    "duration": 1149,
    "start_time": "2022-04-16T22:32:46.460Z"
   },
   {
    "duration": 35,
    "start_time": "2022-04-16T22:32:48.803Z"
   },
   {
    "duration": 54,
    "start_time": "2022-04-16T22:32:49.717Z"
   },
   {
    "duration": 148,
    "start_time": "2022-04-16T22:32:55.748Z"
   },
   {
    "duration": 149,
    "start_time": "2022-04-16T22:33:12.503Z"
   },
   {
    "duration": 150,
    "start_time": "2022-04-16T22:33:21.807Z"
   },
   {
    "duration": 278,
    "start_time": "2022-04-16T22:33:31.427Z"
   },
   {
    "duration": 4,
    "start_time": "2022-04-16T22:33:34.284Z"
   },
   {
    "duration": 149,
    "start_time": "2022-04-16T22:33:36.247Z"
   },
   {
    "duration": 109,
    "start_time": "2022-04-16T22:33:37.018Z"
   },
   {
    "duration": 9,
    "start_time": "2022-04-16T22:33:37.726Z"
   },
   {
    "duration": 365,
    "start_time": "2022-04-16T22:33:38.511Z"
   },
   {
    "duration": 401,
    "start_time": "2022-04-16T22:33:43.742Z"
   },
   {
    "duration": 460,
    "start_time": "2022-04-16T22:33:47.396Z"
   },
   {
    "duration": 5,
    "start_time": "2022-04-16T22:33:50.481Z"
   },
   {
    "duration": 239,
    "start_time": "2022-04-16T22:33:56.368Z"
   },
   {
    "duration": 356,
    "start_time": "2022-04-16T22:34:02.710Z"
   },
   {
    "duration": 4,
    "start_time": "2022-04-16T22:34:05.159Z"
   },
   {
    "duration": 9,
    "start_time": "2022-04-16T22:34:07.759Z"
   },
   {
    "duration": 112,
    "start_time": "2022-04-16T22:34:09.679Z"
   },
   {
    "duration": 114,
    "start_time": "2022-04-16T22:34:12.116Z"
   },
   {
    "duration": 5,
    "start_time": "2022-04-16T22:34:14.236Z"
   },
   {
    "duration": 228,
    "start_time": "2022-04-16T22:34:17.418Z"
   },
   {
    "duration": 140,
    "start_time": "2022-04-16T22:34:18.905Z"
   },
   {
    "duration": 4,
    "start_time": "2022-04-16T22:34:20.417Z"
   },
   {
    "duration": 132,
    "start_time": "2022-04-16T22:34:26.388Z"
   },
   {
    "duration": 194,
    "start_time": "2022-04-16T22:34:27.561Z"
   },
   {
    "duration": 7,
    "start_time": "2022-04-16T22:34:28.074Z"
   },
   {
    "duration": 141,
    "start_time": "2022-04-16T22:34:28.667Z"
   },
   {
    "duration": 10,
    "start_time": "2022-04-16T22:34:31.844Z"
   },
   {
    "duration": 8,
    "start_time": "2022-04-16T22:34:34.249Z"
   },
   {
    "duration": 8,
    "start_time": "2022-04-16T22:34:41.666Z"
   },
   {
    "duration": 7,
    "start_time": "2022-04-16T22:34:45.237Z"
   },
   {
    "duration": 23,
    "start_time": "2022-04-16T22:34:46.390Z"
   },
   {
    "duration": 15,
    "start_time": "2022-04-16T22:34:50.087Z"
   },
   {
    "duration": 1111,
    "start_time": "2022-04-18T05:08:12.618Z"
   },
   {
    "duration": 38,
    "start_time": "2022-04-18T05:08:13.731Z"
   },
   {
    "duration": 53,
    "start_time": "2022-04-18T05:08:13.770Z"
   },
   {
    "duration": 146,
    "start_time": "2022-04-18T05:08:13.825Z"
   },
   {
    "duration": 178,
    "start_time": "2022-04-18T05:08:13.973Z"
   },
   {
    "duration": 415,
    "start_time": "2022-04-18T05:08:14.155Z"
   },
   {
    "duration": 5,
    "start_time": "2022-04-18T05:08:14.572Z"
   },
   {
    "duration": 262,
    "start_time": "2022-04-18T05:08:14.579Z"
   },
   {
    "duration": 183,
    "start_time": "2022-04-18T05:08:14.843Z"
   },
   {
    "duration": 13,
    "start_time": "2022-04-18T05:08:15.030Z"
   },
   {
    "duration": 538,
    "start_time": "2022-04-18T05:08:15.055Z"
   },
   {
    "duration": 337,
    "start_time": "2022-04-18T05:08:15.595Z"
   },
   {
    "duration": 533,
    "start_time": "2022-04-18T05:08:15.933Z"
   },
   {
    "duration": 5,
    "start_time": "2022-04-18T05:08:16.467Z"
   },
   {
    "duration": 240,
    "start_time": "2022-04-18T05:08:16.473Z"
   },
   {
    "duration": 384,
    "start_time": "2022-04-18T05:08:16.715Z"
   },
   {
    "duration": 4,
    "start_time": "2022-04-18T05:08:17.101Z"
   },
   {
    "duration": 19,
    "start_time": "2022-04-18T05:08:17.106Z"
   },
   {
    "duration": 121,
    "start_time": "2022-04-18T05:08:17.126Z"
   },
   {
    "duration": 107,
    "start_time": "2022-04-18T05:08:17.249Z"
   },
   {
    "duration": 4,
    "start_time": "2022-04-18T05:08:17.357Z"
   },
   {
    "duration": 207,
    "start_time": "2022-04-18T05:08:17.363Z"
   },
   {
    "duration": 123,
    "start_time": "2022-04-18T05:08:17.571Z"
   },
   {
    "duration": 4,
    "start_time": "2022-04-18T05:08:17.695Z"
   },
   {
    "duration": 126,
    "start_time": "2022-04-18T05:08:17.701Z"
   },
   {
    "duration": 205,
    "start_time": "2022-04-18T05:08:17.829Z"
   },
   {
    "duration": 18,
    "start_time": "2022-04-18T05:08:18.036Z"
   },
   {
    "duration": 204,
    "start_time": "2022-04-18T05:08:18.058Z"
   },
   {
    "duration": 10,
    "start_time": "2022-04-18T05:08:18.263Z"
   },
   {
    "duration": 8,
    "start_time": "2022-04-18T05:08:18.274Z"
   },
   {
    "duration": 9,
    "start_time": "2022-04-18T05:08:18.284Z"
   },
   {
    "duration": 24,
    "start_time": "2022-04-18T05:08:18.294Z"
   },
   {
    "duration": 38,
    "start_time": "2022-04-18T05:08:18.319Z"
   }
  ],
  "kernelspec": {
   "display_name": "Python 3 (ipykernel)",
   "language": "python",
   "name": "python3"
  },
  "language_info": {
   "codemirror_mode": {
    "name": "ipython",
    "version": 3
   },
   "file_extension": ".py",
   "mimetype": "text/x-python",
   "name": "python",
   "nbconvert_exporter": "python",
   "pygments_lexer": "ipython3",
   "version": "3.9.7"
  },
  "toc": {
   "base_numbering": 1,
   "nav_menu": {},
   "number_sections": true,
   "sideBar": true,
   "skip_h1_title": true,
   "title_cell": "Table of Contents",
   "title_sidebar": "Contents",
   "toc_cell": false,
   "toc_position": {},
   "toc_section_display": true,
   "toc_window_display": true
  }
 },
 "nbformat": 4,
 "nbformat_minor": 2
}
