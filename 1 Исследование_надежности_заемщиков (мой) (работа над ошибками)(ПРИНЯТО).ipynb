{
 "cells": [
  {
   "cell_type": "markdown",
   "metadata": {},
   "source": [
    "#### Алексей, привет! \n",
    "\n",
    "Меня зовут Максим Попов, и я буду проверять твой проект. Давай будем общаться на «ты». Но если тебе комфортнее на «вы», обязательно сообщи мне об этом. \n",
    "По ходу тетрадки ты найдешь комментарии к проекту, они будут в отдельных ячейках Markdown с заголовком «Комментарий ревьюера». Постарайся учесть эти комментарии для дальнейших проектов.\n",
    "\n",
    "---\n",
    "\n",
    "Я буду отмечать комментарии цветом и примечанием. В конце заголовка комментария будет указан номер итерации проверки. Пожалуйста, не удаляй и не правь мои комментарии\n",
    "\n",
    "Критично - требует исправления, влияет на удачное выполнение проекта\n",
    "\n",
    "Рекомендация - комментарий является рекомендацией или советом. Mожешь учесть их при выполнении будущих заданий. На твое усмотрение\n",
    "\n",
    "Отлично - Так отмечены удачные решения и подходы, на которые стоит опираться в будущих проектах\n",
    "\n",
    "<div class=\"alert alert-block alert-danger\">\n",
    "    \n",
    "\n",
    "### Комментарий от ревьюера\n",
    "Критично\n",
    "\n",
    "Такой комментарий нужно исправить обязательно, он критически влияет на удачное выполнение проекта.\n",
    "</div>\n",
    "    \n",
    "---\n",
    "\n",
    "<div class=\"alert alert-block alert-warning\">\n",
    "    \n",
    "\n",
    "### Комментарий от ревьюера\n",
    "Рекомендация\n",
    "\n",
    "Такой комментарий является рекомендацией или советом. Mожешь учесть их при выполнении будущих заданий. На твое усмотрение. \n",
    "</div>\n",
    "\n",
    "---\n",
    "\n",
    "<div class=\"alert alert-block alert-success\">\n",
    "    \n",
    "\n",
    "### Комментарий от ревьюера\n",
    "Отлично\n",
    "    \n",
    "Так отмечены удачные решения и подходы, на которые стоит опираться в будущих проектах\n",
    "</div>"
   ]
  },
  {
   "cell_type": "markdown",
   "metadata": {},
   "source": [
    "<div class=\"alert alert-block alert-success\">\n",
    "    \n",
    "    \n",
    "### Комментарий от ревьюера v_1\n",
    "    \n",
    "Алексей, у тебя отличная работа, но надо исправить следующие моменты:\n",
    "    \n",
    "1. Заполнение пропусков в доходе\n",
    "2. Обработка явных дубликатов\n",
    "\n",
    "\n",
    "Подробные комментарии по ходу проекта\n",
    "\n",
    "    \n",
    "Желтые комментарии-рекомендации на твое усмотрение.\n",
    "    \n",
    "Если есть вопросы ко мне, можешь оставить их в отдельном комментарии\n",
    "</div>"
   ]
  },
  {
   "cell_type": "markdown",
   "metadata": {},
   "source": [
    "<div class=\"alert alert-block alert-success\">\n",
    " \n",
    "    \n",
    "### Комментарий от ревьюера v_2\n",
    "    \n",
    "Алексей, привет!\n",
    "    \n",
    "Отлично, все критичные комментарии отработаны!\n",
    "    \n",
    "Успеха в дальнейшем обучении!\n",
    "</div>"
   ]
  },
  {
   "cell_type": "markdown",
   "metadata": {},
   "source": [
    "# Исследование надёжности заёмщиков\n",
    "\n",
    "Заказчик — кредитный отдел банка. Нужно разобраться, влияет ли семейное положение и количество детей клиента на факт погашения кредита в срок. Входные данные от банка — статистика о платёжеспособности клиентов.\n",
    "\n",
    "Результаты исследования будут учтены при построении модели **кредитного скоринга** — специальной системы, которая оценивает способность потенциального заёмщика вернуть кредит банку."
   ]
  },
  {
   "cell_type": "markdown",
   "metadata": {},
   "source": [
    "<div class=\"alert alert-block alert-success\">\n",
    "    \n",
    "\n",
    "### Комментарий от ревьюера v_1\n",
    "Отлично\n",
    "    \n",
    "Молодец, что в начале проекта знакомишь с ним, так работа приобретает структуру и лучше воспринимается.\n",
    "</div>"
   ]
  },
  {
   "cell_type": "markdown",
   "metadata": {},
   "source": [
    "## Шаг 1. Откройте файл с данными и изучите общую информацию"
   ]
  },
  {
   "cell_type": "markdown",
   "metadata": {},
   "source": [
    "<div class=\"alert alert-block alert-warning\">\n",
    "    \n",
    "\n",
    "### Комментарий от ревьюера v_1\n",
    "Рекомендация\n",
    "\n",
    "Все используемые в проекте библиотеки следует импортировать в начале тетрадки, в отдельной ячейке\n",
    "</div>"
   ]
  },
  {
   "cell_type": "code",
   "execution_count": 25,
   "metadata": {},
   "outputs": [
    {
     "name": "stdout",
     "output_type": "stream",
     "text": [
      "<class 'pandas.core.frame.DataFrame'>\n",
      "RangeIndex: 21525 entries, 0 to 21524\n",
      "Data columns (total 12 columns):\n",
      "children            21525 non-null int64\n",
      "days_employed       19351 non-null float64\n",
      "dob_years           21525 non-null int64\n",
      "education           21525 non-null object\n",
      "education_id        21525 non-null int64\n",
      "family_status       21525 non-null object\n",
      "family_status_id    21525 non-null int64\n",
      "gender              21525 non-null object\n",
      "income_type         21525 non-null object\n",
      "debt                21525 non-null int64\n",
      "total_income        19351 non-null float64\n",
      "purpose             21525 non-null object\n",
      "dtypes: float64(2), int64(5), object(5)\n",
      "memory usage: 2.0+ MB\n"
     ]
    }
   ],
   "source": [
    "    # импорт библиотеки pandas\n",
    "import pandas as pd       \n",
    "    # чтение данных из файла и занесение данных в переменную\n",
    "df = pd.read_csv(\"/datasets/data.csv\")  \n",
    "    # получение первичной сводной информации методом inof()\n",
    "df.info()  "
   ]
  },
  {
   "cell_type": "markdown",
   "metadata": {},
   "source": [
    "Обратим внимание на общий вид датасета\n"
   ]
  },
  {
   "cell_type": "code",
   "execution_count": 26,
   "metadata": {},
   "outputs": [
    {
     "data": {
      "text/html": [
       "<div>\n",
       "<style scoped>\n",
       "    .dataframe tbody tr th:only-of-type {\n",
       "        vertical-align: middle;\n",
       "    }\n",
       "\n",
       "    .dataframe tbody tr th {\n",
       "        vertical-align: top;\n",
       "    }\n",
       "\n",
       "    .dataframe thead th {\n",
       "        text-align: right;\n",
       "    }\n",
       "</style>\n",
       "<table border=\"1\" class=\"dataframe\">\n",
       "  <thead>\n",
       "    <tr style=\"text-align: right;\">\n",
       "      <th></th>\n",
       "      <th>children</th>\n",
       "      <th>days_employed</th>\n",
       "      <th>dob_years</th>\n",
       "      <th>education</th>\n",
       "      <th>education_id</th>\n",
       "      <th>family_status</th>\n",
       "      <th>family_status_id</th>\n",
       "      <th>gender</th>\n",
       "      <th>income_type</th>\n",
       "      <th>debt</th>\n",
       "      <th>total_income</th>\n",
       "      <th>purpose</th>\n",
       "    </tr>\n",
       "  </thead>\n",
       "  <tbody>\n",
       "    <tr>\n",
       "      <td>0</td>\n",
       "      <td>1</td>\n",
       "      <td>-8437.673028</td>\n",
       "      <td>42</td>\n",
       "      <td>высшее</td>\n",
       "      <td>0</td>\n",
       "      <td>женат / замужем</td>\n",
       "      <td>0</td>\n",
       "      <td>F</td>\n",
       "      <td>сотрудник</td>\n",
       "      <td>0</td>\n",
       "      <td>253875.639453</td>\n",
       "      <td>покупка жилья</td>\n",
       "    </tr>\n",
       "    <tr>\n",
       "      <td>1</td>\n",
       "      <td>1</td>\n",
       "      <td>-4024.803754</td>\n",
       "      <td>36</td>\n",
       "      <td>среднее</td>\n",
       "      <td>1</td>\n",
       "      <td>женат / замужем</td>\n",
       "      <td>0</td>\n",
       "      <td>F</td>\n",
       "      <td>сотрудник</td>\n",
       "      <td>0</td>\n",
       "      <td>112080.014102</td>\n",
       "      <td>приобретение автомобиля</td>\n",
       "    </tr>\n",
       "    <tr>\n",
       "      <td>2</td>\n",
       "      <td>0</td>\n",
       "      <td>-5623.422610</td>\n",
       "      <td>33</td>\n",
       "      <td>Среднее</td>\n",
       "      <td>1</td>\n",
       "      <td>женат / замужем</td>\n",
       "      <td>0</td>\n",
       "      <td>M</td>\n",
       "      <td>сотрудник</td>\n",
       "      <td>0</td>\n",
       "      <td>145885.952297</td>\n",
       "      <td>покупка жилья</td>\n",
       "    </tr>\n",
       "    <tr>\n",
       "      <td>3</td>\n",
       "      <td>3</td>\n",
       "      <td>-4124.747207</td>\n",
       "      <td>32</td>\n",
       "      <td>среднее</td>\n",
       "      <td>1</td>\n",
       "      <td>женат / замужем</td>\n",
       "      <td>0</td>\n",
       "      <td>M</td>\n",
       "      <td>сотрудник</td>\n",
       "      <td>0</td>\n",
       "      <td>267628.550329</td>\n",
       "      <td>дополнительное образование</td>\n",
       "    </tr>\n",
       "    <tr>\n",
       "      <td>4</td>\n",
       "      <td>0</td>\n",
       "      <td>340266.072047</td>\n",
       "      <td>53</td>\n",
       "      <td>среднее</td>\n",
       "      <td>1</td>\n",
       "      <td>гражданский брак</td>\n",
       "      <td>1</td>\n",
       "      <td>F</td>\n",
       "      <td>пенсионер</td>\n",
       "      <td>0</td>\n",
       "      <td>158616.077870</td>\n",
       "      <td>сыграть свадьбу</td>\n",
       "    </tr>\n",
       "  </tbody>\n",
       "</table>\n",
       "</div>"
      ],
      "text/plain": [
       "   children  days_employed  dob_years education  education_id  \\\n",
       "0         1   -8437.673028         42    высшее             0   \n",
       "1         1   -4024.803754         36   среднее             1   \n",
       "2         0   -5623.422610         33   Среднее             1   \n",
       "3         3   -4124.747207         32   среднее             1   \n",
       "4         0  340266.072047         53   среднее             1   \n",
       "\n",
       "      family_status  family_status_id gender income_type  debt   total_income  \\\n",
       "0   женат / замужем                 0      F   сотрудник     0  253875.639453   \n",
       "1   женат / замужем                 0      F   сотрудник     0  112080.014102   \n",
       "2   женат / замужем                 0      M   сотрудник     0  145885.952297   \n",
       "3   женат / замужем                 0      M   сотрудник     0  267628.550329   \n",
       "4  гражданский брак                 1      F   пенсионер     0  158616.077870   \n",
       "\n",
       "                      purpose  \n",
       "0               покупка жилья  \n",
       "1     приобретение автомобиля  \n",
       "2               покупка жилья  \n",
       "3  дополнительное образование  \n",
       "4             сыграть свадьбу  "
      ]
     },
     "execution_count": 26,
     "metadata": {},
     "output_type": "execute_result"
    }
   ],
   "source": [
    "df.head(5)"
   ]
  },
  {
   "cell_type": "markdown",
   "metadata": {},
   "source": [
    "В данных могут быть пропуски. Исследуем в более показательной форме:"
   ]
  },
  {
   "cell_type": "code",
   "execution_count": 27,
   "metadata": {},
   "outputs": [
    {
     "data": {
      "text/plain": [
       "children               0\n",
       "days_employed       2174\n",
       "dob_years              0\n",
       "education              0\n",
       "education_id           0\n",
       "family_status          0\n",
       "family_status_id       0\n",
       "gender                 0\n",
       "income_type            0\n",
       "debt                   0\n",
       "total_income        2174\n",
       "purpose                0\n",
       "dtype: int64"
      ]
     },
     "execution_count": 27,
     "metadata": {},
     "output_type": "execute_result"
    }
   ],
   "source": [
    "df.isna().sum()   # получение информации о категориях данных с пропущенной информацией"
   ]
  },
  {
   "cell_type": "code",
   "execution_count": 28,
   "metadata": {},
   "outputs": [
    {
     "data": {
      "text/html": [
       "<div>\n",
       "<style scoped>\n",
       "    .dataframe tbody tr th:only-of-type {\n",
       "        vertical-align: middle;\n",
       "    }\n",
       "\n",
       "    .dataframe tbody tr th {\n",
       "        vertical-align: top;\n",
       "    }\n",
       "\n",
       "    .dataframe thead th {\n",
       "        text-align: right;\n",
       "    }\n",
       "</style>\n",
       "<table border=\"1\" class=\"dataframe\">\n",
       "  <thead>\n",
       "    <tr style=\"text-align: right;\">\n",
       "      <th></th>\n",
       "      <th>null_rate</th>\n",
       "    </tr>\n",
       "  </thead>\n",
       "  <tbody>\n",
       "    <tr>\n",
       "      <td>days_employed</td>\n",
       "      <td>10.10%</td>\n",
       "    </tr>\n",
       "    <tr>\n",
       "      <td>total_income</td>\n",
       "      <td>10.10%</td>\n",
       "    </tr>\n",
       "    <tr>\n",
       "      <td>children</td>\n",
       "      <td>0.00%</td>\n",
       "    </tr>\n",
       "    <tr>\n",
       "      <td>dob_years</td>\n",
       "      <td>0.00%</td>\n",
       "    </tr>\n",
       "    <tr>\n",
       "      <td>education</td>\n",
       "      <td>0.00%</td>\n",
       "    </tr>\n",
       "    <tr>\n",
       "      <td>education_id</td>\n",
       "      <td>0.00%</td>\n",
       "    </tr>\n",
       "    <tr>\n",
       "      <td>family_status</td>\n",
       "      <td>0.00%</td>\n",
       "    </tr>\n",
       "    <tr>\n",
       "      <td>family_status_id</td>\n",
       "      <td>0.00%</td>\n",
       "    </tr>\n",
       "    <tr>\n",
       "      <td>gender</td>\n",
       "      <td>0.00%</td>\n",
       "    </tr>\n",
       "    <tr>\n",
       "      <td>income_type</td>\n",
       "      <td>0.00%</td>\n",
       "    </tr>\n",
       "    <tr>\n",
       "      <td>debt</td>\n",
       "      <td>0.00%</td>\n",
       "    </tr>\n",
       "    <tr>\n",
       "      <td>purpose</td>\n",
       "      <td>0.00%</td>\n",
       "    </tr>\n",
       "  </tbody>\n",
       "</table>\n",
       "</div>"
      ],
      "text/plain": [
       "                 null_rate\n",
       "days_employed       10.10%\n",
       "total_income        10.10%\n",
       "children             0.00%\n",
       "dob_years            0.00%\n",
       "education            0.00%\n",
       "education_id         0.00%\n",
       "family_status        0.00%\n",
       "family_status_id     0.00%\n",
       "gender               0.00%\n",
       "income_type          0.00%\n",
       "debt                 0.00%\n",
       "purpose              0.00%"
      ]
     },
     "execution_count": 28,
     "metadata": {},
     "output_type": "execute_result"
    }
   ],
   "source": [
    "    # формирование датафрейма с долей пропущеннах данных\n",
    "missing_data = pd.DataFrame({'null_rate':df.isnull().sum()/len(df)})\n",
    "    # форматирование представления в виде %\n",
    "missing_data['null_rate'] = missing_data['null_rate'].map(lambda x: '{:.2%}'.format(x))\n",
    "    # сортировка по убыванию и представление\n",
    "missing_data.sort_values(by='null_rate', ascending=False)"
   ]
  },
  {
   "cell_type": "markdown",
   "metadata": {},
   "source": [
    "**Вывод**"
   ]
  },
  {
   "cell_type": "markdown",
   "metadata": {},
   "source": [
    "1. в файле представленны данные по 12 категориям\n",
    "2. общее количество строк равно 21525\n",
    "3. типы данных: int64 (целочисленные), float64 (действительные), object (объектный тип)\n",
    "4. имеются пропуски в категориях **\"days_employed\"** и **\"total_income\"**. Их количество равно между собой.\n",
    "5. Причиной наличия пропущенных значений может служить:\n",
    "    * человеческий фактор - ошибка ввода данных\n",
    "    * машинный сбой при внесении данных\n",
    "    * машинный сбой при выгрузке данных в файл\n",
    "\n",
    "*Тем не менее, на этапе решения данной задачи возможность запросить восполнение недостающих данных отсутствует.*"
   ]
  },
  {
   "cell_type": "markdown",
   "metadata": {},
   "source": [
    "Также из условия задачи подадобится описание данных:\n",
    "    \n",
    "### Описание данных\n",
    "* children — количество детей в семье\n",
    "* days_employed — общий трудовой стаж в днях\n",
    "* dob_years — возраст клиента в годах\n",
    "* education — уровень образования клиента\n",
    "* education_id — идентификатор уровня образования\n",
    "* family_status — семейное положение\n",
    "* family_status_id — идентификатор семейного положения\n",
    "* gender — пол клиента\n",
    "* income_type — тип занятости\n",
    "* debt — имел ли задолженность по возврату кредитов\n",
    "* total_income — ежемесячный доход\n",
    "* purpose — цель получения кредита    "
   ]
  },
  {
   "cell_type": "markdown",
   "metadata": {},
   "source": [
    "<div class=\"alert alert-block alert-success\">\n",
    "    \n",
    "\n",
    "### Комментарий от ревьюера v_1\n",
    "Отлично\n",
    "    \n",
    "Отличный первичный взгляд на данные, идешь дальше\n",
    "</div>"
   ]
  },
  {
   "cell_type": "markdown",
   "metadata": {},
   "source": [
    "## Шаг 2. Предобработка данных"
   ]
  },
  {
   "cell_type": "markdown",
   "metadata": {},
   "source": [
    "<div class=\"alert alert-block alert-warning\">\n",
    "    \n",
    "\n",
    "### Комментарий от ревьюера v_1\n",
    "Рекомендация\n",
    "    \n",
    "В начале шага рекомендую написать перечень действий, который планируешь выполнить. Так ты ничего не упустишь и добавишь проекту структуры\n",
    "</div>"
   ]
  },
  {
   "cell_type": "markdown",
   "metadata": {},
   "source": [
    "### Обработка пропусков"
   ]
  },
  {
   "cell_type": "markdown",
   "metadata": {},
   "source": [
    "В соответствии с условиями задачи исследования необходимо ответить на следующие вопросы:\n",
    "* \"Есть ли зависимость между наличием детей и возвратом кредита в срок?\"\n",
    "* \"Есть ли зависимость между семейным положением и возвратом кредита в срок?\"\n",
    "* \"Есть ли зависимость между уровнем дохода и возвратом кредита в срок?\"\n",
    "\n",
    "В связи с этим необходимо проводить исследование по следющим категориям предоставленных данных:\n",
    "* **children** — количество детей в семье\n",
    "* **family_status** — семейное положение\n",
    "* **total_income** — ежемесячный доход\n",
    "\n",
    "Следовательно, категория **days_employed**, в которой был обнаружен пропуск в данных, не будет участвовать в исслеловании, и каких-либо действий с данными в этой категории необходимости производить нет.\n",
    "\n",
    "Далее, из трех категорий, по которым необходимо провести исслелование, данные отсутствуют только в категории **total_income**, поэтому перед исследованием необходимо восполнить данные в этой категории.\n",
    "\n",
    "Будем использовать медиану, для того, чтобы уменьшить влияние восполненных данных на общий вывод. Но перед таким шагом необходимо убедиться, что в категории нет отрицательных значений, в противном случае медиана будет некорректно смещена к 0.\n"
   ]
  },
  {
   "cell_type": "code",
   "execution_count": 29,
   "metadata": {},
   "outputs": [
    {
     "name": "stdout",
     "output_type": "stream",
     "text": [
      "Минимальное значение в столбце total_income: 20667.26379327158\n"
     ]
    }
   ],
   "source": [
    "print(f'Минимальное значение в столбце total_income: {df.total_income.min()}')"
   ]
  },
  {
   "cell_type": "code",
   "execution_count": 30,
   "metadata": {},
   "outputs": [
    {
     "name": "stdout",
     "output_type": "stream",
     "text": [
      "Количество пропусков в столбце total_income после замены пропусков: 0\n"
     ]
    }
   ],
   "source": [
    "df.total_income = df.total_income.fillna(df.total_income.median())\n",
    "print(f'Количество пропусков в столбце total_income после замены пропусков: {df.total_income.isna().sum()}')"
   ]
  },
  {
   "cell_type": "markdown",
   "metadata": {},
   "source": [
    "<div class=\"alert alert-block alert-danger\">\n",
    "    \n",
    "\n",
    "### Комментарий от ревьюера v_1\n",
    "Критично\n",
    "\n",
    "Некорректно просто заполнить 10% пропусков общей медианой, так ты сильно искажаешь данные. Попробуй заменить медианой по типу занятости\n",
    "    \n",
    "Для стажа некритично, эти данные не нужны в дальнейшем исследовании    \n",
    "    \n",
    "По ссылке методичка по заполнению пропусков\n",
    "\n",
    "https://drive.google.com/file/d/1Xgnl_LnmsGAhuPz6RzAzMTi9VvRBfHzp/view?usp=sharing\n",
    "</div>"
   ]
  },
  {
   "cell_type": "markdown",
   "metadata": {},
   "source": [
    "<span style='background:yellow'>\n",
    "Проведем заполнение недостающих значений в столбце \"Доход\" (total_income) медианными значениями в соответствии с типом занятости заемщиков\n",
    "    </span>"
   ]
  },
  {
   "cell_type": "markdown",
   "metadata": {},
   "source": [
    "<span style='background:yellow'>\n",
    "Имеем следующие типы занятости\n",
    "</span>"
   ]
  },
  {
   "cell_type": "code",
   "execution_count": 31,
   "metadata": {},
   "outputs": [
    {
     "data": {
      "text/plain": [
       "{'безработный',\n",
       " 'в декрете',\n",
       " 'госслужащий',\n",
       " 'компаньон',\n",
       " 'пенсионер',\n",
       " 'предприниматель',\n",
       " 'сотрудник',\n",
       " 'студент'}"
      ]
     },
     "execution_count": 31,
     "metadata": {},
     "output_type": "execute_result"
    }
   ],
   "source": [
    "set(df.income_type)"
   ]
  },
  {
   "cell_type": "markdown",
   "metadata": {},
   "source": [
    "<span style='background:yellow'>\n",
    "Проведем упомянутю замену:</span>"
   ]
  },
  {
   "cell_type": "code",
   "execution_count": 32,
   "metadata": {},
   "outputs": [
    {
     "name": "stdout",
     "output_type": "stream",
     "text": [
      "Тип занятости: сотрудник \n",
      "Медиана: 145017.93753253992\n",
      "\n",
      "Тип занятости: пенсионер \n",
      "Медиана: 128747.67556966442\n",
      "\n",
      "Тип занятости: компаньон \n",
      "Медиана: 162401.35155456822\n",
      "\n",
      "Тип занятости: госслужащий \n",
      "Медиана: 145017.93753253992\n",
      "\n",
      "Тип занятости: безработный \n",
      "Медиана: 131339.7516762103\n",
      "\n",
      "Тип занятости: предприниматель \n",
      "Медиана: 322090.5412398128\n",
      "\n",
      "Тип занятости: студент \n",
      "Медиана: 98201.62531401133\n",
      "\n",
      "Тип занятости: в декрете \n",
      "Медиана: 53829.13072905995\n",
      "\n"
     ]
    }
   ],
   "source": [
    "for unique_income_type in df.income_type.unique():\n",
    "    median = df.loc[df['income_type'] == unique_income_type, 'total_income'].median()\n",
    "    print(f'Тип занятости: {unique_income_type} \\nМедиана: {median}')\n",
    "    print()\n",
    "    df.loc[(df['total_income'].isna()) & (df['income_type'] == unique_income_type), 'total_income'] = median"
   ]
  },
  {
   "cell_type": "markdown",
   "metadata": {},
   "source": [
    "Проверим значения, которые принимают ячейки в исследуемых столбцах **children** и **family_status**"
   ]
  },
  {
   "cell_type": "code",
   "execution_count": 33,
   "metadata": {},
   "outputs": [
    {
     "name": "stdout",
     "output_type": "stream",
     "text": [
      "Значения полей для данных children: [ 1  0  3  2 -1  4 20  5]\n",
      "Значения полей для данных family_status: ['женат / замужем' 'гражданский брак' 'вдовец / вдова' 'в разводе'\n",
      " 'не женат / не замужем']\n"
     ]
    },
    {
     "data": {
      "text/plain": [
       " 0     14149\n",
       " 1      4818\n",
       " 2      2055\n",
       " 3       330\n",
       " 20       76\n",
       "-1        47\n",
       " 4        41\n",
       " 5         9\n",
       "Name: children, dtype: int64"
      ]
     },
     "execution_count": 33,
     "metadata": {},
     "output_type": "execute_result"
    }
   ],
   "source": [
    "print(f'Значения полей для данных children: {df.children.unique()}')\n",
    "df.family_status = df.family_status.str.lower()\n",
    "print(f'Значения полей для данных family_status: {df.family_status.unique()}')\n",
    "df.children.value_counts()"
   ]
  },
  {
   "cell_type": "markdown",
   "metadata": {},
   "source": [
    "Примечание: хотя значение количества детей \"20\" и является выбросом, тем не менее не является для РФ особенным, так как существуют семьи и с большим количеством детей, например, приемными.\n",
    "\n",
    "С другой стороны тот факт, что количество семей именно с 20 детьми встречается 76 раз, говорит скорее, что мы имеем дело с человеческим фактором, где оператор, заносивший данные, небрежно нажимал на кнопку \"2\". В пользу этого говорит, что в датасете нет данных с \"02\" детьми. В связи с этим заменим эти данные на \"2\"\n"
   ]
  },
  {
   "cell_type": "markdown",
   "metadata": {},
   "source": [
    "<span style='background:yellow'>\n",
    "Также переведем отрицательные значения в положительные\n",
    "</span>"
   ]
  },
  {
   "cell_type": "code",
   "execution_count": 34,
   "metadata": {},
   "outputs": [
    {
     "data": {
      "text/plain": [
       "0    14149\n",
       "1     4865\n",
       "2     2131\n",
       "3      330\n",
       "4       41\n",
       "5        9\n",
       "Name: children, dtype: int64"
      ]
     },
     "execution_count": 34,
     "metadata": {},
     "output_type": "execute_result"
    }
   ],
   "source": [
    "df.loc[df['children'] == 20, 'children'] = 2\n",
    "df.loc[df['children'] < 0, 'children'] = df.loc[df['children'] < 0, 'children'].abs()\n",
    "df.children.value_counts()"
   ]
  },
  {
   "cell_type": "markdown",
   "metadata": {},
   "source": [
    "<div class=\"alert alert-block alert-success\">\n",
    "\n",
    "    \n",
    "### Комментарий от ревьюера v_1\n",
    "Отлично\n",
    "\n",
    "Молодец, что обрабатываешь артефакты, эти данные пригодятся нам в дальнейшем исследовании\n",
    "    \n",
    "Но почему бы сразу же здесь не обработать и -1?\n",
    "    \n",
    "</div>"
   ]
  },
  {
   "cell_type": "markdown",
   "metadata": {},
   "source": [
    "**Вывод**"
   ]
  },
  {
   "cell_type": "markdown",
   "metadata": {},
   "source": [
    "1. В соответствии с условиями исследования были проверены данные на предмет наличия пропусков в категориях **children**, **family_status** и **total_income**\n",
    "2. Данные в категориях **children** и **family_status** не имеют пропусков\n",
    "3. Данные в категории **total_income** имели пропуски, которые, после того, как проверка не выявила в них отрицательных значений, были заменены на медианное значение"
   ]
  },
  {
   "cell_type": "markdown",
   "metadata": {},
   "source": [
    "### Замена типа данных"
   ]
  },
  {
   "cell_type": "markdown",
   "metadata": {},
   "source": [
    "1. В категории **children** выявлены отрицательные значения о количестве детей в семье, что не соответствует смыслу данной категории. Отрицательные значение будут заменены на положительные через модуль числа\n",
    "2. В категории **total_income** присутствуют данные о доходе в виде действительных чисел (как положительных, так и отрицательных), что не соответствует:\n",
    "    * расчетной валютной единице РФ\n",
    "    * необходимой точности.\n",
    "    * смыслу категории\n",
    "\n",
    "        Эти данные будут заменены на натуральные."
   ]
  },
  {
   "cell_type": "code",
   "execution_count": 35,
   "metadata": {},
   "outputs": [
    {
     "name": "stdout",
     "output_type": "stream",
     "text": [
      "Значения полей для данных children: [1 0 3 2 4 5]\n",
      "Значения месячного дохода в натуральных единицах по возрастанию: \n",
      "14585    20667\n",
      "13006    21205\n",
      "16174    21367\n",
      "1598     21695\n",
      "14276    21895\n",
      "Name: total_income, dtype: int64\n"
     ]
    }
   ],
   "source": [
    "df.children = abs(df.children)\n",
    "df.total_income = df.total_income.astype('int')\n",
    "print(f'Значения полей для данных children: {df.children.unique()}')\n",
    "print('Значения месячного дохода в натуральных единицах по возрастанию: ')\n",
    "print(df.total_income.sort_values(ascending=True).head())"
   ]
  },
  {
   "cell_type": "markdown",
   "metadata": {},
   "source": [
    "**Вывод**"
   ]
  },
  {
   "cell_type": "markdown",
   "metadata": {},
   "source": [
    "Проведено преобразование данных в столбцах **children** и **total_income** к неотрицательному целочисленному виду"
   ]
  },
  {
   "cell_type": "markdown",
   "metadata": {},
   "source": [
    "<div class=\"alert alert-block alert-success\">\n",
    "\n",
    "    \n",
    "### Комментарий от ревьюера v_1\n",
    "\n",
    "Отлично, теперь данные хранятся в правильно виде 👍🏻\n",
    "    \n",
    "</div>"
   ]
  },
  {
   "cell_type": "markdown",
   "metadata": {},
   "source": [
    "### Обработка дубликатов"
   ]
  },
  {
   "cell_type": "markdown",
   "metadata": {},
   "source": [
    "<span style='background:yellow'>\n",
    "Проведем проверку данных на явные дубликаты\n",
    "</span>"
   ]
  },
  {
   "cell_type": "code",
   "execution_count": 36,
   "metadata": {},
   "outputs": [
    {
     "name": "stdout",
     "output_type": "stream",
     "text": [
      "Количество дубликатов: 54\n",
      "Длина датасета: 21525\n"
     ]
    }
   ],
   "source": [
    "print(f'Количество дубликатов: {len(df[df.duplicated()])}') \n",
    "print(f'Длина датасета: {len(df)}')"
   ]
  },
  {
   "cell_type": "markdown",
   "metadata": {},
   "source": [
    "<span style='background:yellow'>\n",
    "Очистим данные от явных дубликатов\n",
    "</span>"
   ]
  },
  {
   "cell_type": "code",
   "execution_count": 37,
   "metadata": {},
   "outputs": [
    {
     "name": "stdout",
     "output_type": "stream",
     "text": [
      "Длина датасета после очистки: 21471\n"
     ]
    },
    {
     "data": {
      "text/html": [
       "<div>\n",
       "<style scoped>\n",
       "    .dataframe tbody tr th:only-of-type {\n",
       "        vertical-align: middle;\n",
       "    }\n",
       "\n",
       "    .dataframe tbody tr th {\n",
       "        vertical-align: top;\n",
       "    }\n",
       "\n",
       "    .dataframe thead th {\n",
       "        text-align: right;\n",
       "    }\n",
       "</style>\n",
       "<table border=\"1\" class=\"dataframe\">\n",
       "  <thead>\n",
       "    <tr style=\"text-align: right;\">\n",
       "      <th></th>\n",
       "      <th>children</th>\n",
       "      <th>days_employed</th>\n",
       "      <th>dob_years</th>\n",
       "      <th>education</th>\n",
       "      <th>education_id</th>\n",
       "      <th>family_status</th>\n",
       "      <th>family_status_id</th>\n",
       "      <th>gender</th>\n",
       "      <th>income_type</th>\n",
       "      <th>debt</th>\n",
       "      <th>total_income</th>\n",
       "      <th>purpose</th>\n",
       "    </tr>\n",
       "  </thead>\n",
       "  <tbody>\n",
       "  </tbody>\n",
       "</table>\n",
       "</div>"
      ],
      "text/plain": [
       "Empty DataFrame\n",
       "Columns: [children, days_employed, dob_years, education, education_id, family_status, family_status_id, gender, income_type, debt, total_income, purpose]\n",
       "Index: []"
      ]
     },
     "execution_count": 37,
     "metadata": {},
     "output_type": "execute_result"
    }
   ],
   "source": [
    "df.drop_duplicates(inplace = True)\n",
    "df.reset_index(drop=True) \n",
    "print(f'Длина датасета после очистки: {len(df)}')\n",
    "df[df.duplicated()]"
   ]
  },
  {
   "cell_type": "markdown",
   "metadata": {},
   "source": [
    "Обратим внимание на следующие категориальные (дискретные) данные, присутствующие в датасете и участвующие в исследовании: **family_status** и **purpose**"
   ]
  },
  {
   "cell_type": "code",
   "execution_count": 38,
   "metadata": {},
   "outputs": [
    {
     "name": "stdout",
     "output_type": "stream",
     "text": [
      "\u001b[1mПодсчет значений по категории: \u001b[0mfamily_status\n",
      "--------------------------------------------\n",
      "женат / замужем          12344\n",
      "гражданский брак          4163\n",
      "не женат / не замужем     2810\n",
      "в разводе                 1195\n",
      "вдовец / вдова             959\n",
      "Name: family_status, dtype: int64\n",
      "\n",
      "\n",
      "\u001b[1mПодсчет значений по категории: \u001b[0mpurpose\n",
      "--------------------------------------------\n",
      "свадьба                                   793\n",
      "на проведение свадьбы                     773\n",
      "сыграть свадьбу                           769\n",
      "операции с недвижимостью                  675\n",
      "покупка коммерческой недвижимости         662\n",
      "операции с жильем                         652\n",
      "покупка жилья для сдачи                   652\n",
      "операции с коммерческой недвижимостью     650\n",
      "жилье                                     646\n",
      "покупка жилья                             646\n",
      "покупка жилья для семьи                   638\n",
      "строительство собственной недвижимости    635\n",
      "недвижимость                              633\n",
      "операции со своей недвижимостью           627\n",
      "строительство жилой недвижимости          625\n",
      "покупка недвижимости                      621\n",
      "покупка своего жилья                      620\n",
      "строительство недвижимости                619\n",
      "ремонт жилью                              607\n",
      "покупка жилой недвижимости                606\n",
      "на покупку своего автомобиля              505\n",
      "заняться высшим образованием              496\n",
      "автомобиль                                494\n",
      "сделка с подержанным автомобилем          486\n",
      "свой автомобиль                           479\n",
      "автомобили                                478\n",
      "на покупку подержанного автомобиля        478\n",
      "на покупку автомобиля                     472\n",
      "приобретение автомобиля                   461\n",
      "дополнительное образование                460\n",
      "сделка с автомобилем                      455\n",
      "высшее образование                        452\n",
      "образование                               447\n",
      "получение дополнительного образования     447\n",
      "получение образования                     442\n",
      "профильное образование                    436\n",
      "получение высшего образования             426\n",
      "заняться образованием                     408\n",
      "Name: purpose, dtype: int64\n"
     ]
    }
   ],
   "source": [
    "print('\\033[1m' + 'Подсчет значений по категории: ' + '\\033[0m' + 'family_status')\n",
    "print('-'*44)\n",
    "print(df.family_status.value_counts())\n",
    "print('\\n')\n",
    "print('\\033[1m' + 'Подсчет значений по категории: ' + '\\033[0m' + 'purpose')\n",
    "print('-'*44)\n",
    "print(df.purpose.value_counts())"
   ]
  },
  {
   "cell_type": "markdown",
   "metadata": {},
   "source": [
    "**Вывод**"
   ]
  },
  {
   "cell_type": "markdown",
   "metadata": {},
   "source": [
    "1. Категория **family_status** не вызывают вопросов с точки зрения дубликатов.\n",
    "2. Категория **purpose** должна пройти лемматизацию, так как многие значения имеют одинаковую смысловую нагрузку, но выражены отличными друг от друга словосочетаниями"
   ]
  },
  {
   "cell_type": "markdown",
   "metadata": {},
   "source": [
    "<div class=\"alert alert-block alert-danger\">\n",
    "    \n",
    "\n",
    "### Комментарий от ревьюера v_1\n",
    "Критично\n",
    "\n",
    "А как же обработка явных дубликатов во всем датасете?\n",
    "</div>"
   ]
  },
  {
   "cell_type": "markdown",
   "metadata": {},
   "source": [
    "### Лемматизация"
   ]
  },
  {
   "cell_type": "markdown",
   "metadata": {},
   "source": [
    "Предварительно, для исключения человеческого фактора, приведем значения в категории **purpose** к нижнему регистру через\n",
    "использование метода ***str.lower()***"
   ]
  },
  {
   "cell_type": "code",
   "execution_count": 39,
   "metadata": {},
   "outputs": [
    {
     "data": {
      "text/plain": [
       "свадьба                                   793\n",
       "на проведение свадьбы                     773\n",
       "сыграть свадьбу                           769\n",
       "операции с недвижимостью                  675\n",
       "покупка коммерческой недвижимости         662\n",
       "операции с жильем                         652\n",
       "покупка жилья для сдачи                   652\n",
       "операции с коммерческой недвижимостью     650\n",
       "жилье                                     646\n",
       "покупка жилья                             646\n",
       "покупка жилья для семьи                   638\n",
       "строительство собственной недвижимости    635\n",
       "недвижимость                              633\n",
       "операции со своей недвижимостью           627\n",
       "строительство жилой недвижимости          625\n",
       "покупка недвижимости                      621\n",
       "покупка своего жилья                      620\n",
       "строительство недвижимости                619\n",
       "ремонт жилью                              607\n",
       "покупка жилой недвижимости                606\n",
       "на покупку своего автомобиля              505\n",
       "заняться высшим образованием              496\n",
       "автомобиль                                494\n",
       "сделка с подержанным автомобилем          486\n",
       "свой автомобиль                           479\n",
       "автомобили                                478\n",
       "на покупку подержанного автомобиля        478\n",
       "на покупку автомобиля                     472\n",
       "приобретение автомобиля                   461\n",
       "дополнительное образование                460\n",
       "сделка с автомобилем                      455\n",
       "высшее образование                        452\n",
       "образование                               447\n",
       "получение дополнительного образования     447\n",
       "получение образования                     442\n",
       "профильное образование                    436\n",
       "получение высшего образования             426\n",
       "заняться образованием                     408\n",
       "Name: purpose, dtype: int64"
      ]
     },
     "execution_count": 39,
     "metadata": {},
     "output_type": "execute_result"
    }
   ],
   "source": [
    "df.purpose = df.purpose.str.lower()\n",
    "df.purpose.value_counts()"
   ]
  },
  {
   "cell_type": "code",
   "execution_count": 40,
   "metadata": {},
   "outputs": [
    {
     "data": {
      "text/plain": [
       "{'\\n',\n",
       " ' ',\n",
       " 'автомобиль',\n",
       " 'высокий',\n",
       " 'для',\n",
       " 'дополнительный',\n",
       " 'жилой',\n",
       " 'жилье',\n",
       " 'заниматься',\n",
       " 'коммерческий',\n",
       " 'на',\n",
       " 'недвижимость',\n",
       " 'образование',\n",
       " 'операция',\n",
       " 'подержать',\n",
       " 'покупка',\n",
       " 'получение',\n",
       " 'приобретение',\n",
       " 'проведение',\n",
       " 'профильный',\n",
       " 'ремонт',\n",
       " 'с',\n",
       " 'свадьба',\n",
       " 'свой',\n",
       " 'сдача',\n",
       " 'сделка',\n",
       " 'семья',\n",
       " 'со',\n",
       " 'собственный',\n",
       " 'строительство',\n",
       " 'сыграть'}"
      ]
     },
     "execution_count": 40,
     "metadata": {},
     "output_type": "execute_result"
    }
   ],
   "source": [
    "from pymystem3 import Mystem # импортирование библиотеки\n",
    "m = Mystem() \n",
    "lemmas = m.lemmatize(' '.join(df.purpose.unique()))  # создание списка лемм на основе категории\n",
    "set(lemmas)"
   ]
  },
  {
   "cell_type": "markdown",
   "metadata": {},
   "source": [
    "Исходя из сопоставления уникальных значений в списке лемм и уникальных значений категории **purpose**, можно сделать вывод, что направлениями кредита являются:\n",
    "* *недвижимость / жилье*,\n",
    "* *свадьба*,\n",
    "* *покупка автомобиля*\n",
    "* *образование*\n",
    "\n",
    "Создадим новый столбец / категорию с унифицированными значениями, соответствующими категории **purpose**. Назовем ее **purpose_unified**"
   ]
  },
  {
   "cell_type": "code",
   "execution_count": 41,
   "metadata": {},
   "outputs": [
    {
     "data": {
      "text/plain": [
       "недвижимость    10814\n",
       "авто             4308\n",
       "образование      4014\n",
       "свадьба          2335\n",
       "Name: purpose_unified, dtype: int64"
      ]
     },
     "execution_count": 41,
     "metadata": {},
     "output_type": "execute_result"
    }
   ],
   "source": [
    "test_list = [['недвижим', 'жиль'], ['свадьб'], ['автомоб'], ['образова']]\n",
    "result_list = ['недвижимость', 'свадьба', 'авто', 'образование']\n",
    "\n",
    "def duplicates_unification(not_unified):\n",
    "    for i in range(len(test_list)):\n",
    "        result = [k for k in test_list[i] if(k in not_unified)]  # проверка содержания опорного элемента в переменной ф-ции\n",
    "        if result:\n",
    "            return result_list[i]                                # возвращаем значения и списка результатов\n",
    "    \n",
    "df['purpose_unified'] = df['purpose'].apply(duplicates_unification)  # применяем ф-цию к столбцу\n",
    "\n",
    "df.purpose_unified.value_counts()               # проверка результата в категории 'purpose'"
   ]
  },
  {
   "cell_type": "code",
   "execution_count": 42,
   "metadata": {},
   "outputs": [
    {
     "data": {
      "text/html": [
       "<div>\n",
       "<style scoped>\n",
       "    .dataframe tbody tr th:only-of-type {\n",
       "        vertical-align: middle;\n",
       "    }\n",
       "\n",
       "    .dataframe tbody tr th {\n",
       "        vertical-align: top;\n",
       "    }\n",
       "\n",
       "    .dataframe thead th {\n",
       "        text-align: right;\n",
       "    }\n",
       "</style>\n",
       "<table border=\"1\" class=\"dataframe\">\n",
       "  <thead>\n",
       "    <tr style=\"text-align: right;\">\n",
       "      <th></th>\n",
       "      <th>purpose_unified</th>\n",
       "    </tr>\n",
       "  </thead>\n",
       "  <tbody>\n",
       "    <tr>\n",
       "      <td>недвижимость</td>\n",
       "      <td>50.37%</td>\n",
       "    </tr>\n",
       "    <tr>\n",
       "      <td>авто</td>\n",
       "      <td>20.06%</td>\n",
       "    </tr>\n",
       "    <tr>\n",
       "      <td>образование</td>\n",
       "      <td>18.69%</td>\n",
       "    </tr>\n",
       "    <tr>\n",
       "      <td>свадьба</td>\n",
       "      <td>10.88%</td>\n",
       "    </tr>\n",
       "  </tbody>\n",
       "</table>\n",
       "</div>"
      ],
      "text/plain": [
       "             purpose_unified\n",
       "недвижимость          50.37%\n",
       "авто                  20.06%\n",
       "образование           18.69%\n",
       "свадьба               10.88%"
      ]
     },
     "execution_count": 42,
     "metadata": {},
     "output_type": "execute_result"
    }
   ],
   "source": [
    "    # формирование датафрейма с долей цели кредита\n",
    "purpose_rate = pd.DataFrame({'purpose_unified':df.purpose_unified.value_counts()/len(df)})\n",
    "    # форматирование представления в виде %\n",
    "purpose_rate['purpose_unified'] = purpose_rate['purpose_unified'].map(lambda x: '{:.2%}'.format(x))\n",
    "    # сортировка по убыванию и представление\n",
    "purpose_rate.sort_values(by='purpose_unified', ascending=False)"
   ]
  },
  {
   "cell_type": "markdown",
   "metadata": {},
   "source": [
    "**Вывод**"
   ]
  },
  {
   "cell_type": "markdown",
   "metadata": {},
   "source": [
    "* Проверены и обработаны дубликаты в категориях: **family_status**, **income_type** и **purpose**\n",
    "* На основе лемматизации категория **purpose** создана категория **purpose_unified** с унифицированными значениями, которые по смыслу сооответствуют **purpose**, что позволило избавиться от неявных дубликатов и получить чистые данные о целях кредита\n",
    "* Выявлены следующие цели кредита по популярности: **недвижимость**\t(50.36%), **авто** (20.05%), **образование** (18.69%) и **свадьба** (10.91%) *(результаты указаны в удельном выражении от общего числа кредитов в порядке убывания без привязки к денежному выражению)*"
   ]
  },
  {
   "cell_type": "markdown",
   "metadata": {},
   "source": [
    "<div class=\"alert alert-block alert-success\">\n",
    "\n",
    "    \n",
    "### Комментарий от ревьюера v_1\n",
    "Отлично\n",
    "\n",
    "С лемматизацией разобрались 👍🏻\n",
    "    \n",
    "</div>"
   ]
  },
  {
   "cell_type": "markdown",
   "metadata": {},
   "source": [
    "### Категоризация данных"
   ]
  },
  {
   "cell_type": "markdown",
   "metadata": {},
   "source": [
    "<div class=\"alert alert-block alert-warning\">\n",
    "    \n",
    "\n",
    "### Комментарий от ревьюера v_1\n",
    "Рекомендация\n",
    "    \n",
    "1. Не стоит смешивать шаги исследования. Для оформления проекта следует сначала категоризировать данные на шаге предобработки, а на шаге ответов на вопросы построить сводные таблицы\n",
    "    \n",
    "2. Расчеты верны, дам рекомендацию по улучшению\n",
    "    \n",
    "У нас задолженность представлена в числах, 1 - есть задолженность, 0 - нет задолженности. Это значит, что среднее арифметическое - это и будет доля должников.\n",
    "    \n",
    "Можно построить сводную таблицу, посчитав в ней три агрегирующие функции - количество, сумму и среднее, и решение будет в одну строчку. \n",
    "\n",
    "- количество (count) - всего клиентов в группе  \n",
    "- сумма (sum) - количество должников\n",
    "- среднее (mean) - доля должников\n",
    "    \n",
    "Рекомендую почитать про сводные таблицы тут, и вообще ресурс отличный, кидай его в закладки\n",
    "    \n",
    "http://dfedorov.spb.ru/pandas/%D0%A1%D0%B2%D0%BE%D0%B4%D0%BD%D0%B0%D1%8F%20%D1%82%D0%B0%D0%B1%D0%BB%D0%B8%D1%86%D0%B0%20%D0%B2%20pandas.html\n",
    "</div>"
   ]
  },
  {
   "cell_type": "markdown",
   "metadata": {},
   "source": [
    "В соответствии с условием ислледования необходимо провести категоризацию данных из следующих категорий: **family_status**, **total_income** и **children**"
   ]
  },
  {
   "cell_type": "markdown",
   "metadata": {},
   "source": [
    "Проверим значения категории **debt**"
   ]
  },
  {
   "cell_type": "code",
   "execution_count": 45,
   "metadata": {},
   "outputs": [
    {
     "data": {
      "text/plain": [
       "array([0, 1])"
      ]
     },
     "execution_count": 45,
     "metadata": {},
     "output_type": "execute_result"
    }
   ],
   "source": [
    "df.debt.unique()"
   ]
  },
  {
   "cell_type": "markdown",
   "metadata": {},
   "source": [
    "1. Ранее было выяснено, что категория **debt** не имеет пропусков данных\n",
    "2. Данная категория содержит только два значения: **0** и **1**\n",
    "3. Исходя из того, что **True = 1**, а **False = 0**, получаем, что **0** - отсутствие задолженности, а **1** - присутствие задолженности, и исходя из этого продолжим исследование"
   ]
  },
  {
   "cell_type": "markdown",
   "metadata": {},
   "source": [
    "Из необходимых категорий начнем с семейного положения **family_status**"
   ]
  },
  {
   "cell_type": "markdown",
   "metadata": {},
   "source": [
    "Создадим новый дата фрейм на основе имеющегося путем группировки"
   ]
  },
  {
   "cell_type": "code",
   "execution_count": 46,
   "metadata": {},
   "outputs": [
    {
     "data": {
      "text/html": [
       "<div>\n",
       "<style scoped>\n",
       "    .dataframe tbody tr th:only-of-type {\n",
       "        vertical-align: middle;\n",
       "    }\n",
       "\n",
       "    .dataframe tbody tr th {\n",
       "        vertical-align: top;\n",
       "    }\n",
       "\n",
       "    .dataframe thead th {\n",
       "        text-align: right;\n",
       "    }\n",
       "</style>\n",
       "<table border=\"1\" class=\"dataframe\">\n",
       "  <thead>\n",
       "    <tr style=\"text-align: right;\">\n",
       "      <th></th>\n",
       "      <th>family_status_sum</th>\n",
       "      <th>family_status_count</th>\n",
       "      <th>family_status_debt_rate</th>\n",
       "    </tr>\n",
       "    <tr>\n",
       "      <th>family_status</th>\n",
       "      <th></th>\n",
       "      <th></th>\n",
       "      <th></th>\n",
       "    </tr>\n",
       "  </thead>\n",
       "  <tbody>\n",
       "    <tr>\n",
       "      <td>не женат / не замужем</td>\n",
       "      <td>274</td>\n",
       "      <td>2810</td>\n",
       "      <td>9.75%</td>\n",
       "    </tr>\n",
       "    <tr>\n",
       "      <td>гражданский брак</td>\n",
       "      <td>388</td>\n",
       "      <td>4163</td>\n",
       "      <td>9.32%</td>\n",
       "    </tr>\n",
       "    <tr>\n",
       "      <td>женат / замужем</td>\n",
       "      <td>931</td>\n",
       "      <td>12344</td>\n",
       "      <td>7.54%</td>\n",
       "    </tr>\n",
       "    <tr>\n",
       "      <td>в разводе</td>\n",
       "      <td>85</td>\n",
       "      <td>1195</td>\n",
       "      <td>7.11%</td>\n",
       "    </tr>\n",
       "    <tr>\n",
       "      <td>вдовец / вдова</td>\n",
       "      <td>63</td>\n",
       "      <td>959</td>\n",
       "      <td>6.57%</td>\n",
       "    </tr>\n",
       "  </tbody>\n",
       "</table>\n",
       "</div>"
      ],
      "text/plain": [
       "                       family_status_sum  family_status_count  \\\n",
       "family_status                                                   \n",
       "не женат / не замужем                274                 2810   \n",
       "гражданский брак                     388                 4163   \n",
       "женат / замужем                      931                12344   \n",
       "в разводе                             85                 1195   \n",
       "вдовец / вдова                        63                  959   \n",
       "\n",
       "                      family_status_debt_rate  \n",
       "family_status                                  \n",
       "не женат / не замужем                   9.75%  \n",
       "гражданский брак                        9.32%  \n",
       "женат / замужем                         7.54%  \n",
       "в разводе                               7.11%  \n",
       "вдовец / вдова                          6.57%  "
      ]
     },
     "execution_count": 46,
     "metadata": {},
     "output_type": "execute_result"
    }
   ],
   "source": [
    "debt_by_family_status = pd.DataFrame()\n",
    "debt_by_family_status['family_status_sum'] = df.groupby('family_status')['debt'].sum()\n",
    "debt_by_family_status['family_status_count'] = df.groupby('family_status')['debt'].count()\n",
    "debt_by_family_status['family_status_debt_rate'] = debt_by_family_status['family_status_sum'] / debt_by_family_status['family_status_count'] \n",
    "debt_by_family_status['family_status_debt_rate'] = debt_by_family_status['family_status_debt_rate'].map(lambda x: '{:.2%}'.format(x))\n",
    "debt_by_family_status.sort_values('family_status_debt_rate', ascending = False)"
   ]
  },
  {
   "cell_type": "markdown",
   "metadata": {},
   "source": [
    "Аналогичным образом поступим в части ислледования зависимости доли возвращенных не в срок кредитов от количества детей в семье (категория **children**)."
   ]
  },
  {
   "cell_type": "code",
   "execution_count": 47,
   "metadata": {},
   "outputs": [
    {
     "data": {
      "text/html": [
       "<div>\n",
       "<style scoped>\n",
       "    .dataframe tbody tr th:only-of-type {\n",
       "        vertical-align: middle;\n",
       "    }\n",
       "\n",
       "    .dataframe tbody tr th {\n",
       "        vertical-align: top;\n",
       "    }\n",
       "\n",
       "    .dataframe thead th {\n",
       "        text-align: right;\n",
       "    }\n",
       "</style>\n",
       "<table border=\"1\" class=\"dataframe\">\n",
       "  <thead>\n",
       "    <tr style=\"text-align: right;\">\n",
       "      <th></th>\n",
       "      <th>children_sum</th>\n",
       "      <th>children_count</th>\n",
       "      <th>children_debt_rate</th>\n",
       "    </tr>\n",
       "    <tr>\n",
       "      <th>children</th>\n",
       "      <th></th>\n",
       "      <th></th>\n",
       "      <th></th>\n",
       "    </tr>\n",
       "  </thead>\n",
       "  <tbody>\n",
       "    <tr>\n",
       "      <td>4</td>\n",
       "      <td>4</td>\n",
       "      <td>41</td>\n",
       "      <td>9.76%</td>\n",
       "    </tr>\n",
       "    <tr>\n",
       "      <td>2</td>\n",
       "      <td>202</td>\n",
       "      <td>2128</td>\n",
       "      <td>9.49%</td>\n",
       "    </tr>\n",
       "    <tr>\n",
       "      <td>1</td>\n",
       "      <td>445</td>\n",
       "      <td>4856</td>\n",
       "      <td>9.16%</td>\n",
       "    </tr>\n",
       "    <tr>\n",
       "      <td>3</td>\n",
       "      <td>27</td>\n",
       "      <td>330</td>\n",
       "      <td>8.18%</td>\n",
       "    </tr>\n",
       "    <tr>\n",
       "      <td>0</td>\n",
       "      <td>1063</td>\n",
       "      <td>14107</td>\n",
       "      <td>7.54%</td>\n",
       "    </tr>\n",
       "    <tr>\n",
       "      <td>5</td>\n",
       "      <td>0</td>\n",
       "      <td>9</td>\n",
       "      <td>0.00%</td>\n",
       "    </tr>\n",
       "  </tbody>\n",
       "</table>\n",
       "</div>"
      ],
      "text/plain": [
       "          children_sum  children_count children_debt_rate\n",
       "children                                                 \n",
       "4                    4              41              9.76%\n",
       "2                  202            2128              9.49%\n",
       "1                  445            4856              9.16%\n",
       "3                   27             330              8.18%\n",
       "0                 1063           14107              7.54%\n",
       "5                    0               9              0.00%"
      ]
     },
     "execution_count": 47,
     "metadata": {},
     "output_type": "execute_result"
    }
   ],
   "source": [
    "debt_by_children = pd.DataFrame()\n",
    "debt_by_children['children_sum'] = df.groupby('children')['debt'].sum()\n",
    "debt_by_children['children_count'] = df.groupby('children')['debt'].count()\n",
    "debt_by_children['children_debt_rate'] = debt_by_children['children_sum'] / debt_by_children['children_count'] \n",
    "debt_by_children['children_debt_rate'] = debt_by_children['children_debt_rate'].map(lambda x: '{:.2%}'.format(x))\n",
    "debt_by_children.sort_values('children_debt_rate', ascending = False)"
   ]
  },
  {
   "cell_type": "markdown",
   "metadata": {},
   "source": [
    "Аналогичным образом поступим в части ислледования зависимости доли возвращенных не в срок кредитов от цели кредита (категория **purpose**)."
   ]
  },
  {
   "cell_type": "code",
   "execution_count": 48,
   "metadata": {},
   "outputs": [
    {
     "data": {
      "text/html": [
       "<div>\n",
       "<style scoped>\n",
       "    .dataframe tbody tr th:only-of-type {\n",
       "        vertical-align: middle;\n",
       "    }\n",
       "\n",
       "    .dataframe tbody tr th {\n",
       "        vertical-align: top;\n",
       "    }\n",
       "\n",
       "    .dataframe thead th {\n",
       "        text-align: right;\n",
       "    }\n",
       "</style>\n",
       "<table border=\"1\" class=\"dataframe\">\n",
       "  <thead>\n",
       "    <tr style=\"text-align: right;\">\n",
       "      <th></th>\n",
       "      <th>purpose_sum</th>\n",
       "      <th>purpose_count</th>\n",
       "      <th>purpose_debt_rate</th>\n",
       "    </tr>\n",
       "    <tr>\n",
       "      <th>purpose_unified</th>\n",
       "      <th></th>\n",
       "      <th></th>\n",
       "      <th></th>\n",
       "    </tr>\n",
       "  </thead>\n",
       "  <tbody>\n",
       "    <tr>\n",
       "      <td>авто</td>\n",
       "      <td>403</td>\n",
       "      <td>4308</td>\n",
       "      <td>9.35%</td>\n",
       "    </tr>\n",
       "    <tr>\n",
       "      <td>образование</td>\n",
       "      <td>370</td>\n",
       "      <td>4014</td>\n",
       "      <td>9.22%</td>\n",
       "    </tr>\n",
       "    <tr>\n",
       "      <td>свадьба</td>\n",
       "      <td>186</td>\n",
       "      <td>2335</td>\n",
       "      <td>7.97%</td>\n",
       "    </tr>\n",
       "    <tr>\n",
       "      <td>недвижимость</td>\n",
       "      <td>782</td>\n",
       "      <td>10814</td>\n",
       "      <td>7.23%</td>\n",
       "    </tr>\n",
       "  </tbody>\n",
       "</table>\n",
       "</div>"
      ],
      "text/plain": [
       "                 purpose_sum  purpose_count purpose_debt_rate\n",
       "purpose_unified                                              \n",
       "авто                     403           4308             9.35%\n",
       "образование              370           4014             9.22%\n",
       "свадьба                  186           2335             7.97%\n",
       "недвижимость             782          10814             7.23%"
      ]
     },
     "execution_count": 48,
     "metadata": {},
     "output_type": "execute_result"
    }
   ],
   "source": [
    "debt_by_purpose = pd.DataFrame()\n",
    "debt_by_purpose['purpose_sum'] = df.groupby('purpose_unified')['debt'].sum()\n",
    "debt_by_purpose['purpose_count'] = df.groupby('purpose_unified')['debt'].count()\n",
    "debt_by_purpose['purpose_debt_rate'] = debt_by_purpose['purpose_sum'] / debt_by_purpose['purpose_count'] \n",
    "debt_by_purpose['purpose_debt_rate'] = debt_by_purpose['purpose_debt_rate'].map(lambda x: '{:.2%}'.format(x))\n",
    "debt_by_purpose.sort_values('purpose_debt_rate', ascending = False)"
   ]
  },
  {
   "cell_type": "markdown",
   "metadata": {},
   "source": [
    "Проверим заявленный минимальный доход заемщика"
   ]
  },
  {
   "cell_type": "code",
   "execution_count": 49,
   "metadata": {},
   "outputs": [
    {
     "data": {
      "text/plain": [
       "20667"
      ]
     },
     "execution_count": 49,
     "metadata": {},
     "output_type": "execute_result"
    }
   ],
   "source": [
    "df.total_income.min()"
   ]
  },
  {
   "cell_type": "markdown",
   "metadata": {},
   "source": [
    "1. Необходимо разбить диапазон измерения получаемого дохода на некоторые равные интервалы. Таким образом мы сможем оценить в каждом из них долю невозвращенных кредитов\n",
    "2. При выборке длинны такого интервала необходимо учитывать то, что при его увеличении количество частей, на которые бьется сам диапазон дохода, уменьшается, но в это же время сглаживается искомый параметр, а также больше измерений попадает в каждый интервал. И наоборот, при уменьшении такого интервала, количество измерений в попадающих в него, уменьшается\n",
    "3. Рассмотрим интервал биения **total_income** в 100,000р.\n",
    "4. Возьмем минимально необходимое количесвто измерений в получаемых интервалах не менее 30 (в противном случае мы не сможем доверять полученному показателю доли невозращенных в срок кредитов, так как увеличивается вероятность биения искомого показателя на малых объемах исследования)"
   ]
  },
  {
   "cell_type": "code",
   "execution_count": 50,
   "metadata": {},
   "outputs": [
    {
     "data": {
      "text/html": [
       "<div>\n",
       "<style scoped>\n",
       "    .dataframe tbody tr th:only-of-type {\n",
       "        vertical-align: middle;\n",
       "    }\n",
       "\n",
       "    .dataframe tbody tr th {\n",
       "        vertical-align: top;\n",
       "    }\n",
       "\n",
       "    .dataframe thead th {\n",
       "        text-align: right;\n",
       "    }\n",
       "</style>\n",
       "<table border=\"1\" class=\"dataframe\">\n",
       "  <thead>\n",
       "    <tr style=\"text-align: right;\">\n",
       "      <th></th>\n",
       "      <th>sum</th>\n",
       "      <th>count</th>\n",
       "      <th>rate</th>\n",
       "    </tr>\n",
       "    <tr>\n",
       "      <th>total_income_interval</th>\n",
       "      <th></th>\n",
       "      <th></th>\n",
       "      <th></th>\n",
       "    </tr>\n",
       "  </thead>\n",
       "  <tbody>\n",
       "    <tr>\n",
       "      <td>0</td>\n",
       "      <td>354</td>\n",
       "      <td>4463</td>\n",
       "      <td>7.93%</td>\n",
       "    </tr>\n",
       "    <tr>\n",
       "      <td>100000</td>\n",
       "      <td>1029</td>\n",
       "      <td>11942</td>\n",
       "      <td>8.62%</td>\n",
       "    </tr>\n",
       "    <tr>\n",
       "      <td>200000</td>\n",
       "      <td>252</td>\n",
       "      <td>3584</td>\n",
       "      <td>7.03%</td>\n",
       "    </tr>\n",
       "    <tr>\n",
       "      <td>300000</td>\n",
       "      <td>75</td>\n",
       "      <td>954</td>\n",
       "      <td>7.86%</td>\n",
       "    </tr>\n",
       "    <tr>\n",
       "      <td>400000</td>\n",
       "      <td>17</td>\n",
       "      <td>306</td>\n",
       "      <td>5.56%</td>\n",
       "    </tr>\n",
       "    <tr>\n",
       "      <td>500000</td>\n",
       "      <td>6</td>\n",
       "      <td>113</td>\n",
       "      <td>5.31%</td>\n",
       "    </tr>\n",
       "    <tr>\n",
       "      <td>600000</td>\n",
       "      <td>3</td>\n",
       "      <td>48</td>\n",
       "      <td>6.25%</td>\n",
       "    </tr>\n",
       "  </tbody>\n",
       "</table>\n",
       "</div>"
      ],
      "text/plain": [
       "                        sum  count   rate\n",
       "total_income_interval                    \n",
       "0                       354   4463  7.93%\n",
       "100000                 1029  11942  8.62%\n",
       "200000                  252   3584  7.03%\n",
       "300000                   75    954  7.86%\n",
       "400000                   17    306  5.56%\n",
       "500000                    6    113  5.31%\n",
       "600000                    3     48  6.25%"
      ]
     },
     "execution_count": 50,
     "metadata": {},
     "output_type": "execute_result"
    }
   ],
   "source": [
    "threshold = 100000\n",
    "\n",
    "df['total_income_interval'] = df.total_income // threshold * threshold\n",
    "df_total_income = pd.DataFrame()\n",
    "df_total_income['sum'] = df.groupby('total_income_interval')['debt'].sum()\n",
    "df_total_income['count'] = df.groupby('total_income_interval')['debt'].count()\n",
    "\n",
    "df_total_income['rate'] = df_total_income['sum'] / df_total_income['count']\n",
    "df_total_income['rate'] = df_total_income['rate'].map(lambda x: '{:.2%}'.format(x))\n",
    "#pd.set_option('display.max_rows', 100)\n",
    "#df_total_income.tail(10)\n",
    "df_limited = df_total_income[df_total_income['count'] > 30]\n",
    "df_limited"
   ]
  },
  {
   "cell_type": "markdown",
   "metadata": {},
   "source": [
    "**Вывод**"
   ]
  },
  {
   "cell_type": "markdown",
   "metadata": {},
   "source": [
    "Проведена категоризация данных с рассчетом целевых показателей задания"
   ]
  },
  {
   "cell_type": "markdown",
   "metadata": {},
   "source": [
    "## Шаг 3. Ответьте на вопросы"
   ]
  },
  {
   "cell_type": "markdown",
   "metadata": {},
   "source": [
    "- Есть ли зависимость между наличием детей и возвратом кредита в срок?"
   ]
  },
  {
   "cell_type": "markdown",
   "metadata": {},
   "source": [
    "**Вывод**"
   ]
  },
  {
   "cell_type": "markdown",
   "metadata": {},
   "source": [
    "Заемщики с детьми незначительно хуже возвращают кредит, чем бездетные. Для заемщиков с детьми в количестве 5 данных недостаточно."
   ]
  },
  {
   "cell_type": "markdown",
   "metadata": {},
   "source": [
    "- Есть ли зависимость между семейным положением и возвратом кредита в срок?"
   ]
  },
  {
   "cell_type": "markdown",
   "metadata": {},
   "source": [
    "**Вывод**"
   ]
  },
  {
   "cell_type": "markdown",
   "metadata": {},
   "source": [
    "По результатам исследования выявлено, что такие категории как **«не женат / не замужем»** и **«гражданский брак»** хуже возвращают кредит, чем категории **«женат / замужем»** и **«в разводе»**. Лучше всего возвращают кредит заемщики из категории **«вдовец / вдова»**"
   ]
  },
  {
   "cell_type": "markdown",
   "metadata": {},
   "source": [
    "- Есть ли зависимость между уровнем дохода и возвратом кредита в срок?"
   ]
  },
  {
   "cell_type": "markdown",
   "metadata": {},
   "source": [
    "**Вывод**"
   ]
  },
  {
   "cell_type": "markdown",
   "metadata": {},
   "source": [
    "Заемщики с доходом от 400,000р лучше возвращают кредит, чем те, которые имеют доход менее данной суммы. Данные для заемщиков с доходом менее 700,000р являются непоказательными."
   ]
  },
  {
   "cell_type": "markdown",
   "metadata": {},
   "source": [
    "- Как разные цели кредита влияют на его возврат в срок?"
   ]
  },
  {
   "cell_type": "markdown",
   "metadata": {},
   "source": [
    "**Вывод**"
   ]
  },
  {
   "cell_type": "markdown",
   "metadata": {},
   "source": [
    "Заемщики с целю **«свадьба»** **и «недвижимость»** лучше возвращают кредиты, чем в категориях **«авто»** и **«образование»**"
   ]
  },
  {
   "cell_type": "markdown",
   "metadata": {},
   "source": [
    "<div class=\"alert alert-block alert-success\">\n",
    "\n",
    "    \n",
    "### Комментарий от ревьюера v_1\n",
    "\n",
    "Выводы верны, молодец, что не пренебрегаешь малыми процентами\n",
    "    \n",
    "    \n",
    "</div>"
   ]
  },
  {
   "cell_type": "markdown",
   "metadata": {},
   "source": [
    "## Шаг 4. Общий вывод"
   ]
  },
  {
   "cell_type": "markdown",
   "metadata": {},
   "source": [
    "В результате исследование получены данные о зависимости возврата кредита от категорий заемщиков с заданными статусами и получены следующие результаты:\n",
    "* семейное положение:\n",
    "\n",
    "<span style='background:yellow'>По результатам исследования выявлено, что такие категории как **«не женат / не замужем»** и **«гражданский брак»** хуже возвращают кредит, чем категории **«женат / замужем»** и **«в разводе»**. Лучше всего возвращают кредит заемщики из категории **«вдовец / вдова»**\n",
    "</span>\n",
    "\n",
    "\n",
    "* уровень дохода:\n",
    "\n",
    "<span style='background:yellow'> Заемщики с доходом от 400,000р лучше возвращают кредит, чем те, которые имеют доход менее данной суммы. Данные для заемщиков с доходом менее 700,000р являются непоказательными.</span>\n",
    "\n",
    "\n",
    "\n",
    "* количество детей:\n",
    "\n",
    "<span style='background:yellow'>Заемщики с детьми незначительно хуже возвращают кредит, чем бездетные. Для заемщиков с детьми в количестве 5 данных недостаточно.\n",
    "</span>\n",
    "\n",
    "\n",
    "* цели кредита:\n",
    "\n",
    "<span style='background:yellow'>Заемщики с целю **«свадьба»** **и «недвижимость»** лучше возвращают кредиты, чем в категориях **«авто»** и **«образование»**\n",
    "</span>"
   ]
  },
  {
   "cell_type": "markdown",
   "metadata": {},
   "source": [
    "<div class=\"alert alert-block alert-warning\">\n",
    "    \n",
    "\n",
    "### Комментарий от ревьюера v_1\n",
    "Рекомендация\n",
    "    \n",
    "Общий вывод следует расписать подробнее. Так, чтобы вернувшись к проекту спустя какое-то время, у тебя не составило бы большого труда восстановить всю картину по работе над этим проектом.\n",
    "</div>"
   ]
  },
  {
   "cell_type": "markdown",
   "metadata": {},
   "source": [
    "## Чек-лист готовности проекта\n",
    "\n",
    "Поставьте 'x' в выполненных пунктах. Далее нажмите Shift+Enter."
   ]
  },
  {
   "cell_type": "markdown",
   "metadata": {},
   "source": [
    "- [x]  открыт файл;\n",
    "- [ ]  файл изучен;\n",
    "- [ ]  определены пропущенные значения;\n",
    "- [ ]  заполнены пропущенные значения;\n",
    "- [ ]  есть пояснение, какие пропущенные значения обнаружены;\n",
    "- [ ]  описаны возможные причины появления пропусков в данных;\n",
    "- [ ]  объяснено, по какому принципу заполнены пропуски;\n",
    "- [ ]  заменен вещественный тип данных на целочисленный;\n",
    "- [ ]  есть пояснение, какой метод используется для изменения типа данных и почему;\n",
    "- [ ]  удалены дубликаты;\n",
    "- [ ]  есть пояснение, какой метод используется для поиска и удаления дубликатов;\n",
    "- [ ]  описаны возможные причины появления дубликатов в данных;\n",
    "- [ ]  выделены леммы в значениях столбца с целями получения кредита;\n",
    "- [ ]  описан процесс лемматизации;\n",
    "- [ ]  данные категоризированы;\n",
    "- [ ]  есть объяснение принципа категоризации данных;\n",
    "- [ ]  есть ответ на вопрос: \"Есть ли зависимость между наличием детей и возвратом кредита в срок?\";\n",
    "- [ ]  есть ответ на вопрос: \"Есть ли зависимость между семейным положением и возвратом кредита в срок?\";\n",
    "- [ ]  есть ответ на вопрос: \"Есть ли зависимость между уровнем дохода и возвратом кредита в срок?\";\n",
    "- [ ]  есть ответ на вопрос: \"Как разные цели кредита влияют на его возврат в срок?\";\n",
    "- [ ]  в каждом этапе есть выводы;\n",
    "- [ ]  есть общий вывод."
   ]
  }
 ],
 "metadata": {
  "ExecuteTimeLog": [
   {
    "duration": 575,
    "start_time": "2022-01-26T23:50:10.851Z"
   },
   {
    "duration": 20,
    "start_time": "2022-01-26T23:50:47.006Z"
   },
   {
    "duration": 10,
    "start_time": "2022-01-26T23:51:29.695Z"
   },
   {
    "duration": 16,
    "start_time": "2022-01-26T23:51:44.591Z"
   },
   {
    "duration": 62,
    "start_time": "2022-01-26T23:53:30.734Z"
   },
   {
    "duration": 4,
    "start_time": "2022-01-26T23:54:23.770Z"
   },
   {
    "duration": 5,
    "start_time": "2022-01-26T23:54:34.393Z"
   },
   {
    "duration": 20,
    "start_time": "2022-01-26T23:54:59.301Z"
   },
   {
    "duration": 8,
    "start_time": "2022-01-26T23:55:57.155Z"
   },
   {
    "duration": 10,
    "start_time": "2022-01-26T23:58:08.408Z"
   },
   {
    "duration": 11,
    "start_time": "2022-01-26T23:59:00.456Z"
   },
   {
    "duration": 11,
    "start_time": "2022-01-26T23:59:34.641Z"
   },
   {
    "duration": 18,
    "start_time": "2022-01-27T00:01:08.572Z"
   },
   {
    "duration": 2788,
    "start_time": "2022-01-27T00:01:30.519Z"
   },
   {
    "duration": 20693,
    "start_time": "2022-01-27T00:02:08.101Z"
   },
   {
    "duration": 17599,
    "start_time": "2022-01-27T00:02:54.941Z"
   },
   {
    "duration": 12,
    "start_time": "2022-01-27T00:03:27.675Z"
   },
   {
    "duration": 5,
    "start_time": "2022-01-27T00:04:35.467Z"
   },
   {
    "duration": 16,
    "start_time": "2022-01-27T00:06:42.918Z"
   },
   {
    "duration": 14,
    "start_time": "2022-01-27T00:07:23.865Z"
   },
   {
    "duration": 15,
    "start_time": "2022-01-27T00:07:52.678Z"
   },
   {
    "duration": 4,
    "start_time": "2022-01-27T00:08:26.820Z"
   },
   {
    "duration": 17,
    "start_time": "2022-01-27T00:09:03.640Z"
   },
   {
    "duration": 563,
    "start_time": "2022-01-27T00:12:53.063Z"
   },
   {
    "duration": 18,
    "start_time": "2022-01-27T00:12:53.629Z"
   },
   {
    "duration": 10,
    "start_time": "2022-01-27T00:12:53.649Z"
   },
   {
    "duration": 16,
    "start_time": "2022-01-27T00:12:53.661Z"
   },
   {
    "duration": 33,
    "start_time": "2022-01-27T00:12:53.679Z"
   },
   {
    "duration": 7,
    "start_time": "2022-01-27T00:12:53.714Z"
   },
   {
    "duration": 21,
    "start_time": "2022-01-27T00:12:53.723Z"
   },
   {
    "duration": 9,
    "start_time": "2022-01-27T00:12:53.747Z"
   },
   {
    "duration": 9,
    "start_time": "2022-01-27T00:12:53.758Z"
   },
   {
    "duration": 53,
    "start_time": "2022-01-27T00:12:53.769Z"
   },
   {
    "duration": 19,
    "start_time": "2022-01-27T00:12:53.824Z"
   },
   {
    "duration": 2740,
    "start_time": "2022-01-27T00:12:53.845Z"
   },
   {
    "duration": 21750,
    "start_time": "2022-01-27T00:12:56.587Z"
   },
   {
    "duration": 10,
    "start_time": "2022-01-27T00:13:18.338Z"
   },
   {
    "duration": 5,
    "start_time": "2022-01-27T00:13:18.350Z"
   },
   {
    "duration": 16,
    "start_time": "2022-01-27T00:13:18.357Z"
   },
   {
    "duration": 39,
    "start_time": "2022-01-27T00:13:18.374Z"
   },
   {
    "duration": 15,
    "start_time": "2022-01-27T00:13:18.414Z"
   },
   {
    "duration": 4,
    "start_time": "2022-01-27T00:13:18.430Z"
   },
   {
    "duration": 17,
    "start_time": "2022-01-27T00:13:18.435Z"
   },
   {
    "duration": 58,
    "start_time": "2022-01-27T00:13:20.609Z"
   },
   {
    "duration": 11,
    "start_time": "2022-01-27T00:13:24.032Z"
   },
   {
    "duration": 10,
    "start_time": "2022-01-27T00:13:29.737Z"
   },
   {
    "duration": 13,
    "start_time": "2022-01-27T00:14:05.443Z"
   },
   {
    "duration": 4,
    "start_time": "2022-01-27T00:14:38.539Z"
   },
   {
    "duration": 6,
    "start_time": "2022-01-27T00:14:39.990Z"
   },
   {
    "duration": 20,
    "start_time": "2022-01-27T00:14:42.303Z"
   },
   {
    "duration": 9,
    "start_time": "2022-01-27T00:15:04.184Z"
   },
   {
    "duration": 10,
    "start_time": "2022-01-27T00:15:23.095Z"
   },
   {
    "duration": 13,
    "start_time": "2022-01-27T00:15:47.339Z"
   },
   {
    "duration": 18,
    "start_time": "2022-01-27T00:15:52.558Z"
   },
   {
    "duration": 2436,
    "start_time": "2022-01-27T00:15:55.409Z"
   },
   {
    "duration": 21872,
    "start_time": "2022-01-27T00:16:04.063Z"
   },
   {
    "duration": 12,
    "start_time": "2022-01-27T00:16:36.409Z"
   },
   {
    "duration": 4,
    "start_time": "2022-01-27T00:16:40.854Z"
   },
   {
    "duration": 16,
    "start_time": "2022-01-27T00:16:57.475Z"
   },
   {
    "duration": 14,
    "start_time": "2022-01-27T00:17:04.725Z"
   },
   {
    "duration": 15,
    "start_time": "2022-01-27T00:17:07.547Z"
   },
   {
    "duration": 4,
    "start_time": "2022-01-27T00:17:11.201Z"
   },
   {
    "duration": 21,
    "start_time": "2022-01-27T00:17:14.439Z"
   },
   {
    "duration": 644,
    "start_time": "2022-02-04T18:22:09.307Z"
   },
   {
    "duration": 21,
    "start_time": "2022-02-04T18:22:09.953Z"
   },
   {
    "duration": 23,
    "start_time": "2022-02-04T18:22:09.976Z"
   },
   {
    "duration": 18,
    "start_time": "2022-02-04T18:22:10.002Z"
   },
   {
    "duration": 4,
    "start_time": "2022-02-04T18:22:10.022Z"
   },
   {
    "duration": 11,
    "start_time": "2022-02-04T18:22:10.028Z"
   },
   {
    "duration": 26,
    "start_time": "2022-02-04T18:22:10.041Z"
   },
   {
    "duration": 36,
    "start_time": "2022-02-04T18:22:10.068Z"
   },
   {
    "duration": 16,
    "start_time": "2022-02-04T18:22:10.107Z"
   },
   {
    "duration": 14,
    "start_time": "2022-02-04T18:22:10.125Z"
   },
   {
    "duration": 24,
    "start_time": "2022-02-04T18:22:10.141Z"
   },
   {
    "duration": 2813,
    "start_time": "2022-02-04T18:22:10.166Z"
   },
   {
    "duration": 23316,
    "start_time": "2022-02-04T18:22:12.981Z"
   },
   {
    "duration": 12,
    "start_time": "2022-02-04T18:22:36.298Z"
   },
   {
    "duration": 9,
    "start_time": "2022-02-04T18:22:36.312Z"
   },
   {
    "duration": 22,
    "start_time": "2022-02-04T18:22:36.323Z"
   },
   {
    "duration": 15,
    "start_time": "2022-02-04T18:22:36.346Z"
   },
   {
    "duration": 42,
    "start_time": "2022-02-04T18:22:36.362Z"
   },
   {
    "duration": 4,
    "start_time": "2022-02-04T18:22:36.405Z"
   },
   {
    "duration": 20,
    "start_time": "2022-02-04T18:22:36.411Z"
   },
   {
    "duration": 17,
    "start_time": "2022-02-04T18:39:50.873Z"
   },
   {
    "duration": 655,
    "start_time": "2022-02-05T18:16:27.157Z"
   },
   {
    "duration": 20,
    "start_time": "2022-02-05T18:16:29.858Z"
   },
   {
    "duration": 11,
    "start_time": "2022-02-05T18:16:32.289Z"
   },
   {
    "duration": 16,
    "start_time": "2022-02-05T18:16:34.990Z"
   },
   {
    "duration": 80,
    "start_time": "2022-02-05T18:17:46.808Z"
   },
   {
    "duration": 9,
    "start_time": "2022-02-05T18:18:23.804Z"
   },
   {
    "duration": 51,
    "start_time": "2022-02-05T18:18:52.892Z"
   },
   {
    "duration": 22,
    "start_time": "2022-02-05T18:19:08.408Z"
   },
   {
    "duration": 14,
    "start_time": "2022-02-05T18:19:36.684Z"
   },
   {
    "duration": 18,
    "start_time": "2022-02-05T18:20:28.510Z"
   },
   {
    "duration": 40,
    "start_time": "2022-02-05T18:20:57.592Z"
   },
   {
    "duration": 13,
    "start_time": "2022-02-05T18:21:09.882Z"
   },
   {
    "duration": 23,
    "start_time": "2022-02-05T18:21:19.600Z"
   },
   {
    "duration": 2512,
    "start_time": "2022-02-05T18:21:23.806Z"
   },
   {
    "duration": 775,
    "start_time": "2022-02-05T18:21:34.275Z"
   },
   {
    "duration": 728,
    "start_time": "2022-02-05T18:21:42.610Z"
   },
   {
    "duration": 7553,
    "start_time": "2022-02-05T18:21:49.532Z"
   },
   {
    "duration": 39,
    "start_time": "2022-02-05T18:22:43.045Z"
   },
   {
    "duration": 13,
    "start_time": "2022-02-05T18:24:01.963Z"
   },
   {
    "duration": 5,
    "start_time": "2022-02-05T18:24:31.872Z"
   },
   {
    "duration": 21,
    "start_time": "2022-02-05T18:24:44.996Z"
   },
   {
    "duration": 16,
    "start_time": "2022-02-05T18:24:51.338Z"
   },
   {
    "duration": 18,
    "start_time": "2022-02-05T18:25:04.038Z"
   },
   {
    "duration": 6,
    "start_time": "2022-02-05T18:25:09.936Z"
   },
   {
    "duration": 20,
    "start_time": "2022-02-05T18:25:53.000Z"
   },
   {
    "duration": 11,
    "start_time": "2022-02-05T18:27:35.082Z"
   },
   {
    "duration": 31,
    "start_time": "2022-02-05T18:27:37.432Z"
   },
   {
    "duration": 45,
    "start_time": "2022-02-05T18:27:38.367Z"
   },
   {
    "duration": 14,
    "start_time": "2022-02-05T18:27:39.967Z"
   },
   {
    "duration": 24,
    "start_time": "2022-02-05T18:27:43.037Z"
   },
   {
    "duration": 757,
    "start_time": "2022-02-05T18:27:43.339Z"
   },
   {
    "duration": 38,
    "start_time": "2022-02-05T18:27:44.808Z"
   },
   {
    "duration": 13,
    "start_time": "2022-02-05T18:27:45.575Z"
   },
   {
    "duration": 6,
    "start_time": "2022-02-05T18:27:49.274Z"
   },
   {
    "duration": 20,
    "start_time": "2022-02-05T18:27:51.620Z"
   },
   {
    "duration": 17,
    "start_time": "2022-02-05T18:27:52.716Z"
   },
   {
    "duration": 18,
    "start_time": "2022-02-05T18:27:53.956Z"
   },
   {
    "duration": 5,
    "start_time": "2022-02-05T18:27:55.558Z"
   },
   {
    "duration": 20,
    "start_time": "2022-02-05T18:27:59.503Z"
   },
   {
    "duration": 718,
    "start_time": "2022-02-05T18:28:32.590Z"
   },
   {
    "duration": 21,
    "start_time": "2022-02-05T18:28:33.311Z"
   },
   {
    "duration": 10,
    "start_time": "2022-02-05T18:28:33.335Z"
   },
   {
    "duration": 23,
    "start_time": "2022-02-05T18:28:33.347Z"
   },
   {
    "duration": 4,
    "start_time": "2022-02-05T18:28:33.372Z"
   },
   {
    "duration": 26,
    "start_time": "2022-02-05T18:28:33.377Z"
   },
   {
    "duration": 7,
    "start_time": "2022-02-05T18:28:33.405Z"
   },
   {
    "duration": 53,
    "start_time": "2022-02-05T18:28:33.415Z"
   },
   {
    "duration": 50,
    "start_time": "2022-02-05T18:28:33.470Z"
   },
   {
    "duration": 13,
    "start_time": "2022-02-05T18:28:33.521Z"
   },
   {
    "duration": 10,
    "start_time": "2022-02-05T18:28:33.536Z"
   },
   {
    "duration": 52,
    "start_time": "2022-02-05T18:28:33.548Z"
   },
   {
    "duration": 39,
    "start_time": "2022-02-05T18:28:33.602Z"
   },
   {
    "duration": 13,
    "start_time": "2022-02-05T18:28:33.643Z"
   },
   {
    "duration": 43,
    "start_time": "2022-02-05T18:28:33.658Z"
   },
   {
    "duration": 755,
    "start_time": "2022-02-05T18:28:33.703Z"
   },
   {
    "duration": 47,
    "start_time": "2022-02-05T18:28:34.460Z"
   },
   {
    "duration": 15,
    "start_time": "2022-02-05T18:28:34.508Z"
   },
   {
    "duration": 21,
    "start_time": "2022-02-05T18:28:34.525Z"
   },
   {
    "duration": 38,
    "start_time": "2022-02-05T18:28:34.548Z"
   },
   {
    "duration": 23,
    "start_time": "2022-02-05T18:28:34.588Z"
   },
   {
    "duration": 18,
    "start_time": "2022-02-05T18:28:34.613Z"
   },
   {
    "duration": 4,
    "start_time": "2022-02-05T18:28:34.634Z"
   },
   {
    "duration": 24,
    "start_time": "2022-02-05T18:28:34.640Z"
   },
   {
    "duration": 65,
    "start_time": "2022-02-05T18:28:46.420Z"
   },
   {
    "duration": 13,
    "start_time": "2022-02-05T18:28:47.322Z"
   },
   {
    "duration": 11,
    "start_time": "2022-02-05T18:28:48.241Z"
   },
   {
    "duration": 16,
    "start_time": "2022-02-05T18:28:49.227Z"
   },
   {
    "duration": 4,
    "start_time": "2022-02-05T18:28:53.184Z"
   },
   {
    "duration": 7,
    "start_time": "2022-02-05T18:28:53.716Z"
   },
   {
    "duration": 6,
    "start_time": "2022-02-05T18:28:58.094Z"
   },
   {
    "duration": 53,
    "start_time": "2022-02-05T18:29:03.092Z"
   },
   {
    "duration": 24,
    "start_time": "2022-02-05T18:29:14.658Z"
   },
   {
    "duration": 15,
    "start_time": "2022-02-05T18:29:26.892Z"
   },
   {
    "duration": 11,
    "start_time": "2022-02-05T18:29:31.216Z"
   },
   {
    "duration": 19,
    "start_time": "2022-02-05T18:29:48.072Z"
   },
   {
    "duration": 39,
    "start_time": "2022-02-05T18:29:57.344Z"
   },
   {
    "duration": 15,
    "start_time": "2022-02-05T18:30:00.990Z"
   },
   {
    "duration": 23,
    "start_time": "2022-02-05T18:30:12.500Z"
   },
   {
    "duration": 744,
    "start_time": "2022-02-05T18:30:13.751Z"
   },
   {
    "duration": 39,
    "start_time": "2022-02-05T18:32:37.001Z"
   },
   {
    "duration": 13,
    "start_time": "2022-02-05T18:32:39.304Z"
   },
   {
    "duration": 6,
    "start_time": "2022-02-05T18:32:51.633Z"
   },
   {
    "duration": 6,
    "start_time": "2022-02-05T18:33:10.487Z"
   },
   {
    "duration": 4,
    "start_time": "2022-02-05T18:33:20.234Z"
   },
   {
    "duration": 24,
    "start_time": "2022-02-05T18:33:24.344Z"
   },
   {
    "duration": 17,
    "start_time": "2022-02-05T18:33:26.718Z"
   },
   {
    "duration": 18,
    "start_time": "2022-02-05T18:33:29.514Z"
   },
   {
    "duration": 5,
    "start_time": "2022-02-05T18:33:34.301Z"
   },
   {
    "duration": 21,
    "start_time": "2022-02-05T18:33:38.973Z"
   }
  ],
  "kernelspec": {
   "display_name": "Python 3 (ipykernel)",
   "language": "python",
   "name": "python3"
  },
  "language_info": {
   "codemirror_mode": {
    "name": "ipython",
    "version": 3
   },
   "file_extension": ".py",
   "mimetype": "text/x-python",
   "name": "python",
   "nbconvert_exporter": "python",
   "pygments_lexer": "ipython3",
   "version": "3.9.7"
  },
  "toc": {
   "base_numbering": 1,
   "nav_menu": {},
   "number_sections": false,
   "sideBar": true,
   "skip_h1_title": false,
   "title_cell": "Table of Contents",
   "title_sidebar": "Contents",
   "toc_cell": false,
   "toc_position": {
    "height": "calc(100% - 180px)",
    "left": "10px",
    "top": "150px",
    "width": "255.35px"
   },
   "toc_section_display": true,
   "toc_window_display": true
  }
 },
 "nbformat": 4,
 "nbformat_minor": 2
}
