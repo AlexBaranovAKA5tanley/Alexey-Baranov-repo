{
 "cells": [
  {
   "cell_type": "markdown",
   "metadata": {},
   "source": [
    "## Описание проекта\n",
    "\n",
    "Постановка задачи\n",
    "Ваша задача — провести оценку результатов A/B-теста. В вашем распоряжении есть датасет с действиями пользователей, техническое задание и несколько вспомогательных датасетов.\n",
    "\n",
    "* Оцените корректность проведения теста\n",
    "* Проанализируйте результаты теста\n",
    "Чтобы оценить корректность проведения теста, проверьте:\n",
    "* пересечение тестовой аудитории с конкурирующим тестом,\n",
    "* совпадение теста и маркетинговых событий, другие проблемы временных границ теста.\n",
    "\n",
    "**Техническое задание**\n",
    "* Название теста: `recommender_system_test`;\n",
    "* группы: А — контрольная, B — новая платёжная воронка;\n",
    "* дата запуска: 2020-12-07;\n",
    "* дата остановки набора новых пользователей: 2020-12-21;\n",
    "* дата остановки: 2021-01-04;\n",
    "* аудитория: 15% новых пользователей из региона EU;\n",
    "* назначение теста: тестирование изменений, связанных с внедрением улучшенной рекомендательной системы;\n",
    "* ожидаемое количество участников теста: 6000.\n",
    "* ожидаемый эффект: за 14 дней с момента регистрации пользователи покажут улучшение каждой метрики не менее, чем на 10%: \n",
    "* * конверсии в просмотр карточек товаров — событие `product_page`,\n",
    "* * просмотры корзины — `product_cart`,\n",
    "* * покупки — `purchase`.\n",
    "\n",
    "**Данные**\n",
    "* `final_ab_events.csv`\n",
    "* `final_ab_project_marketing_events.csv`\n",
    "* `final_ab_new_users.csv`\n",
    "* `final_ab_participants.csv`\n",
    "\n",
    "**Описание данных**\n",
    "\n",
    "* `ab_project_marketing_events.csv` — календарь маркетинговых событий на 2020 год.\n",
    "\n",
    "Структура файла:\n",
    "* `name` — название маркетингового события;\n",
    "* `regions` — регионы, в которых будет проводиться рекламная кампания;\n",
    "* `start_dt` — дата начала кампании;\n",
    "* `finish_dt` — дата завершения кампании.\n",
    "\n",
    "* `final_ab_new_users.csv` — пользователи, зарегистрировавшиеся с 7 по 21 декабря 2020 года.\n",
    "\n",
    "Структура файла:\n",
    "* `user_id` — идентификатор пользователя;\n",
    "* `first_date` — дата регистрации;\n",
    "* `region` — регион пользователя;\n",
    "* `device` — устройство, с которого происходила регистрация.\n",
    "\n",
    "\n",
    "* `final_ab_events.csv` — действия новых пользователей в период с 7 декабря 2020 по 4 января 2021 года.\n",
    "\n",
    "Структура файла:\n",
    "* `user_id` — идентификатор пользователя;\n",
    "* `event_dt` — дата и время покупки;\n",
    "* `event_name` — тип события;\n",
    "* `details` — дополнительные данные о событии. Например, для покупок, purchase, в этом поле хранится стоимость покупки в долларах.\n",
    "\n",
    "* `final_ab_participants.csv — таблица участников тестов.\n",
    "\n",
    "Структура файла:\n",
    "* `user_id` — идентификатор пользователя;\n",
    "* `ab_test` — название теста;\n",
    "* `group` — группа пользователя.\n"
   ]
  },
  {
   "cell_type": "markdown",
   "metadata": {},
   "source": [
    "## Загрузка данных, первичный анализ данных"
   ]
  },
  {
   "cell_type": "code",
   "execution_count": 1,
   "metadata": {},
   "outputs": [],
   "source": [
    "import pandas as pd\n",
    "import math\n",
    "import seaborn as sns\n",
    "import matplotlib.pyplot as plt\n",
    "import numpy as np\n",
    "from datetime import datetime\n",
    "import datetime as dt\n",
    "from scipy import stats as st\n",
    "#from scipy.stats import shapiro\n",
    "# from itertools import combinations\n",
    "\n",
    "import plotly.figure_factory as ff\n",
    "from plotly import graph_objects as go\n",
    "\n",
    "import warnings\n",
    "warnings.filterwarnings('ignore')\n",
    "\n",
    "###############################################\n",
    "import plotly.io as pio\n",
    "png_renderer = pio.renderers[\"png\"]\n",
    "png_renderer.width = 1000\n",
    "png_renderer.height = 1000\n",
    "pio.renderers.default = \"png\""
   ]
  },
  {
   "cell_type": "code",
   "execution_count": 2,
   "metadata": {},
   "outputs": [],
   "source": [
    "# final_ab_events = pd.read_csv(\"/datasets/final_ab_events.csv\")\n",
    "# final_ab_marketing_events = pd.read_csv(\"/datasets/ab_project_marketing_events.csv\")\n",
    "# final_ab_new_users = pd.read_csv(\"/datasets/final_ab_new_users.csv\")\n",
    "# final_ab_participants = pd.read_csv(\"/datasets/final_ab_participants.csv\")\n",
    "\n",
    "final_ab_events = pd.read_csv(\"https://code.s3.yandex.net/datasets/final_ab_events.csv\")\n",
    "final_ab_marketing_events = pd.read_csv(\"https://code.s3.yandex.net/datasets/ab_project_marketing_events.csv\")\n",
    "final_ab_new_users = pd.read_csv(\"https://code.s3.yandex.net/datasets/final_ab_new_users.csv\")\n",
    "final_ab_participants = pd.read_csv(\"https://code.s3.yandex.net/datasets/final_ab_participants.csv\")\n",
    "\n",
    "pd.set_option('display.max_columns', 30)\n",
    "pd.set_option('display.max_rows', 200)"
   ]
  },
  {
   "cell_type": "code",
   "execution_count": 3,
   "metadata": {
    "scrolled": false
   },
   "outputs": [
    {
     "name": "stdout",
     "output_type": "stream",
     "text": [
      "============================================================\n",
      "\u001b[1m    INFO final_ab_events\u001b[0m\n",
      "\n",
      "<class 'pandas.core.frame.DataFrame'>\n",
      "RangeIndex: 440317 entries, 0 to 440316\n",
      "Data columns (total 4 columns):\n",
      " #   Column      Non-Null Count   Dtype  \n",
      "---  ------      --------------   -----  \n",
      " 0   user_id     440317 non-null  object \n",
      " 1   event_dt    440317 non-null  object \n",
      " 2   event_name  440317 non-null  object \n",
      " 3   details     62740 non-null   float64\n",
      "dtypes: float64(1), object(3)\n",
      "memory usage: 13.4+ MB\n",
      "None\n",
      "\n",
      "============================================================\n",
      "\u001b[1mInitial Duplicates in final_ab_events: \u001b[0m 0\n",
      "\n",
      "============================================================\n",
      "\u001b[1mColumns in final_ab_events:\u001b[0m\n",
      " Index(['user_id', 'event_dt', 'event_name', 'details'], dtype='object')\n",
      "============================================================\n",
      "\u001b[1mNulls and notNAs in final_ab_events:\u001b[0m\n",
      "\n"
     ]
    },
    {
     "data": {
      "text/html": [
       "<div>\n",
       "<style scoped>\n",
       "    .dataframe tbody tr th:only-of-type {\n",
       "        vertical-align: middle;\n",
       "    }\n",
       "\n",
       "    .dataframe tbody tr th {\n",
       "        vertical-align: top;\n",
       "    }\n",
       "\n",
       "    .dataframe thead th {\n",
       "        text-align: right;\n",
       "    }\n",
       "</style>\n",
       "<table border=\"1\" class=\"dataframe\">\n",
       "  <thead>\n",
       "    <tr style=\"text-align: right;\">\n",
       "      <th></th>\n",
       "      <th>nulls</th>\n",
       "      <th>null_rate</th>\n",
       "      <th>notna</th>\n",
       "      <th>notna_rate</th>\n",
       "    </tr>\n",
       "  </thead>\n",
       "  <tbody>\n",
       "    <tr>\n",
       "      <th>user_id</th>\n",
       "      <td>0</td>\n",
       "      <td>0.00%</td>\n",
       "      <td>440317</td>\n",
       "      <td>100.00%</td>\n",
       "    </tr>\n",
       "    <tr>\n",
       "      <th>event_dt</th>\n",
       "      <td>0</td>\n",
       "      <td>0.00%</td>\n",
       "      <td>440317</td>\n",
       "      <td>100.00%</td>\n",
       "    </tr>\n",
       "    <tr>\n",
       "      <th>event_name</th>\n",
       "      <td>0</td>\n",
       "      <td>0.00%</td>\n",
       "      <td>440317</td>\n",
       "      <td>100.00%</td>\n",
       "    </tr>\n",
       "    <tr>\n",
       "      <th>details</th>\n",
       "      <td>377577</td>\n",
       "      <td>85.75%</td>\n",
       "      <td>62740</td>\n",
       "      <td>14.25%</td>\n",
       "    </tr>\n",
       "  </tbody>\n",
       "</table>\n",
       "</div>"
      ],
      "text/plain": [
       "             nulls null_rate   notna notna_rate\n",
       "user_id          0     0.00%  440317    100.00%\n",
       "event_dt         0     0.00%  440317    100.00%\n",
       "event_name       0     0.00%  440317    100.00%\n",
       "details     377577    85.75%   62740     14.25%"
      ]
     },
     "metadata": {},
     "output_type": "display_data"
    },
    {
     "name": "stdout",
     "output_type": "stream",
     "text": [
      "============================================================\n",
      "\u001b[1mNumber of properties in final_ab_events:\u001b[0m\n",
      " 4\n",
      "============================================================\n"
     ]
    },
    {
     "data": {
      "text/html": [
       "<div>\n",
       "<style scoped>\n",
       "    .dataframe tbody tr th:only-of-type {\n",
       "        vertical-align: middle;\n",
       "    }\n",
       "\n",
       "    .dataframe tbody tr th {\n",
       "        vertical-align: top;\n",
       "    }\n",
       "\n",
       "    .dataframe thead th {\n",
       "        text-align: right;\n",
       "    }\n",
       "</style>\n",
       "<table border=\"1\" class=\"dataframe\">\n",
       "  <thead>\n",
       "    <tr style=\"text-align: right;\">\n",
       "      <th></th>\n",
       "      <th>user_id</th>\n",
       "      <th>event_dt</th>\n",
       "      <th>event_name</th>\n",
       "      <th>details</th>\n",
       "    </tr>\n",
       "  </thead>\n",
       "  <tbody>\n",
       "    <tr>\n",
       "      <th>0</th>\n",
       "      <td>E1BDDCE0DAFA2679</td>\n",
       "      <td>2020-12-07 20:22:03</td>\n",
       "      <td>purchase</td>\n",
       "      <td>99.99</td>\n",
       "    </tr>\n",
       "    <tr>\n",
       "      <th>1</th>\n",
       "      <td>7B6452F081F49504</td>\n",
       "      <td>2020-12-07 09:22:53</td>\n",
       "      <td>purchase</td>\n",
       "      <td>9.99</td>\n",
       "    </tr>\n",
       "    <tr>\n",
       "      <th>2</th>\n",
       "      <td>9CD9F34546DF254C</td>\n",
       "      <td>2020-12-07 12:59:29</td>\n",
       "      <td>purchase</td>\n",
       "      <td>4.99</td>\n",
       "    </tr>\n",
       "  </tbody>\n",
       "</table>\n",
       "</div>"
      ],
      "text/plain": [
       "            user_id             event_dt event_name  details\n",
       "0  E1BDDCE0DAFA2679  2020-12-07 20:22:03   purchase    99.99\n",
       "1  7B6452F081F49504  2020-12-07 09:22:53   purchase     9.99\n",
       "2  9CD9F34546DF254C  2020-12-07 12:59:29   purchase     4.99"
      ]
     },
     "metadata": {},
     "output_type": "display_data"
    },
    {
     "name": "stdout",
     "output_type": "stream",
     "text": [
      "============================================================\n",
      "============================================================\n",
      "\u001b[1m    INFO final_ab_marketing_events\u001b[0m\n",
      "\n",
      "<class 'pandas.core.frame.DataFrame'>\n",
      "RangeIndex: 14 entries, 0 to 13\n",
      "Data columns (total 4 columns):\n",
      " #   Column     Non-Null Count  Dtype \n",
      "---  ------     --------------  ----- \n",
      " 0   name       14 non-null     object\n",
      " 1   regions    14 non-null     object\n",
      " 2   start_dt   14 non-null     object\n",
      " 3   finish_dt  14 non-null     object\n",
      "dtypes: object(4)\n",
      "memory usage: 576.0+ bytes\n",
      "None\n",
      "\n",
      "============================================================\n",
      "\u001b[1mInitial Duplicates in final_ab_marketing_events: \u001b[0m 0\n",
      "\n",
      "============================================================\n",
      "\u001b[1mColumns in final_ab_marketing_events:\u001b[0m\n",
      " Index(['name', 'regions', 'start_dt', 'finish_dt'], dtype='object')\n",
      "============================================================\n",
      "\u001b[1mNulls and notNAs in final_ab_marketing_events:\u001b[0m\n",
      "\n"
     ]
    },
    {
     "data": {
      "text/html": [
       "<div>\n",
       "<style scoped>\n",
       "    .dataframe tbody tr th:only-of-type {\n",
       "        vertical-align: middle;\n",
       "    }\n",
       "\n",
       "    .dataframe tbody tr th {\n",
       "        vertical-align: top;\n",
       "    }\n",
       "\n",
       "    .dataframe thead th {\n",
       "        text-align: right;\n",
       "    }\n",
       "</style>\n",
       "<table border=\"1\" class=\"dataframe\">\n",
       "  <thead>\n",
       "    <tr style=\"text-align: right;\">\n",
       "      <th></th>\n",
       "      <th>nulls</th>\n",
       "      <th>null_rate</th>\n",
       "      <th>notna</th>\n",
       "      <th>notna_rate</th>\n",
       "    </tr>\n",
       "  </thead>\n",
       "  <tbody>\n",
       "    <tr>\n",
       "      <th>name</th>\n",
       "      <td>0</td>\n",
       "      <td>0.00%</td>\n",
       "      <td>14</td>\n",
       "      <td>100.00%</td>\n",
       "    </tr>\n",
       "    <tr>\n",
       "      <th>regions</th>\n",
       "      <td>0</td>\n",
       "      <td>0.00%</td>\n",
       "      <td>14</td>\n",
       "      <td>100.00%</td>\n",
       "    </tr>\n",
       "    <tr>\n",
       "      <th>start_dt</th>\n",
       "      <td>0</td>\n",
       "      <td>0.00%</td>\n",
       "      <td>14</td>\n",
       "      <td>100.00%</td>\n",
       "    </tr>\n",
       "    <tr>\n",
       "      <th>finish_dt</th>\n",
       "      <td>0</td>\n",
       "      <td>0.00%</td>\n",
       "      <td>14</td>\n",
       "      <td>100.00%</td>\n",
       "    </tr>\n",
       "  </tbody>\n",
       "</table>\n",
       "</div>"
      ],
      "text/plain": [
       "           nulls null_rate  notna notna_rate\n",
       "name           0     0.00%     14    100.00%\n",
       "regions        0     0.00%     14    100.00%\n",
       "start_dt       0     0.00%     14    100.00%\n",
       "finish_dt      0     0.00%     14    100.00%"
      ]
     },
     "metadata": {},
     "output_type": "display_data"
    },
    {
     "name": "stdout",
     "output_type": "stream",
     "text": [
      "============================================================\n",
      "\u001b[1mNumber of properties in final_ab_marketing_events:\u001b[0m\n",
      " 4\n",
      "============================================================\n"
     ]
    },
    {
     "data": {
      "text/html": [
       "<div>\n",
       "<style scoped>\n",
       "    .dataframe tbody tr th:only-of-type {\n",
       "        vertical-align: middle;\n",
       "    }\n",
       "\n",
       "    .dataframe tbody tr th {\n",
       "        vertical-align: top;\n",
       "    }\n",
       "\n",
       "    .dataframe thead th {\n",
       "        text-align: right;\n",
       "    }\n",
       "</style>\n",
       "<table border=\"1\" class=\"dataframe\">\n",
       "  <thead>\n",
       "    <tr style=\"text-align: right;\">\n",
       "      <th></th>\n",
       "      <th>name</th>\n",
       "      <th>regions</th>\n",
       "      <th>start_dt</th>\n",
       "      <th>finish_dt</th>\n",
       "    </tr>\n",
       "  </thead>\n",
       "  <tbody>\n",
       "    <tr>\n",
       "      <th>0</th>\n",
       "      <td>Christmas&amp;New Year Promo</td>\n",
       "      <td>EU, N.America</td>\n",
       "      <td>2020-12-25</td>\n",
       "      <td>2021-01-03</td>\n",
       "    </tr>\n",
       "    <tr>\n",
       "      <th>1</th>\n",
       "      <td>St. Valentine's Day Giveaway</td>\n",
       "      <td>EU, CIS, APAC, N.America</td>\n",
       "      <td>2020-02-14</td>\n",
       "      <td>2020-02-16</td>\n",
       "    </tr>\n",
       "    <tr>\n",
       "      <th>2</th>\n",
       "      <td>St. Patric's Day Promo</td>\n",
       "      <td>EU, N.America</td>\n",
       "      <td>2020-03-17</td>\n",
       "      <td>2020-03-19</td>\n",
       "    </tr>\n",
       "  </tbody>\n",
       "</table>\n",
       "</div>"
      ],
      "text/plain": [
       "                           name                   regions    start_dt  \\\n",
       "0      Christmas&New Year Promo             EU, N.America  2020-12-25   \n",
       "1  St. Valentine's Day Giveaway  EU, CIS, APAC, N.America  2020-02-14   \n",
       "2        St. Patric's Day Promo             EU, N.America  2020-03-17   \n",
       "\n",
       "    finish_dt  \n",
       "0  2021-01-03  \n",
       "1  2020-02-16  \n",
       "2  2020-03-19  "
      ]
     },
     "metadata": {},
     "output_type": "display_data"
    },
    {
     "name": "stdout",
     "output_type": "stream",
     "text": [
      "============================================================\n",
      "============================================================\n",
      "\u001b[1m    INFO final_ab_new_users\u001b[0m\n",
      "\n",
      "<class 'pandas.core.frame.DataFrame'>\n",
      "RangeIndex: 61733 entries, 0 to 61732\n",
      "Data columns (total 4 columns):\n",
      " #   Column      Non-Null Count  Dtype \n",
      "---  ------      --------------  ----- \n",
      " 0   user_id     61733 non-null  object\n",
      " 1   first_date  61733 non-null  object\n",
      " 2   region      61733 non-null  object\n",
      " 3   device      61733 non-null  object\n",
      "dtypes: object(4)\n",
      "memory usage: 1.9+ MB\n",
      "None\n",
      "\n",
      "============================================================\n",
      "\u001b[1mInitial Duplicates in final_ab_new_users: \u001b[0m 0\n",
      "\n",
      "============================================================\n",
      "\u001b[1mColumns in final_ab_new_users:\u001b[0m\n",
      " Index(['user_id', 'first_date', 'region', 'device'], dtype='object')\n",
      "============================================================\n",
      "\u001b[1mNulls and notNAs in final_ab_new_users:\u001b[0m\n",
      "\n"
     ]
    },
    {
     "data": {
      "text/html": [
       "<div>\n",
       "<style scoped>\n",
       "    .dataframe tbody tr th:only-of-type {\n",
       "        vertical-align: middle;\n",
       "    }\n",
       "\n",
       "    .dataframe tbody tr th {\n",
       "        vertical-align: top;\n",
       "    }\n",
       "\n",
       "    .dataframe thead th {\n",
       "        text-align: right;\n",
       "    }\n",
       "</style>\n",
       "<table border=\"1\" class=\"dataframe\">\n",
       "  <thead>\n",
       "    <tr style=\"text-align: right;\">\n",
       "      <th></th>\n",
       "      <th>nulls</th>\n",
       "      <th>null_rate</th>\n",
       "      <th>notna</th>\n",
       "      <th>notna_rate</th>\n",
       "    </tr>\n",
       "  </thead>\n",
       "  <tbody>\n",
       "    <tr>\n",
       "      <th>user_id</th>\n",
       "      <td>0</td>\n",
       "      <td>0.00%</td>\n",
       "      <td>61733</td>\n",
       "      <td>100.00%</td>\n",
       "    </tr>\n",
       "    <tr>\n",
       "      <th>first_date</th>\n",
       "      <td>0</td>\n",
       "      <td>0.00%</td>\n",
       "      <td>61733</td>\n",
       "      <td>100.00%</td>\n",
       "    </tr>\n",
       "    <tr>\n",
       "      <th>region</th>\n",
       "      <td>0</td>\n",
       "      <td>0.00%</td>\n",
       "      <td>61733</td>\n",
       "      <td>100.00%</td>\n",
       "    </tr>\n",
       "    <tr>\n",
       "      <th>device</th>\n",
       "      <td>0</td>\n",
       "      <td>0.00%</td>\n",
       "      <td>61733</td>\n",
       "      <td>100.00%</td>\n",
       "    </tr>\n",
       "  </tbody>\n",
       "</table>\n",
       "</div>"
      ],
      "text/plain": [
       "            nulls null_rate  notna notna_rate\n",
       "user_id         0     0.00%  61733    100.00%\n",
       "first_date      0     0.00%  61733    100.00%\n",
       "region          0     0.00%  61733    100.00%\n",
       "device          0     0.00%  61733    100.00%"
      ]
     },
     "metadata": {},
     "output_type": "display_data"
    },
    {
     "name": "stdout",
     "output_type": "stream",
     "text": [
      "============================================================\n",
      "\u001b[1mNumber of properties in final_ab_new_users:\u001b[0m\n",
      " 4\n",
      "============================================================\n"
     ]
    },
    {
     "data": {
      "text/html": [
       "<div>\n",
       "<style scoped>\n",
       "    .dataframe tbody tr th:only-of-type {\n",
       "        vertical-align: middle;\n",
       "    }\n",
       "\n",
       "    .dataframe tbody tr th {\n",
       "        vertical-align: top;\n",
       "    }\n",
       "\n",
       "    .dataframe thead th {\n",
       "        text-align: right;\n",
       "    }\n",
       "</style>\n",
       "<table border=\"1\" class=\"dataframe\">\n",
       "  <thead>\n",
       "    <tr style=\"text-align: right;\">\n",
       "      <th></th>\n",
       "      <th>user_id</th>\n",
       "      <th>first_date</th>\n",
       "      <th>region</th>\n",
       "      <th>device</th>\n",
       "    </tr>\n",
       "  </thead>\n",
       "  <tbody>\n",
       "    <tr>\n",
       "      <th>0</th>\n",
       "      <td>D72A72121175D8BE</td>\n",
       "      <td>2020-12-07</td>\n",
       "      <td>EU</td>\n",
       "      <td>PC</td>\n",
       "    </tr>\n",
       "    <tr>\n",
       "      <th>1</th>\n",
       "      <td>F1C668619DFE6E65</td>\n",
       "      <td>2020-12-07</td>\n",
       "      <td>N.America</td>\n",
       "      <td>Android</td>\n",
       "    </tr>\n",
       "    <tr>\n",
       "      <th>2</th>\n",
       "      <td>2E1BF1D4C37EA01F</td>\n",
       "      <td>2020-12-07</td>\n",
       "      <td>EU</td>\n",
       "      <td>PC</td>\n",
       "    </tr>\n",
       "  </tbody>\n",
       "</table>\n",
       "</div>"
      ],
      "text/plain": [
       "            user_id  first_date     region   device\n",
       "0  D72A72121175D8BE  2020-12-07         EU       PC\n",
       "1  F1C668619DFE6E65  2020-12-07  N.America  Android\n",
       "2  2E1BF1D4C37EA01F  2020-12-07         EU       PC"
      ]
     },
     "metadata": {},
     "output_type": "display_data"
    },
    {
     "name": "stdout",
     "output_type": "stream",
     "text": [
      "============================================================\n",
      "============================================================\n",
      "\u001b[1m    INFO final_ab_participants\u001b[0m\n",
      "\n",
      "<class 'pandas.core.frame.DataFrame'>\n",
      "RangeIndex: 18268 entries, 0 to 18267\n",
      "Data columns (total 3 columns):\n",
      " #   Column   Non-Null Count  Dtype \n",
      "---  ------   --------------  ----- \n",
      " 0   user_id  18268 non-null  object\n",
      " 1   group    18268 non-null  object\n",
      " 2   ab_test  18268 non-null  object\n",
      "dtypes: object(3)\n",
      "memory usage: 428.3+ KB\n",
      "None\n",
      "\n",
      "============================================================\n",
      "\u001b[1mInitial Duplicates in final_ab_participants: \u001b[0m 0\n",
      "\n",
      "============================================================\n",
      "\u001b[1mColumns in final_ab_participants:\u001b[0m\n",
      " Index(['user_id', 'group', 'ab_test'], dtype='object')\n",
      "============================================================\n",
      "\u001b[1mNulls and notNAs in final_ab_participants:\u001b[0m\n",
      "\n"
     ]
    },
    {
     "data": {
      "text/html": [
       "<div>\n",
       "<style scoped>\n",
       "    .dataframe tbody tr th:only-of-type {\n",
       "        vertical-align: middle;\n",
       "    }\n",
       "\n",
       "    .dataframe tbody tr th {\n",
       "        vertical-align: top;\n",
       "    }\n",
       "\n",
       "    .dataframe thead th {\n",
       "        text-align: right;\n",
       "    }\n",
       "</style>\n",
       "<table border=\"1\" class=\"dataframe\">\n",
       "  <thead>\n",
       "    <tr style=\"text-align: right;\">\n",
       "      <th></th>\n",
       "      <th>nulls</th>\n",
       "      <th>null_rate</th>\n",
       "      <th>notna</th>\n",
       "      <th>notna_rate</th>\n",
       "    </tr>\n",
       "  </thead>\n",
       "  <tbody>\n",
       "    <tr>\n",
       "      <th>user_id</th>\n",
       "      <td>0</td>\n",
       "      <td>0.00%</td>\n",
       "      <td>18268</td>\n",
       "      <td>100.00%</td>\n",
       "    </tr>\n",
       "    <tr>\n",
       "      <th>group</th>\n",
       "      <td>0</td>\n",
       "      <td>0.00%</td>\n",
       "      <td>18268</td>\n",
       "      <td>100.00%</td>\n",
       "    </tr>\n",
       "    <tr>\n",
       "      <th>ab_test</th>\n",
       "      <td>0</td>\n",
       "      <td>0.00%</td>\n",
       "      <td>18268</td>\n",
       "      <td>100.00%</td>\n",
       "    </tr>\n",
       "  </tbody>\n",
       "</table>\n",
       "</div>"
      ],
      "text/plain": [
       "         nulls null_rate  notna notna_rate\n",
       "user_id      0     0.00%  18268    100.00%\n",
       "group        0     0.00%  18268    100.00%\n",
       "ab_test      0     0.00%  18268    100.00%"
      ]
     },
     "metadata": {},
     "output_type": "display_data"
    },
    {
     "name": "stdout",
     "output_type": "stream",
     "text": [
      "============================================================\n",
      "\u001b[1mNumber of properties in final_ab_participants:\u001b[0m\n",
      " 3\n",
      "============================================================\n"
     ]
    },
    {
     "data": {
      "text/html": [
       "<div>\n",
       "<style scoped>\n",
       "    .dataframe tbody tr th:only-of-type {\n",
       "        vertical-align: middle;\n",
       "    }\n",
       "\n",
       "    .dataframe tbody tr th {\n",
       "        vertical-align: top;\n",
       "    }\n",
       "\n",
       "    .dataframe thead th {\n",
       "        text-align: right;\n",
       "    }\n",
       "</style>\n",
       "<table border=\"1\" class=\"dataframe\">\n",
       "  <thead>\n",
       "    <tr style=\"text-align: right;\">\n",
       "      <th></th>\n",
       "      <th>user_id</th>\n",
       "      <th>group</th>\n",
       "      <th>ab_test</th>\n",
       "    </tr>\n",
       "  </thead>\n",
       "  <tbody>\n",
       "    <tr>\n",
       "      <th>0</th>\n",
       "      <td>D1ABA3E2887B6A73</td>\n",
       "      <td>A</td>\n",
       "      <td>recommender_system_test</td>\n",
       "    </tr>\n",
       "    <tr>\n",
       "      <th>1</th>\n",
       "      <td>A7A3664BD6242119</td>\n",
       "      <td>A</td>\n",
       "      <td>recommender_system_test</td>\n",
       "    </tr>\n",
       "    <tr>\n",
       "      <th>2</th>\n",
       "      <td>DABC14FDDFADD29E</td>\n",
       "      <td>A</td>\n",
       "      <td>recommender_system_test</td>\n",
       "    </tr>\n",
       "  </tbody>\n",
       "</table>\n",
       "</div>"
      ],
      "text/plain": [
       "            user_id group                  ab_test\n",
       "0  D1ABA3E2887B6A73     A  recommender_system_test\n",
       "1  A7A3664BD6242119     A  recommender_system_test\n",
       "2  DABC14FDDFADD29E     A  recommender_system_test"
      ]
     },
     "metadata": {},
     "output_type": "display_data"
    },
    {
     "name": "stdout",
     "output_type": "stream",
     "text": [
      "============================================================\n"
     ]
    }
   ],
   "source": [
    "dfs_dict = {'final_ab_events':final_ab_events, 'final_ab_marketing_events':final_ab_marketing_events, 'final_ab_new_users':final_ab_new_users, 'final_ab_participants':final_ab_participants}\n",
    "for name_, df_ in dfs_dict.items():\n",
    "    print('='*60)\n",
    "    print('\\033[1m'+f'    INFO {name_}'+'\\033[0m', end='\\n\\n')\n",
    "    print(df_.info(), end='\\n\\n')\n",
    "    print('='*60)\n",
    "    print('\\033[1m'+f'Initial Duplicates in {name_}: '+'\\033[0m', df_.duplicated().sum(), end='\\n\\n')\n",
    "    if df_.duplicated().sum() > 0:\n",
    "        df_.drop_duplicates(inplace=True)\n",
    "        print('\\033[1m'+f'Final Duplicates  in {name_}: '+'\\033[0m', df_.duplicated().sum(), end='\\n\\n')\n",
    "    print('='*60)\n",
    "    df_.columns = df_.columns.str.lower().str.replace(' ', '_')\n",
    "    print('\\033[1m'+f'Columns in {name_}:'+'\\033[0m\\n', df_.columns)\n",
    "    print('='*60)\n",
    "    print('\\033[1m'+f'Nulls and notNAs in {name_}:'+'\\033[0m\\n')\n",
    "    missing_data = pd.DataFrame({'nulls':df_.isna().sum()})\n",
    "    missing_data['null_rate'] = df_.isna().mean().map(lambda x: '{:.2%}'.format(x))\n",
    "    missing_data['notna'] = df_.notna().sum()\n",
    "    missing_data['notna_rate'] = df_.notna().mean().map(lambda x: '{:.2%}'.format(x))\n",
    "    \n",
    "    display(missing_data)\n",
    "    \n",
    "    print('='*60)\n",
    "    print('\\033[1m'+f'Number of properties in {name_}:'+'\\033[0m\\n', len(df_.columns))\n",
    "    print('='*60)\n",
    "    display(df_.head(3))\n",
    "    print('='*60)"
   ]
  },
  {
   "cell_type": "markdown",
   "metadata": {},
   "source": [
    "### **Вывод**\n",
    "* Данные представлены в четырех файлах\n",
    "* Данные заполнены все на 100%, кроме колонки \"details\" в файле `final_ab_events`. В данной колонке отсутствуют записи в кол-ве 62740, что составляет 85.75%, то есть уровень заполненности составляет 14.25%\n",
    "* Дубликаты отсутствуют\n",
    "* Названия колонок преобразованы в соответствии с требованиями ***snake_style***"
   ]
  },
  {
   "cell_type": "markdown",
   "metadata": {},
   "source": [
    "## Предобработка данных\n",
    "1. перевод временных колонок в формат datetime\n",
    "2. заполнение пропусков"
   ]
  },
  {
   "cell_type": "markdown",
   "metadata": {},
   "source": [
    "1. перевод временных колонок в формат datetime"
   ]
  },
  {
   "cell_type": "code",
   "execution_count": 4,
   "metadata": {},
   "outputs": [
    {
     "data": {
      "text/plain": [
       "'final_ab_events'"
      ]
     },
     "metadata": {},
     "output_type": "display_data"
    },
    {
     "data": {
      "text/html": [
       "<div>\n",
       "<style scoped>\n",
       "    .dataframe tbody tr th:only-of-type {\n",
       "        vertical-align: middle;\n",
       "    }\n",
       "\n",
       "    .dataframe tbody tr th {\n",
       "        vertical-align: top;\n",
       "    }\n",
       "\n",
       "    .dataframe thead th {\n",
       "        text-align: right;\n",
       "    }\n",
       "</style>\n",
       "<table border=\"1\" class=\"dataframe\">\n",
       "  <thead>\n",
       "    <tr style=\"text-align: right;\">\n",
       "      <th></th>\n",
       "      <th>user_id</th>\n",
       "      <th>event_dt</th>\n",
       "      <th>event_name</th>\n",
       "      <th>details</th>\n",
       "    </tr>\n",
       "  </thead>\n",
       "  <tbody>\n",
       "    <tr>\n",
       "      <th>0</th>\n",
       "      <td>E1BDDCE0DAFA2679</td>\n",
       "      <td>2020-12-07 20:22:03</td>\n",
       "      <td>purchase</td>\n",
       "      <td>99.99</td>\n",
       "    </tr>\n",
       "  </tbody>\n",
       "</table>\n",
       "</div>"
      ],
      "text/plain": [
       "            user_id             event_dt event_name  details\n",
       "0  E1BDDCE0DAFA2679  2020-12-07 20:22:03   purchase    99.99"
      ]
     },
     "metadata": {},
     "output_type": "display_data"
    },
    {
     "data": {
      "text/plain": [
       "'final_ab_marketing_events'"
      ]
     },
     "metadata": {},
     "output_type": "display_data"
    },
    {
     "data": {
      "text/html": [
       "<div>\n",
       "<style scoped>\n",
       "    .dataframe tbody tr th:only-of-type {\n",
       "        vertical-align: middle;\n",
       "    }\n",
       "\n",
       "    .dataframe tbody tr th {\n",
       "        vertical-align: top;\n",
       "    }\n",
       "\n",
       "    .dataframe thead th {\n",
       "        text-align: right;\n",
       "    }\n",
       "</style>\n",
       "<table border=\"1\" class=\"dataframe\">\n",
       "  <thead>\n",
       "    <tr style=\"text-align: right;\">\n",
       "      <th></th>\n",
       "      <th>name</th>\n",
       "      <th>regions</th>\n",
       "      <th>start_dt</th>\n",
       "      <th>finish_dt</th>\n",
       "    </tr>\n",
       "  </thead>\n",
       "  <tbody>\n",
       "    <tr>\n",
       "      <th>0</th>\n",
       "      <td>Christmas&amp;New Year Promo</td>\n",
       "      <td>EU, N.America</td>\n",
       "      <td>2020-12-25</td>\n",
       "      <td>2021-01-03</td>\n",
       "    </tr>\n",
       "  </tbody>\n",
       "</table>\n",
       "</div>"
      ],
      "text/plain": [
       "                       name        regions    start_dt   finish_dt\n",
       "0  Christmas&New Year Promo  EU, N.America  2020-12-25  2021-01-03"
      ]
     },
     "metadata": {},
     "output_type": "display_data"
    },
    {
     "data": {
      "text/plain": [
       "'final_ab_new_users'"
      ]
     },
     "metadata": {},
     "output_type": "display_data"
    },
    {
     "data": {
      "text/html": [
       "<div>\n",
       "<style scoped>\n",
       "    .dataframe tbody tr th:only-of-type {\n",
       "        vertical-align: middle;\n",
       "    }\n",
       "\n",
       "    .dataframe tbody tr th {\n",
       "        vertical-align: top;\n",
       "    }\n",
       "\n",
       "    .dataframe thead th {\n",
       "        text-align: right;\n",
       "    }\n",
       "</style>\n",
       "<table border=\"1\" class=\"dataframe\">\n",
       "  <thead>\n",
       "    <tr style=\"text-align: right;\">\n",
       "      <th></th>\n",
       "      <th>user_id</th>\n",
       "      <th>first_date</th>\n",
       "      <th>region</th>\n",
       "      <th>device</th>\n",
       "    </tr>\n",
       "  </thead>\n",
       "  <tbody>\n",
       "    <tr>\n",
       "      <th>0</th>\n",
       "      <td>D72A72121175D8BE</td>\n",
       "      <td>2020-12-07</td>\n",
       "      <td>EU</td>\n",
       "      <td>PC</td>\n",
       "    </tr>\n",
       "  </tbody>\n",
       "</table>\n",
       "</div>"
      ],
      "text/plain": [
       "            user_id  first_date region device\n",
       "0  D72A72121175D8BE  2020-12-07     EU     PC"
      ]
     },
     "metadata": {},
     "output_type": "display_data"
    },
    {
     "data": {
      "text/plain": [
       "'final_ab_participants'"
      ]
     },
     "metadata": {},
     "output_type": "display_data"
    },
    {
     "data": {
      "text/html": [
       "<div>\n",
       "<style scoped>\n",
       "    .dataframe tbody tr th:only-of-type {\n",
       "        vertical-align: middle;\n",
       "    }\n",
       "\n",
       "    .dataframe tbody tr th {\n",
       "        vertical-align: top;\n",
       "    }\n",
       "\n",
       "    .dataframe thead th {\n",
       "        text-align: right;\n",
       "    }\n",
       "</style>\n",
       "<table border=\"1\" class=\"dataframe\">\n",
       "  <thead>\n",
       "    <tr style=\"text-align: right;\">\n",
       "      <th></th>\n",
       "      <th>user_id</th>\n",
       "      <th>group</th>\n",
       "      <th>ab_test</th>\n",
       "    </tr>\n",
       "  </thead>\n",
       "  <tbody>\n",
       "    <tr>\n",
       "      <th>0</th>\n",
       "      <td>D1ABA3E2887B6A73</td>\n",
       "      <td>A</td>\n",
       "      <td>recommender_system_test</td>\n",
       "    </tr>\n",
       "  </tbody>\n",
       "</table>\n",
       "</div>"
      ],
      "text/plain": [
       "            user_id group                  ab_test\n",
       "0  D1ABA3E2887B6A73     A  recommender_system_test"
      ]
     },
     "metadata": {},
     "output_type": "display_data"
    }
   ],
   "source": [
    "# dfs = [final_ab_events, final_ab_marketing_events, final_ab_new_users, final_ab_participants]\n",
    "for name, df_ in dfs_dict.items():\n",
    "    display(name, df_.head(1))"
   ]
  },
  {
   "cell_type": "code",
   "execution_count": 5,
   "metadata": {},
   "outputs": [],
   "source": [
    "for par in [final_ab_marketing_events.start_dt, final_ab_marketing_events.finish_dt, final_ab_new_users.first_date]:\n",
    "        par = pd.to_datetime(par, format=\"%Y-%m-%d\")\n",
    "        \n",
    "final_ab_events.event_dt = pd.to_datetime(final_ab_events.event_dt, format=\"%Y-%m-%d %H:%M:%S\")"
   ]
  },
  {
   "cell_type": "markdown",
   "metadata": {},
   "source": [
    "2. заполнение пропусков"
   ]
  },
  {
   "cell_type": "code",
   "execution_count": 6,
   "metadata": {},
   "outputs": [
    {
     "data": {
      "text/plain": [
       "user_id       0.000000\n",
       "event_dt      0.000000\n",
       "event_name    0.000000\n",
       "details       0.857512\n",
       "dtype: float64"
      ]
     },
     "execution_count": 6,
     "metadata": {},
     "output_type": "execute_result"
    }
   ],
   "source": [
    "final_ab_events.isna().mean()"
   ]
  },
  {
   "cell_type": "code",
   "execution_count": 7,
   "metadata": {},
   "outputs": [
    {
     "data": {
      "text/plain": [
       "event_name\n",
       "login                 0.0\n",
       "product_cart          0.0\n",
       "product_page          0.0\n",
       "purchase        1498082.6\n",
       "Name: details, dtype: float64"
      ]
     },
     "execution_count": 7,
     "metadata": {},
     "output_type": "execute_result"
    }
   ],
   "source": [
    "final_ab_events.groupby('event_name').details.sum()"
   ]
  },
  {
   "cell_type": "code",
   "execution_count": 8,
   "metadata": {},
   "outputs": [
    {
     "data": {
      "text/plain": [
       "user_id       0\n",
       "event_dt      0\n",
       "event_name    0\n",
       "details       0\n",
       "dtype: int64"
      ]
     },
     "execution_count": 8,
     "metadata": {},
     "output_type": "execute_result"
    }
   ],
   "source": [
    "final_ab_events.fillna(0, inplace=True)  # замена\n",
    "final_ab_events.isna().sum()             # проверка"
   ]
  },
  {
   "cell_type": "markdown",
   "metadata": {},
   "source": [
    "Заменим названия акций и регионов в соответствии с ***snake_style***"
   ]
  },
  {
   "cell_type": "code",
   "execution_count": 14,
   "metadata": {},
   "outputs": [],
   "source": [
    "final_ab_marketing_events.name = final_ab_marketing_events.name.str.lower().str.replace(' ', '_')\n",
    "final_ab_marketing_events.regions = final_ab_marketing_events.regions.str.lower().str.replace(' ', '_')\n",
    "final_ab_new_users.region = final_ab_new_users.region.str.lower().str.replace(' ', '_')\n",
    "final_ab_new_users.device = final_ab_new_users.device.str.lower().str.replace(' ', '_')"
   ]
  },
  {
   "cell_type": "code",
   "execution_count": 15,
   "metadata": {},
   "outputs": [
    {
     "data": {
      "text/html": [
       "<div>\n",
       "<style scoped>\n",
       "    .dataframe tbody tr th:only-of-type {\n",
       "        vertical-align: middle;\n",
       "    }\n",
       "\n",
       "    .dataframe tbody tr th {\n",
       "        vertical-align: top;\n",
       "    }\n",
       "\n",
       "    .dataframe thead th {\n",
       "        text-align: right;\n",
       "    }\n",
       "</style>\n",
       "<table border=\"1\" class=\"dataframe\">\n",
       "  <thead>\n",
       "    <tr style=\"text-align: right;\">\n",
       "      <th></th>\n",
       "      <th>name</th>\n",
       "      <th>regions</th>\n",
       "      <th>start_dt</th>\n",
       "      <th>finish_dt</th>\n",
       "    </tr>\n",
       "  </thead>\n",
       "  <tbody>\n",
       "    <tr>\n",
       "      <th>0</th>\n",
       "      <td>christmas&amp;new_year_promo</td>\n",
       "      <td>eu,_n.america</td>\n",
       "      <td>2020-12-25</td>\n",
       "      <td>2021-01-03</td>\n",
       "    </tr>\n",
       "    <tr>\n",
       "      <th>1</th>\n",
       "      <td>st._valentine's_day_giveaway</td>\n",
       "      <td>eu,_cis,_apac,_n.america</td>\n",
       "      <td>2020-02-14</td>\n",
       "      <td>2020-02-16</td>\n",
       "    </tr>\n",
       "    <tr>\n",
       "      <th>2</th>\n",
       "      <td>st._patric's_day_promo</td>\n",
       "      <td>eu,_n.america</td>\n",
       "      <td>2020-03-17</td>\n",
       "      <td>2020-03-19</td>\n",
       "    </tr>\n",
       "    <tr>\n",
       "      <th>3</th>\n",
       "      <td>easter_promo</td>\n",
       "      <td>eu,_cis,_apac,_n.america</td>\n",
       "      <td>2020-04-12</td>\n",
       "      <td>2020-04-19</td>\n",
       "    </tr>\n",
       "    <tr>\n",
       "      <th>4</th>\n",
       "      <td>4th_of_july_promo</td>\n",
       "      <td>n.america</td>\n",
       "      <td>2020-07-04</td>\n",
       "      <td>2020-07-11</td>\n",
       "    </tr>\n",
       "    <tr>\n",
       "      <th>5</th>\n",
       "      <td>black_friday_ads_campaign</td>\n",
       "      <td>eu,_cis,_apac,_n.america</td>\n",
       "      <td>2020-11-26</td>\n",
       "      <td>2020-12-01</td>\n",
       "    </tr>\n",
       "    <tr>\n",
       "      <th>6</th>\n",
       "      <td>chinese_new_year_promo</td>\n",
       "      <td>apac</td>\n",
       "      <td>2020-01-25</td>\n",
       "      <td>2020-02-07</td>\n",
       "    </tr>\n",
       "    <tr>\n",
       "      <th>7</th>\n",
       "      <td>labor_day_(may_1st)_ads_campaign</td>\n",
       "      <td>eu,_cis,_apac</td>\n",
       "      <td>2020-05-01</td>\n",
       "      <td>2020-05-03</td>\n",
       "    </tr>\n",
       "    <tr>\n",
       "      <th>8</th>\n",
       "      <td>international_women's_day_promo</td>\n",
       "      <td>eu,_cis,_apac</td>\n",
       "      <td>2020-03-08</td>\n",
       "      <td>2020-03-10</td>\n",
       "    </tr>\n",
       "    <tr>\n",
       "      <th>9</th>\n",
       "      <td>victory_day_cis_(may_9th)_event</td>\n",
       "      <td>cis</td>\n",
       "      <td>2020-05-09</td>\n",
       "      <td>2020-05-11</td>\n",
       "    </tr>\n",
       "    <tr>\n",
       "      <th>10</th>\n",
       "      <td>cis_new_year_gift_lottery</td>\n",
       "      <td>cis</td>\n",
       "      <td>2020-12-30</td>\n",
       "      <td>2021-01-07</td>\n",
       "    </tr>\n",
       "    <tr>\n",
       "      <th>11</th>\n",
       "      <td>dragon_boat_festival_giveaway</td>\n",
       "      <td>apac</td>\n",
       "      <td>2020-06-25</td>\n",
       "      <td>2020-07-01</td>\n",
       "    </tr>\n",
       "    <tr>\n",
       "      <th>12</th>\n",
       "      <td>single's_day_gift_promo</td>\n",
       "      <td>apac</td>\n",
       "      <td>2020-11-11</td>\n",
       "      <td>2020-11-12</td>\n",
       "    </tr>\n",
       "    <tr>\n",
       "      <th>13</th>\n",
       "      <td>chinese_moon_festival</td>\n",
       "      <td>apac</td>\n",
       "      <td>2020-10-01</td>\n",
       "      <td>2020-10-07</td>\n",
       "    </tr>\n",
       "  </tbody>\n",
       "</table>\n",
       "</div>"
      ],
      "text/plain": [
       "                                name                   regions    start_dt  \\\n",
       "0           christmas&new_year_promo             eu,_n.america  2020-12-25   \n",
       "1       st._valentine's_day_giveaway  eu,_cis,_apac,_n.america  2020-02-14   \n",
       "2             st._patric's_day_promo             eu,_n.america  2020-03-17   \n",
       "3                       easter_promo  eu,_cis,_apac,_n.america  2020-04-12   \n",
       "4                  4th_of_july_promo                 n.america  2020-07-04   \n",
       "5          black_friday_ads_campaign  eu,_cis,_apac,_n.america  2020-11-26   \n",
       "6             chinese_new_year_promo                      apac  2020-01-25   \n",
       "7   labor_day_(may_1st)_ads_campaign             eu,_cis,_apac  2020-05-01   \n",
       "8    international_women's_day_promo             eu,_cis,_apac  2020-03-08   \n",
       "9    victory_day_cis_(may_9th)_event                       cis  2020-05-09   \n",
       "10         cis_new_year_gift_lottery                       cis  2020-12-30   \n",
       "11     dragon_boat_festival_giveaway                      apac  2020-06-25   \n",
       "12           single's_day_gift_promo                      apac  2020-11-11   \n",
       "13             chinese_moon_festival                      apac  2020-10-01   \n",
       "\n",
       "     finish_dt  \n",
       "0   2021-01-03  \n",
       "1   2020-02-16  \n",
       "2   2020-03-19  \n",
       "3   2020-04-19  \n",
       "4   2020-07-11  \n",
       "5   2020-12-01  \n",
       "6   2020-02-07  \n",
       "7   2020-05-03  \n",
       "8   2020-03-10  \n",
       "9   2020-05-11  \n",
       "10  2021-01-07  \n",
       "11  2020-07-01  \n",
       "12  2020-11-12  \n",
       "13  2020-10-07  "
      ]
     },
     "execution_count": 15,
     "metadata": {},
     "output_type": "execute_result"
    }
   ],
   "source": [
    "final_ab_marketing_events"
   ]
  },
  {
   "cell_type": "markdown",
   "metadata": {},
   "source": [
    "### **Вывод**\n",
    "* даты и временные отметки переведены в во временной формат\n",
    "* пропуски заменены на `0`"
   ]
  },
  {
   "cell_type": "markdown",
   "metadata": {},
   "source": [
    "## Исследовательский анализ"
   ]
  },
  {
   "cell_type": "markdown",
   "metadata": {},
   "source": [
    "Проверим даты регистрации новых пользователей"
   ]
  },
  {
   "cell_type": "code",
   "execution_count": 16,
   "metadata": {},
   "outputs": [
    {
     "name": "stdout",
     "output_type": "stream",
     "text": [
      "Начало регистрации новых пользователей:  2020-12-07\n",
      "Конец регистрации новых пользователей:  2020-12-23\n"
     ]
    }
   ],
   "source": [
    "print(\"Начало регистрации новых пользователей: \", final_ab_new_users.first_date.min())\n",
    "print(\"Конец регистрации новых пользователей: \", final_ab_new_users.first_date.max())"
   ]
  },
  {
   "cell_type": "markdown",
   "metadata": {},
   "source": [
    "Фактическая дата остановки регистрации новых пользователей не соответствуюет техническому заданию (2020-12-21)\n",
    "\n",
    "Отфильтруем пользователей, не соответствующих техническому заданию"
   ]
  },
  {
   "cell_type": "code",
   "execution_count": 17,
   "metadata": {},
   "outputs": [],
   "source": [
    "final_ab_new_users = final_ab_new_users.query('first_date < \"2020-12-21\"')"
   ]
  },
  {
   "cell_type": "code",
   "execution_count": 18,
   "metadata": {},
   "outputs": [
    {
     "name": "stdout",
     "output_type": "stream",
     "text": [
      "(50180, 4)\n"
     ]
    },
    {
     "data": {
      "text/plain": [
       "50180"
      ]
     },
     "execution_count": 18,
     "metadata": {},
     "output_type": "execute_result"
    }
   ],
   "source": [
    "print(final_ab_new_users.shape)\n",
    "final_ab_new_users.user_id.nunique()"
   ]
  },
  {
   "cell_type": "markdown",
   "metadata": {},
   "source": [
    "Все пользователи уникальны"
   ]
  },
  {
   "cell_type": "code",
   "execution_count": 19,
   "metadata": {},
   "outputs": [
    {
     "data": {
      "text/html": [
       "<div>\n",
       "<style scoped>\n",
       "    .dataframe tbody tr th:only-of-type {\n",
       "        vertical-align: middle;\n",
       "    }\n",
       "\n",
       "    .dataframe tbody tr th {\n",
       "        vertical-align: top;\n",
       "    }\n",
       "\n",
       "    .dataframe thead th {\n",
       "        text-align: right;\n",
       "    }\n",
       "</style>\n",
       "<table border=\"1\" class=\"dataframe\">\n",
       "  <thead>\n",
       "    <tr style=\"text-align: right;\">\n",
       "      <th></th>\n",
       "      <th>region</th>\n",
       "      <th>user_id</th>\n",
       "      <th>reg_share</th>\n",
       "    </tr>\n",
       "  </thead>\n",
       "  <tbody>\n",
       "    <tr>\n",
       "      <th>0</th>\n",
       "      <td>apac</td>\n",
       "      <td>2551</td>\n",
       "      <td>5.08%</td>\n",
       "    </tr>\n",
       "    <tr>\n",
       "      <th>1</th>\n",
       "      <td>cis</td>\n",
       "      <td>2530</td>\n",
       "      <td>5.04%</td>\n",
       "    </tr>\n",
       "    <tr>\n",
       "      <th>2</th>\n",
       "      <td>eu</td>\n",
       "      <td>37690</td>\n",
       "      <td>75.11%</td>\n",
       "    </tr>\n",
       "    <tr>\n",
       "      <th>3</th>\n",
       "      <td>n.america</td>\n",
       "      <td>7409</td>\n",
       "      <td>14.76%</td>\n",
       "    </tr>\n",
       "  </tbody>\n",
       "</table>\n",
       "</div>"
      ],
      "text/plain": [
       "      region  user_id reg_share\n",
       "0       apac     2551     5.08%\n",
       "1        cis     2530     5.04%\n",
       "2         eu    37690    75.11%\n",
       "3  n.america     7409    14.76%"
      ]
     },
     "execution_count": 19,
     "metadata": {},
     "output_type": "execute_result"
    }
   ],
   "source": [
    "reg_users = final_ab_new_users.groupby('region', as_index=False).user_id.nunique()\n",
    "reg_users['reg_share'] = (reg_users.user_id / reg_users.user_id.sum()).map(lambda x: '{:.2%}'.format(x))\n",
    "reg_users"
   ]
  },
  {
   "cell_type": "markdown",
   "metadata": {},
   "source": [
    "Общий набор событий из Европы состоялся в кол-ве 37690 (75.11%)\n",
    "\n",
    "Будем ориентироваться на проведенный тест по привлечению новых клиентов\n",
    "\n",
    "Рассмотрим пользователей в группах А и В"
   ]
  },
  {
   "cell_type": "code",
   "execution_count": 20,
   "metadata": {},
   "outputs": [
    {
     "data": {
      "text/html": [
       "<div>\n",
       "<style scoped>\n",
       "    .dataframe tbody tr th:only-of-type {\n",
       "        vertical-align: middle;\n",
       "    }\n",
       "\n",
       "    .dataframe tbody tr th {\n",
       "        vertical-align: top;\n",
       "    }\n",
       "\n",
       "    .dataframe thead th {\n",
       "        text-align: right;\n",
       "    }\n",
       "</style>\n",
       "<table border=\"1\" class=\"dataframe\">\n",
       "  <thead>\n",
       "    <tr style=\"text-align: right;\">\n",
       "      <th></th>\n",
       "      <th>group</th>\n",
       "      <th>user_id</th>\n",
       "    </tr>\n",
       "  </thead>\n",
       "  <tbody>\n",
       "    <tr>\n",
       "      <th>0</th>\n",
       "      <td>A</td>\n",
       "      <td>9655</td>\n",
       "    </tr>\n",
       "    <tr>\n",
       "      <th>1</th>\n",
       "      <td>B</td>\n",
       "      <td>8613</td>\n",
       "    </tr>\n",
       "  </tbody>\n",
       "</table>\n",
       "</div>"
      ],
      "text/plain": [
       "  group  user_id\n",
       "0     A     9655\n",
       "1     B     8613"
      ]
     },
     "metadata": {},
     "output_type": "display_data"
    }
   ],
   "source": [
    "display(final_ab_participants.groupby('group', as_index=False).user_id.count())   # кол-во событий в каждой из групп"
   ]
  },
  {
   "cell_type": "code",
   "execution_count": 21,
   "metadata": {},
   "outputs": [
    {
     "name": "stdout",
     "output_type": "stream",
     "text": [
      "Кол-во событий для групп А и В в пересечении обоих групп:  776\n",
      "Кол-во записей:  18268\n",
      "Кол-во пользоваителей в тесте:  16666\n",
      "Кол-во пользователей, совершивших более одного действия:  1602\n"
     ]
    }
   ],
   "source": [
    "both_groups_users = set(final_ab_participants.query('group == \"A\"').user_id) \\\n",
    "                    & set(final_ab_participants.query('group == \"B\"').user_id)\n",
    "print(\"Кол-во событий для групп А и В в пересечении обоих групп: \", len(both_groups_users))\n",
    "print(\"Кол-во записей: \", len(final_ab_participants))\n",
    "print(\"Кол-во пользоваителей в тесте: \", final_ab_participants.user_id.nunique())\n",
    "\n",
    "ab_interception = final_ab_participants.groupby('user_id').user_id.count() \\\n",
    "    .to_frame() \\\n",
    "    .rename(columns = {'user_id':'id_count'}) \\\n",
    "    .sort_values('id_count', ascending=False).query('id_count > 1')\n",
    "print(\"Кол-во пользователей, совершивших более одного действия: \", len(ab_interception))"
   ]
  },
  {
   "cell_type": "markdown",
   "metadata": {},
   "source": [
    "Точно неизвестно, по какой причине пользователи из одной группы отмечены, как и участники другой. Поэтому исключить участников пересечения только из одной группы нельзя, иначе будет внесена неопределенность именно из-за неизвестности причины попадания в пересечение и такое решение может внести искажение в результат исследования. В связи с этим логично исключение участников пересечения из обеих групп."
   ]
  },
  {
   "cell_type": "code",
   "execution_count": 22,
   "metadata": {},
   "outputs": [
    {
     "data": {
      "text/html": [
       "<div>\n",
       "<style scoped>\n",
       "    .dataframe tbody tr th:only-of-type {\n",
       "        vertical-align: middle;\n",
       "    }\n",
       "\n",
       "    .dataframe tbody tr th {\n",
       "        vertical-align: top;\n",
       "    }\n",
       "\n",
       "    .dataframe thead th {\n",
       "        text-align: right;\n",
       "    }\n",
       "</style>\n",
       "<table border=\"1\" class=\"dataframe\">\n",
       "  <thead>\n",
       "    <tr style=\"text-align: right;\">\n",
       "      <th></th>\n",
       "      <th>group</th>\n",
       "      <th>user_id</th>\n",
       "    </tr>\n",
       "  </thead>\n",
       "  <tbody>\n",
       "    <tr>\n",
       "      <th>0</th>\n",
       "      <td>A</td>\n",
       "      <td>3385</td>\n",
       "    </tr>\n",
       "    <tr>\n",
       "      <th>1</th>\n",
       "      <td>B</td>\n",
       "      <td>2540</td>\n",
       "    </tr>\n",
       "  </tbody>\n",
       "</table>\n",
       "</div>"
      ],
      "text/plain": [
       "  group  user_id\n",
       "0     A     3385\n",
       "1     B     2540"
      ]
     },
     "metadata": {},
     "output_type": "display_data"
    },
    {
     "data": {
      "text/html": [
       "<div>\n",
       "<style scoped>\n",
       "    .dataframe tbody tr th:only-of-type {\n",
       "        vertical-align: middle;\n",
       "    }\n",
       "\n",
       "    .dataframe tbody tr th {\n",
       "        vertical-align: top;\n",
       "    }\n",
       "\n",
       "    .dataframe thead th {\n",
       "        text-align: right;\n",
       "    }\n",
       "</style>\n",
       "<table border=\"1\" class=\"dataframe\">\n",
       "  <thead>\n",
       "    <tr style=\"text-align: right;\">\n",
       "      <th></th>\n",
       "      <th>user_id</th>\n",
       "      <th>group</th>\n",
       "      <th>ab_test</th>\n",
       "    </tr>\n",
       "  </thead>\n",
       "  <tbody>\n",
       "    <tr>\n",
       "      <th>0</th>\n",
       "      <td>D1ABA3E2887B6A73</td>\n",
       "      <td>A</td>\n",
       "      <td>recommender_system_test</td>\n",
       "    </tr>\n",
       "    <tr>\n",
       "      <th>1</th>\n",
       "      <td>A7A3664BD6242119</td>\n",
       "      <td>A</td>\n",
       "      <td>recommender_system_test</td>\n",
       "    </tr>\n",
       "  </tbody>\n",
       "</table>\n",
       "</div>"
      ],
      "text/plain": [
       "            user_id group                  ab_test\n",
       "0  D1ABA3E2887B6A73     A  recommender_system_test\n",
       "1  A7A3664BD6242119     A  recommender_system_test"
      ]
     },
     "execution_count": 22,
     "metadata": {},
     "output_type": "execute_result"
    }
   ],
   "source": [
    "final_participants = final_ab_participants.query(f'user_id not in {list(both_groups_users)} \\\n",
    "    & ab_test == \"recommender_system_test\"')\n",
    "display(final_participants.groupby('group', as_index=False).user_id.nunique())\n",
    "final_participants.head(2)"
   ]
  },
  {
   "cell_type": "markdown",
   "metadata": {},
   "source": [
    "Получим данные о событиях, относящихся к пользователям из АВ теста, а также их кол-во"
   ]
  },
  {
   "cell_type": "code",
   "execution_count": 23,
   "metadata": {},
   "outputs": [],
   "source": [
    "# events_ab = final_ab_events.merge(final_participants, how = 'inner', on = 'user_id')\n",
    "# display(events_ab.groupby('group',as_index=False).user_id.nunique()) # Кол-во пользователей в группах\n",
    "# display(events_ab.head(2))"
   ]
  },
  {
   "cell_type": "code",
   "execution_count": 24,
   "metadata": {},
   "outputs": [
    {
     "data": {
      "text/html": [
       "<div>\n",
       "<style scoped>\n",
       "    .dataframe tbody tr th:only-of-type {\n",
       "        vertical-align: middle;\n",
       "    }\n",
       "\n",
       "    .dataframe tbody tr th {\n",
       "        vertical-align: top;\n",
       "    }\n",
       "\n",
       "    .dataframe thead th {\n",
       "        text-align: right;\n",
       "    }\n",
       "</style>\n",
       "<table border=\"1\" class=\"dataframe\">\n",
       "  <thead>\n",
       "    <tr style=\"text-align: right;\">\n",
       "      <th></th>\n",
       "      <th>group</th>\n",
       "      <th>user_id</th>\n",
       "    </tr>\n",
       "  </thead>\n",
       "  <tbody>\n",
       "    <tr>\n",
       "      <th>0</th>\n",
       "      <td>A</td>\n",
       "      <td>3385</td>\n",
       "    </tr>\n",
       "    <tr>\n",
       "      <th>1</th>\n",
       "      <td>B</td>\n",
       "      <td>2540</td>\n",
       "    </tr>\n",
       "  </tbody>\n",
       "</table>\n",
       "</div>"
      ],
      "text/plain": [
       "  group  user_id\n",
       "0     A     3385\n",
       "1     B     2540"
      ]
     },
     "metadata": {},
     "output_type": "display_data"
    },
    {
     "data": {
      "text/html": [
       "<div>\n",
       "<style scoped>\n",
       "    .dataframe tbody tr th:only-of-type {\n",
       "        vertical-align: middle;\n",
       "    }\n",
       "\n",
       "    .dataframe tbody tr th {\n",
       "        vertical-align: top;\n",
       "    }\n",
       "\n",
       "    .dataframe thead th {\n",
       "        text-align: right;\n",
       "    }\n",
       "</style>\n",
       "<table border=\"1\" class=\"dataframe\">\n",
       "  <thead>\n",
       "    <tr style=\"text-align: right;\">\n",
       "      <th></th>\n",
       "      <th>group</th>\n",
       "      <th>user_id</th>\n",
       "      <th>perc</th>\n",
       "    </tr>\n",
       "  </thead>\n",
       "  <tbody>\n",
       "    <tr>\n",
       "      <th>0</th>\n",
       "      <td>A</td>\n",
       "      <td>3385</td>\n",
       "      <td>57.13%</td>\n",
       "    </tr>\n",
       "    <tr>\n",
       "      <th>1</th>\n",
       "      <td>B</td>\n",
       "      <td>2540</td>\n",
       "      <td>42.87%</td>\n",
       "    </tr>\n",
       "  </tbody>\n",
       "</table>\n",
       "</div>"
      ],
      "text/plain": [
       "  group  user_id    perc\n",
       "0     A     3385  57.13%\n",
       "1     B     2540  42.87%"
      ]
     },
     "metadata": {},
     "output_type": "display_data"
    },
    {
     "data": {
      "text/html": [
       "<div>\n",
       "<style scoped>\n",
       "    .dataframe tbody tr th:only-of-type {\n",
       "        vertical-align: middle;\n",
       "    }\n",
       "\n",
       "    .dataframe tbody tr th {\n",
       "        vertical-align: top;\n",
       "    }\n",
       "\n",
       "    .dataframe thead th {\n",
       "        text-align: right;\n",
       "    }\n",
       "</style>\n",
       "<table border=\"1\" class=\"dataframe\">\n",
       "  <thead>\n",
       "    <tr style=\"text-align: right;\">\n",
       "      <th></th>\n",
       "      <th>user_id</th>\n",
       "      <th>event_dt</th>\n",
       "      <th>event_name</th>\n",
       "      <th>details</th>\n",
       "      <th>group</th>\n",
       "      <th>ab_test</th>\n",
       "    </tr>\n",
       "  </thead>\n",
       "  <tbody>\n",
       "    <tr>\n",
       "      <th>0</th>\n",
       "      <td>D1ABA3E2887B6A73</td>\n",
       "      <td>2020-12-07 14:43:27</td>\n",
       "      <td>purchase</td>\n",
       "      <td>99.99</td>\n",
       "      <td>A</td>\n",
       "      <td>recommender_system_test</td>\n",
       "    </tr>\n",
       "    <tr>\n",
       "      <th>1</th>\n",
       "      <td>D1ABA3E2887B6A73</td>\n",
       "      <td>2020-12-25 00:04:56</td>\n",
       "      <td>purchase</td>\n",
       "      <td>4.99</td>\n",
       "      <td>A</td>\n",
       "      <td>recommender_system_test</td>\n",
       "    </tr>\n",
       "  </tbody>\n",
       "</table>\n",
       "</div>"
      ],
      "text/plain": [
       "            user_id            event_dt event_name  details group  \\\n",
       "0  D1ABA3E2887B6A73 2020-12-07 14:43:27   purchase    99.99     A   \n",
       "1  D1ABA3E2887B6A73 2020-12-25 00:04:56   purchase     4.99     A   \n",
       "\n",
       "                   ab_test  \n",
       "0  recommender_system_test  \n",
       "1  recommender_system_test  "
      ]
     },
     "metadata": {},
     "output_type": "display_data"
    }
   ],
   "source": [
    "events_ab = final_ab_events.merge(final_participants, how = 'right', on = 'user_id')\n",
    "groups = events_ab.groupby('group',as_index=False).user_id.nunique()\n",
    "display(groups) # Кол-во пользователей в группах\n",
    "# events_ab['perc'] = events_ab.at[0,'user_id']\n",
    "groups['perc'] = (groups.user_id / groups.user_id.sum()).map(lambda x: '{:.2%}'.format(x))\n",
    "display(groups)\n",
    "display(events_ab.head(2))"
   ]
  },
  {
   "cell_type": "markdown",
   "metadata": {},
   "source": [
    "***Хотя доли и неравны, но ближе к 50/50, чем к 75/25***"
   ]
  },
  {
   "cell_type": "markdown",
   "metadata": {},
   "source": [
    "Общее кол-во уже меньше 6.000\n",
    "\n",
    "Распределение по регионам рассмотрим чуть позже\n",
    "\n",
    "Теперь проверим, есть ли пересечение по времени проведения АВ теста с временем проведения маркетинговых акций (исключение периодов перекрестных активностей)"
   ]
  },
  {
   "cell_type": "code",
   "execution_count": 25,
   "metadata": {},
   "outputs": [
    {
     "name": "stdout",
     "output_type": "stream",
     "text": [
      "Продолжительность проведения теста:  23 days 06:26:52\n"
     ]
    }
   ],
   "source": [
    "ab_min_time = events_ab.event_dt.min()   # начало теста\n",
    "ab_max_time = events_ab.event_dt.max()   # конец теста\n",
    "print('Продолжительность проведения теста: ', ab_max_time - ab_min_time)"
   ]
  },
  {
   "cell_type": "code",
   "execution_count": 26,
   "metadata": {},
   "outputs": [
    {
     "data": {
      "text/html": [
       "<div>\n",
       "<style scoped>\n",
       "    .dataframe tbody tr th:only-of-type {\n",
       "        vertical-align: middle;\n",
       "    }\n",
       "\n",
       "    .dataframe tbody tr th {\n",
       "        vertical-align: top;\n",
       "    }\n",
       "\n",
       "    .dataframe thead th {\n",
       "        text-align: right;\n",
       "    }\n",
       "</style>\n",
       "<table border=\"1\" class=\"dataframe\">\n",
       "  <thead>\n",
       "    <tr style=\"text-align: right;\">\n",
       "      <th></th>\n",
       "      <th>name</th>\n",
       "      <th>regions</th>\n",
       "      <th>start_dt</th>\n",
       "      <th>finish_dt</th>\n",
       "      <th>duration</th>\n",
       "    </tr>\n",
       "  </thead>\n",
       "  <tbody>\n",
       "    <tr>\n",
       "      <th>5</th>\n",
       "      <td>cis_new_year_gift_lottery</td>\n",
       "      <td>cis</td>\n",
       "      <td>2020-12-30</td>\n",
       "      <td>2021-01-07</td>\n",
       "      <td>8 days</td>\n",
       "    </tr>\n",
       "    <tr>\n",
       "      <th>4</th>\n",
       "      <td>christmas&amp;new_year_promo</td>\n",
       "      <td>eu,_n.america</td>\n",
       "      <td>2020-12-25</td>\n",
       "      <td>2021-01-03</td>\n",
       "      <td>9 days</td>\n",
       "    </tr>\n",
       "    <tr>\n",
       "      <th>1</th>\n",
       "      <td>black_friday_ads_campaign</td>\n",
       "      <td>eu,_cis,_apac,_n.america</td>\n",
       "      <td>2020-11-26</td>\n",
       "      <td>2020-12-01</td>\n",
       "      <td>5 days</td>\n",
       "    </tr>\n",
       "    <tr>\n",
       "      <th>10</th>\n",
       "      <td>single's_day_gift_promo</td>\n",
       "      <td>apac</td>\n",
       "      <td>2020-11-11</td>\n",
       "      <td>2020-11-12</td>\n",
       "      <td>1 days</td>\n",
       "    </tr>\n",
       "    <tr>\n",
       "      <th>2</th>\n",
       "      <td>chinese_moon_festival</td>\n",
       "      <td>apac</td>\n",
       "      <td>2020-10-01</td>\n",
       "      <td>2020-10-07</td>\n",
       "      <td>6 days</td>\n",
       "    </tr>\n",
       "    <tr>\n",
       "      <th>0</th>\n",
       "      <td>4th_of_july_promo</td>\n",
       "      <td>n.america</td>\n",
       "      <td>2020-07-04</td>\n",
       "      <td>2020-07-11</td>\n",
       "      <td>7 days</td>\n",
       "    </tr>\n",
       "    <tr>\n",
       "      <th>6</th>\n",
       "      <td>dragon_boat_festival_giveaway</td>\n",
       "      <td>apac</td>\n",
       "      <td>2020-06-25</td>\n",
       "      <td>2020-07-01</td>\n",
       "      <td>6 days</td>\n",
       "    </tr>\n",
       "    <tr>\n",
       "      <th>13</th>\n",
       "      <td>victory_day_cis_(may_9th)_event</td>\n",
       "      <td>cis</td>\n",
       "      <td>2020-05-09</td>\n",
       "      <td>2020-05-11</td>\n",
       "      <td>2 days</td>\n",
       "    </tr>\n",
       "    <tr>\n",
       "      <th>9</th>\n",
       "      <td>labor_day_(may_1st)_ads_campaign</td>\n",
       "      <td>eu,_cis,_apac</td>\n",
       "      <td>2020-05-01</td>\n",
       "      <td>2020-05-03</td>\n",
       "      <td>2 days</td>\n",
       "    </tr>\n",
       "    <tr>\n",
       "      <th>7</th>\n",
       "      <td>easter_promo</td>\n",
       "      <td>eu,_cis,_apac,_n.america</td>\n",
       "      <td>2020-04-12</td>\n",
       "      <td>2020-04-19</td>\n",
       "      <td>7 days</td>\n",
       "    </tr>\n",
       "    <tr>\n",
       "      <th>11</th>\n",
       "      <td>st._patric's_day_promo</td>\n",
       "      <td>eu,_n.america</td>\n",
       "      <td>2020-03-17</td>\n",
       "      <td>2020-03-19</td>\n",
       "      <td>2 days</td>\n",
       "    </tr>\n",
       "    <tr>\n",
       "      <th>8</th>\n",
       "      <td>international_women's_day_promo</td>\n",
       "      <td>eu,_cis,_apac</td>\n",
       "      <td>2020-03-08</td>\n",
       "      <td>2020-03-10</td>\n",
       "      <td>2 days</td>\n",
       "    </tr>\n",
       "    <tr>\n",
       "      <th>12</th>\n",
       "      <td>st._valentine's_day_giveaway</td>\n",
       "      <td>eu,_cis,_apac,_n.america</td>\n",
       "      <td>2020-02-14</td>\n",
       "      <td>2020-02-16</td>\n",
       "      <td>2 days</td>\n",
       "    </tr>\n",
       "    <tr>\n",
       "      <th>3</th>\n",
       "      <td>chinese_new_year_promo</td>\n",
       "      <td>apac</td>\n",
       "      <td>2020-01-25</td>\n",
       "      <td>2020-02-07</td>\n",
       "      <td>13 days</td>\n",
       "    </tr>\n",
       "  </tbody>\n",
       "</table>\n",
       "</div>"
      ],
      "text/plain": [
       "                                name                   regions   start_dt  \\\n",
       "5          cis_new_year_gift_lottery                       cis 2020-12-30   \n",
       "4           christmas&new_year_promo             eu,_n.america 2020-12-25   \n",
       "1          black_friday_ads_campaign  eu,_cis,_apac,_n.america 2020-11-26   \n",
       "10           single's_day_gift_promo                      apac 2020-11-11   \n",
       "2              chinese_moon_festival                      apac 2020-10-01   \n",
       "0                  4th_of_july_promo                 n.america 2020-07-04   \n",
       "6      dragon_boat_festival_giveaway                      apac 2020-06-25   \n",
       "13   victory_day_cis_(may_9th)_event                       cis 2020-05-09   \n",
       "9   labor_day_(may_1st)_ads_campaign             eu,_cis,_apac 2020-05-01   \n",
       "7                       easter_promo  eu,_cis,_apac,_n.america 2020-04-12   \n",
       "11            st._patric's_day_promo             eu,_n.america 2020-03-17   \n",
       "8    international_women's_day_promo             eu,_cis,_apac 2020-03-08   \n",
       "12      st._valentine's_day_giveaway  eu,_cis,_apac,_n.america 2020-02-14   \n",
       "3             chinese_new_year_promo                      apac 2020-01-25   \n",
       "\n",
       "    finish_dt duration  \n",
       "5  2021-01-07   8 days  \n",
       "4  2021-01-03   9 days  \n",
       "1  2020-12-01   5 days  \n",
       "10 2020-11-12   1 days  \n",
       "2  2020-10-07   6 days  \n",
       "0  2020-07-11   7 days  \n",
       "6  2020-07-01   6 days  \n",
       "13 2020-05-11   2 days  \n",
       "9  2020-05-03   2 days  \n",
       "7  2020-04-19   7 days  \n",
       "11 2020-03-19   2 days  \n",
       "8  2020-03-10   2 days  \n",
       "12 2020-02-16   2 days  \n",
       "3  2020-02-07  13 days  "
      ]
     },
     "metadata": {},
     "output_type": "display_data"
    },
    {
     "name": "stdout",
     "output_type": "stream",
     "text": [
      "Кол-во повторений в списке маркетинговый акций:  0\n"
     ]
    }
   ],
   "source": [
    "# оработка названий акций, регионов, получение продолжительности акций в днях\n",
    "marketing_act = final_ab_marketing_events.groupby(['name','regions'], as_index=False).agg({'start_dt':'min', 'finish_dt':'max'})\n",
    "marketing_act.start_dt = pd.to_datetime(marketing_act.start_dt, format=\"%Y-%m-%d\")\n",
    "marketing_act.finish_dt = pd.to_datetime(marketing_act.finish_dt, format=\"%Y-%m-%d\")\n",
    "marketing_act['duration'] = marketing_act.finish_dt - marketing_act.start_dt\n",
    "display(marketing_act.sort_values('finish_dt', ascending=False))\n",
    "print(\"Кол-во повторений в списке маркетинговый акций: \", marketing_act.name.duplicated().sum())"
   ]
  },
  {
   "cell_type": "code",
   "execution_count": 27,
   "metadata": {},
   "outputs": [
    {
     "data": {
      "text/html": [
       "<div>\n",
       "<style scoped>\n",
       "    .dataframe tbody tr th:only-of-type {\n",
       "        vertical-align: middle;\n",
       "    }\n",
       "\n",
       "    .dataframe tbody tr th {\n",
       "        vertical-align: top;\n",
       "    }\n",
       "\n",
       "    .dataframe thead th {\n",
       "        text-align: right;\n",
       "    }\n",
       "</style>\n",
       "<table border=\"1\" class=\"dataframe\">\n",
       "  <thead>\n",
       "    <tr style=\"text-align: right;\">\n",
       "      <th></th>\n",
       "      <th>name</th>\n",
       "      <th>regions</th>\n",
       "      <th>start_dt</th>\n",
       "      <th>finish_dt</th>\n",
       "      <th>duration</th>\n",
       "      <th>event_start_t</th>\n",
       "      <th>event_end_t</th>\n",
       "    </tr>\n",
       "  </thead>\n",
       "  <tbody>\n",
       "    <tr>\n",
       "      <th>0</th>\n",
       "      <td>4th_of_july_promo</td>\n",
       "      <td>n.america</td>\n",
       "      <td>2020-07-04</td>\n",
       "      <td>2020-07-11</td>\n",
       "      <td>7 days</td>\n",
       "      <td>2020-12-07</td>\n",
       "      <td>2020-12-30</td>\n",
       "    </tr>\n",
       "    <tr>\n",
       "      <th>1</th>\n",
       "      <td>black_friday_ads_campaign</td>\n",
       "      <td>eu,_cis,_apac,_n.america</td>\n",
       "      <td>2020-11-26</td>\n",
       "      <td>2020-12-01</td>\n",
       "      <td>5 days</td>\n",
       "      <td>2020-12-07</td>\n",
       "      <td>2020-12-30</td>\n",
       "    </tr>\n",
       "    <tr>\n",
       "      <th>2</th>\n",
       "      <td>chinese_moon_festival</td>\n",
       "      <td>apac</td>\n",
       "      <td>2020-10-01</td>\n",
       "      <td>2020-10-07</td>\n",
       "      <td>6 days</td>\n",
       "      <td>2020-12-07</td>\n",
       "      <td>2020-12-30</td>\n",
       "    </tr>\n",
       "    <tr>\n",
       "      <th>3</th>\n",
       "      <td>chinese_new_year_promo</td>\n",
       "      <td>apac</td>\n",
       "      <td>2020-01-25</td>\n",
       "      <td>2020-02-07</td>\n",
       "      <td>13 days</td>\n",
       "      <td>2020-12-07</td>\n",
       "      <td>2020-12-30</td>\n",
       "    </tr>\n",
       "    <tr>\n",
       "      <th>4</th>\n",
       "      <td>christmas&amp;new_year_promo</td>\n",
       "      <td>eu,_n.america</td>\n",
       "      <td>2020-12-25</td>\n",
       "      <td>2021-01-03</td>\n",
       "      <td>9 days</td>\n",
       "      <td>2020-12-07</td>\n",
       "      <td>2020-12-30</td>\n",
       "    </tr>\n",
       "    <tr>\n",
       "      <th>5</th>\n",
       "      <td>cis_new_year_gift_lottery</td>\n",
       "      <td>cis</td>\n",
       "      <td>2020-12-30</td>\n",
       "      <td>2021-01-07</td>\n",
       "      <td>8 days</td>\n",
       "      <td>2020-12-07</td>\n",
       "      <td>2020-12-30</td>\n",
       "    </tr>\n",
       "    <tr>\n",
       "      <th>6</th>\n",
       "      <td>dragon_boat_festival_giveaway</td>\n",
       "      <td>apac</td>\n",
       "      <td>2020-06-25</td>\n",
       "      <td>2020-07-01</td>\n",
       "      <td>6 days</td>\n",
       "      <td>2020-12-07</td>\n",
       "      <td>2020-12-30</td>\n",
       "    </tr>\n",
       "    <tr>\n",
       "      <th>7</th>\n",
       "      <td>easter_promo</td>\n",
       "      <td>eu,_cis,_apac,_n.america</td>\n",
       "      <td>2020-04-12</td>\n",
       "      <td>2020-04-19</td>\n",
       "      <td>7 days</td>\n",
       "      <td>2020-12-07</td>\n",
       "      <td>2020-12-30</td>\n",
       "    </tr>\n",
       "    <tr>\n",
       "      <th>8</th>\n",
       "      <td>international_women's_day_promo</td>\n",
       "      <td>eu,_cis,_apac</td>\n",
       "      <td>2020-03-08</td>\n",
       "      <td>2020-03-10</td>\n",
       "      <td>2 days</td>\n",
       "      <td>2020-12-07</td>\n",
       "      <td>2020-12-30</td>\n",
       "    </tr>\n",
       "    <tr>\n",
       "      <th>9</th>\n",
       "      <td>labor_day_(may_1st)_ads_campaign</td>\n",
       "      <td>eu,_cis,_apac</td>\n",
       "      <td>2020-05-01</td>\n",
       "      <td>2020-05-03</td>\n",
       "      <td>2 days</td>\n",
       "      <td>2020-12-07</td>\n",
       "      <td>2020-12-30</td>\n",
       "    </tr>\n",
       "    <tr>\n",
       "      <th>10</th>\n",
       "      <td>single's_day_gift_promo</td>\n",
       "      <td>apac</td>\n",
       "      <td>2020-11-11</td>\n",
       "      <td>2020-11-12</td>\n",
       "      <td>1 days</td>\n",
       "      <td>2020-12-07</td>\n",
       "      <td>2020-12-30</td>\n",
       "    </tr>\n",
       "    <tr>\n",
       "      <th>11</th>\n",
       "      <td>st._patric's_day_promo</td>\n",
       "      <td>eu,_n.america</td>\n",
       "      <td>2020-03-17</td>\n",
       "      <td>2020-03-19</td>\n",
       "      <td>2 days</td>\n",
       "      <td>2020-12-07</td>\n",
       "      <td>2020-12-30</td>\n",
       "    </tr>\n",
       "    <tr>\n",
       "      <th>12</th>\n",
       "      <td>st._valentine's_day_giveaway</td>\n",
       "      <td>eu,_cis,_apac,_n.america</td>\n",
       "      <td>2020-02-14</td>\n",
       "      <td>2020-02-16</td>\n",
       "      <td>2 days</td>\n",
       "      <td>2020-12-07</td>\n",
       "      <td>2020-12-30</td>\n",
       "    </tr>\n",
       "    <tr>\n",
       "      <th>13</th>\n",
       "      <td>victory_day_cis_(may_9th)_event</td>\n",
       "      <td>cis</td>\n",
       "      <td>2020-05-09</td>\n",
       "      <td>2020-05-11</td>\n",
       "      <td>2 days</td>\n",
       "      <td>2020-12-07</td>\n",
       "      <td>2020-12-30</td>\n",
       "    </tr>\n",
       "  </tbody>\n",
       "</table>\n",
       "</div>"
      ],
      "text/plain": [
       "                                name                   regions   start_dt  \\\n",
       "0                  4th_of_july_promo                 n.america 2020-07-04   \n",
       "1          black_friday_ads_campaign  eu,_cis,_apac,_n.america 2020-11-26   \n",
       "2              chinese_moon_festival                      apac 2020-10-01   \n",
       "3             chinese_new_year_promo                      apac 2020-01-25   \n",
       "4           christmas&new_year_promo             eu,_n.america 2020-12-25   \n",
       "5          cis_new_year_gift_lottery                       cis 2020-12-30   \n",
       "6      dragon_boat_festival_giveaway                      apac 2020-06-25   \n",
       "7                       easter_promo  eu,_cis,_apac,_n.america 2020-04-12   \n",
       "8    international_women's_day_promo             eu,_cis,_apac 2020-03-08   \n",
       "9   labor_day_(may_1st)_ads_campaign             eu,_cis,_apac 2020-05-01   \n",
       "10           single's_day_gift_promo                      apac 2020-11-11   \n",
       "11            st._patric's_day_promo             eu,_n.america 2020-03-17   \n",
       "12      st._valentine's_day_giveaway  eu,_cis,_apac,_n.america 2020-02-14   \n",
       "13   victory_day_cis_(may_9th)_event                       cis 2020-05-09   \n",
       "\n",
       "    finish_dt duration event_start_t event_end_t  \n",
       "0  2020-07-11   7 days    2020-12-07  2020-12-30  \n",
       "1  2020-12-01   5 days    2020-12-07  2020-12-30  \n",
       "2  2020-10-07   6 days    2020-12-07  2020-12-30  \n",
       "3  2020-02-07  13 days    2020-12-07  2020-12-30  \n",
       "4  2021-01-03   9 days    2020-12-07  2020-12-30  \n",
       "5  2021-01-07   8 days    2020-12-07  2020-12-30  \n",
       "6  2020-07-01   6 days    2020-12-07  2020-12-30  \n",
       "7  2020-04-19   7 days    2020-12-07  2020-12-30  \n",
       "8  2020-03-10   2 days    2020-12-07  2020-12-30  \n",
       "9  2020-05-03   2 days    2020-12-07  2020-12-30  \n",
       "10 2020-11-12   1 days    2020-12-07  2020-12-30  \n",
       "11 2020-03-19   2 days    2020-12-07  2020-12-30  \n",
       "12 2020-02-16   2 days    2020-12-07  2020-12-30  \n",
       "13 2020-05-11   2 days    2020-12-07  2020-12-30  "
      ]
     },
     "execution_count": 27,
     "metadata": {},
     "output_type": "execute_result"
    }
   ],
   "source": [
    "# marketing_act.name = marketing_act.name.replace([\"4th_of_july_promo\", \"victory_day_cis_(may_9th)_event\"], ['fourth_of_july_promo','victory_day_cis_(may_nineth)_event'])\n",
    "marketing_act['event_date_beg'] = events_ab.event_dt.min()\n",
    "marketing_act['event_date_end'] = events_ab.event_dt.max()\n",
    "\n",
    "marketing_act['event_start'] = marketing_act.event_date_beg.dt.date\n",
    "marketing_act['event_start_t'] = pd.to_datetime(marketing_act.event_start, format='%Y-%m-%d')\n",
    "marketing_act = marketing_act.drop(columns = ['event_start','event_date_beg'], axis=1)\n",
    "\n",
    "marketing_act['event_end'] = marketing_act.event_date_end.dt.date\n",
    "marketing_act['event_end_t'] = pd.to_datetime(marketing_act.event_end, format='%Y-%m-%d')\n",
    "marketing_act = marketing_act.drop(columns = ['event_end','event_date_end'], axis=1)\n",
    "\n",
    "marketing_act"
   ]
  },
  {
   "cell_type": "code",
   "execution_count": 28,
   "metadata": {},
   "outputs": [
    {
     "data": {
      "text/html": [
       "<div>\n",
       "<style scoped>\n",
       "    .dataframe tbody tr th:only-of-type {\n",
       "        vertical-align: middle;\n",
       "    }\n",
       "\n",
       "    .dataframe tbody tr th {\n",
       "        vertical-align: top;\n",
       "    }\n",
       "\n",
       "    .dataframe thead th {\n",
       "        text-align: right;\n",
       "    }\n",
       "</style>\n",
       "<table border=\"1\" class=\"dataframe\">\n",
       "  <thead>\n",
       "    <tr style=\"text-align: right;\">\n",
       "      <th></th>\n",
       "      <th>name</th>\n",
       "      <th>regions</th>\n",
       "      <th>promo_start</th>\n",
       "      <th>promo_end</th>\n",
       "      <th>duration</th>\n",
       "      <th>ab_start</th>\n",
       "      <th>ab_end</th>\n",
       "      <th>length</th>\n",
       "      <th>dur_days_int</th>\n",
       "    </tr>\n",
       "  </thead>\n",
       "  <tbody>\n",
       "    <tr>\n",
       "      <th>0</th>\n",
       "      <td>4th_of_july_promo</td>\n",
       "      <td>n.america</td>\n",
       "      <td>2020-07-04</td>\n",
       "      <td>2020-07-11</td>\n",
       "      <td>7 days</td>\n",
       "      <td>2020-12-07</td>\n",
       "      <td>2020-12-30</td>\n",
       "      <td>23 days</td>\n",
       "      <td>7</td>\n",
       "    </tr>\n",
       "    <tr>\n",
       "      <th>1</th>\n",
       "      <td>black_friday_ads_campaign</td>\n",
       "      <td>eu,_cis,_apac,_n.america</td>\n",
       "      <td>2020-11-26</td>\n",
       "      <td>2020-12-01</td>\n",
       "      <td>5 days</td>\n",
       "      <td>2020-12-07</td>\n",
       "      <td>2020-12-30</td>\n",
       "      <td>23 days</td>\n",
       "      <td>5</td>\n",
       "    </tr>\n",
       "    <tr>\n",
       "      <th>2</th>\n",
       "      <td>chinese_moon_festival</td>\n",
       "      <td>apac</td>\n",
       "      <td>2020-10-01</td>\n",
       "      <td>2020-10-07</td>\n",
       "      <td>6 days</td>\n",
       "      <td>2020-12-07</td>\n",
       "      <td>2020-12-30</td>\n",
       "      <td>23 days</td>\n",
       "      <td>6</td>\n",
       "    </tr>\n",
       "    <tr>\n",
       "      <th>3</th>\n",
       "      <td>chinese_new_year_promo</td>\n",
       "      <td>apac</td>\n",
       "      <td>2020-01-25</td>\n",
       "      <td>2020-02-07</td>\n",
       "      <td>13 days</td>\n",
       "      <td>2020-12-07</td>\n",
       "      <td>2020-12-30</td>\n",
       "      <td>23 days</td>\n",
       "      <td>13</td>\n",
       "    </tr>\n",
       "    <tr>\n",
       "      <th>4</th>\n",
       "      <td>christmas&amp;new_year_promo</td>\n",
       "      <td>eu,_n.america</td>\n",
       "      <td>2020-12-25</td>\n",
       "      <td>2021-01-03</td>\n",
       "      <td>9 days</td>\n",
       "      <td>2020-12-07</td>\n",
       "      <td>2020-12-30</td>\n",
       "      <td>23 days</td>\n",
       "      <td>9</td>\n",
       "    </tr>\n",
       "    <tr>\n",
       "      <th>5</th>\n",
       "      <td>cis_new_year_gift_lottery</td>\n",
       "      <td>cis</td>\n",
       "      <td>2020-12-30</td>\n",
       "      <td>2021-01-07</td>\n",
       "      <td>8 days</td>\n",
       "      <td>2020-12-07</td>\n",
       "      <td>2020-12-30</td>\n",
       "      <td>23 days</td>\n",
       "      <td>8</td>\n",
       "    </tr>\n",
       "    <tr>\n",
       "      <th>6</th>\n",
       "      <td>dragon_boat_festival_giveaway</td>\n",
       "      <td>apac</td>\n",
       "      <td>2020-06-25</td>\n",
       "      <td>2020-07-01</td>\n",
       "      <td>6 days</td>\n",
       "      <td>2020-12-07</td>\n",
       "      <td>2020-12-30</td>\n",
       "      <td>23 days</td>\n",
       "      <td>6</td>\n",
       "    </tr>\n",
       "    <tr>\n",
       "      <th>7</th>\n",
       "      <td>easter_promo</td>\n",
       "      <td>eu,_cis,_apac,_n.america</td>\n",
       "      <td>2020-04-12</td>\n",
       "      <td>2020-04-19</td>\n",
       "      <td>7 days</td>\n",
       "      <td>2020-12-07</td>\n",
       "      <td>2020-12-30</td>\n",
       "      <td>23 days</td>\n",
       "      <td>7</td>\n",
       "    </tr>\n",
       "    <tr>\n",
       "      <th>8</th>\n",
       "      <td>international_women's_day_promo</td>\n",
       "      <td>eu,_cis,_apac</td>\n",
       "      <td>2020-03-08</td>\n",
       "      <td>2020-03-10</td>\n",
       "      <td>2 days</td>\n",
       "      <td>2020-12-07</td>\n",
       "      <td>2020-12-30</td>\n",
       "      <td>23 days</td>\n",
       "      <td>2</td>\n",
       "    </tr>\n",
       "    <tr>\n",
       "      <th>9</th>\n",
       "      <td>labor_day_(may_1st)_ads_campaign</td>\n",
       "      <td>eu,_cis,_apac</td>\n",
       "      <td>2020-05-01</td>\n",
       "      <td>2020-05-03</td>\n",
       "      <td>2 days</td>\n",
       "      <td>2020-12-07</td>\n",
       "      <td>2020-12-30</td>\n",
       "      <td>23 days</td>\n",
       "      <td>2</td>\n",
       "    </tr>\n",
       "    <tr>\n",
       "      <th>10</th>\n",
       "      <td>single's_day_gift_promo</td>\n",
       "      <td>apac</td>\n",
       "      <td>2020-11-11</td>\n",
       "      <td>2020-11-12</td>\n",
       "      <td>1 days</td>\n",
       "      <td>2020-12-07</td>\n",
       "      <td>2020-12-30</td>\n",
       "      <td>23 days</td>\n",
       "      <td>1</td>\n",
       "    </tr>\n",
       "    <tr>\n",
       "      <th>11</th>\n",
       "      <td>st._patric's_day_promo</td>\n",
       "      <td>eu,_n.america</td>\n",
       "      <td>2020-03-17</td>\n",
       "      <td>2020-03-19</td>\n",
       "      <td>2 days</td>\n",
       "      <td>2020-12-07</td>\n",
       "      <td>2020-12-30</td>\n",
       "      <td>23 days</td>\n",
       "      <td>2</td>\n",
       "    </tr>\n",
       "    <tr>\n",
       "      <th>12</th>\n",
       "      <td>st._valentine's_day_giveaway</td>\n",
       "      <td>eu,_cis,_apac,_n.america</td>\n",
       "      <td>2020-02-14</td>\n",
       "      <td>2020-02-16</td>\n",
       "      <td>2 days</td>\n",
       "      <td>2020-12-07</td>\n",
       "      <td>2020-12-30</td>\n",
       "      <td>23 days</td>\n",
       "      <td>2</td>\n",
       "    </tr>\n",
       "    <tr>\n",
       "      <th>13</th>\n",
       "      <td>victory_day_cis_(may_9th)_event</td>\n",
       "      <td>cis</td>\n",
       "      <td>2020-05-09</td>\n",
       "      <td>2020-05-11</td>\n",
       "      <td>2 days</td>\n",
       "      <td>2020-12-07</td>\n",
       "      <td>2020-12-30</td>\n",
       "      <td>23 days</td>\n",
       "      <td>2</td>\n",
       "    </tr>\n",
       "  </tbody>\n",
       "</table>\n",
       "</div>"
      ],
      "text/plain": [
       "                                name                   regions promo_start  \\\n",
       "0                  4th_of_july_promo                 n.america  2020-07-04   \n",
       "1          black_friday_ads_campaign  eu,_cis,_apac,_n.america  2020-11-26   \n",
       "2              chinese_moon_festival                      apac  2020-10-01   \n",
       "3             chinese_new_year_promo                      apac  2020-01-25   \n",
       "4           christmas&new_year_promo             eu,_n.america  2020-12-25   \n",
       "5          cis_new_year_gift_lottery                       cis  2020-12-30   \n",
       "6      dragon_boat_festival_giveaway                      apac  2020-06-25   \n",
       "7                       easter_promo  eu,_cis,_apac,_n.america  2020-04-12   \n",
       "8    international_women's_day_promo             eu,_cis,_apac  2020-03-08   \n",
       "9   labor_day_(may_1st)_ads_campaign             eu,_cis,_apac  2020-05-01   \n",
       "10           single's_day_gift_promo                      apac  2020-11-11   \n",
       "11            st._patric's_day_promo             eu,_n.america  2020-03-17   \n",
       "12      st._valentine's_day_giveaway  eu,_cis,_apac,_n.america  2020-02-14   \n",
       "13   victory_day_cis_(may_9th)_event                       cis  2020-05-09   \n",
       "\n",
       "    promo_end duration   ab_start     ab_end  length  dur_days_int  \n",
       "0  2020-07-11   7 days 2020-12-07 2020-12-30 23 days             7  \n",
       "1  2020-12-01   5 days 2020-12-07 2020-12-30 23 days             5  \n",
       "2  2020-10-07   6 days 2020-12-07 2020-12-30 23 days             6  \n",
       "3  2020-02-07  13 days 2020-12-07 2020-12-30 23 days            13  \n",
       "4  2021-01-03   9 days 2020-12-07 2020-12-30 23 days             9  \n",
       "5  2021-01-07   8 days 2020-12-07 2020-12-30 23 days             8  \n",
       "6  2020-07-01   6 days 2020-12-07 2020-12-30 23 days             6  \n",
       "7  2020-04-19   7 days 2020-12-07 2020-12-30 23 days             7  \n",
       "8  2020-03-10   2 days 2020-12-07 2020-12-30 23 days             2  \n",
       "9  2020-05-03   2 days 2020-12-07 2020-12-30 23 days             2  \n",
       "10 2020-11-12   1 days 2020-12-07 2020-12-30 23 days             1  \n",
       "11 2020-03-19   2 days 2020-12-07 2020-12-30 23 days             2  \n",
       "12 2020-02-16   2 days 2020-12-07 2020-12-30 23 days             2  \n",
       "13 2020-05-11   2 days 2020-12-07 2020-12-30 23 days             2  "
      ]
     },
     "execution_count": 28,
     "metadata": {},
     "output_type": "execute_result"
    }
   ],
   "source": [
    "marketing_act = marketing_act.rename(columns = {'start_dt':'promo_start', 'finish_dt':'promo_end', 'event_start_t':'ab_start', 'event_end_t':'ab_end'})\n",
    "marketing_act['length'] = marketing_act.ab_end - marketing_act.ab_start\n",
    "marketing_act['dur_days_int'] = pd.to_numeric(marketing_act.duration.dt.days, downcast='integer') # длительености как число\n",
    "marketing_act"
   ]
  },
  {
   "cell_type": "markdown",
   "metadata": {},
   "source": [
    "Рассмотрим наглядно, как выглядять промо- и маркетинговые акции во времени на диаграмме Ганта"
   ]
  },
  {
   "cell_type": "code",
   "execution_count": 29,
   "metadata": {},
   "outputs": [
    {
     "data": {
      "image/png": "[encoded data removed]"
     },
     "metadata": {},
     "output_type": "display_data"
    }
   ],
   "source": [
    "# диаграмма Ганта\n",
    "\n",
    "# создание списка\n",
    "df = []\n",
    "for i in marketing_act.index:\n",
    "    T = marketing_act.loc[i, 'name']\n",
    "    S = marketing_act.loc[i, 'promo_start']\n",
    "    F = marketing_act.loc[i, 'promo_end']\n",
    "    C = (marketing_act.loc[i, 'dur_days_int'])\n",
    "    \n",
    "    df.append(dict(Task=T, Start=S, Finish=F, Complete=C))\n",
    "\n",
    "df.append(dict(Task=\"ab\", Start='2020-12-07', Finish='2020-12-30', Complete=23))\n",
    "\n",
    "# построение диаграммы Ганта\n",
    "fig = ff.create_gantt(df, colors='Viridis', index_col='Complete', show_colorbar=True)\n",
    "fig.show()"
   ]
  },
  {
   "cell_type": "markdown",
   "metadata": {},
   "source": [
    "Теперь рассмотрим время проведение АВ теста на диаграмме Ганта"
   ]
  },
  {
   "cell_type": "code",
   "execution_count": 30,
   "metadata": {},
   "outputs": [
    {
     "data": {
      "text/html": [
       "<div>\n",
       "<style scoped>\n",
       "    .dataframe tbody tr th:only-of-type {\n",
       "        vertical-align: middle;\n",
       "    }\n",
       "\n",
       "    .dataframe tbody tr th {\n",
       "        vertical-align: top;\n",
       "    }\n",
       "\n",
       "    .dataframe thead th {\n",
       "        text-align: right;\n",
       "    }\n",
       "</style>\n",
       "<table border=\"1\" class=\"dataframe\">\n",
       "  <thead>\n",
       "    <tr style=\"text-align: right;\">\n",
       "      <th></th>\n",
       "      <th>name</th>\n",
       "      <th>regions</th>\n",
       "      <th>promo_start</th>\n",
       "      <th>promo_end</th>\n",
       "      <th>duration</th>\n",
       "      <th>ab_start</th>\n",
       "      <th>ab_end</th>\n",
       "      <th>length</th>\n",
       "      <th>dur_days_int</th>\n",
       "    </tr>\n",
       "  </thead>\n",
       "  <tbody>\n",
       "    <tr>\n",
       "      <th>4</th>\n",
       "      <td>christmas&amp;new_year_promo</td>\n",
       "      <td>eu,_n.america</td>\n",
       "      <td>2020-12-25</td>\n",
       "      <td>2021-01-03</td>\n",
       "      <td>9 days</td>\n",
       "      <td>2020-12-07</td>\n",
       "      <td>2020-12-30</td>\n",
       "      <td>23 days</td>\n",
       "      <td>9</td>\n",
       "    </tr>\n",
       "    <tr>\n",
       "      <th>5</th>\n",
       "      <td>cis_new_year_gift_lottery</td>\n",
       "      <td>cis</td>\n",
       "      <td>2020-12-30</td>\n",
       "      <td>2021-01-07</td>\n",
       "      <td>8 days</td>\n",
       "      <td>2020-12-07</td>\n",
       "      <td>2020-12-30</td>\n",
       "      <td>23 days</td>\n",
       "      <td>8</td>\n",
       "    </tr>\n",
       "  </tbody>\n",
       "</table>\n",
       "</div>"
      ],
      "text/plain": [
       "                        name        regions promo_start  promo_end duration  \\\n",
       "4   christmas&new_year_promo  eu,_n.america  2020-12-25 2021-01-03   9 days   \n",
       "5  cis_new_year_gift_lottery            cis  2020-12-30 2021-01-07   8 days   \n",
       "\n",
       "    ab_start     ab_end  length  dur_days_int  \n",
       "4 2020-12-07 2020-12-30 23 days             9  \n",
       "5 2020-12-07 2020-12-30 23 days             8  "
      ]
     },
     "execution_count": 30,
     "metadata": {},
     "output_type": "execute_result"
    }
   ],
   "source": [
    "# пересечение активностей\n",
    "crossing = marketing_act.query('(ab_start <= promo_start <= ab_end) or (ab_start <= promo_end <= ab_end)')\n",
    "crossing"
   ]
  },
  {
   "cell_type": "code",
   "execution_count": 31,
   "metadata": {},
   "outputs": [
    {
     "data": {
      "image/png": "[encoded data removed]"
     },
     "metadata": {},
     "output_type": "display_data"
    }
   ],
   "source": [
    "# диаграмма Ганта для АВ теста и попутных маректинговых активностей\n",
    "\n",
    "df = []\n",
    "for i in crossing.index:\n",
    "    T = crossing.loc[i, 'name']\n",
    "    S = crossing.loc[i, 'promo_start']\n",
    "    F = crossing.loc[i, 'promo_end']\n",
    "    C = (crossing.loc[i, 'dur_days_int'])\n",
    "    \n",
    "    df.append(dict(Task=T, Start=S, Finish=F, Complete=C))\n",
    "df.append(dict(Task=\"ab\", Start='2020-12-07', Finish='2020-12-30', Complete=23))\n",
    "\n",
    "fig = ff.create_gantt(df, colors='Viridis', index_col='Complete', show_colorbar=True)\n",
    "fig.show()"
   ]
  },
  {
   "cell_type": "markdown",
   "metadata": {},
   "source": [
    "Имеется пересечение с акцией в НГ. Отфильтруем тех пользователей, участвующих в тестировании, которые пересекаются по времени с этой промо активностью, то есть с 2020-12-25"
   ]
  },
  {
   "cell_type": "code",
   "execution_count": 32,
   "metadata": {},
   "outputs": [
    {
     "data": {
      "text/html": [
       "<div>\n",
       "<style scoped>\n",
       "    .dataframe tbody tr th:only-of-type {\n",
       "        vertical-align: middle;\n",
       "    }\n",
       "\n",
       "    .dataframe tbody tr th {\n",
       "        vertical-align: top;\n",
       "    }\n",
       "\n",
       "    .dataframe thead th {\n",
       "        text-align: right;\n",
       "    }\n",
       "</style>\n",
       "<table border=\"1\" class=\"dataframe\">\n",
       "  <thead>\n",
       "    <tr style=\"text-align: right;\">\n",
       "      <th></th>\n",
       "      <th>group</th>\n",
       "      <th>user_id</th>\n",
       "    </tr>\n",
       "  </thead>\n",
       "  <tbody>\n",
       "    <tr>\n",
       "      <th>0</th>\n",
       "      <td>A</td>\n",
       "      <td>2422</td>\n",
       "    </tr>\n",
       "    <tr>\n",
       "      <th>1</th>\n",
       "      <td>B</td>\n",
       "      <td>812</td>\n",
       "    </tr>\n",
       "  </tbody>\n",
       "</table>\n",
       "</div>"
      ],
      "text/plain": [
       "  group  user_id\n",
       "0     A     2422\n",
       "1     B      812"
      ]
     },
     "execution_count": 32,
     "metadata": {},
     "output_type": "execute_result"
    }
   ],
   "source": [
    "final_ab = events_ab.query('event_dt < \"2020-12-25\"')\n",
    "final_ab.groupby('group', as_index=False).user_id.nunique()"
   ]
  },
  {
   "cell_type": "markdown",
   "metadata": {},
   "source": [
    "Проверим кол-во участников из Европы:"
   ]
  },
  {
   "cell_type": "code",
   "execution_count": 33,
   "metadata": {},
   "outputs": [
    {
     "data": {
      "text/html": [
       "<div>\n",
       "<style scoped>\n",
       "    .dataframe tbody tr th:only-of-type {\n",
       "        vertical-align: middle;\n",
       "    }\n",
       "\n",
       "    .dataframe tbody tr th {\n",
       "        vertical-align: top;\n",
       "    }\n",
       "\n",
       "    .dataframe thead th {\n",
       "        text-align: right;\n",
       "    }\n",
       "</style>\n",
       "<table border=\"1\" class=\"dataframe\">\n",
       "  <thead>\n",
       "    <tr style=\"text-align: right;\">\n",
       "      <th></th>\n",
       "      <th>user_id</th>\n",
       "      <th>event_dt</th>\n",
       "      <th>event_name</th>\n",
       "      <th>details</th>\n",
       "      <th>group</th>\n",
       "      <th>ab_test</th>\n",
       "    </tr>\n",
       "  </thead>\n",
       "  <tbody>\n",
       "    <tr>\n",
       "      <th>0</th>\n",
       "      <td>D1ABA3E2887B6A73</td>\n",
       "      <td>2020-12-07 14:43:27</td>\n",
       "      <td>purchase</td>\n",
       "      <td>99.99</td>\n",
       "      <td>A</td>\n",
       "      <td>recommender_system_test</td>\n",
       "    </tr>\n",
       "    <tr>\n",
       "      <th>2</th>\n",
       "      <td>D1ABA3E2887B6A73</td>\n",
       "      <td>2020-12-07 14:43:29</td>\n",
       "      <td>product_cart</td>\n",
       "      <td>0.00</td>\n",
       "      <td>A</td>\n",
       "      <td>recommender_system_test</td>\n",
       "    </tr>\n",
       "  </tbody>\n",
       "</table>\n",
       "</div>"
      ],
      "text/plain": [
       "            user_id            event_dt    event_name  details group  \\\n",
       "0  D1ABA3E2887B6A73 2020-12-07 14:43:27      purchase    99.99     A   \n",
       "2  D1ABA3E2887B6A73 2020-12-07 14:43:29  product_cart     0.00     A   \n",
       "\n",
       "                   ab_test  \n",
       "0  recommender_system_test  \n",
       "2  recommender_system_test  "
      ]
     },
     "execution_count": 33,
     "metadata": {},
     "output_type": "execute_result"
    }
   ],
   "source": [
    "final_ab.head(2)"
   ]
  },
  {
   "cell_type": "code",
   "execution_count": 34,
   "metadata": {},
   "outputs": [
    {
     "data": {
      "text/html": [
       "<div>\n",
       "<style scoped>\n",
       "    .dataframe tbody tr th:only-of-type {\n",
       "        vertical-align: middle;\n",
       "    }\n",
       "\n",
       "    .dataframe tbody tr th {\n",
       "        vertical-align: top;\n",
       "    }\n",
       "\n",
       "    .dataframe thead th {\n",
       "        text-align: right;\n",
       "    }\n",
       "</style>\n",
       "<table border=\"1\" class=\"dataframe\">\n",
       "  <thead>\n",
       "    <tr style=\"text-align: right;\">\n",
       "      <th></th>\n",
       "      <th>region</th>\n",
       "      <th>user_id</th>\n",
       "      <th>reg_share</th>\n",
       "    </tr>\n",
       "  </thead>\n",
       "  <tbody>\n",
       "    <tr>\n",
       "      <th>0</th>\n",
       "      <td>apac</td>\n",
       "      <td>40</td>\n",
       "      <td>1.43%</td>\n",
       "    </tr>\n",
       "    <tr>\n",
       "      <th>1</th>\n",
       "      <td>cis</td>\n",
       "      <td>27</td>\n",
       "      <td>0.97%</td>\n",
       "    </tr>\n",
       "    <tr>\n",
       "      <th>2</th>\n",
       "      <td>eu</td>\n",
       "      <td>2625</td>\n",
       "      <td>94.09%</td>\n",
       "    </tr>\n",
       "    <tr>\n",
       "      <th>3</th>\n",
       "      <td>n.america</td>\n",
       "      <td>98</td>\n",
       "      <td>3.51%</td>\n",
       "    </tr>\n",
       "  </tbody>\n",
       "</table>\n",
       "</div>"
      ],
      "text/plain": [
       "      region  user_id reg_share\n",
       "0       apac       40     1.43%\n",
       "1        cis       27     0.97%\n",
       "2         eu     2625    94.09%\n",
       "3  n.america       98     3.51%"
      ]
     },
     "execution_count": 34,
     "metadata": {},
     "output_type": "execute_result"
    }
   ],
   "source": [
    "reg_users = final_ab.merge(final_ab_new_users, how = 'inner', on = 'user_id').groupby('region', as_index=False).user_id.nunique()\n",
    "reg_users['reg_share'] = (reg_users.user_id / reg_users.user_id.sum()).map(lambda x: '{:.2%}'.format(x))\n",
    "reg_users\n"
   ]
  },
  {
   "cell_type": "markdown",
   "metadata": {},
   "source": [
    "Доля Европы достаточна велика для соответствия требованиям тех.задания, однако кол-во составляет уже менее `50%` от требуемого"
   ]
  },
  {
   "cell_type": "code",
   "execution_count": 35,
   "metadata": {},
   "outputs": [
    {
     "name": "stdout",
     "output_type": "stream",
     "text": [
      "Кол-во пользщователей в АВ тесте:  3234\n"
     ]
    }
   ],
   "source": [
    "print(\"Кол-во пользщователей в АВ тесте: \", final_ab.user_id.nunique())"
   ]
  },
  {
   "cell_type": "code",
   "execution_count": 36,
   "metadata": {},
   "outputs": [
    {
     "data": {
      "image/png": "[encoded data removed]"
     },
     "metadata": {},
     "output_type": "display_data"
    }
   ],
   "source": [
    "# воронка для двух групп вместе\n",
    "\n",
    "funnel=final_ab.groupby('event_name',as_index=False).agg({'user_id':'nunique'}).reindex([0,2,1,3])\n",
    "fig = go.Figure(go.Funnel(\n",
    "    y = funnel['event_name'],\n",
    "    x = funnel['user_id'],\n",
    "    textinfo = \"value+percent initial+percent previous\"\n",
    "    ))\n",
    "fig.show() "
   ]
  },
  {
   "cell_type": "code",
   "execution_count": 37,
   "metadata": {
    "scrolled": false
   },
   "outputs": [
    {
     "data": {
      "image/png": "[encoded data removed]"
     },
     "metadata": {},
     "output_type": "display_data"
    },
    {
     "data": {
      "image/png": "[encoded data removed]"
     },
     "metadata": {},
     "output_type": "display_data"
    }
   ],
   "source": [
    "# воронка для каждой из групп\n",
    "\n",
    "for i in ['A', 'B']:\n",
    "    funnel=final_ab.query(f'group == @i').groupby('event_name',as_index=False).agg({'user_id':'nunique'}).reindex([0,2,1,3])\n",
    "    fig = go.Figure(go.Funnel(\n",
    "        y = funnel['event_name'],\n",
    "        x = funnel['user_id'],\n",
    "        textinfo = \"value+percent initial+percent previous\"        \n",
    "        ))\n",
    "    fig.update_layout(\n",
    "        title = f'group {i}',\n",
    "        autosize=True)\n",
    "        \n",
    "    fig.show() "
   ]
  },
  {
   "cell_type": "code",
   "execution_count": 38,
   "metadata": {},
   "outputs": [
    {
     "data": {
      "text/html": [
       "<div>\n",
       "<style scoped>\n",
       "    .dataframe tbody tr th:only-of-type {\n",
       "        vertical-align: middle;\n",
       "    }\n",
       "\n",
       "    .dataframe tbody tr th {\n",
       "        vertical-align: top;\n",
       "    }\n",
       "\n",
       "    .dataframe thead th {\n",
       "        text-align: right;\n",
       "    }\n",
       "</style>\n",
       "<table border=\"1\" class=\"dataframe\">\n",
       "  <thead>\n",
       "    <tr style=\"text-align: right;\">\n",
       "      <th></th>\n",
       "      <th>event_name</th>\n",
       "      <th>user_id</th>\n",
       "    </tr>\n",
       "  </thead>\n",
       "  <tbody>\n",
       "    <tr>\n",
       "      <th>0</th>\n",
       "      <td>login</td>\n",
       "      <td>811</td>\n",
       "    </tr>\n",
       "    <tr>\n",
       "      <th>2</th>\n",
       "      <td>product_page</td>\n",
       "      <td>461</td>\n",
       "    </tr>\n",
       "    <tr>\n",
       "      <th>1</th>\n",
       "      <td>product_cart</td>\n",
       "      <td>225</td>\n",
       "    </tr>\n",
       "    <tr>\n",
       "      <th>3</th>\n",
       "      <td>purchase</td>\n",
       "      <td>228</td>\n",
       "    </tr>\n",
       "  </tbody>\n",
       "</table>\n",
       "</div>"
      ],
      "text/plain": [
       "     event_name  user_id\n",
       "0         login      811\n",
       "2  product_page      461\n",
       "1  product_cart      225\n",
       "3      purchase      228"
      ]
     },
     "metadata": {},
     "output_type": "display_data"
    }
   ],
   "source": [
    "group_a = final_ab.query(f'group == \"A\"').groupby('event_name',as_index=False).agg({'user_id':'nunique'}).reindex([0,2,1,3])\n",
    "group_b = final_ab.query(f'group == \"B\"').groupby('event_name',as_index=False).agg({'user_id':'nunique'}).reindex([0,2,1,3])\n",
    "display(group_b)"
   ]
  },
  {
   "cell_type": "code",
   "execution_count": 39,
   "metadata": {},
   "outputs": [
    {
     "data": {
      "image/png": "[encoded data removed]"
     },
     "metadata": {},
     "output_type": "display_data"
    }
   ],
   "source": [
    "# смежная воронка\n",
    "fig = go.Figure()\n",
    "\n",
    "fig.add_trace(go.Funnel(\n",
    "    name = 'A',\n",
    "    y = group_a.event_name,\n",
    "    x = group_a.user_id,\n",
    "    textposition = \"inside\",\n",
    "    textinfo = \"value+percent previous\"\n",
    "    ))\n",
    "\n",
    "fig.add_trace(go.Funnel(\n",
    "    name = 'B',\n",
    "    y = group_b.event_name,\n",
    "    x = group_b.user_id,\n",
    "    textposition = \"inside\",\n",
    "    textinfo = \"value+percent previous\"\n",
    "    ))\n",
    "\n",
    "fig.show()"
   ]
  },
  {
   "cell_type": "markdown",
   "metadata": {},
   "source": [
    "Требование тех.задания повышения конверсии не выполнено"
   ]
  },
  {
   "cell_type": "code",
   "execution_count": 41,
   "metadata": {},
   "outputs": [
    {
     "name": "stdout",
     "output_type": "stream",
     "text": [
      "group A\n"
     ]
    },
    {
     "data": {
      "text/html": [
       "<div>\n",
       "<style scoped>\n",
       "    .dataframe tbody tr th:only-of-type {\n",
       "        vertical-align: middle;\n",
       "    }\n",
       "\n",
       "    .dataframe tbody tr th {\n",
       "        vertical-align: top;\n",
       "    }\n",
       "\n",
       "    .dataframe thead th {\n",
       "        text-align: right;\n",
       "    }\n",
       "</style>\n",
       "<table border=\"1\" class=\"dataframe\">\n",
       "  <thead>\n",
       "    <tr style=\"text-align: right;\">\n",
       "      <th></th>\n",
       "      <th>event_name</th>\n",
       "      <th>details</th>\n",
       "    </tr>\n",
       "  </thead>\n",
       "  <tbody>\n",
       "    <tr>\n",
       "      <th>count</th>\n",
       "      <td>2422.000</td>\n",
       "      <td>2422.000</td>\n",
       "    </tr>\n",
       "    <tr>\n",
       "      <th>mean</th>\n",
       "      <td>6.060</td>\n",
       "      <td>19.814</td>\n",
       "    </tr>\n",
       "    <tr>\n",
       "      <th>std</th>\n",
       "      <td>3.424</td>\n",
       "      <td>72.730</td>\n",
       "    </tr>\n",
       "    <tr>\n",
       "      <th>min</th>\n",
       "      <td>1.000</td>\n",
       "      <td>0.000</td>\n",
       "    </tr>\n",
       "    <tr>\n",
       "      <th>25%</th>\n",
       "      <td>4.000</td>\n",
       "      <td>0.000</td>\n",
       "    </tr>\n",
       "    <tr>\n",
       "      <th>50%</th>\n",
       "      <td>6.000</td>\n",
       "      <td>0.000</td>\n",
       "    </tr>\n",
       "    <tr>\n",
       "      <th>75%</th>\n",
       "      <td>8.000</td>\n",
       "      <td>9.980</td>\n",
       "    </tr>\n",
       "    <tr>\n",
       "      <th>max</th>\n",
       "      <td>24.000</td>\n",
       "      <td>999.980</td>\n",
       "    </tr>\n",
       "  </tbody>\n",
       "</table>\n",
       "</div>"
      ],
      "text/plain": [
       "       event_name   details\n",
       "count    2422.000  2422.000\n",
       "mean        6.060    19.814\n",
       "std         3.424    72.730\n",
       "min         1.000     0.000\n",
       "25%         4.000     0.000\n",
       "50%         6.000     0.000\n",
       "75%         8.000     9.980\n",
       "max        24.000   999.980"
      ]
     },
     "metadata": {},
     "output_type": "display_data"
    },
    {
     "name": "stdout",
     "output_type": "stream",
     "text": [
      "group B\n"
     ]
    },
    {
     "data": {
      "text/html": [
       "<div>\n",
       "<style scoped>\n",
       "    .dataframe tbody tr th:only-of-type {\n",
       "        vertical-align: middle;\n",
       "    }\n",
       "\n",
       "    .dataframe tbody tr th {\n",
       "        vertical-align: top;\n",
       "    }\n",
       "\n",
       "    .dataframe thead th {\n",
       "        text-align: right;\n",
       "    }\n",
       "</style>\n",
       "<table border=\"1\" class=\"dataframe\">\n",
       "  <thead>\n",
       "    <tr style=\"text-align: right;\">\n",
       "      <th></th>\n",
       "      <th>event_name</th>\n",
       "      <th>details</th>\n",
       "    </tr>\n",
       "  </thead>\n",
       "  <tbody>\n",
       "    <tr>\n",
       "      <th>count</th>\n",
       "      <td>812.000</td>\n",
       "      <td>812.000</td>\n",
       "    </tr>\n",
       "    <tr>\n",
       "      <th>mean</th>\n",
       "      <td>5.297</td>\n",
       "      <td>15.166</td>\n",
       "    </tr>\n",
       "    <tr>\n",
       "      <th>std</th>\n",
       "      <td>3.361</td>\n",
       "      <td>61.359</td>\n",
       "    </tr>\n",
       "    <tr>\n",
       "      <th>min</th>\n",
       "      <td>1.000</td>\n",
       "      <td>0.000</td>\n",
       "    </tr>\n",
       "    <tr>\n",
       "      <th>25%</th>\n",
       "      <td>3.000</td>\n",
       "      <td>0.000</td>\n",
       "    </tr>\n",
       "    <tr>\n",
       "      <th>50%</th>\n",
       "      <td>4.000</td>\n",
       "      <td>0.000</td>\n",
       "    </tr>\n",
       "    <tr>\n",
       "      <th>75%</th>\n",
       "      <td>6.000</td>\n",
       "      <td>4.990</td>\n",
       "    </tr>\n",
       "    <tr>\n",
       "      <th>max</th>\n",
       "      <td>24.000</td>\n",
       "      <td>519.950</td>\n",
       "    </tr>\n",
       "  </tbody>\n",
       "</table>\n",
       "</div>"
      ],
      "text/plain": [
       "       event_name  details\n",
       "count     812.000  812.000\n",
       "mean        5.297   15.166\n",
       "std         3.361   61.359\n",
       "min         1.000    0.000\n",
       "25%         3.000    0.000\n",
       "50%         4.000    0.000\n",
       "75%         6.000    4.990\n",
       "max        24.000  519.950"
      ]
     },
     "metadata": {},
     "output_type": "display_data"
    }
   ],
   "source": [
    "for i in ['A', 'B']:\n",
    "    print('group', i)\n",
    "    display(round(final_ab.query('group == @i').groupby('user_id').agg({'event_name':'count', 'details':'sum'}).describe(), 3))\n",
    "    "
   ]
  },
  {
   "cell_type": "markdown",
   "metadata": {},
   "source": [
    "Заметно, что большинство пользователей покупает на минимальную сумму"
   ]
  },
  {
   "cell_type": "code",
   "execution_count": 42,
   "metadata": {},
   "outputs": [
    {
     "data": {
      "image/png": "[encoded data removed]",
      "text/plain": [
       "<Figure size 1080x288 with 1 Axes>"
      ]
     },
     "metadata": {
      "needs_background": "light"
     },
     "output_type": "display_data"
    }
   ],
   "source": [
    "final_ab['date'] = pd.to_datetime(final_ab.event_dt, format='%Y-%m-%d').dt.date\n",
    "\n",
    "by_date = final_ab.groupby('date', as_index=False).user_id.count()\n",
    "by_date_a = final_ab.query('group == \"A\"').groupby('date', as_index=False).user_id.count()\n",
    "by_date_b = final_ab.query('group == \"B\"').groupby('date', as_index=False).user_id.count()\n",
    "\n",
    "plt.rcParams[\"figure.figsize\"] = (15, 4)\n",
    "sns.lineplot(by_date.date, by_date.user_id, label='A+B')\n",
    "sns.lineplot(by_date_a.date, by_date_a.user_id, label='A')\n",
    "sns.lineplot(by_date_b.date, by_date_b.user_id, label='B')\n",
    "\n",
    "plt.xticks(rotation=0) \n",
    "plt.xlabel('Дата')\n",
    "plt.ylabel('Кол-во')\n",
    "plt.title('Кол-во событий в день')\n",
    "plt.grid()\n",
    "plt.show()"
   ]
  },
  {
   "cell_type": "code",
   "execution_count": 43,
   "metadata": {
    "scrolled": false
   },
   "outputs": [
    {
     "data": {
      "image/png": "[encoded data removed]",
      "text/plain": [
       "<Figure size 1080x216 with 1 Axes>"
      ]
     },
     "metadata": {
      "needs_background": "light"
     },
     "output_type": "display_data"
    },
    {
     "data": {
      "image/png": "[encoded data removed]",
      "text/plain": [
       "<Figure size 1080x216 with 1 Axes>"
      ]
     },
     "metadata": {
      "needs_background": "light"
     },
     "output_type": "display_data"
    }
   ],
   "source": [
    "for i in ['A', 'B']:\n",
    "    plt.rcParams[\"figure.figsize\"] = (15, 3)\n",
    "    final_ab.query('group == @i').groupby('user_id', as_index = False).event_name.count().hist(bins=50)\n",
    "    plt.xlabel('Кол-во событий')\n",
    "    plt.ylabel('Кол-во пользователей')\n",
    "    plt.title(f\"Распределение кол-ва событий в группе {i}\")\n",
    "    plt.show()"
   ]
  },
  {
   "cell_type": "code",
   "execution_count": 44,
   "metadata": {},
   "outputs": [
    {
     "data": {
      "image/png": "[encoded data removed]",
      "text/plain": [
       "<Figure size 1080x216 with 1 Axes>"
      ]
     },
     "metadata": {
      "needs_background": "light"
     },
     "output_type": "display_data"
    },
    {
     "data": {
      "image/png": "[encoded data removed]",
      "text/plain": [
       "<Figure size 1080x216 with 1 Axes>"
      ]
     },
     "metadata": {
      "needs_background": "light"
     },
     "output_type": "display_data"
    }
   ],
   "source": [
    "for i in ['A', 'B']:\n",
    "    plt.rcParams[\"figure.figsize\"] = (15, 3)\n",
    "    final_ab.query('group == @i').groupby('user_id', as_index = False).details.sum().hist(bins=150)\n",
    "    plt.xlabel('Выручка')\n",
    "    plt.ylabel('Кол-во пользователей')\n",
    "    plt.title(f\"Распределение выручки в группе {i}\")\n",
    "    plt.show()"
   ]
  },
  {
   "cell_type": "code",
   "execution_count": 45,
   "metadata": {},
   "outputs": [
    {
     "data": {
      "text/html": [
       "<div>\n",
       "<style scoped>\n",
       "    .dataframe tbody tr th:only-of-type {\n",
       "        vertical-align: middle;\n",
       "    }\n",
       "\n",
       "    .dataframe tbody tr th {\n",
       "        vertical-align: top;\n",
       "    }\n",
       "\n",
       "    .dataframe thead th {\n",
       "        text-align: right;\n",
       "    }\n",
       "</style>\n",
       "<table border=\"1\" class=\"dataframe\">\n",
       "  <thead>\n",
       "    <tr style=\"text-align: right;\">\n",
       "      <th></th>\n",
       "      <th>date</th>\n",
       "      <th>group</th>\n",
       "      <th>n_events</th>\n",
       "    </tr>\n",
       "  </thead>\n",
       "  <tbody>\n",
       "    <tr>\n",
       "      <th>0</th>\n",
       "      <td>2020-12-07</td>\n",
       "      <td>B</td>\n",
       "      <td>331</td>\n",
       "    </tr>\n",
       "    <tr>\n",
       "      <th>1</th>\n",
       "      <td>2020-12-08</td>\n",
       "      <td>B</td>\n",
       "      <td>214</td>\n",
       "    </tr>\n",
       "  </tbody>\n",
       "</table>\n",
       "</div>"
      ],
      "text/plain": [
       "         date group  n_events\n",
       "0  2020-12-07     B       331\n",
       "1  2020-12-08     B       214"
      ]
     },
     "execution_count": 45,
     "metadata": {},
     "output_type": "execute_result"
    }
   ],
   "source": [
    "# подготовка данных для отображения\n",
    "events_by_date = final_ab.groupby(['date', 'group'], as_index=False).event_dt.count()\n",
    "events_by_date_a = events_by_date.query('group == \"A\"').reset_index(drop=True)\n",
    "events_by_date_b = events_by_date.query('group == \"B\"').reset_index(drop=True)\n",
    "events_by_date_a = events_by_date_a.rename(columns = {'event_dt':'n_events'})\n",
    "events_by_date_b = events_by_date_b.rename(columns = {'event_dt':'n_events'})\n",
    "events_by_date_b.head(2)"
   ]
  },
  {
   "cell_type": "code",
   "execution_count": 46,
   "metadata": {},
   "outputs": [
    {
     "data": {
      "text/html": [
       "<div>\n",
       "<style scoped>\n",
       "    .dataframe tbody tr th:only-of-type {\n",
       "        vertical-align: middle;\n",
       "    }\n",
       "\n",
       "    .dataframe tbody tr th {\n",
       "        vertical-align: top;\n",
       "    }\n",
       "\n",
       "    .dataframe thead th {\n",
       "        text-align: right;\n",
       "    }\n",
       "</style>\n",
       "<table border=\"1\" class=\"dataframe\">\n",
       "  <thead>\n",
       "    <tr style=\"text-align: right;\">\n",
       "      <th></th>\n",
       "      <th>date</th>\n",
       "      <th>group</th>\n",
       "      <th>n_users</th>\n",
       "    </tr>\n",
       "  </thead>\n",
       "  <tbody>\n",
       "    <tr>\n",
       "      <th>0</th>\n",
       "      <td>2020-12-07</td>\n",
       "      <td>B</td>\n",
       "      <td>150</td>\n",
       "    </tr>\n",
       "    <tr>\n",
       "      <th>1</th>\n",
       "      <td>2020-12-08</td>\n",
       "      <td>B</td>\n",
       "      <td>103</td>\n",
       "    </tr>\n",
       "  </tbody>\n",
       "</table>\n",
       "</div>"
      ],
      "text/plain": [
       "         date group  n_users\n",
       "0  2020-12-07     B      150\n",
       "1  2020-12-08     B      103"
      ]
     },
     "execution_count": 46,
     "metadata": {},
     "output_type": "execute_result"
    }
   ],
   "source": [
    "# подготовка данных для отображения\n",
    "events_by_date_uua = final_ab.groupby(['date', 'group'], as_index=False).user_id.nunique().query('group == \"A\"')\n",
    "events_by_date_uub = final_ab.groupby(['date', 'group'], as_index=False).user_id.nunique().query('group == \"B\"')\n",
    "events_by_date_uua = events_by_date_uua.rename(columns = {'user_id':'n_users'}).reset_index(drop=True)\n",
    "events_by_date_uub = events_by_date_uub.rename(columns = {'user_id':'n_users'}).reset_index(drop=True)\n",
    "\n",
    "events_by_date_uub.head(2)"
   ]
  },
  {
   "cell_type": "code",
   "execution_count": 47,
   "metadata": {},
   "outputs": [
    {
     "data": {
      "image/png": "[encoded data removed]",
      "text/plain": [
       "<Figure size 1080x216 with 1 Axes>"
      ]
     },
     "metadata": {
      "needs_background": "light"
     },
     "output_type": "display_data"
    }
   ],
   "source": [
    "events_by_date_a['events_by_u'] = events_by_date_a.n_events / events_by_date_uua.n_users\n",
    "events_by_date_b['events_by_u'] = events_by_date_b.n_events / events_by_date_uub.n_users\n",
    "events_by_date_b\n",
    "\n",
    "sns.lineplot(events_by_date_a.date, events_by_date_a.events_by_u, label=\"A\")\n",
    "sns.lineplot(events_by_date_b.date, events_by_date_b.events_by_u, label=\"B\")\n",
    "# plt.xticks(date_event_sum.date)\n",
    "plt.xticks(rotation=0) \n",
    "plt.xlabel('Дата')\n",
    "plt.ylabel('Кол-во')\n",
    "plt.title('Кол-во событий на пользователя')\n",
    "plt.grid()\n",
    "plt.show()"
   ]
  },
  {
   "cell_type": "markdown",
   "metadata": {},
   "source": [
    "### **Вывод**\n",
    "* Фактическая дата регистрации находится в периоде с 2020-12-07 по 2020-12-23, что не совпадает с техническим заданием (2020-12-07 - 2020-12-21)\n",
    "* Фактический период проведения теста 2020-12-07 - 2021-01-04\n",
    "* Период теста пересекается с новогодней промо-акцией, начиная с 2020-12-25. Данные за период с 2020-12-25 не включены в анализ\n",
    "\n",
    "\n",
    "* Кол-во событий в датах, соответствующих тех.заданию – 50180\n",
    "* В Европе – 37690, 75,11%\n",
    "* Для А и В групп кол-во событий составляет 9655 и 8613 соответственно\n",
    "* Число пользователей А и В групп составляет 2422 и 812 соответственно, что меньше необходимо заявленного в тех.задании  6.000\n",
    "\n",
    "\n",
    "* Для Европы кол-во АВ тестируемых пользователей составляет 2625 или 94.09%, что меньше необходимо заявленного в тех.задании  6.000, но значительно больше требования в 15% по доли\n",
    "\n",
    "\n",
    "* В воронке событий login – product_page – purchase – product_card для группы А распределение следующее:\n",
    "* * Login(2422), product_page(1571, 65% от начального / предыдущего), purchase(773, 32% от начального, 49% от предыдущего), product_cart (728, 30% от начального, 94% от предыдущего)\n",
    "* Для В:\n",
    "* * Login(811), product_page(461, 57% от начального / предыдущего), purchase(228, 28% от начального, 49% от предыдущего), product_cart (225, 28% от начального, 99% от предыдущего)\n",
    "\n",
    "\n",
    "* Событий на пользователя в группе А: 4 и 6 с показателями порядка 440 и 600 соответственно\n",
    "* Событий на пользователя в группе В: 4 и 6 с показателями порядка 170 и  соответственно\n",
    "\n",
    "\n",
    "* Выручка на пользователя в группе А распределена вплоть до 1000у.е. с пиком в «0» с кол-вом пользователей порядка 1900\n",
    "* Выручка на пользователя в группе В распределена вплоть до 500у.е. с пиком в «0» с кол-вом пользователей порядка 620\n",
    "\n",
    "* Кол-во событий в день на одного пользователя в группе В постоянно ниже, чем в группе А, за исклюючением 7-го и 13-го декабря, где пользователи группы В слегка активнее, и 16-го декабря, где события в среднем на одного пользователя равны в обеих группах.\n"
   ]
  },
  {
   "cell_type": "code",
   "execution_count": 48,
   "metadata": {},
   "outputs": [
    {
     "name": "stdout",
     "output_type": "stream",
     "text": [
      "Кол-во пользователей из Европы в тесте:  18.632017651385144 %\n"
     ]
    }
   ],
   "source": [
    "final_ab_new_users = pd.read_csv(\"//Keenetic-5974/adata/1 Yandex.Praktikum/Sprint3/12 Final Project/2 AB/Data/final_ab_new_users.csv\")\n",
    "users = final_ab.merge(final_ab_new_users, how = 'right', on = 'user_id').merge(final_ab_participants, on='user_id', how='right')\n",
    "print(\"Кол-во пользователей из Европы в тесте: \",\n",
    "    (users.query('region == \"EU\" & (ab_test_x == \"recommender_system_test\")').user_id.nunique() / users.query('region == \"EU\"').user_id.nunique())*100, \\\n",
    "    \"%\")"
   ]
  },
  {
   "cell_type": "markdown",
   "metadata": {},
   "source": [
    "## AB тестирование\n",
    "\n",
    "В АВ тестировании будем рассматривать две группы А и В на предмет статистического различия между ними. Необходимо использовать информацию в соответствии с:\n",
    "* период событий проведения тестирования\n",
    "* группировка по группам тестирования"
   ]
  },
  {
   "cell_type": "code",
   "execution_count": 49,
   "metadata": {},
   "outputs": [
    {
     "data": {
      "text/plain": [
       "group\n",
       "A    2422\n",
       "B     812\n",
       "Name: user_id, dtype: int64"
      ]
     },
     "execution_count": 49,
     "metadata": {},
     "output_type": "execute_result"
    }
   ],
   "source": [
    "user_groups = final_ab.groupby('group').user_id.nunique()     #кол-во пользователей в группах\n",
    "user_groups"
   ]
  },
  {
   "cell_type": "code",
   "execution_count": 50,
   "metadata": {},
   "outputs": [],
   "source": [
    "event_groups = final_ab.pivot_table(\n",
    "    index='event_name', \n",
    "    columns='group', \n",
    "    values='user_id',\n",
    "    aggfunc='nunique').sort_values(by='A', ascending=False).reset_index()"
   ]
  },
  {
   "cell_type": "code",
   "execution_count": 51,
   "metadata": {},
   "outputs": [],
   "source": [
    "event_groups['A+B'] = event_groups.A + event_groups.B\n",
    "event_l_dropped = event_groups.drop(index=0, axis=0)"
   ]
  },
  {
   "cell_type": "code",
   "execution_count": 52,
   "metadata": {},
   "outputs": [
    {
     "data": {
      "image/png": "[encoded data removed]",
      "text/plain": [
       "<Figure size 1080x288 with 1 Axes>"
      ]
     },
     "metadata": {
      "needs_background": "light"
     },
     "output_type": "display_data"
    }
   ],
   "source": [
    "plt.rcParams[\"figure.figsize\"] = (15, 4)\n",
    "plt.plot(event_l_dropped.event_name, event_l_dropped.A, label='A')\n",
    "plt.plot(event_l_dropped.event_name, event_l_dropped.B, label='B')\n",
    "plt.plot(event_l_dropped.event_name, event_l_dropped['A+B'], label='A + B')\n",
    "plt.legend()\n",
    "sns.set_style(\"dark\")\n",
    "plt.title('Кол-во событий от Типа события')\n",
    "plt.xlabel('Типы событий')\n",
    "plt.ylabel('Кол-во пользователей')\n",
    "plt.grid(True)\n",
    "plt.show()"
   ]
  },
  {
   "cell_type": "markdown",
   "metadata": {},
   "source": [
    "Как и в воронке, на данном отображения заметно значительное падение на этапе `login - product page\"` и `\"product page - purchase\"`"
   ]
  },
  {
   "cell_type": "code",
   "execution_count": 53,
   "metadata": {},
   "outputs": [],
   "source": [
    "# ф-ция группового тестирования отличия параметра в паре групп group1 и group2\n",
    "# с определенным уровнем значимости alpha\n",
    "\n",
    "def z_test(group1, group2, alpha):\n",
    "    for i in event_l_dropped.index:\n",
    "        p1 = event_l_dropped[group1][i] / user_groups[group1] # пропорция успеха в 1-й группе\n",
    "        p2 = event_l_dropped[group2][i] / user_groups[group2] # пропорция успеха во 2-й группе\n",
    "        # пропорция успехов в комбинированном датасете:\n",
    "        p_combined = ((event_l_dropped[group1][i] + event_l_dropped[group2][i]) / \n",
    "                      (user_groups[group1] + user_groups[group2]))\n",
    "        # разница пропорций в датасетах\n",
    "        difference = p1 - p2\n",
    "        # статистика в ст.отклонениях нормального распределения\n",
    "        z_value = difference / math.sqrt(p_combined * (1 - p_combined) * \n",
    "                                        (1/user_groups[group1] + 1/user_groups[group2]))\n",
    "        # задаем стандартное нормальное распределение (среднее 0, ст.отклонение 1)\n",
    "        distr = st.norm(0, 1) \n",
    "        p_value = (1 - distr.cdf(abs(z_value))) * 2\n",
    "        print(f'Для {event_groups[\"event_name\"][i]}\\np-value = : {p_value.round(6)}')\n",
    "        if (p_value < alpha):\n",
    "            print(\"Отвергаем нулевую гипотезу: между пропорциями имеется статистически значимая разница\")\n",
    "            \n",
    "        else:\n",
    "            print(\"Не получилось отвергнуть нулевую гипотезу, нет оснований считать группы (доли) разными\")\n",
    "        print('-'*80)"
   ]
  },
  {
   "cell_type": "code",
   "execution_count": 54,
   "metadata": {},
   "outputs": [
    {
     "name": "stdout",
     "output_type": "stream",
     "text": [
      "\u001b[1mТестирование A и B групп\u001b[0m\n",
      "\n",
      "Для product_page\n",
      "p-value = : 3.7e-05\n",
      "Отвергаем нулевую гипотезу: между пропорциями имеется статистически значимая разница\n",
      "--------------------------------------------------------------------------------\n",
      "Для purchase\n",
      "p-value = : 0.040685\n",
      "Не получилось отвергнуть нулевую гипотезу, нет оснований считать группы (доли) разными\n",
      "--------------------------------------------------------------------------------\n",
      "Для product_cart\n",
      "p-value = : 0.203978\n",
      "Не получилось отвергнуть нулевую гипотезу, нет оснований считать группы (доли) разными\n",
      "--------------------------------------------------------------------------------\n"
     ]
    }
   ],
   "source": [
    "print('\\033[1m'+'Тестирование A и B групп'+'\\033[0m', end='\\n\\n')\n",
    "z_test(\"A\", \"B\", 0.01)  #для теста групп без внесенных в процесс изменений уровень значимости строже (ниже 0,05, стандарт - 0,01)"
   ]
  },
  {
   "cell_type": "markdown",
   "metadata": {},
   "source": [
    "### **Вывод**\n",
    "* Между группами на стадиях `purchase` и `product_cart` статистической разницы не наблюдается, в то время как на стадии `product_page` показатели даже ухудшились\n",
    "* Не достигнуты требования увлеичения каждой метрики на 10%"
   ]
  },
  {
   "cell_type": "markdown",
   "metadata": {},
   "source": [
    "## **Общий вывод**\n",
    "\n",
    "**Загрузка данных, первичный анализ данных**\n",
    "\n",
    "* Данные представлены в четырех файлах\n",
    "* Данные заполнены все на 100%, кроме колонки \"details\" в файле `final_ab_events`. В данной колонке отсутствуют записи в кол-ве 62740, что составляет 85.75%, то есть уровень заполненности составляет 14.25%\n",
    "* Дубликаты отсутствуют\n",
    "* Названия колонок преобразованы в соответствии с требованиями ***snake_style***\n",
    "\n",
    "\n",
    "**Предобработка данных**\n",
    "\n",
    "* даты и временные отметки переведены в во временной формат\n",
    "* пропуски заменены на `0`\n",
    "\n",
    "\n",
    "**Исследовательский анализ**\n",
    "\n",
    "* Фактическая дата регистрации находится в периоде с 2020-12-07 по 2020-12-23, что не совпадает с техническим заданием (2020-12-07 - 2020-12-21)\n",
    "* Фактический период проведения теста 2020-12-07 - 2021-01-04\n",
    "* Период теста пересекается с новогодней промо-акцией, начиная с 2020-12-25. Данные за период с 2020-12-25 не включены в анализ\n",
    "\n",
    "\n",
    "* Кол-во событий в датах, соответствующих тех.заданию – 50180\n",
    "* В Европе – 37690, 75,11%\n",
    "* Для А и В групп кол-во событий составляет 9655 и 8613 соответственно\n",
    "* Число пользователей А и В групп составляет 2422 и 812 соответственно, что меньше необходимо заявленного в тех.задании  6.000\n",
    "\n",
    "\n",
    "* Для Европы кол-во АВ тестируемых пользователей составляет 3040 или 18,63%, что меньше необходимо заявленного в тех.задании  6.000, и немного отличается от требования тех.задания (15%)\n",
    "\n",
    "\n",
    "* В воронке событий login – product_page – purchase – product_card для группы А распределение следующее:\n",
    "* * Login(2422), product_page(1571, 65% от начального / предыдущего), purchase(773, 32% от начального, 49% от предыдущего), product_cart (728, 30% от начального, 94% от предыдущего)\n",
    "* Для В:\n",
    "* * Login(811), product_page(461, 57% от начального / предыдущего), purchase(228, 28% от начального, 49% от предыдущего), product_cart (225, 28% от начального, 99% от предыдущего)\n",
    "\n",
    "\n",
    "* Событий на пользователя в группе А: 4 и 6 с показателями порядка 440 и 600 соответственно\n",
    "* Событий на пользователя в группе В: 4 и 6 с показателями порядка 170 и  соответственно\n",
    "\n",
    "\n",
    "* Выручка на пользователя в группе А распределена вплоть до 1000у.е. с пиком в «0» с кол-вом пользователей порядка 1900\n",
    "* Выручка на пользователя в группе В распределена вплоть до 500у.е. с пиком в «0» с кол-вом пользователей порядка 620\n",
    "\n",
    "* Кол-во событий в день на одного пользователя в группе В постоянно ниже, чем в группе А, за исклюючением 7-го и 13-го декабря, где пользователи группы В слегка активнее, и 16-го декабря, где события в среднем на одного пользователя равны в обеих группах.\n",
    "\n",
    "**AB тестирование**\n",
    "\n",
    "* Между группами на стадиях `purchase` и `product_cart` статистической разницы не наблюдается, в то время как на стадии `product_page` показатели даже ухудшились\n",
    "* Не достигнуты требования увеличения каждой метрики на 10%\n",
    "\n",
    "\n",
    "\n",
    "\n",
    "\n"
   ]
  },
  {
   "cell_type": "markdown",
   "metadata": {},
   "source": [
    "## **Итог АВ теста**\n",
    "1.\tНе выполнены пункты технического задания\n",
    "    * в части сроков проведения исследования (непересечение с другими промо-акциями и др. маркетинговыми активностями)\n",
    "    * в части периода регистрации новых пользователей для теста\n",
    "    * в части доли и кол-ва Европейской аудитории \n",
    "2.\tНе оправданы ожидания об изменении уровня конверсии на стадиях воронки продаж\n"
   ]
  },
  {
   "cell_type": "markdown",
   "metadata": {},
   "source": [
    "## **Заключение**\n",
    "в связи с явными недостатками, выявленными в течение анализа проведения теста и его результатов, а именно:\n",
    "\n",
    "   * несоответствии теста техническому заданию в части его проведения\n",
    "   * неоправдавшимся ожиданиям\n",
    "\n",
    "я бы рекомендовал настроить тест в соответствии с техническим заданием и провести его повтроно, так же соотнесясь с маркетинговыми и промо-активностями"
   ]
  },
  {
   "cell_type": "code",
   "execution_count": null,
   "metadata": {},
   "outputs": [],
   "source": []
  }
 ],
 "metadata": {
  "ExecuteTimeLog": [
   {
    "duration": 126,
    "start_time": "2022-07-06T20:15:48.722Z"
   },
   {
    "duration": 1581,
    "start_time": "2022-07-06T20:16:38.703Z"
   },
   {
    "duration": 914,
    "start_time": "2022-07-06T20:18:14.711Z"
   },
   {
    "duration": 543,
    "start_time": "2022-07-06T20:19:00.474Z"
   },
   {
    "duration": 540,
    "start_time": "2022-07-06T20:22:38.949Z"
   },
   {
    "duration": 674,
    "start_time": "2022-07-06T20:23:25.432Z"
   },
   {
    "duration": 1003,
    "start_time": "2022-07-06T20:23:58.572Z"
   },
   {
    "duration": 28,
    "start_time": "2022-07-06T20:26:48.259Z"
   },
   {
    "duration": 98,
    "start_time": "2022-07-06T20:27:37.283Z"
   },
   {
    "duration": 43,
    "start_time": "2022-07-06T20:27:55.496Z"
   },
   {
    "duration": 29,
    "start_time": "2022-07-06T20:28:02.858Z"
   },
   {
    "duration": 80,
    "start_time": "2022-07-06T20:28:10.246Z"
   },
   {
    "duration": 75,
    "start_time": "2022-07-06T20:28:28.136Z"
   },
   {
    "duration": 9,
    "start_time": "2022-07-06T20:28:37.874Z"
   },
   {
    "duration": 17,
    "start_time": "2022-07-06T20:29:15.330Z"
   },
   {
    "duration": 22,
    "start_time": "2022-07-06T20:29:32.507Z"
   },
   {
    "duration": 26,
    "start_time": "2022-07-06T20:29:40.522Z"
   },
   {
    "duration": 26,
    "start_time": "2022-07-06T20:29:59.151Z"
   },
   {
    "duration": 14,
    "start_time": "2022-07-06T20:30:52.257Z"
   },
   {
    "duration": 41,
    "start_time": "2022-07-06T20:30:59.988Z"
   },
   {
    "duration": 47,
    "start_time": "2022-07-06T20:31:16.922Z"
   },
   {
    "duration": 130,
    "start_time": "2022-07-06T20:31:33.484Z"
   },
   {
    "duration": 5,
    "start_time": "2022-07-06T20:32:09.476Z"
   },
   {
    "duration": 46,
    "start_time": "2022-07-06T20:32:16.920Z"
   },
   {
    "duration": 22,
    "start_time": "2022-07-06T20:32:26.685Z"
   },
   {
    "duration": 18,
    "start_time": "2022-07-06T20:32:41.662Z"
   },
   {
    "duration": 367,
    "start_time": "2022-07-06T20:33:10.597Z"
   },
   {
    "duration": 19,
    "start_time": "2022-07-06T20:33:32.193Z"
   },
   {
    "duration": 14,
    "start_time": "2022-07-06T20:33:39.553Z"
   },
   {
    "duration": 18,
    "start_time": "2022-07-06T20:33:59.392Z"
   },
   {
    "duration": 10,
    "start_time": "2022-07-06T20:34:15.669Z"
   },
   {
    "duration": 46,
    "start_time": "2022-07-06T20:34:24.326Z"
   },
   {
    "duration": 9,
    "start_time": "2022-07-06T20:34:42.186Z"
   },
   {
    "duration": 20,
    "start_time": "2022-07-06T20:34:51.145Z"
   },
   {
    "duration": 35,
    "start_time": "2022-07-06T20:35:00.046Z"
   },
   {
    "duration": 30,
    "start_time": "2022-07-06T20:35:08.960Z"
   },
   {
    "duration": 10,
    "start_time": "2022-07-06T20:35:16.809Z"
   },
   {
    "duration": 44,
    "start_time": "2022-07-06T20:35:35.569Z"
   },
   {
    "duration": 372,
    "start_time": "2022-07-06T20:35:53.958Z"
   },
   {
    "duration": 404,
    "start_time": "2022-07-06T20:36:02.134Z"
   },
   {
    "duration": 764,
    "start_time": "2022-07-06T20:36:10.601Z"
   },
   {
    "duration": 19,
    "start_time": "2022-07-06T20:36:21.821Z"
   },
   {
    "duration": 34,
    "start_time": "2022-07-06T20:36:30.735Z"
   },
   {
    "duration": 215,
    "start_time": "2022-07-06T20:36:41.089Z"
   },
   {
    "duration": 11,
    "start_time": "2022-07-06T20:37:10.115Z"
   },
   {
    "duration": 20,
    "start_time": "2022-07-06T20:37:16.456Z"
   },
   {
    "duration": 5,
    "start_time": "2022-07-06T20:37:24.845Z"
   },
   {
    "duration": 156,
    "start_time": "2022-07-06T20:37:34.011Z"
   },
   {
    "duration": 6,
    "start_time": "2022-07-06T20:38:59.006Z"
   },
   {
    "duration": 9,
    "start_time": "2022-07-06T20:39:05.987Z"
   },
   {
    "duration": 5,
    "start_time": "2022-07-06T20:39:29.210Z"
   },
   {
    "duration": 8,
    "start_time": "2022-07-06T20:39:30.057Z"
   },
   {
    "duration": 5,
    "start_time": "2022-07-06T20:39:36.185Z"
   },
   {
    "duration": 9,
    "start_time": "2022-07-06T20:39:36.633Z"
   },
   {
    "duration": 5,
    "start_time": "2022-07-06T20:39:42.553Z"
   },
   {
    "duration": 8,
    "start_time": "2022-07-06T20:39:43.201Z"
   },
   {
    "duration": 6,
    "start_time": "2022-07-06T20:39:52.632Z"
   },
   {
    "duration": 9,
    "start_time": "2022-07-06T20:39:53.017Z"
   },
   {
    "duration": 1304,
    "start_time": "2022-07-06T20:41:33.662Z"
   },
   {
    "duration": 627,
    "start_time": "2022-07-06T20:41:34.968Z"
   },
   {
    "duration": 1192,
    "start_time": "2022-07-06T20:41:36.147Z"
   },
   {
    "duration": 36,
    "start_time": "2022-07-06T20:41:40.935Z"
   },
   {
    "duration": 128,
    "start_time": "2022-07-06T20:41:46.071Z"
   },
   {
    "duration": 47,
    "start_time": "2022-07-06T20:41:47.782Z"
   },
   {
    "duration": 43,
    "start_time": "2022-07-06T20:41:48.323Z"
   },
   {
    "duration": 92,
    "start_time": "2022-07-06T20:41:49.102Z"
   },
   {
    "duration": 76,
    "start_time": "2022-07-06T20:41:51.305Z"
   },
   {
    "duration": 9,
    "start_time": "2022-07-06T20:41:51.955Z"
   },
   {
    "duration": 11,
    "start_time": "2022-07-06T20:41:54.089Z"
   },
   {
    "duration": 18,
    "start_time": "2022-07-06T20:41:55.151Z"
   },
   {
    "duration": 22,
    "start_time": "2022-07-06T20:41:55.696Z"
   },
   {
    "duration": 43,
    "start_time": "2022-07-06T20:41:56.690Z"
   },
   {
    "duration": 12,
    "start_time": "2022-07-06T20:42:04.847Z"
   },
   {
    "duration": 41,
    "start_time": "2022-07-06T20:42:05.448Z"
   },
   {
    "duration": 51,
    "start_time": "2022-07-06T20:42:06.622Z"
   },
   {
    "duration": 165,
    "start_time": "2022-07-06T20:42:07.786Z"
   },
   {
    "duration": 5,
    "start_time": "2022-07-06T20:42:09.377Z"
   },
   {
    "duration": 26,
    "start_time": "2022-07-06T20:42:11.548Z"
   },
   {
    "duration": 22,
    "start_time": "2022-07-06T20:42:12.346Z"
   },
   {
    "duration": 19,
    "start_time": "2022-07-06T20:42:12.986Z"
   },
   {
    "duration": 174,
    "start_time": "2022-07-06T20:42:14.201Z"
   },
   {
    "duration": 16,
    "start_time": "2022-07-06T20:42:18.277Z"
   },
   {
    "duration": 14,
    "start_time": "2022-07-06T20:42:19.002Z"
   },
   {
    "duration": 19,
    "start_time": "2022-07-06T20:42:22.560Z"
   },
   {
    "duration": 9,
    "start_time": "2022-07-06T20:42:23.571Z"
   },
   {
    "duration": 62,
    "start_time": "2022-07-06T20:42:24.523Z"
   },
   {
    "duration": 9,
    "start_time": "2022-07-06T20:42:25.665Z"
   },
   {
    "duration": 19,
    "start_time": "2022-07-06T20:42:26.502Z"
   },
   {
    "duration": 48,
    "start_time": "2022-07-06T20:42:30.424Z"
   },
   {
    "duration": 27,
    "start_time": "2022-07-06T20:42:33.772Z"
   },
   {
    "duration": 15,
    "start_time": "2022-07-06T20:42:37.518Z"
   },
   {
    "duration": 43,
    "start_time": "2022-07-06T20:42:39.461Z"
   },
   {
    "duration": 390,
    "start_time": "2022-07-06T20:42:40.743Z"
   },
   {
    "duration": 501,
    "start_time": "2022-07-06T20:42:43.284Z"
   },
   {
    "duration": 739,
    "start_time": "2022-07-06T20:42:46.014Z"
   },
   {
    "duration": 20,
    "start_time": "2022-07-06T20:42:48.951Z"
   },
   {
    "duration": 33,
    "start_time": "2022-07-06T20:42:50.985Z"
   },
   {
    "duration": 240,
    "start_time": "2022-07-06T20:42:51.950Z"
   },
   {
    "duration": 10,
    "start_time": "2022-07-06T20:42:55.849Z"
   },
   {
    "duration": 19,
    "start_time": "2022-07-06T20:42:56.464Z"
   },
   {
    "duration": 5,
    "start_time": "2022-07-06T20:42:57.108Z"
   },
   {
    "duration": 177,
    "start_time": "2022-07-06T20:42:57.768Z"
   },
   {
    "duration": 6,
    "start_time": "2022-07-06T20:42:59.469Z"
   },
   {
    "duration": 8,
    "start_time": "2022-07-06T20:43:00.398Z"
   },
   {
    "duration": 1272,
    "start_time": "2022-07-07T05:42:08.052Z"
   },
   {
    "duration": 878,
    "start_time": "2022-07-07T05:42:09.325Z"
   },
   {
    "duration": 1023,
    "start_time": "2022-07-07T05:42:10.205Z"
   },
   {
    "duration": 48,
    "start_time": "2022-07-07T05:42:11.230Z"
   },
   {
    "duration": 128,
    "start_time": "2022-07-07T05:42:11.280Z"
   },
   {
    "duration": 41,
    "start_time": "2022-07-07T05:42:11.409Z"
   },
   {
    "duration": 34,
    "start_time": "2022-07-07T05:42:11.460Z"
   },
   {
    "duration": 93,
    "start_time": "2022-07-07T05:42:11.495Z"
   },
   {
    "duration": 84,
    "start_time": "2022-07-07T05:42:11.589Z"
   },
   {
    "duration": 9,
    "start_time": "2022-07-07T05:42:11.676Z"
   },
   {
    "duration": 16,
    "start_time": "2022-07-07T05:42:11.687Z"
   },
   {
    "duration": 15,
    "start_time": "2022-07-07T05:42:11.705Z"
   },
   {
    "duration": 17,
    "start_time": "2022-07-07T05:42:11.722Z"
   },
   {
    "duration": 25,
    "start_time": "2022-07-07T05:42:11.761Z"
   },
   {
    "duration": 11,
    "start_time": "2022-07-07T05:42:11.788Z"
   },
   {
    "duration": 35,
    "start_time": "2022-07-07T05:42:11.801Z"
   },
   {
    "duration": 31,
    "start_time": "2022-07-07T05:42:11.860Z"
   },
   {
    "duration": 160,
    "start_time": "2022-07-07T05:42:11.892Z"
   },
   {
    "duration": 5,
    "start_time": "2022-07-07T05:42:12.061Z"
   },
   {
    "duration": 30,
    "start_time": "2022-07-07T05:42:12.067Z"
   },
   {
    "duration": 21,
    "start_time": "2022-07-07T05:42:12.098Z"
   },
   {
    "duration": 42,
    "start_time": "2022-07-07T05:42:12.120Z"
   },
   {
    "duration": 287,
    "start_time": "2022-07-07T05:42:12.164Z"
   },
   {
    "duration": 17,
    "start_time": "2022-07-07T05:42:12.453Z"
   },
   {
    "duration": 17,
    "start_time": "2022-07-07T05:42:12.471Z"
   },
   {
    "duration": 72,
    "start_time": "2022-07-07T05:42:12.490Z"
   },
   {
    "duration": 10,
    "start_time": "2022-07-07T05:42:12.563Z"
   },
   {
    "duration": 84,
    "start_time": "2022-07-07T05:42:12.577Z"
   },
   {
    "duration": 9,
    "start_time": "2022-07-07T05:42:12.663Z"
   },
   {
    "duration": 24,
    "start_time": "2022-07-07T05:42:12.673Z"
   },
   {
    "duration": 38,
    "start_time": "2022-07-07T05:42:12.699Z"
   },
   {
    "duration": 27,
    "start_time": "2022-07-07T05:42:12.761Z"
   },
   {
    "duration": 11,
    "start_time": "2022-07-07T05:42:12.790Z"
   },
   {
    "duration": 69,
    "start_time": "2022-07-07T05:42:12.802Z"
   },
   {
    "duration": 369,
    "start_time": "2022-07-07T05:42:12.872Z"
   },
   {
    "duration": 465,
    "start_time": "2022-07-07T05:42:13.243Z"
   },
   {
    "duration": 644,
    "start_time": "2022-07-07T05:42:13.710Z"
   },
   {
    "duration": 19,
    "start_time": "2022-07-07T05:42:14.356Z"
   },
   {
    "duration": 30,
    "start_time": "2022-07-07T05:42:14.376Z"
   },
   {
    "duration": 236,
    "start_time": "2022-07-07T05:42:14.407Z"
   },
   {
    "duration": 17,
    "start_time": "2022-07-07T05:42:14.645Z"
   },
   {
    "duration": 33,
    "start_time": "2022-07-07T05:42:14.664Z"
   },
   {
    "duration": 10,
    "start_time": "2022-07-07T05:42:14.700Z"
   },
   {
    "duration": 213,
    "start_time": "2022-07-07T05:42:14.714Z"
   },
   {
    "duration": 6,
    "start_time": "2022-07-07T05:42:14.929Z"
   },
   {
    "duration": 23,
    "start_time": "2022-07-07T05:42:14.938Z"
   }
  ],
  "kernelspec": {
   "display_name": "Python 3 (ipykernel)",
   "language": "python",
   "name": "python3"
  },
  "language_info": {
   "codemirror_mode": {
    "name": "ipython",
    "version": 3
   },
   "file_extension": ".py",
   "mimetype": "text/x-python",
   "name": "python",
   "nbconvert_exporter": "python",
   "pygments_lexer": "ipython3",
   "version": "3.9.7"
  },
  "toc": {
   "base_numbering": 1,
   "nav_menu": {},
   "number_sections": true,
   "sideBar": true,
   "skip_h1_title": true,
   "title_cell": "Table of Contents",
   "title_sidebar": "Contents",
   "toc_cell": false,
   "toc_position": {},
   "toc_section_display": true,
   "toc_window_display": true
  }
 },
 "nbformat": 4,
 "nbformat_minor": 2
}
