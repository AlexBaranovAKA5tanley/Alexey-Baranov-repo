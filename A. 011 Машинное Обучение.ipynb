{
 "cells": [
  {
   "cell_type": "markdown",
   "metadata": {},
   "source": [
    "**Задача проектной работы**\n",
    "\n",
    "Сеть фитнес-центров «Культурист-датасаентист» разрабатывает стратегию взаимодействия с пользователями на основе аналитических данных.\n",
    "\n",
    "Распространённая проблема фитнес-клубов и других сервисов — отток клиентов. Как понять, что пользователь больше не с вами? Можно записать в отток тех, кто попросил закрыть договор или удалил аккаунт. Однако клиенты не всегда уходят демонстративно: чаще перестают пользоваться сервисом тихо.\n",
    "\n",
    "Индикаторы оттока зависят от специфики отрасли. Когда пользователь редко, но стабильно закупается в интернет-магазине — не похоже, что он «отвалился». А вот если две недели не заходит на канал с ежедневно обновляемым контентом, дела плохи: подписчик заскучал и, кажется, оставил вас.\n",
    "\n",
    "Для фитнес-центра можно считать, что клиент попал в отток, если за последний месяц ни разу не посетил спортзал. Конечно, не исключено, что он уехал на Бали и по приезде обязательно продолжит ходить на фитнес. Однако чаще бывает наоборот. Если клиент начал новую жизнь с понедельника, немного походил в спортзал, а потом пропал — скорее всего, он не вернётся.\n",
    "\n",
    "Чтобы бороться с оттоком, отдел по работе с клиентами «Культуриста-датасаентиста» перевёл в электронный вид множество анкет пользователей. Ваша задача — провести анализ и подготовить план действий по удержанию клиентов.\n",
    "\n",
    "А именно:\n",
    "* научиться прогнозировать вероятность оттока (на уровне следующего месяца) для каждого клиента;\n",
    "* сформировать типичные портреты пользователей: выделить несколько наиболее ярких групп и охарактеризовать их основные свойства;\n",
    "* проанализировать основные признаки, наиболее сильно влияющие на отток;\n",
    "* сформулировать основные выводы и разработать рекомендации по повышению качества работы с клиентами:\n",
    "* 1) выделить целевые группы клиентов;\n",
    "* 2) предложить меры по снижению оттока;\n",
    "* 3) определить другие особенности взаимодействия с клиентами.\n",
    "\n",
    "\n",
    "**Данные**\n",
    "* 'Churn' — факт оттока в текущем месяце;\n",
    "\n",
    "Текущие поля в датасете:\n",
    "* Данные пользователя за предыдущий до проверки факта оттока месяц:\n",
    "* `gender` — пол\n",
    "* `Near_Location` — проживание или работа в районе, где находится фитнес-центр\n",
    "* `Partner` — сотрудник компании-партнёра клуба (сотрудничество с компаниями, чьи сотрудники могут получать скидки на абонемент — в таком случае фитнес-центр хранит информацию о работодателе клиента)\n",
    "* `Promo_friends` — факт первоначальной записи в рамках акции «приведи друга» (использовал промо-код от знакомого при оплате первого абонемента)\n",
    "* `Phone` — наличие контактного телефона\n",
    "* `Age` — возраст\n",
    "* `Lifetime` — время с момента первого обращения в фитнес-центр (в месяцах)\n",
    "\n",
    "Информация на основе журнала посещений, покупок и информация о текущем статусе абонемента клиента:\n",
    "* `Contract_period — длительность текущего действующего абонемента (месяц, 3 месяца, 6 месяцев, год)\n",
    "* `Month_to_end_contract` — срок до окончания текущего действующего абонемента (в месяцах)\n",
    "* `Group_visits` — факт посещения групповых занятий\n",
    "* `Avg_class_frequency_total` — средняя частота посещений в неделю за все время с начала действия абонемента\n",
    "* `Avg_class_frequency_current_month` — средняя частота посещений в неделю за предыдущий месяц\n",
    "* `Avg_additional_charges_total` — суммарная выручка от других услуг фитнес-центра: кафе, спорт-товары, косметический и массажный салон\n",
    "\n"
   ]
  },
  {
   "cell_type": "markdown",
   "metadata": {},
   "source": [
    "## Шаг 1: Загрузка данных"
   ]
  },
  {
   "cell_type": "code",
   "execution_count": 1,
   "metadata": {},
   "outputs": [],
   "source": [
    "import pandas as pd\n",
    "import seaborn as sns\n",
    "import matplotlib.pyplot as plt\n",
    "from matplotlib import transforms\n",
    "import numpy as np\n",
    "import seaborn as sns\n",
    "from sklearn.model_selection import train_test_split\n",
    "from sklearn.preprocessing import StandardScaler\n",
    "from sklearn.metrics import accuracy_score, precision_score, recall_score, f1_score, roc_auc_score\n",
    "from sklearn.linear_model import LogisticRegression\n",
    "from sklearn.ensemble import RandomForestClassifier\n",
    "from scipy.cluster.hierarchy import dendrogram, linkage\n",
    "from sklearn.cluster import KMeans\n",
    "from sklearn.metrics import silhouette_score\n",
    "import sklearn.metrics as metrics"
   ]
  },
  {
   "cell_type": "code",
   "execution_count": 3,
   "metadata": {},
   "outputs": [
    {
     "name": "stdout",
     "output_type": "stream",
     "text": [
      "<class 'pandas.core.frame.DataFrame'>\n",
      "RangeIndex: 4000 entries, 0 to 3999\n",
      "Data columns (total 14 columns):\n",
      " #   Column                             Non-Null Count  Dtype  \n",
      "---  ------                             --------------  -----  \n",
      " 0   gender                             4000 non-null   int64  \n",
      " 1   Near_Location                      4000 non-null   int64  \n",
      " 2   Partner                            4000 non-null   int64  \n",
      " 3   Promo_friends                      4000 non-null   int64  \n",
      " 4   Phone                              4000 non-null   int64  \n",
      " 5   Contract_period                    4000 non-null   int64  \n",
      " 6   Group_visits                       4000 non-null   int64  \n",
      " 7   Age                                4000 non-null   int64  \n",
      " 8   Avg_additional_charges_total       4000 non-null   float64\n",
      " 9   Month_to_end_contract              4000 non-null   float64\n",
      " 10  Lifetime                           4000 non-null   int64  \n",
      " 11  Avg_class_frequency_total          4000 non-null   float64\n",
      " 12  Avg_class_frequency_current_month  4000 non-null   float64\n",
      " 13  Churn                              4000 non-null   int64  \n",
      "dtypes: float64(4), int64(10)\n",
      "memory usage: 437.6 KB\n"
     ]
    }
   ],
   "source": [
    "df = pd.read_csv(\"https://code.s3.yandex.net/datasets/gym_churn.csv\")\n",
    "pd.set_option('display.max_columns', 30)\n",
    "pd.set_option('display.max_rows', 200)\n",
    "df.info()"
   ]
  },
  {
   "cell_type": "code",
   "execution_count": 4,
   "metadata": {},
   "outputs": [
    {
     "name": "stdout",
     "output_type": "stream",
     "text": [
      "\u001b[1mINFO df\u001b[0m\n",
      "\n",
      "<class 'pandas.core.frame.DataFrame'>\n",
      "RangeIndex: 4000 entries, 0 to 3999\n",
      "Data columns (total 14 columns):\n",
      " #   Column                             Non-Null Count  Dtype  \n",
      "---  ------                             --------------  -----  \n",
      " 0   gender                             4000 non-null   int64  \n",
      " 1   Near_Location                      4000 non-null   int64  \n",
      " 2   Partner                            4000 non-null   int64  \n",
      " 3   Promo_friends                      4000 non-null   int64  \n",
      " 4   Phone                              4000 non-null   int64  \n",
      " 5   Contract_period                    4000 non-null   int64  \n",
      " 6   Group_visits                       4000 non-null   int64  \n",
      " 7   Age                                4000 non-null   int64  \n",
      " 8   Avg_additional_charges_total       4000 non-null   float64\n",
      " 9   Month_to_end_contract              4000 non-null   float64\n",
      " 10  Lifetime                           4000 non-null   int64  \n",
      " 11  Avg_class_frequency_total          4000 non-null   float64\n",
      " 12  Avg_class_frequency_current_month  4000 non-null   float64\n",
      " 13  Churn                              4000 non-null   int64  \n",
      "dtypes: float64(4), int64(10)\n",
      "memory usage: 437.6 KB\n",
      "None\n",
      "\n",
      "\u001b[1mInitial Duplicates in df: \u001b[0m 0\n",
      "\n",
      "\u001b[1mNumber of NULLs in df:\u001b[0m\n",
      " gender                               0\n",
      "Near_Location                        0\n",
      "Partner                              0\n",
      "Promo_friends                        0\n",
      "Phone                                0\n",
      "Contract_period                      0\n",
      "Group_visits                         0\n",
      "Age                                  0\n",
      "Avg_additional_charges_total         0\n",
      "Month_to_end_contract                0\n",
      "Lifetime                             0\n",
      "Avg_class_frequency_total            0\n",
      "Avg_class_frequency_current_month    0\n",
      "Churn                                0\n",
      "dtype: int64\n",
      "\n",
      "\u001b[1mColumns in df:\u001b[0m\n",
      " Index(['gender', 'near_location', 'partner', 'promo_friends', 'phone',\n",
      "       'contract_period', 'group_visits', 'age',\n",
      "       'avg_additional_charges_total', 'month_to_end_contract', 'lifetime',\n",
      "       'avg_class_frequency_total', 'avg_class_frequency_current_month',\n",
      "       'churn'],\n",
      "      dtype='object')\n"
     ]
    },
    {
     "data": {
      "text/html": [
       "<div>\n",
       "<style scoped>\n",
       "    .dataframe tbody tr th:only-of-type {\n",
       "        vertical-align: middle;\n",
       "    }\n",
       "\n",
       "    .dataframe tbody tr th {\n",
       "        vertical-align: top;\n",
       "    }\n",
       "\n",
       "    .dataframe thead th {\n",
       "        text-align: right;\n",
       "    }\n",
       "</style>\n",
       "<table border=\"1\" class=\"dataframe\">\n",
       "  <thead>\n",
       "    <tr style=\"text-align: right;\">\n",
       "      <th></th>\n",
       "      <th>gender</th>\n",
       "      <th>near_location</th>\n",
       "      <th>partner</th>\n",
       "      <th>promo_friends</th>\n",
       "      <th>phone</th>\n",
       "      <th>contract_period</th>\n",
       "      <th>group_visits</th>\n",
       "      <th>age</th>\n",
       "      <th>avg_additional_charges_total</th>\n",
       "      <th>month_to_end_contract</th>\n",
       "      <th>lifetime</th>\n",
       "      <th>avg_class_frequency_total</th>\n",
       "      <th>avg_class_frequency_current_month</th>\n",
       "      <th>churn</th>\n",
       "    </tr>\n",
       "  </thead>\n",
       "  <tbody>\n",
       "    <tr>\n",
       "      <th>0</th>\n",
       "      <td>1</td>\n",
       "      <td>1</td>\n",
       "      <td>1</td>\n",
       "      <td>1</td>\n",
       "      <td>0</td>\n",
       "      <td>6</td>\n",
       "      <td>1</td>\n",
       "      <td>29</td>\n",
       "      <td>14.227470</td>\n",
       "      <td>5.0</td>\n",
       "      <td>3</td>\n",
       "      <td>0.020398</td>\n",
       "      <td>0.000000</td>\n",
       "      <td>0</td>\n",
       "    </tr>\n",
       "    <tr>\n",
       "      <th>1</th>\n",
       "      <td>0</td>\n",
       "      <td>1</td>\n",
       "      <td>0</td>\n",
       "      <td>0</td>\n",
       "      <td>1</td>\n",
       "      <td>12</td>\n",
       "      <td>1</td>\n",
       "      <td>31</td>\n",
       "      <td>113.202938</td>\n",
       "      <td>12.0</td>\n",
       "      <td>7</td>\n",
       "      <td>1.922936</td>\n",
       "      <td>1.910244</td>\n",
       "      <td>0</td>\n",
       "    </tr>\n",
       "    <tr>\n",
       "      <th>2</th>\n",
       "      <td>0</td>\n",
       "      <td>1</td>\n",
       "      <td>1</td>\n",
       "      <td>0</td>\n",
       "      <td>1</td>\n",
       "      <td>1</td>\n",
       "      <td>0</td>\n",
       "      <td>28</td>\n",
       "      <td>129.448479</td>\n",
       "      <td>1.0</td>\n",
       "      <td>2</td>\n",
       "      <td>1.859098</td>\n",
       "      <td>1.736502</td>\n",
       "      <td>0</td>\n",
       "    </tr>\n",
       "  </tbody>\n",
       "</table>\n",
       "</div>"
      ],
      "text/plain": [
       "   gender  near_location  partner  promo_friends  phone  contract_period  \\\n",
       "0       1              1        1              1      0                6   \n",
       "1       0              1        0              0      1               12   \n",
       "2       0              1        1              0      1                1   \n",
       "\n",
       "   group_visits  age  avg_additional_charges_total  month_to_end_contract  \\\n",
       "0             1   29                     14.227470                    5.0   \n",
       "1             1   31                    113.202938                   12.0   \n",
       "2             0   28                    129.448479                    1.0   \n",
       "\n",
       "   lifetime  avg_class_frequency_total  avg_class_frequency_current_month  \\\n",
       "0         3                   0.020398                           0.000000   \n",
       "1         7                   1.922936                           1.910244   \n",
       "2         2                   1.859098                           1.736502   \n",
       "\n",
       "   churn  \n",
       "0      0  \n",
       "1      0  \n",
       "2      0  "
      ]
     },
     "metadata": {},
     "output_type": "display_data"
    },
    {
     "name": "stdout",
     "output_type": "stream",
     "text": [
      "============================================================\n",
      "\u001b[1mNumber of properties in df:\u001b[0m\n",
      " 14\n",
      "============================================================\n"
     ]
    }
   ],
   "source": [
    "dfs_dict = {'df':df}\n",
    "for name_, df_ in dfs_dict.items():\n",
    "    print('\\033[1m'+f'INFO {name_}'+'\\033[0m', end='\\n\\n')\n",
    "    print(df_.info(), end='\\n\\n')\n",
    "    print('\\033[1m'+f'Initial Duplicates in {name_}: '+'\\033[0m', df_.duplicated().sum(), end='\\n\\n')\n",
    "    if df_.duplicated().sum() > 0:\n",
    "        df_.drop_duplicates(inplace=True)\n",
    "        print('\\033[1m'+f'Final Duplicates  in {name_}: '+'\\033[0m', df_.duplicated().sum(), end='\\n\\n')\n",
    "    print('\\033[1m'+f'Number of NULLs in {name_}:'+'\\033[0m\\n', df_.isna().sum(), end='\\n\\n')\n",
    "    df_.columns = df_.columns.str.lower().str.replace(' ', '_')\n",
    "    print('\\033[1m'+f'Columns in {name_}:'+'\\033[0m\\n', df_.columns)\n",
    "    display(df_.head(3))\n",
    "    print('='*60)\n",
    "    print('\\033[1m'+f'Number of properties in {name_}:'+'\\033[0m\\n', len(df.columns))\n",
    "    print('='*60)"
   ]
  },
  {
   "cell_type": "markdown",
   "metadata": {},
   "source": [
    "### **Вывод**\n",
    "* Данные представлены в одном файле\n",
    "* Пропуски отсуствуют\n",
    "* Дубликаты отсутствуют\n",
    "* Названия колонок преобразованы в соответствии с требованиями ***snake_style***\n",
    "* В данных присутсвуют признаки в кол-ве 14 в виде целых и действительных чисел"
   ]
  },
  {
   "cell_type": "markdown",
   "metadata": {},
   "source": [
    "## Шаг 1. Исследовательский анализ"
   ]
  },
  {
   "cell_type": "code",
   "execution_count": 5,
   "metadata": {},
   "outputs": [
    {
     "data": {
      "text/html": [
       "<div>\n",
       "<style scoped>\n",
       "    .dataframe tbody tr th:only-of-type {\n",
       "        vertical-align: middle;\n",
       "    }\n",
       "\n",
       "    .dataframe tbody tr th {\n",
       "        vertical-align: top;\n",
       "    }\n",
       "\n",
       "    .dataframe thead th {\n",
       "        text-align: right;\n",
       "    }\n",
       "</style>\n",
       "<table border=\"1\" class=\"dataframe\">\n",
       "  <thead>\n",
       "    <tr style=\"text-align: right;\">\n",
       "      <th></th>\n",
       "      <th>mean</th>\n",
       "      <th>std</th>\n",
       "    </tr>\n",
       "  </thead>\n",
       "  <tbody>\n",
       "    <tr>\n",
       "      <th>gender</th>\n",
       "      <td>0.510250</td>\n",
       "      <td>0.499957</td>\n",
       "    </tr>\n",
       "    <tr>\n",
       "      <th>near_location</th>\n",
       "      <td>0.845250</td>\n",
       "      <td>0.361711</td>\n",
       "    </tr>\n",
       "    <tr>\n",
       "      <th>partner</th>\n",
       "      <td>0.486750</td>\n",
       "      <td>0.499887</td>\n",
       "    </tr>\n",
       "    <tr>\n",
       "      <th>promo_friends</th>\n",
       "      <td>0.308500</td>\n",
       "      <td>0.461932</td>\n",
       "    </tr>\n",
       "    <tr>\n",
       "      <th>phone</th>\n",
       "      <td>0.903500</td>\n",
       "      <td>0.295313</td>\n",
       "    </tr>\n",
       "    <tr>\n",
       "      <th>contract_period</th>\n",
       "      <td>4.681250</td>\n",
       "      <td>4.549706</td>\n",
       "    </tr>\n",
       "    <tr>\n",
       "      <th>group_visits</th>\n",
       "      <td>0.412250</td>\n",
       "      <td>0.492301</td>\n",
       "    </tr>\n",
       "    <tr>\n",
       "      <th>age</th>\n",
       "      <td>29.184250</td>\n",
       "      <td>3.258367</td>\n",
       "    </tr>\n",
       "    <tr>\n",
       "      <th>avg_additional_charges_total</th>\n",
       "      <td>146.943728</td>\n",
       "      <td>96.355602</td>\n",
       "    </tr>\n",
       "    <tr>\n",
       "      <th>month_to_end_contract</th>\n",
       "      <td>4.322750</td>\n",
       "      <td>4.191297</td>\n",
       "    </tr>\n",
       "    <tr>\n",
       "      <th>lifetime</th>\n",
       "      <td>3.724750</td>\n",
       "      <td>3.749267</td>\n",
       "    </tr>\n",
       "    <tr>\n",
       "      <th>avg_class_frequency_total</th>\n",
       "      <td>1.879020</td>\n",
       "      <td>0.972245</td>\n",
       "    </tr>\n",
       "    <tr>\n",
       "      <th>avg_class_frequency_current_month</th>\n",
       "      <td>1.767052</td>\n",
       "      <td>1.052906</td>\n",
       "    </tr>\n",
       "    <tr>\n",
       "      <th>churn</th>\n",
       "      <td>0.265250</td>\n",
       "      <td>0.441521</td>\n",
       "    </tr>\n",
       "  </tbody>\n",
       "</table>\n",
       "</div>"
      ],
      "text/plain": [
       "                                         mean        std\n",
       "gender                               0.510250   0.499957\n",
       "near_location                        0.845250   0.361711\n",
       "partner                              0.486750   0.499887\n",
       "promo_friends                        0.308500   0.461932\n",
       "phone                                0.903500   0.295313\n",
       "contract_period                      4.681250   4.549706\n",
       "group_visits                         0.412250   0.492301\n",
       "age                                 29.184250   3.258367\n",
       "avg_additional_charges_total       146.943728  96.355602\n",
       "month_to_end_contract                4.322750   4.191297\n",
       "lifetime                             3.724750   3.749267\n",
       "avg_class_frequency_total            1.879020   0.972245\n",
       "avg_class_frequency_current_month    1.767052   1.052906\n",
       "churn                                0.265250   0.441521"
      ]
     },
     "execution_count": 5,
     "metadata": {},
     "output_type": "execute_result"
    }
   ],
   "source": [
    "df.describe().T[['mean', 'std']]  # среднее значение стандартное отклонение признаков"
   ]
  },
  {
   "cell_type": "code",
   "execution_count": 6,
   "metadata": {},
   "outputs": [
    {
     "data": {
      "text/html": [
       "<div>\n",
       "<style scoped>\n",
       "    .dataframe tbody tr th:only-of-type {\n",
       "        vertical-align: middle;\n",
       "    }\n",
       "\n",
       "    .dataframe tbody tr th {\n",
       "        vertical-align: top;\n",
       "    }\n",
       "\n",
       "    .dataframe thead th {\n",
       "        text-align: right;\n",
       "    }\n",
       "</style>\n",
       "<table border=\"1\" class=\"dataframe\">\n",
       "  <thead>\n",
       "    <tr style=\"text-align: right;\">\n",
       "      <th></th>\n",
       "      <th>property</th>\n",
       "      <th>in</th>\n",
       "      <th>gone</th>\n",
       "    </tr>\n",
       "  </thead>\n",
       "  <tbody>\n",
       "    <tr>\n",
       "      <th>0</th>\n",
       "      <td>gender</td>\n",
       "      <td>0.510037</td>\n",
       "      <td>0.510839</td>\n",
       "    </tr>\n",
       "    <tr>\n",
       "      <th>1</th>\n",
       "      <td>near_location</td>\n",
       "      <td>0.873086</td>\n",
       "      <td>0.768143</td>\n",
       "    </tr>\n",
       "    <tr>\n",
       "      <th>2</th>\n",
       "      <td>partner</td>\n",
       "      <td>0.534195</td>\n",
       "      <td>0.355325</td>\n",
       "    </tr>\n",
       "    <tr>\n",
       "      <th>3</th>\n",
       "      <td>promo_friends</td>\n",
       "      <td>0.353522</td>\n",
       "      <td>0.183789</td>\n",
       "    </tr>\n",
       "    <tr>\n",
       "      <th>4</th>\n",
       "      <td>phone</td>\n",
       "      <td>0.903709</td>\n",
       "      <td>0.902922</td>\n",
       "    </tr>\n",
       "    <tr>\n",
       "      <th>5</th>\n",
       "      <td>contract_period</td>\n",
       "      <td>5.747193</td>\n",
       "      <td>1.728558</td>\n",
       "    </tr>\n",
       "    <tr>\n",
       "      <th>6</th>\n",
       "      <td>group_visits</td>\n",
       "      <td>0.464103</td>\n",
       "      <td>0.268615</td>\n",
       "    </tr>\n",
       "    <tr>\n",
       "      <th>7</th>\n",
       "      <td>age</td>\n",
       "      <td>29.976523</td>\n",
       "      <td>26.989632</td>\n",
       "    </tr>\n",
       "    <tr>\n",
       "      <th>8</th>\n",
       "      <td>avg_additional_charges_total</td>\n",
       "      <td>158.445715</td>\n",
       "      <td>115.082899</td>\n",
       "    </tr>\n",
       "    <tr>\n",
       "      <th>9</th>\n",
       "      <td>month_to_end_contract</td>\n",
       "      <td>5.283089</td>\n",
       "      <td>1.662582</td>\n",
       "    </tr>\n",
       "    <tr>\n",
       "      <th>10</th>\n",
       "      <td>lifetime</td>\n",
       "      <td>4.711807</td>\n",
       "      <td>0.990575</td>\n",
       "    </tr>\n",
       "    <tr>\n",
       "      <th>11</th>\n",
       "      <td>avg_class_frequency_total</td>\n",
       "      <td>2.024876</td>\n",
       "      <td>1.474995</td>\n",
       "    </tr>\n",
       "    <tr>\n",
       "      <th>12</th>\n",
       "      <td>avg_class_frequency_current_month</td>\n",
       "      <td>2.027882</td>\n",
       "      <td>1.044546</td>\n",
       "    </tr>\n",
       "  </tbody>\n",
       "</table>\n",
       "</div>"
      ],
      "text/plain": [
       "                             property          in        gone\n",
       "0                              gender    0.510037    0.510839\n",
       "1                       near_location    0.873086    0.768143\n",
       "2                             partner    0.534195    0.355325\n",
       "3                       promo_friends    0.353522    0.183789\n",
       "4                               phone    0.903709    0.902922\n",
       "5                     contract_period    5.747193    1.728558\n",
       "6                        group_visits    0.464103    0.268615\n",
       "7                                 age   29.976523   26.989632\n",
       "8        avg_additional_charges_total  158.445715  115.082899\n",
       "9               month_to_end_contract    5.283089    1.662582\n",
       "10                           lifetime    4.711807    0.990575\n",
       "11          avg_class_frequency_total    2.024876    1.474995\n",
       "12  avg_class_frequency_current_month    2.027882    1.044546"
      ]
     },
     "execution_count": 6,
     "metadata": {},
     "output_type": "execute_result"
    }
   ],
   "source": [
    "churn_mean = df.groupby('churn').agg({'mean'}).T  # среднее значение признаков с группировкой по оттоку\n",
    "churn_mean.columns = ['in','gone']\n",
    "churn_mean = churn_mean.reset_index().drop('level_1', axis=1)\n",
    "churn_mean.columns = ['property', 'in', 'gone']\n",
    "churn_mean"
   ]
  },
  {
   "cell_type": "code",
   "execution_count": 7,
   "metadata": {},
   "outputs": [
    {
     "data": {
      "text/html": [
       "<div>\n",
       "<style scoped>\n",
       "    .dataframe tbody tr th:only-of-type {\n",
       "        vertical-align: middle;\n",
       "    }\n",
       "\n",
       "    .dataframe tbody tr th {\n",
       "        vertical-align: top;\n",
       "    }\n",
       "\n",
       "    .dataframe thead th {\n",
       "        text-align: right;\n",
       "    }\n",
       "</style>\n",
       "<table border=\"1\" class=\"dataframe\">\n",
       "  <thead>\n",
       "    <tr style=\"text-align: right;\">\n",
       "      <th></th>\n",
       "      <th>count</th>\n",
       "      <th>mean</th>\n",
       "      <th>std</th>\n",
       "      <th>min</th>\n",
       "      <th>25%</th>\n",
       "      <th>50%</th>\n",
       "      <th>75%</th>\n",
       "      <th>max</th>\n",
       "    </tr>\n",
       "  </thead>\n",
       "  <tbody>\n",
       "    <tr>\n",
       "      <th>phone</th>\n",
       "      <td>4000.0</td>\n",
       "      <td>0.90350</td>\n",
       "      <td>0.295313</td>\n",
       "      <td>0.0</td>\n",
       "      <td>1.0</td>\n",
       "      <td>1.0</td>\n",
       "      <td>1.0</td>\n",
       "      <td>1.0</td>\n",
       "    </tr>\n",
       "    <tr>\n",
       "      <th>near_location</th>\n",
       "      <td>4000.0</td>\n",
       "      <td>0.84525</td>\n",
       "      <td>0.361711</td>\n",
       "      <td>0.0</td>\n",
       "      <td>1.0</td>\n",
       "      <td>1.0</td>\n",
       "      <td>1.0</td>\n",
       "      <td>1.0</td>\n",
       "    </tr>\n",
       "    <tr>\n",
       "      <th>churn</th>\n",
       "      <td>4000.0</td>\n",
       "      <td>0.26525</td>\n",
       "      <td>0.441521</td>\n",
       "      <td>0.0</td>\n",
       "      <td>0.0</td>\n",
       "      <td>0.0</td>\n",
       "      <td>1.0</td>\n",
       "      <td>1.0</td>\n",
       "    </tr>\n",
       "    <tr>\n",
       "      <th>promo_friends</th>\n",
       "      <td>4000.0</td>\n",
       "      <td>0.30850</td>\n",
       "      <td>0.461932</td>\n",
       "      <td>0.0</td>\n",
       "      <td>0.0</td>\n",
       "      <td>0.0</td>\n",
       "      <td>1.0</td>\n",
       "      <td>1.0</td>\n",
       "    </tr>\n",
       "    <tr>\n",
       "      <th>group_visits</th>\n",
       "      <td>4000.0</td>\n",
       "      <td>0.41225</td>\n",
       "      <td>0.492301</td>\n",
       "      <td>0.0</td>\n",
       "      <td>0.0</td>\n",
       "      <td>0.0</td>\n",
       "      <td>1.0</td>\n",
       "      <td>1.0</td>\n",
       "    </tr>\n",
       "    <tr>\n",
       "      <th>partner</th>\n",
       "      <td>4000.0</td>\n",
       "      <td>0.48675</td>\n",
       "      <td>0.499887</td>\n",
       "      <td>0.0</td>\n",
       "      <td>0.0</td>\n",
       "      <td>0.0</td>\n",
       "      <td>1.0</td>\n",
       "      <td>1.0</td>\n",
       "    </tr>\n",
       "    <tr>\n",
       "      <th>gender</th>\n",
       "      <td>4000.0</td>\n",
       "      <td>0.51025</td>\n",
       "      <td>0.499957</td>\n",
       "      <td>0.0</td>\n",
       "      <td>0.0</td>\n",
       "      <td>1.0</td>\n",
       "      <td>1.0</td>\n",
       "      <td>1.0</td>\n",
       "    </tr>\n",
       "  </tbody>\n",
       "</table>\n",
       "</div>"
      ],
      "text/plain": [
       "                count     mean       std  min  25%  50%  75%  max\n",
       "phone          4000.0  0.90350  0.295313  0.0  1.0  1.0  1.0  1.0\n",
       "near_location  4000.0  0.84525  0.361711  0.0  1.0  1.0  1.0  1.0\n",
       "churn          4000.0  0.26525  0.441521  0.0  0.0  0.0  1.0  1.0\n",
       "promo_friends  4000.0  0.30850  0.461932  0.0  0.0  0.0  1.0  1.0\n",
       "group_visits   4000.0  0.41225  0.492301  0.0  0.0  0.0  1.0  1.0\n",
       "partner        4000.0  0.48675  0.499887  0.0  0.0  0.0  1.0  1.0\n",
       "gender         4000.0  0.51025  0.499957  0.0  0.0  1.0  1.0  1.0"
      ]
     },
     "execution_count": 7,
     "metadata": {},
     "output_type": "execute_result"
    }
   ],
   "source": [
    "# Описание признаков с бинарными значениями\n",
    "df[['gender', 'near_location', 'partner', 'promo_friends', 'phone', 'group_visits', 'churn']].describe().T.sort_values('std')"
   ]
  },
  {
   "cell_type": "code",
   "execution_count": 8,
   "metadata": {},
   "outputs": [
    {
     "data": {
      "text/html": [
       "<div>\n",
       "<style scoped>\n",
       "    .dataframe tbody tr th:only-of-type {\n",
       "        vertical-align: middle;\n",
       "    }\n",
       "\n",
       "    .dataframe tbody tr th {\n",
       "        vertical-align: top;\n",
       "    }\n",
       "\n",
       "    .dataframe thead th {\n",
       "        text-align: right;\n",
       "    }\n",
       "</style>\n",
       "<table border=\"1\" class=\"dataframe\">\n",
       "  <thead>\n",
       "    <tr style=\"text-align: right;\">\n",
       "      <th></th>\n",
       "      <th>count</th>\n",
       "      <th>mean</th>\n",
       "      <th>std</th>\n",
       "      <th>min</th>\n",
       "      <th>25%</th>\n",
       "      <th>50%</th>\n",
       "      <th>75%</th>\n",
       "      <th>max</th>\n",
       "    </tr>\n",
       "  </thead>\n",
       "  <tbody>\n",
       "    <tr>\n",
       "      <th>avg_class_frequency_total</th>\n",
       "      <td>4000.0</td>\n",
       "      <td>1.879020</td>\n",
       "      <td>0.972245</td>\n",
       "      <td>0.000000</td>\n",
       "      <td>1.180875</td>\n",
       "      <td>1.832768</td>\n",
       "      <td>2.536078</td>\n",
       "      <td>6.023668</td>\n",
       "    </tr>\n",
       "    <tr>\n",
       "      <th>avg_class_frequency_current_month</th>\n",
       "      <td>4000.0</td>\n",
       "      <td>1.767052</td>\n",
       "      <td>1.052906</td>\n",
       "      <td>0.000000</td>\n",
       "      <td>0.963003</td>\n",
       "      <td>1.719574</td>\n",
       "      <td>2.510336</td>\n",
       "      <td>6.146783</td>\n",
       "    </tr>\n",
       "    <tr>\n",
       "      <th>age</th>\n",
       "      <td>4000.0</td>\n",
       "      <td>29.184250</td>\n",
       "      <td>3.258367</td>\n",
       "      <td>18.000000</td>\n",
       "      <td>27.000000</td>\n",
       "      <td>29.000000</td>\n",
       "      <td>31.000000</td>\n",
       "      <td>41.000000</td>\n",
       "    </tr>\n",
       "    <tr>\n",
       "      <th>lifetime</th>\n",
       "      <td>4000.0</td>\n",
       "      <td>3.724750</td>\n",
       "      <td>3.749267</td>\n",
       "      <td>0.000000</td>\n",
       "      <td>1.000000</td>\n",
       "      <td>3.000000</td>\n",
       "      <td>5.000000</td>\n",
       "      <td>31.000000</td>\n",
       "    </tr>\n",
       "    <tr>\n",
       "      <th>month_to_end_contract</th>\n",
       "      <td>4000.0</td>\n",
       "      <td>4.322750</td>\n",
       "      <td>4.191297</td>\n",
       "      <td>1.000000</td>\n",
       "      <td>1.000000</td>\n",
       "      <td>1.000000</td>\n",
       "      <td>6.000000</td>\n",
       "      <td>12.000000</td>\n",
       "    </tr>\n",
       "    <tr>\n",
       "      <th>contract_period</th>\n",
       "      <td>4000.0</td>\n",
       "      <td>4.681250</td>\n",
       "      <td>4.549706</td>\n",
       "      <td>1.000000</td>\n",
       "      <td>1.000000</td>\n",
       "      <td>1.000000</td>\n",
       "      <td>6.000000</td>\n",
       "      <td>12.000000</td>\n",
       "    </tr>\n",
       "    <tr>\n",
       "      <th>avg_additional_charges_total</th>\n",
       "      <td>4000.0</td>\n",
       "      <td>146.943728</td>\n",
       "      <td>96.355602</td>\n",
       "      <td>0.148205</td>\n",
       "      <td>68.868830</td>\n",
       "      <td>136.220159</td>\n",
       "      <td>210.949625</td>\n",
       "      <td>552.590740</td>\n",
       "    </tr>\n",
       "  </tbody>\n",
       "</table>\n",
       "</div>"
      ],
      "text/plain": [
       "                                    count        mean        std        min  \\\n",
       "avg_class_frequency_total          4000.0    1.879020   0.972245   0.000000   \n",
       "avg_class_frequency_current_month  4000.0    1.767052   1.052906   0.000000   \n",
       "age                                4000.0   29.184250   3.258367  18.000000   \n",
       "lifetime                           4000.0    3.724750   3.749267   0.000000   \n",
       "month_to_end_contract              4000.0    4.322750   4.191297   1.000000   \n",
       "contract_period                    4000.0    4.681250   4.549706   1.000000   \n",
       "avg_additional_charges_total       4000.0  146.943728  96.355602   0.148205   \n",
       "\n",
       "                                         25%         50%         75%  \\\n",
       "avg_class_frequency_total           1.180875    1.832768    2.536078   \n",
       "avg_class_frequency_current_month   0.963003    1.719574    2.510336   \n",
       "age                                27.000000   29.000000   31.000000   \n",
       "lifetime                            1.000000    3.000000    5.000000   \n",
       "month_to_end_contract               1.000000    1.000000    6.000000   \n",
       "contract_period                     1.000000    1.000000    6.000000   \n",
       "avg_additional_charges_total       68.868830  136.220159  210.949625   \n",
       "\n",
       "                                          max  \n",
       "avg_class_frequency_total            6.023668  \n",
       "avg_class_frequency_current_month    6.146783  \n",
       "age                                 41.000000  \n",
       "lifetime                            31.000000  \n",
       "month_to_end_contract               12.000000  \n",
       "contract_period                     12.000000  \n",
       "avg_additional_charges_total       552.590740  "
      ]
     },
     "execution_count": 8,
     "metadata": {},
     "output_type": "execute_result"
    }
   ],
   "source": [
    "# Описание признаков с небинарными значениями\n",
    "df[['contract_period', 'age', 'avg_additional_charges_total', 'month_to_end_contract', 'lifetime', 'avg_class_frequency_total', 'avg_class_frequency_current_month']].describe().T.sort_values('std')"
   ]
  },
  {
   "cell_type": "code",
   "execution_count": 9,
   "metadata": {
    "scrolled": false
   },
   "outputs": [
    {
     "data": {
      "image/png": "[encoded data removed]",
      "text/plain": [
       "<Figure size 1008x288 with 1 Axes>"
      ]
     },
     "metadata": {
      "needs_background": "light"
     },
     "output_type": "display_data"
    },
    {
     "data": {
      "image/png": "[encoded data removed]",
      "text/plain": [
       "<Figure size 1008x288 with 1 Axes>"
      ]
     },
     "metadata": {
      "needs_background": "light"
     },
     "output_type": "display_data"
    },
    {
     "data": {
      "image/png": "[encoded data removed]",
      "text/plain": [
       "<Figure size 1008x288 with 1 Axes>"
      ]
     },
     "metadata": {
      "needs_background": "light"
     },
     "output_type": "display_data"
    },
    {
     "data": {
      "image/png": "[encoded data removed]",
      "text/plain": [
       "<Figure size 1008x288 with 1 Axes>"
      ]
     },
     "metadata": {
      "needs_background": "light"
     },
     "output_type": "display_data"
    },
    {
     "data": {
      "image/png": "[encoded data removed]",
      "text/plain": [
       "<Figure size 1008x288 with 1 Axes>"
      ]
     },
     "metadata": {
      "needs_background": "light"
     },
     "output_type": "display_data"
    },
    {
     "data": {
      "image/png": "[encoded data removed]",
      "text/plain": [
       "<Figure size 1008x288 with 1 Axes>"
      ]
     },
     "metadata": {
      "needs_background": "light"
     },
     "output_type": "display_data"
    },
    {
     "data": {
      "image/png": "[encoded data removed]",
      "text/plain": [
       "<Figure size 1008x288 with 1 Axes>"
      ]
     },
     "metadata": {
      "needs_background": "light"
     },
     "output_type": "display_data"
    },
    {
     "data": {
      "image/png": "[encoded data removed]",
      "text/plain": [
       "<Figure size 1008x288 with 1 Axes>"
      ]
     },
     "metadata": {
      "needs_background": "light"
     },
     "output_type": "display_data"
    },
    {
     "data": {
      "image/png": "[encoded data removed]",
      "text/plain": [
       "<Figure size 1008x288 with 1 Axes>"
      ]
     },
     "metadata": {
      "needs_background": "light"
     },
     "output_type": "display_data"
    },
    {
     "data": {
      "image/png": "[encoded data removed]",
      "text/plain": [
       "<Figure size 1008x288 with 1 Axes>"
      ]
     },
     "metadata": {
      "needs_background": "light"
     },
     "output_type": "display_data"
    },
    {
     "data": {
      "image/png": "[encoded data removed]",
      "text/plain": [
       "<Figure size 1008x288 with 1 Axes>"
      ]
     },
     "metadata": {
      "needs_background": "light"
     },
     "output_type": "display_data"
    },
    {
     "data": {
      "image/png": "[encoded data removed]",
      "text/plain": [
       "<Figure size 1008x288 with 1 Axes>"
      ]
     },
     "metadata": {
      "needs_background": "light"
     },
     "output_type": "display_data"
    },
    {
     "data": {
      "image/png": "[encoded data removed]",
      "text/plain": [
       "<Figure size 1008x288 with 1 Axes>"
      ]
     },
     "metadata": {
      "needs_background": "light"
     },
     "output_type": "display_data"
    }
   ],
   "source": [
    "for prop in churn_mean.property:\n",
    "    fig = plt.figure(figsize=(14,4))\n",
    "    sns.histplot(df.query('churn == 0')[prop], label='gone', color=\"Blue\")\n",
    "    sns.histplot(df.query('churn == 1')[prop], label='in', color=\"MediumTurquoise\")\n",
    "    plt.title(prop, fontsize=14)\n",
    "    plt.legend()\n",
    "    plt.show()"
   ]
  },
  {
   "cell_type": "code",
   "execution_count": 10,
   "metadata": {},
   "outputs": [
    {
     "data": {
      "text/html": [
       "<div>\n",
       "<style scoped>\n",
       "    .dataframe tbody tr th:only-of-type {\n",
       "        vertical-align: middle;\n",
       "    }\n",
       "\n",
       "    .dataframe tbody tr th {\n",
       "        vertical-align: top;\n",
       "    }\n",
       "\n",
       "    .dataframe thead th {\n",
       "        text-align: right;\n",
       "    }\n",
       "</style>\n",
       "<table border=\"1\" class=\"dataframe\">\n",
       "  <thead>\n",
       "    <tr style=\"text-align: right;\">\n",
       "      <th></th>\n",
       "      <th>gender</th>\n",
       "      <th>near_location</th>\n",
       "      <th>partner</th>\n",
       "      <th>promo_friends</th>\n",
       "      <th>phone</th>\n",
       "      <th>contract_period</th>\n",
       "      <th>group_visits</th>\n",
       "      <th>age</th>\n",
       "      <th>avg_additional_charges_total</th>\n",
       "      <th>month_to_end_contract</th>\n",
       "      <th>lifetime</th>\n",
       "      <th>avg_class_frequency_total</th>\n",
       "      <th>avg_class_frequency_current_month</th>\n",
       "      <th>churn</th>\n",
       "    </tr>\n",
       "  </thead>\n",
       "  <tbody>\n",
       "    <tr>\n",
       "      <th>gender</th>\n",
       "      <td>1.000000</td>\n",
       "      <td>0.006699</td>\n",
       "      <td>-0.010463</td>\n",
       "      <td>-0.005033</td>\n",
       "      <td>-0.008542</td>\n",
       "      <td>0.000502</td>\n",
       "      <td>0.017879</td>\n",
       "      <td>0.013807</td>\n",
       "      <td>-0.009334</td>\n",
       "      <td>-0.001281</td>\n",
       "      <td>0.013579</td>\n",
       "      <td>0.014620</td>\n",
       "      <td>0.009156</td>\n",
       "      <td>0.000708</td>\n",
       "    </tr>\n",
       "    <tr>\n",
       "      <th>near_location</th>\n",
       "      <td>0.006699</td>\n",
       "      <td>1.000000</td>\n",
       "      <td>-0.005119</td>\n",
       "      <td>0.210964</td>\n",
       "      <td>-0.015763</td>\n",
       "      <td>0.150233</td>\n",
       "      <td>0.154728</td>\n",
       "      <td>0.058358</td>\n",
       "      <td>0.040761</td>\n",
       "      <td>0.143961</td>\n",
       "      <td>0.070921</td>\n",
       "      <td>0.043127</td>\n",
       "      <td>0.062664</td>\n",
       "      <td>-0.128098</td>\n",
       "    </tr>\n",
       "    <tr>\n",
       "      <th>partner</th>\n",
       "      <td>-0.010463</td>\n",
       "      <td>-0.005119</td>\n",
       "      <td>1.000000</td>\n",
       "      <td>0.451960</td>\n",
       "      <td>0.009970</td>\n",
       "      <td>0.306166</td>\n",
       "      <td>0.022710</td>\n",
       "      <td>0.047480</td>\n",
       "      <td>0.022941</td>\n",
       "      <td>0.294632</td>\n",
       "      <td>0.061229</td>\n",
       "      <td>0.024938</td>\n",
       "      <td>0.045561</td>\n",
       "      <td>-0.157986</td>\n",
       "    </tr>\n",
       "    <tr>\n",
       "      <th>promo_friends</th>\n",
       "      <td>-0.005033</td>\n",
       "      <td>0.210964</td>\n",
       "      <td>0.451960</td>\n",
       "      <td>1.000000</td>\n",
       "      <td>0.001982</td>\n",
       "      <td>0.244552</td>\n",
       "      <td>0.120170</td>\n",
       "      <td>0.050113</td>\n",
       "      <td>0.036898</td>\n",
       "      <td>0.239553</td>\n",
       "      <td>0.072721</td>\n",
       "      <td>0.028063</td>\n",
       "      <td>0.053768</td>\n",
       "      <td>-0.162233</td>\n",
       "    </tr>\n",
       "    <tr>\n",
       "      <th>phone</th>\n",
       "      <td>-0.008542</td>\n",
       "      <td>-0.015763</td>\n",
       "      <td>0.009970</td>\n",
       "      <td>0.001982</td>\n",
       "      <td>1.000000</td>\n",
       "      <td>-0.006893</td>\n",
       "      <td>-0.010099</td>\n",
       "      <td>-0.011403</td>\n",
       "      <td>0.009279</td>\n",
       "      <td>-0.011196</td>\n",
       "      <td>-0.018801</td>\n",
       "      <td>0.008340</td>\n",
       "      <td>0.013375</td>\n",
       "      <td>-0.001177</td>\n",
       "    </tr>\n",
       "    <tr>\n",
       "      <th>contract_period</th>\n",
       "      <td>0.000502</td>\n",
       "      <td>0.150233</td>\n",
       "      <td>0.306166</td>\n",
       "      <td>0.244552</td>\n",
       "      <td>-0.006893</td>\n",
       "      <td>1.000000</td>\n",
       "      <td>0.169991</td>\n",
       "      <td>0.138249</td>\n",
       "      <td>0.111445</td>\n",
       "      <td>0.973064</td>\n",
       "      <td>0.170725</td>\n",
       "      <td>0.096211</td>\n",
       "      <td>0.159407</td>\n",
       "      <td>-0.389984</td>\n",
       "    </tr>\n",
       "    <tr>\n",
       "      <th>group_visits</th>\n",
       "      <td>0.017879</td>\n",
       "      <td>0.154728</td>\n",
       "      <td>0.022710</td>\n",
       "      <td>0.120170</td>\n",
       "      <td>-0.010099</td>\n",
       "      <td>0.169991</td>\n",
       "      <td>1.000000</td>\n",
       "      <td>0.080934</td>\n",
       "      <td>0.032079</td>\n",
       "      <td>0.163703</td>\n",
       "      <td>0.075853</td>\n",
       "      <td>0.056695</td>\n",
       "      <td>0.075923</td>\n",
       "      <td>-0.175325</td>\n",
       "    </tr>\n",
       "    <tr>\n",
       "      <th>age</th>\n",
       "      <td>0.013807</td>\n",
       "      <td>0.058358</td>\n",
       "      <td>0.047480</td>\n",
       "      <td>0.050113</td>\n",
       "      <td>-0.011403</td>\n",
       "      <td>0.138249</td>\n",
       "      <td>0.080934</td>\n",
       "      <td>1.000000</td>\n",
       "      <td>0.080240</td>\n",
       "      <td>0.134511</td>\n",
       "      <td>0.164693</td>\n",
       "      <td>0.119953</td>\n",
       "      <td>0.183095</td>\n",
       "      <td>-0.404735</td>\n",
       "    </tr>\n",
       "    <tr>\n",
       "      <th>avg_additional_charges_total</th>\n",
       "      <td>-0.009334</td>\n",
       "      <td>0.040761</td>\n",
       "      <td>0.022941</td>\n",
       "      <td>0.036898</td>\n",
       "      <td>0.009279</td>\n",
       "      <td>0.111445</td>\n",
       "      <td>0.032079</td>\n",
       "      <td>0.080240</td>\n",
       "      <td>1.000000</td>\n",
       "      <td>0.113958</td>\n",
       "      <td>0.079028</td>\n",
       "      <td>0.044426</td>\n",
       "      <td>0.079570</td>\n",
       "      <td>-0.198697</td>\n",
       "    </tr>\n",
       "    <tr>\n",
       "      <th>month_to_end_contract</th>\n",
       "      <td>-0.001281</td>\n",
       "      <td>0.143961</td>\n",
       "      <td>0.294632</td>\n",
       "      <td>0.239553</td>\n",
       "      <td>-0.011196</td>\n",
       "      <td>0.973064</td>\n",
       "      <td>0.163703</td>\n",
       "      <td>0.134511</td>\n",
       "      <td>0.113958</td>\n",
       "      <td>1.000000</td>\n",
       "      <td>0.161078</td>\n",
       "      <td>0.085387</td>\n",
       "      <td>0.147605</td>\n",
       "      <td>-0.381393</td>\n",
       "    </tr>\n",
       "    <tr>\n",
       "      <th>lifetime</th>\n",
       "      <td>0.013579</td>\n",
       "      <td>0.070921</td>\n",
       "      <td>0.061229</td>\n",
       "      <td>0.072721</td>\n",
       "      <td>-0.018801</td>\n",
       "      <td>0.170725</td>\n",
       "      <td>0.075853</td>\n",
       "      <td>0.164693</td>\n",
       "      <td>0.079028</td>\n",
       "      <td>0.161078</td>\n",
       "      <td>1.000000</td>\n",
       "      <td>0.112338</td>\n",
       "      <td>0.181975</td>\n",
       "      <td>-0.438220</td>\n",
       "    </tr>\n",
       "    <tr>\n",
       "      <th>avg_class_frequency_total</th>\n",
       "      <td>0.014620</td>\n",
       "      <td>0.043127</td>\n",
       "      <td>0.024938</td>\n",
       "      <td>0.028063</td>\n",
       "      <td>0.008340</td>\n",
       "      <td>0.096211</td>\n",
       "      <td>0.056695</td>\n",
       "      <td>0.119953</td>\n",
       "      <td>0.044426</td>\n",
       "      <td>0.085387</td>\n",
       "      <td>0.112338</td>\n",
       "      <td>1.000000</td>\n",
       "      <td>0.952739</td>\n",
       "      <td>-0.249715</td>\n",
       "    </tr>\n",
       "    <tr>\n",
       "      <th>avg_class_frequency_current_month</th>\n",
       "      <td>0.009156</td>\n",
       "      <td>0.062664</td>\n",
       "      <td>0.045561</td>\n",
       "      <td>0.053768</td>\n",
       "      <td>0.013375</td>\n",
       "      <td>0.159407</td>\n",
       "      <td>0.075923</td>\n",
       "      <td>0.183095</td>\n",
       "      <td>0.079570</td>\n",
       "      <td>0.147605</td>\n",
       "      <td>0.181975</td>\n",
       "      <td>0.952739</td>\n",
       "      <td>1.000000</td>\n",
       "      <td>-0.412348</td>\n",
       "    </tr>\n",
       "    <tr>\n",
       "      <th>churn</th>\n",
       "      <td>0.000708</td>\n",
       "      <td>-0.128098</td>\n",
       "      <td>-0.157986</td>\n",
       "      <td>-0.162233</td>\n",
       "      <td>-0.001177</td>\n",
       "      <td>-0.389984</td>\n",
       "      <td>-0.175325</td>\n",
       "      <td>-0.404735</td>\n",
       "      <td>-0.198697</td>\n",
       "      <td>-0.381393</td>\n",
       "      <td>-0.438220</td>\n",
       "      <td>-0.249715</td>\n",
       "      <td>-0.412348</td>\n",
       "      <td>1.000000</td>\n",
       "    </tr>\n",
       "  </tbody>\n",
       "</table>\n",
       "</div>"
      ],
      "text/plain": [
       "                                     gender  near_location   partner  \\\n",
       "gender                             1.000000       0.006699 -0.010463   \n",
       "near_location                      0.006699       1.000000 -0.005119   \n",
       "partner                           -0.010463      -0.005119  1.000000   \n",
       "promo_friends                     -0.005033       0.210964  0.451960   \n",
       "phone                             -0.008542      -0.015763  0.009970   \n",
       "contract_period                    0.000502       0.150233  0.306166   \n",
       "group_visits                       0.017879       0.154728  0.022710   \n",
       "age                                0.013807       0.058358  0.047480   \n",
       "avg_additional_charges_total      -0.009334       0.040761  0.022941   \n",
       "month_to_end_contract             -0.001281       0.143961  0.294632   \n",
       "lifetime                           0.013579       0.070921  0.061229   \n",
       "avg_class_frequency_total          0.014620       0.043127  0.024938   \n",
       "avg_class_frequency_current_month  0.009156       0.062664  0.045561   \n",
       "churn                              0.000708      -0.128098 -0.157986   \n",
       "\n",
       "                                   promo_friends     phone  contract_period  \\\n",
       "gender                                 -0.005033 -0.008542         0.000502   \n",
       "near_location                           0.210964 -0.015763         0.150233   \n",
       "partner                                 0.451960  0.009970         0.306166   \n",
       "promo_friends                           1.000000  0.001982         0.244552   \n",
       "phone                                   0.001982  1.000000        -0.006893   \n",
       "contract_period                         0.244552 -0.006893         1.000000   \n",
       "group_visits                            0.120170 -0.010099         0.169991   \n",
       "age                                     0.050113 -0.011403         0.138249   \n",
       "avg_additional_charges_total            0.036898  0.009279         0.111445   \n",
       "month_to_end_contract                   0.239553 -0.011196         0.973064   \n",
       "lifetime                                0.072721 -0.018801         0.170725   \n",
       "avg_class_frequency_total               0.028063  0.008340         0.096211   \n",
       "avg_class_frequency_current_month       0.053768  0.013375         0.159407   \n",
       "churn                                  -0.162233 -0.001177        -0.389984   \n",
       "\n",
       "                                   group_visits       age  \\\n",
       "gender                                 0.017879  0.013807   \n",
       "near_location                          0.154728  0.058358   \n",
       "partner                                0.022710  0.047480   \n",
       "promo_friends                          0.120170  0.050113   \n",
       "phone                                 -0.010099 -0.011403   \n",
       "contract_period                        0.169991  0.138249   \n",
       "group_visits                           1.000000  0.080934   \n",
       "age                                    0.080934  1.000000   \n",
       "avg_additional_charges_total           0.032079  0.080240   \n",
       "month_to_end_contract                  0.163703  0.134511   \n",
       "lifetime                               0.075853  0.164693   \n",
       "avg_class_frequency_total              0.056695  0.119953   \n",
       "avg_class_frequency_current_month      0.075923  0.183095   \n",
       "churn                                 -0.175325 -0.404735   \n",
       "\n",
       "                                   avg_additional_charges_total  \\\n",
       "gender                                                -0.009334   \n",
       "near_location                                          0.040761   \n",
       "partner                                                0.022941   \n",
       "promo_friends                                          0.036898   \n",
       "phone                                                  0.009279   \n",
       "contract_period                                        0.111445   \n",
       "group_visits                                           0.032079   \n",
       "age                                                    0.080240   \n",
       "avg_additional_charges_total                           1.000000   \n",
       "month_to_end_contract                                  0.113958   \n",
       "lifetime                                               0.079028   \n",
       "avg_class_frequency_total                              0.044426   \n",
       "avg_class_frequency_current_month                      0.079570   \n",
       "churn                                                 -0.198697   \n",
       "\n",
       "                                   month_to_end_contract  lifetime  \\\n",
       "gender                                         -0.001281  0.013579   \n",
       "near_location                                   0.143961  0.070921   \n",
       "partner                                         0.294632  0.061229   \n",
       "promo_friends                                   0.239553  0.072721   \n",
       "phone                                          -0.011196 -0.018801   \n",
       "contract_period                                 0.973064  0.170725   \n",
       "group_visits                                    0.163703  0.075853   \n",
       "age                                             0.134511  0.164693   \n",
       "avg_additional_charges_total                    0.113958  0.079028   \n",
       "month_to_end_contract                           1.000000  0.161078   \n",
       "lifetime                                        0.161078  1.000000   \n",
       "avg_class_frequency_total                       0.085387  0.112338   \n",
       "avg_class_frequency_current_month               0.147605  0.181975   \n",
       "churn                                          -0.381393 -0.438220   \n",
       "\n",
       "                                   avg_class_frequency_total  \\\n",
       "gender                                              0.014620   \n",
       "near_location                                       0.043127   \n",
       "partner                                             0.024938   \n",
       "promo_friends                                       0.028063   \n",
       "phone                                               0.008340   \n",
       "contract_period                                     0.096211   \n",
       "group_visits                                        0.056695   \n",
       "age                                                 0.119953   \n",
       "avg_additional_charges_total                        0.044426   \n",
       "month_to_end_contract                               0.085387   \n",
       "lifetime                                            0.112338   \n",
       "avg_class_frequency_total                           1.000000   \n",
       "avg_class_frequency_current_month                   0.952739   \n",
       "churn                                              -0.249715   \n",
       "\n",
       "                                   avg_class_frequency_current_month     churn  \n",
       "gender                                                      0.009156  0.000708  \n",
       "near_location                                               0.062664 -0.128098  \n",
       "partner                                                     0.045561 -0.157986  \n",
       "promo_friends                                               0.053768 -0.162233  \n",
       "phone                                                       0.013375 -0.001177  \n",
       "contract_period                                             0.159407 -0.389984  \n",
       "group_visits                                                0.075923 -0.175325  \n",
       "age                                                         0.183095 -0.404735  \n",
       "avg_additional_charges_total                                0.079570 -0.198697  \n",
       "month_to_end_contract                                       0.147605 -0.381393  \n",
       "lifetime                                                    0.181975 -0.438220  \n",
       "avg_class_frequency_total                                   0.952739 -0.249715  \n",
       "avg_class_frequency_current_month                           1.000000 -0.412348  \n",
       "churn                                                      -0.412348  1.000000  "
      ]
     },
     "execution_count": 10,
     "metadata": {},
     "output_type": "execute_result"
    }
   ],
   "source": [
    "cm = df.corr()  # матрица корреляции\n",
    "cm"
   ]
  },
  {
   "cell_type": "code",
   "execution_count": 11,
   "metadata": {},
   "outputs": [
    {
     "data": {
      "image/png": "[encoded data removed]",
      "text/plain": [
       "<Figure size 1080x1080 with 2 Axes>"
      ]
     },
     "metadata": {
      "needs_background": "light"
     },
     "output_type": "display_data"
    }
   ],
   "source": [
    "fig = plt.subplots(figsize = (15,15))\n",
    "sns.color_palette(\"tab10\")\n",
    "sns.heatmap(cm, annot = True, square = True, cmap=\"mako\")\n",
    "plt.show()"
   ]
  },
  {
   "cell_type": "code",
   "execution_count": 12,
   "metadata": {},
   "outputs": [
    {
     "data": {
      "text/html": [
       "<div>\n",
       "<style scoped>\n",
       "    .dataframe tbody tr th:only-of-type {\n",
       "        vertical-align: middle;\n",
       "    }\n",
       "\n",
       "    .dataframe tbody tr th {\n",
       "        vertical-align: top;\n",
       "    }\n",
       "\n",
       "    .dataframe thead tr th {\n",
       "        text-align: left;\n",
       "    }\n",
       "</style>\n",
       "<table border=\"1\" class=\"dataframe\">\n",
       "  <thead>\n",
       "    <tr>\n",
       "      <th></th>\n",
       "      <th>churn</th>\n",
       "      <th>gender</th>\n",
       "      <th>index</th>\n",
       "      <th>share_abs</th>\n",
       "      <th>share_%</th>\n",
       "    </tr>\n",
       "    <tr>\n",
       "      <th></th>\n",
       "      <th></th>\n",
       "      <th></th>\n",
       "      <th>count</th>\n",
       "      <th></th>\n",
       "      <th></th>\n",
       "    </tr>\n",
       "  </thead>\n",
       "  <tbody>\n",
       "    <tr>\n",
       "      <th>0</th>\n",
       "      <td>0</td>\n",
       "      <td>0</td>\n",
       "      <td>1440</td>\n",
       "      <td>0.36000</td>\n",
       "      <td>36.00%</td>\n",
       "    </tr>\n",
       "    <tr>\n",
       "      <th>1</th>\n",
       "      <td>0</td>\n",
       "      <td>1</td>\n",
       "      <td>1499</td>\n",
       "      <td>0.37475</td>\n",
       "      <td>37.48%</td>\n",
       "    </tr>\n",
       "    <tr>\n",
       "      <th>2</th>\n",
       "      <td>1</td>\n",
       "      <td>0</td>\n",
       "      <td>519</td>\n",
       "      <td>0.12975</td>\n",
       "      <td>12.97%</td>\n",
       "    </tr>\n",
       "    <tr>\n",
       "      <th>3</th>\n",
       "      <td>1</td>\n",
       "      <td>1</td>\n",
       "      <td>542</td>\n",
       "      <td>0.13550</td>\n",
       "      <td>13.55%</td>\n",
       "    </tr>\n",
       "  </tbody>\n",
       "</table>\n",
       "</div>"
      ],
      "text/plain": [
       "  churn gender index share_abs share_%\n",
       "               count                  \n",
       "0     0      0  1440   0.36000  36.00%\n",
       "1     0      1  1499   0.37475  37.48%\n",
       "2     1      0   519   0.12975  12.97%\n",
       "3     1      1   542   0.13550  13.55%"
      ]
     },
     "metadata": {},
     "output_type": "display_data"
    },
    {
     "data": {
      "text/html": [
       "<div>\n",
       "<style scoped>\n",
       "    .dataframe tbody tr th:only-of-type {\n",
       "        vertical-align: middle;\n",
       "    }\n",
       "\n",
       "    .dataframe tbody tr th {\n",
       "        vertical-align: top;\n",
       "    }\n",
       "\n",
       "    .dataframe thead tr th {\n",
       "        text-align: left;\n",
       "    }\n",
       "</style>\n",
       "<table border=\"1\" class=\"dataframe\">\n",
       "  <thead>\n",
       "    <tr>\n",
       "      <th></th>\n",
       "      <th>churn</th>\n",
       "      <th>near_location</th>\n",
       "      <th>index</th>\n",
       "      <th>share_abs</th>\n",
       "      <th>share_%</th>\n",
       "    </tr>\n",
       "    <tr>\n",
       "      <th></th>\n",
       "      <th></th>\n",
       "      <th></th>\n",
       "      <th>count</th>\n",
       "      <th></th>\n",
       "      <th></th>\n",
       "    </tr>\n",
       "  </thead>\n",
       "  <tbody>\n",
       "    <tr>\n",
       "      <th>0</th>\n",
       "      <td>0</td>\n",
       "      <td>0</td>\n",
       "      <td>373</td>\n",
       "      <td>0.09325</td>\n",
       "      <td>9.32%</td>\n",
       "    </tr>\n",
       "    <tr>\n",
       "      <th>1</th>\n",
       "      <td>0</td>\n",
       "      <td>1</td>\n",
       "      <td>2566</td>\n",
       "      <td>0.64150</td>\n",
       "      <td>64.15%</td>\n",
       "    </tr>\n",
       "    <tr>\n",
       "      <th>2</th>\n",
       "      <td>1</td>\n",
       "      <td>0</td>\n",
       "      <td>246</td>\n",
       "      <td>0.06150</td>\n",
       "      <td>6.15%</td>\n",
       "    </tr>\n",
       "    <tr>\n",
       "      <th>3</th>\n",
       "      <td>1</td>\n",
       "      <td>1</td>\n",
       "      <td>815</td>\n",
       "      <td>0.20375</td>\n",
       "      <td>20.38%</td>\n",
       "    </tr>\n",
       "  </tbody>\n",
       "</table>\n",
       "</div>"
      ],
      "text/plain": [
       "  churn near_location index share_abs share_%\n",
       "                      count                  \n",
       "0     0             0   373   0.09325   9.32%\n",
       "1     0             1  2566   0.64150  64.15%\n",
       "2     1             0   246   0.06150   6.15%\n",
       "3     1             1   815   0.20375  20.38%"
      ]
     },
     "metadata": {},
     "output_type": "display_data"
    },
    {
     "data": {
      "text/html": [
       "<div>\n",
       "<style scoped>\n",
       "    .dataframe tbody tr th:only-of-type {\n",
       "        vertical-align: middle;\n",
       "    }\n",
       "\n",
       "    .dataframe tbody tr th {\n",
       "        vertical-align: top;\n",
       "    }\n",
       "\n",
       "    .dataframe thead tr th {\n",
       "        text-align: left;\n",
       "    }\n",
       "</style>\n",
       "<table border=\"1\" class=\"dataframe\">\n",
       "  <thead>\n",
       "    <tr>\n",
       "      <th></th>\n",
       "      <th>churn</th>\n",
       "      <th>partner</th>\n",
       "      <th>index</th>\n",
       "      <th>share_abs</th>\n",
       "      <th>share_%</th>\n",
       "    </tr>\n",
       "    <tr>\n",
       "      <th></th>\n",
       "      <th></th>\n",
       "      <th></th>\n",
       "      <th>count</th>\n",
       "      <th></th>\n",
       "      <th></th>\n",
       "    </tr>\n",
       "  </thead>\n",
       "  <tbody>\n",
       "    <tr>\n",
       "      <th>0</th>\n",
       "      <td>0</td>\n",
       "      <td>0</td>\n",
       "      <td>1369</td>\n",
       "      <td>0.34225</td>\n",
       "      <td>34.23%</td>\n",
       "    </tr>\n",
       "    <tr>\n",
       "      <th>1</th>\n",
       "      <td>0</td>\n",
       "      <td>1</td>\n",
       "      <td>1570</td>\n",
       "      <td>0.39250</td>\n",
       "      <td>39.25%</td>\n",
       "    </tr>\n",
       "    <tr>\n",
       "      <th>2</th>\n",
       "      <td>1</td>\n",
       "      <td>0</td>\n",
       "      <td>684</td>\n",
       "      <td>0.17100</td>\n",
       "      <td>17.10%</td>\n",
       "    </tr>\n",
       "    <tr>\n",
       "      <th>3</th>\n",
       "      <td>1</td>\n",
       "      <td>1</td>\n",
       "      <td>377</td>\n",
       "      <td>0.09425</td>\n",
       "      <td>9.43%</td>\n",
       "    </tr>\n",
       "  </tbody>\n",
       "</table>\n",
       "</div>"
      ],
      "text/plain": [
       "  churn partner index share_abs share_%\n",
       "                count                  \n",
       "0     0       0  1369   0.34225  34.23%\n",
       "1     0       1  1570   0.39250  39.25%\n",
       "2     1       0   684   0.17100  17.10%\n",
       "3     1       1   377   0.09425   9.43%"
      ]
     },
     "metadata": {},
     "output_type": "display_data"
    },
    {
     "data": {
      "text/html": [
       "<div>\n",
       "<style scoped>\n",
       "    .dataframe tbody tr th:only-of-type {\n",
       "        vertical-align: middle;\n",
       "    }\n",
       "\n",
       "    .dataframe tbody tr th {\n",
       "        vertical-align: top;\n",
       "    }\n",
       "\n",
       "    .dataframe thead tr th {\n",
       "        text-align: left;\n",
       "    }\n",
       "</style>\n",
       "<table border=\"1\" class=\"dataframe\">\n",
       "  <thead>\n",
       "    <tr>\n",
       "      <th></th>\n",
       "      <th>churn</th>\n",
       "      <th>promo_friends</th>\n",
       "      <th>index</th>\n",
       "      <th>share_abs</th>\n",
       "      <th>share_%</th>\n",
       "    </tr>\n",
       "    <tr>\n",
       "      <th></th>\n",
       "      <th></th>\n",
       "      <th></th>\n",
       "      <th>count</th>\n",
       "      <th></th>\n",
       "      <th></th>\n",
       "    </tr>\n",
       "  </thead>\n",
       "  <tbody>\n",
       "    <tr>\n",
       "      <th>0</th>\n",
       "      <td>0</td>\n",
       "      <td>0</td>\n",
       "      <td>1900</td>\n",
       "      <td>0.47500</td>\n",
       "      <td>47.50%</td>\n",
       "    </tr>\n",
       "    <tr>\n",
       "      <th>1</th>\n",
       "      <td>0</td>\n",
       "      <td>1</td>\n",
       "      <td>1039</td>\n",
       "      <td>0.25975</td>\n",
       "      <td>25.97%</td>\n",
       "    </tr>\n",
       "    <tr>\n",
       "      <th>2</th>\n",
       "      <td>1</td>\n",
       "      <td>0</td>\n",
       "      <td>866</td>\n",
       "      <td>0.21650</td>\n",
       "      <td>21.65%</td>\n",
       "    </tr>\n",
       "    <tr>\n",
       "      <th>3</th>\n",
       "      <td>1</td>\n",
       "      <td>1</td>\n",
       "      <td>195</td>\n",
       "      <td>0.04875</td>\n",
       "      <td>4.88%</td>\n",
       "    </tr>\n",
       "  </tbody>\n",
       "</table>\n",
       "</div>"
      ],
      "text/plain": [
       "  churn promo_friends index share_abs share_%\n",
       "                      count                  \n",
       "0     0             0  1900   0.47500  47.50%\n",
       "1     0             1  1039   0.25975  25.97%\n",
       "2     1             0   866   0.21650  21.65%\n",
       "3     1             1   195   0.04875   4.88%"
      ]
     },
     "metadata": {},
     "output_type": "display_data"
    },
    {
     "data": {
      "text/html": [
       "<div>\n",
       "<style scoped>\n",
       "    .dataframe tbody tr th:only-of-type {\n",
       "        vertical-align: middle;\n",
       "    }\n",
       "\n",
       "    .dataframe tbody tr th {\n",
       "        vertical-align: top;\n",
       "    }\n",
       "\n",
       "    .dataframe thead tr th {\n",
       "        text-align: left;\n",
       "    }\n",
       "</style>\n",
       "<table border=\"1\" class=\"dataframe\">\n",
       "  <thead>\n",
       "    <tr>\n",
       "      <th></th>\n",
       "      <th>churn</th>\n",
       "      <th>phone</th>\n",
       "      <th>index</th>\n",
       "      <th>share_abs</th>\n",
       "      <th>share_%</th>\n",
       "    </tr>\n",
       "    <tr>\n",
       "      <th></th>\n",
       "      <th></th>\n",
       "      <th></th>\n",
       "      <th>count</th>\n",
       "      <th></th>\n",
       "      <th></th>\n",
       "    </tr>\n",
       "  </thead>\n",
       "  <tbody>\n",
       "    <tr>\n",
       "      <th>0</th>\n",
       "      <td>0</td>\n",
       "      <td>0</td>\n",
       "      <td>283</td>\n",
       "      <td>0.07075</td>\n",
       "      <td>7.07%</td>\n",
       "    </tr>\n",
       "    <tr>\n",
       "      <th>1</th>\n",
       "      <td>0</td>\n",
       "      <td>1</td>\n",
       "      <td>2656</td>\n",
       "      <td>0.66400</td>\n",
       "      <td>66.40%</td>\n",
       "    </tr>\n",
       "    <tr>\n",
       "      <th>2</th>\n",
       "      <td>1</td>\n",
       "      <td>0</td>\n",
       "      <td>103</td>\n",
       "      <td>0.02575</td>\n",
       "      <td>2.57%</td>\n",
       "    </tr>\n",
       "    <tr>\n",
       "      <th>3</th>\n",
       "      <td>1</td>\n",
       "      <td>1</td>\n",
       "      <td>958</td>\n",
       "      <td>0.23950</td>\n",
       "      <td>23.95%</td>\n",
       "    </tr>\n",
       "  </tbody>\n",
       "</table>\n",
       "</div>"
      ],
      "text/plain": [
       "  churn phone index share_abs share_%\n",
       "              count                  \n",
       "0     0     0   283   0.07075   7.07%\n",
       "1     0     1  2656   0.66400  66.40%\n",
       "2     1     0   103   0.02575   2.57%\n",
       "3     1     1   958   0.23950  23.95%"
      ]
     },
     "metadata": {},
     "output_type": "display_data"
    },
    {
     "data": {
      "text/html": [
       "<div>\n",
       "<style scoped>\n",
       "    .dataframe tbody tr th:only-of-type {\n",
       "        vertical-align: middle;\n",
       "    }\n",
       "\n",
       "    .dataframe tbody tr th {\n",
       "        vertical-align: top;\n",
       "    }\n",
       "\n",
       "    .dataframe thead tr th {\n",
       "        text-align: left;\n",
       "    }\n",
       "</style>\n",
       "<table border=\"1\" class=\"dataframe\">\n",
       "  <thead>\n",
       "    <tr>\n",
       "      <th></th>\n",
       "      <th>churn</th>\n",
       "      <th>group_visits</th>\n",
       "      <th>index</th>\n",
       "      <th>share_abs</th>\n",
       "      <th>share_%</th>\n",
       "    </tr>\n",
       "    <tr>\n",
       "      <th></th>\n",
       "      <th></th>\n",
       "      <th></th>\n",
       "      <th>count</th>\n",
       "      <th></th>\n",
       "      <th></th>\n",
       "    </tr>\n",
       "  </thead>\n",
       "  <tbody>\n",
       "    <tr>\n",
       "      <th>0</th>\n",
       "      <td>0</td>\n",
       "      <td>0</td>\n",
       "      <td>1575</td>\n",
       "      <td>0.39375</td>\n",
       "      <td>39.38%</td>\n",
       "    </tr>\n",
       "    <tr>\n",
       "      <th>1</th>\n",
       "      <td>0</td>\n",
       "      <td>1</td>\n",
       "      <td>1364</td>\n",
       "      <td>0.34100</td>\n",
       "      <td>34.10%</td>\n",
       "    </tr>\n",
       "    <tr>\n",
       "      <th>2</th>\n",
       "      <td>1</td>\n",
       "      <td>0</td>\n",
       "      <td>776</td>\n",
       "      <td>0.19400</td>\n",
       "      <td>19.40%</td>\n",
       "    </tr>\n",
       "    <tr>\n",
       "      <th>3</th>\n",
       "      <td>1</td>\n",
       "      <td>1</td>\n",
       "      <td>285</td>\n",
       "      <td>0.07125</td>\n",
       "      <td>7.12%</td>\n",
       "    </tr>\n",
       "  </tbody>\n",
       "</table>\n",
       "</div>"
      ],
      "text/plain": [
       "  churn group_visits index share_abs share_%\n",
       "                     count                  \n",
       "0     0            0  1575   0.39375  39.38%\n",
       "1     0            1  1364   0.34100  34.10%\n",
       "2     1            0   776   0.19400  19.40%\n",
       "3     1            1   285   0.07125   7.12%"
      ]
     },
     "metadata": {},
     "output_type": "display_data"
    }
   ],
   "source": [
    "# Рассмотрим свойства с бинарными значениями\n",
    "binars = ['gender', 'near_location', 'partner', 'promo_friends', 'phone', 'group_visits']\n",
    "for i in binars:\n",
    "    df_ = df[['churn', i]].reset_index().groupby(['churn',i]).agg({'count'})\n",
    "    df_.reset_index(inplace=True)\n",
    "    df_['share_abs'] = df_['index'] / len(df)\n",
    "    df_['share_%'] = df_.share_abs.map(lambda x: '{:.2%}'.format(x))\n",
    "    display(df_)"
   ]
  },
  {
   "cell_type": "markdown",
   "metadata": {},
   "source": [
    "### **Вывод**\n",
    "\n",
    "* Изменчивость признаков (стандартное отклонение), обозначенных в бинарном виде, варьируется в пределах абсолютных величин статусов данных признаков `[0, 1]`: минимальна для признака «предоставление контактного телефона» `(~0.3)` и максимальна для указания пола клиента `(~0.5)`\n",
    "* Стандартное отклонение для небинарных признаков варьируется в широких пределах и зависит от единицы измерения, например: время и деньги. Для временного признака минимальная изменчивость соответствует показателю `Avg_class_frequency_total` — средняя частота посещений в неделю за все время с начала действия абонемента и равна `0,97`, максимальная – для `Contract_period` — длительность текущего действующего абонемента (месяц, 3 месяца, 6 месяцев, год) и равна `4,55`. Для денежного признака (единственного) стандартное отклонение равно `96,36`у.е.\n",
    "* *Следует отметить, что сравнение признаков с различными единицами измерения и/или логикой сбора данных некорректно. Данные показатели изменчивости приведены в справочных целях.*\n",
    "\n",
    "\n",
    "\n",
    "\n",
    "* `gender` — пол\t– находится приблизительно на одном уровне для мужчин и женщин в группах посетителей, оставшихся в заведении и прекративших пользоваться услугами: 36-37% остаются,  около 13% уходят\n",
    "* `Near_Location`  (близость расположения) – влияет значительно: 64% пользователей услуг остаются против 9%, проживающих рядом. Для проживающих далеко от месторасположения центра 20% уходят, 6% остаются\n",
    "* `Partner` (партнерская программа) – влияет на отток клиентов, остаются при партнерской программе и без нее 34% и 39% соответственно, тогда как уходят без партнерской программы 17%, а с ней – 9%\n",
    "* `Promo_friends` (приведи друга) – влияет на отток клиентов, остаются без нее и сней 47% и 26% соответственно, а уходят без нее значительно больше чем с ней – 21% против 4%\n",
    "* `Phone` (предоставление контактного телефона) – в обоих группах клиентов значительно больше тех, кто предоставляет контактных телефон: в ушедших – 24% против 3%, в остающихся – 66% против 7%\n",
    "* `Group_visits`  (групповые визиты) – наличие общение между посетителями положительно влияет на удержание клиентов – 39% таких клиентов остаются против 19% ушедших, без нее 34% клиентов остаются, 7% уходят\n",
    "\n",
    "* `Age` — возраст – для ушедших выражен возрастной пик в районе 27 – 33 лет, для оставшихся клиентов пик выражен неявно и растянут на промежутке 24 – 31 года\n",
    "* `Avg_additional_charges_total` — суммарная выручка от других услуг фитнес-центра – уходят платящие клиента с пиком в районе 150у.е. до 600у.е., остаются менее платящие клиенты с менее выраженным пиком в районе от 0 до 100у.е.\n",
    "* `Month_to_end_contract — срок до окончания текущего действующего абонемента (в месяцах): уходящие клиенты не ждут 1, 5 и 12 месяцев до окончания действующего абонемента в количестве порядка 1200, 600 и 500 человек соответственно\n",
    "* `Lifetime` — время с момента первого обращения в фитнес-центр (в месяцах) – клиенты уходят в пике после 3-5 месяцев с момента первого обращения\n",
    "* `Avg_class_frequency_total` — средняя частота посещений в неделю за все время с начала действия абонемента – уходящие клиенты посещают в среднем центр до 4-х раз в неделю, остающиеся – до 3-х раз в неделю\n",
    "* `Avg_class_frequency_current_month` — средняя частота посещений в неделю за предыдущий месяц – за последний меся уходящие клиенты посещали центр в пике до 4-х раз, остающиеся – до 2-3х раз\n",
    "\n",
    "\n",
    "\n",
    "* Коррелирующими параметрами являются `Contract_period`' — длительность текущего действующего абонемента (месяц, 3 месяца, 6 месяцев, год) и `Month_to_end_contract` — срок до окончания текущего действующего абонемента (в месяцах) с коэффициентом корреляции **0,97**,\n",
    "\n",
    "* а также `Avg_class_frequency_current_month` — средняя частота посещений в неделю за предыдущий месяц и `Avg_additional_charges_total` — суммарная выручка от других услуг фитнес-центра: кафе, спорт-товары, косметический и массажный салон с коэффициентом корреляции **0,95**\n",
    "\n",
    "\n"
   ]
  },
  {
   "cell_type": "markdown",
   "metadata": {},
   "source": [
    "## Шаг 3. Прогнозирование оттока клиентов"
   ]
  },
  {
   "cell_type": "markdown",
   "metadata": {},
   "source": [
    "В данных присутствуют две пары коллинеарных признаков: \n",
    "* `Contract_period` - `Month_to_end_contract` \n",
    "* `Avg_class_frequency_total` - `Avg_class_frequency_current_month`\n",
    "\n",
    "Удалим по одному от каждой пары в датасете:\n"
   ]
  },
  {
   "cell_type": "code",
   "execution_count": 13,
   "metadata": {},
   "outputs": [
    {
     "data": {
      "text/html": [
       "<div>\n",
       "<style scoped>\n",
       "    .dataframe tbody tr th:only-of-type {\n",
       "        vertical-align: middle;\n",
       "    }\n",
       "\n",
       "    .dataframe tbody tr th {\n",
       "        vertical-align: top;\n",
       "    }\n",
       "\n",
       "    .dataframe thead th {\n",
       "        text-align: right;\n",
       "    }\n",
       "</style>\n",
       "<table border=\"1\" class=\"dataframe\">\n",
       "  <thead>\n",
       "    <tr style=\"text-align: right;\">\n",
       "      <th></th>\n",
       "      <th>gender</th>\n",
       "      <th>near_location</th>\n",
       "      <th>partner</th>\n",
       "      <th>promo_friends</th>\n",
       "      <th>phone</th>\n",
       "      <th>contract_period</th>\n",
       "      <th>group_visits</th>\n",
       "      <th>age</th>\n",
       "      <th>avg_additional_charges_total</th>\n",
       "      <th>lifetime</th>\n",
       "      <th>avg_class_frequency_current_month</th>\n",
       "      <th>churn</th>\n",
       "    </tr>\n",
       "  </thead>\n",
       "  <tbody>\n",
       "    <tr>\n",
       "      <th>0</th>\n",
       "      <td>1</td>\n",
       "      <td>1</td>\n",
       "      <td>1</td>\n",
       "      <td>1</td>\n",
       "      <td>0</td>\n",
       "      <td>6</td>\n",
       "      <td>1</td>\n",
       "      <td>29</td>\n",
       "      <td>14.227470</td>\n",
       "      <td>3</td>\n",
       "      <td>0.000000</td>\n",
       "      <td>0</td>\n",
       "    </tr>\n",
       "    <tr>\n",
       "      <th>1</th>\n",
       "      <td>0</td>\n",
       "      <td>1</td>\n",
       "      <td>0</td>\n",
       "      <td>0</td>\n",
       "      <td>1</td>\n",
       "      <td>12</td>\n",
       "      <td>1</td>\n",
       "      <td>31</td>\n",
       "      <td>113.202938</td>\n",
       "      <td>7</td>\n",
       "      <td>1.910244</td>\n",
       "      <td>0</td>\n",
       "    </tr>\n",
       "  </tbody>\n",
       "</table>\n",
       "</div>"
      ],
      "text/plain": [
       "   gender  near_location  partner  promo_friends  phone  contract_period  \\\n",
       "0       1              1        1              1      0                6   \n",
       "1       0              1        0              0      1               12   \n",
       "\n",
       "   group_visits  age  avg_additional_charges_total  lifetime  \\\n",
       "0             1   29                     14.227470         3   \n",
       "1             1   31                    113.202938         7   \n",
       "\n",
       "   avg_class_frequency_current_month  churn  \n",
       "0                           0.000000      0  \n",
       "1                           1.910244      0  "
      ]
     },
     "execution_count": 13,
     "metadata": {},
     "output_type": "execute_result"
    }
   ],
   "source": [
    "dfс = df.drop(['month_to_end_contract', 'avg_class_frequency_total'], axis=1)\n",
    "dfс.head(2)"
   ]
  },
  {
   "cell_type": "markdown",
   "metadata": {},
   "source": [
    "### Разбиение и подготовка данных"
   ]
  },
  {
   "cell_type": "code",
   "execution_count": 14,
   "metadata": {},
   "outputs": [],
   "source": [
    "X=dfс.drop('churn', axis=1)   # исключение целевой переменной из набора признаков\n",
    "y=dfс['churn']                # выделение целевой переменной из набора признаков в отдельную переменную\n",
    "\n",
    "# разбиение данных на обучающую и тестовую выборки в пропорции 80/20 соответственно и с отсутствием случайности разбиения\n",
    "X_train, X_test, y_train, y_test = train_test_split(X, y, test_size=0.2, random_state=0)\n",
    "\n",
    "scaler = StandardScaler()                 # создание объекта стандартизации          \n",
    "scaler.fit(X_train)                       # обучение стандартизатора на обучающей выборке\n",
    "X_train_st = scaler.transform(X_train)    # стандартизация обучающей выборки\n",
    "X_test_st =  scaler.transform(X_test)     # стандартизация тестовой выборки"
   ]
  },
  {
   "cell_type": "code",
   "execution_count": 15,
   "metadata": {},
   "outputs": [
    {
     "name": "stdout",
     "output_type": "stream",
     "text": [
      "Доля обучающей выборки из общей:  80.0 %\n",
      "Доля тестовой выборки из общей:  20.0 %\n"
     ]
    }
   ],
   "source": [
    "print('Доля обучающей выборки из общей: ', X_train.shape[0] / (X_train.shape[0] + X_test.shape[0])*100, '%')\n",
    "print('Доля тестовой выборки из общей: ', X_test.shape[0] / (X_train.shape[0] + X_test.shape[0])*100, '%')"
   ]
  },
  {
   "cell_type": "markdown",
   "metadata": {},
   "source": [
    "или"
   ]
  },
  {
   "cell_type": "code",
   "execution_count": 16,
   "metadata": {},
   "outputs": [
    {
     "name": "stdout",
     "output_type": "stream",
     "text": [
      "Доля обучающей выборки из общей:  80.0 %\n",
      "Доля тестовой выборки из общей:  20.0 %\n"
     ]
    }
   ],
   "source": [
    "print('Доля обучающей выборки из общей: ', len(y_train) / (len(y_train) + len(y_test))*100, '%')\n",
    "print('Доля тестовой выборки из общей: ', len(y_test) / (len(y_train) + len(y_test))*100, '%')"
   ]
  },
  {
   "cell_type": "markdown",
   "metadata": {},
   "source": [
    "### Обучение модели"
   ]
  },
  {
   "cell_type": "markdown",
   "metadata": {},
   "source": [
    "#### Логистическая регрессия"
   ]
  },
  {
   "cell_type": "code",
   "execution_count": 17,
   "metadata": {},
   "outputs": [],
   "source": [
    "lr_model = LogisticRegression(random_state = 0)  # объект логистической регрессии с отсутствием случайности разбиения\n",
    "lr_model.fit(X_train_st, y_train)                # обучение модели на обучающих данных\n",
    "lr_predictions = lr_model.predict(X_test_st)     # получение прогноза на тестовой выборке\n",
    "lr_probabilities = lr_model.predict_proba(X_test_st)[:,1]  # вероятность принадлежности объектов к классам"
   ]
  },
  {
   "cell_type": "markdown",
   "metadata": {},
   "source": [
    "#### Случайный лес"
   ]
  },
  {
   "cell_type": "code",
   "execution_count": 18,
   "metadata": {},
   "outputs": [],
   "source": [
    "# объект -модель \"случайный лес\" с макс.кол-вом деревьев 100 и отсутствием случайности разбиения\n",
    "rf_model = RandomForestClassifier(n_estimators = 100,random_state = 0)\n",
    "rf_model.fit(X_train_st, y_train)                    # обучение модели на обучающих данных\n",
    "rf_predictions = rf_model.predict(X_test_st)         # получение прогноза на тестовой выборке\n",
    "rf_probabilities = rf_model.predict_proba(X_test_st)[:,1]   # вероятность принадлежности объектов к классам"
   ]
  },
  {
   "cell_type": "markdown",
   "metadata": {},
   "source": [
    "#### Оценка метрик"
   ]
  },
  {
   "cell_type": "code",
   "execution_count": 19,
   "metadata": {},
   "outputs": [
    {
     "name": "stdout",
     "output_type": "stream",
     "text": [
      "\u001b[1mМетрики: логистическая регрессия\u001b[0m\n",
      "\n",
      "Accuracy: 0.902\n",
      "Precision: 0.791\n",
      "Recall: 0.823\n",
      "F1: 0.807\n",
      "ROC_AUC: 0.962\n",
      "\n",
      "\u001b[1mМетрики: случайный лес\u001b[0m\n",
      "\n",
      "Accuracy: 0.895\n",
      "Precision: 0.813\n",
      "Recall: 0.747\n",
      "F1: 0.779\n",
      "ROC_AUC: 0.948\n",
      "\n"
     ]
    }
   ],
   "source": [
    "def metrics_evaluation(header, y_true, y_pred, y_proba):\n",
    "    print(header)\n",
    "    print('Accuracy:', accuracy_score(y_true, y_pred).round(3))\n",
    "    print('Precision:', precision_score(y_true, y_pred).round(3))\n",
    "    print('Recall:', recall_score(y_true, y_pred).round(3))\n",
    "    print('F1:', f1_score(y_true, y_pred).round(3))\n",
    "    print('ROC_AUC:', roc_auc_score(y_true, y_proba).round(3))\n",
    "    print()\n",
    "\n",
    "metrics_evaluation('\\033[1m'+'Метрики: логистическая регрессия'+'\\033[0m\\n', y_test, lr_predictions, lr_probabilities)\n",
    "metrics_evaluation('\\033[1m'+'Метрики: случайный лес'+'\\033[0m\\n', y_test, rf_predictions, rf_probabilities)"
   ]
  },
  {
   "cell_type": "code",
   "execution_count": 20,
   "metadata": {},
   "outputs": [
    {
     "data": {
      "text/plain": [
       "<Figure size 432x288 with 0 Axes>"
      ]
     },
     "metadata": {},
     "output_type": "display_data"
    },
    {
     "data": {
      "image/png": "[encoded data removed]",
      "text/plain": [
       "<Figure size 1008x288 with 1 Axes>"
      ]
     },
     "metadata": {
      "needs_background": "light"
     },
     "output_type": "display_data"
    }
   ],
   "source": [
    "plt.figure(0).clf()\n",
    "fig = plt.figure(figsize=(14,4))\n",
    "fpr, tpr, thresh = metrics.roc_curve(y_test, lr_probabilities)\n",
    "plt.plot(fpr,tpr,label=\"Логистическая регрессия\")\n",
    "fpr, tpr, thresh = metrics.roc_curve(y_test, rf_probabilities)\n",
    "plt.plot(fpr,tpr,label=\"Случайный лес\")\n",
    "plt.xlabel('FPR')\n",
    "plt.ylabel('TPR')\n",
    "plt.title('ROC_AUC')\n",
    "plt.legend()\n",
    "plt.show()"
   ]
  },
  {
   "cell_type": "markdown",
   "metadata": {},
   "source": [
    "### **Вывод**\n",
    "* **Accuracy**: лучше показала модель Логистической регрессии: 0.902 против 0.895 Случайного леса\n",
    "* **Precision**: лучше показала модель Случайного леса: 0.791 против 0.813 Логистической регрессии\n",
    "* **Recall**: лучше показала модель Логистической регрессии: 0.823 против 0.747 Случайного леса\n",
    "* **F1**: лучше показала модель Логистической регрессии: 0.807 против 0.779 Случайного леса\n",
    "* **ROC_AUC**: лучше показала модель Логистической регрессии: 0.962 против 0.948 Случайного леса. С точки зрения графического отображения наглядно заметно, что Логистическая регрессия лучше отрабатывает ложно-позитивные события\n"
   ]
  },
  {
   "cell_type": "markdown",
   "metadata": {},
   "source": [
    "## Шаг 4. Кластеризация пользователй"
   ]
  },
  {
   "cell_type": "markdown",
   "metadata": {},
   "source": [
    "### Кластеризация без целевого признака"
   ]
  },
  {
   "cell_type": "code",
   "execution_count": 21,
   "metadata": {},
   "outputs": [],
   "source": [
    "df_cl_1 = df.drop('churn', axis=1)      # исключение целевой переменной и стандартизация данных\n",
    "X_sc = scaler.fit_transform(df_cl_1)    # стандартизация"
   ]
  },
  {
   "cell_type": "code",
   "execution_count": 22,
   "metadata": {},
   "outputs": [
    {
     "data": {
      "image/png": "[encoded data removed]",
      "text/plain": [
       "<Figure size 1656x504 with 1 Axes>"
      ]
     },
     "metadata": {
      "needs_background": "light"
     },
     "output_type": "display_data"
    }
   ],
   "source": [
    "linked = linkage(X_sc, method = 'ward')   #матрица расстояний\n",
    "plt.figure(figsize=(23, 7))  \n",
    "dendrogram(linked, orientation='top', no_labels=True)   # дендрограмма с таблицей связок между объектами\n",
    "plt.title('Дендрограмма иерархической кластеризации клиентов фитнес-клуба', size=16)\n",
    "plt.show() "
   ]
  },
  {
   "cell_type": "code",
   "execution_count": 23,
   "metadata": {},
   "outputs": [],
   "source": [
    "ro = KMeans(n_clusters = 5, random_state=0)     # модель k_means с количеством кластеров 5\n",
    "cluster_number = ro.fit_predict(X_sc)           # разбиение на кластеры в пределах [0; 4]"
   ]
  },
  {
   "cell_type": "code",
   "execution_count": 24,
   "metadata": {},
   "outputs": [],
   "source": [
    "df_cl_1['cluster'] = cluster_number               # сохранение метки кластера в поле датасета"
   ]
  },
  {
   "cell_type": "code",
   "execution_count": 25,
   "metadata": {},
   "outputs": [
    {
     "data": {
      "text/html": [
       "<div>\n",
       "<style scoped>\n",
       "    .dataframe tbody tr th:only-of-type {\n",
       "        vertical-align: middle;\n",
       "    }\n",
       "\n",
       "    .dataframe tbody tr th {\n",
       "        vertical-align: top;\n",
       "    }\n",
       "\n",
       "    .dataframe thead th {\n",
       "        text-align: right;\n",
       "    }\n",
       "</style>\n",
       "<table border=\"1\" class=\"dataframe\">\n",
       "  <thead>\n",
       "    <tr style=\"text-align: right;\">\n",
       "      <th>cluster</th>\n",
       "      <th>0</th>\n",
       "      <th>1</th>\n",
       "      <th>2</th>\n",
       "      <th>3</th>\n",
       "      <th>4</th>\n",
       "    </tr>\n",
       "  </thead>\n",
       "  <tbody>\n",
       "    <tr>\n",
       "      <th>gender</th>\n",
       "      <td>0.502970</td>\n",
       "      <td>0.522078</td>\n",
       "      <td>0.495050</td>\n",
       "      <td>0.485737</td>\n",
       "      <td>0.559666</td>\n",
       "    </tr>\n",
       "    <tr>\n",
       "      <th>near_location</th>\n",
       "      <td>0.959406</td>\n",
       "      <td>0.862338</td>\n",
       "      <td>0.000000</td>\n",
       "      <td>1.000000</td>\n",
       "      <td>0.976134</td>\n",
       "    </tr>\n",
       "    <tr>\n",
       "      <th>partner</th>\n",
       "      <td>0.783168</td>\n",
       "      <td>0.470130</td>\n",
       "      <td>0.463366</td>\n",
       "      <td>0.350238</td>\n",
       "      <td>0.356802</td>\n",
       "    </tr>\n",
       "    <tr>\n",
       "      <th>promo_friends</th>\n",
       "      <td>0.574257</td>\n",
       "      <td>0.306494</td>\n",
       "      <td>0.079208</td>\n",
       "      <td>0.240095</td>\n",
       "      <td>0.230310</td>\n",
       "    </tr>\n",
       "    <tr>\n",
       "      <th>phone</th>\n",
       "      <td>1.000000</td>\n",
       "      <td>0.000000</td>\n",
       "      <td>1.000000</td>\n",
       "      <td>1.000000</td>\n",
       "      <td>0.998807</td>\n",
       "    </tr>\n",
       "    <tr>\n",
       "      <th>contract_period</th>\n",
       "      <td>10.889109</td>\n",
       "      <td>4.787013</td>\n",
       "      <td>2.352475</td>\n",
       "      <td>1.948494</td>\n",
       "      <td>2.669451</td>\n",
       "    </tr>\n",
       "    <tr>\n",
       "      <th>group_visits</th>\n",
       "      <td>0.542574</td>\n",
       "      <td>0.425974</td>\n",
       "      <td>0.215842</td>\n",
       "      <td>0.341521</td>\n",
       "      <td>0.473747</td>\n",
       "    </tr>\n",
       "    <tr>\n",
       "      <th>age</th>\n",
       "      <td>29.982178</td>\n",
       "      <td>29.301299</td>\n",
       "      <td>28.477228</td>\n",
       "      <td>28.167987</td>\n",
       "      <td>30.125298</td>\n",
       "    </tr>\n",
       "    <tr>\n",
       "      <th>avg_additional_charges_total</th>\n",
       "      <td>160.761016</td>\n",
       "      <td>143.957664</td>\n",
       "      <td>135.457501</td>\n",
       "      <td>131.622204</td>\n",
       "      <td>161.657905</td>\n",
       "    </tr>\n",
       "    <tr>\n",
       "      <th>month_to_end_contract</th>\n",
       "      <td>9.954455</td>\n",
       "      <td>4.475325</td>\n",
       "      <td>2.198020</td>\n",
       "      <td>1.856577</td>\n",
       "      <td>2.459427</td>\n",
       "    </tr>\n",
       "    <tr>\n",
       "      <th>lifetime</th>\n",
       "      <td>4.736634</td>\n",
       "      <td>3.924675</td>\n",
       "      <td>2.809901</td>\n",
       "      <td>2.440571</td>\n",
       "      <td>4.898568</td>\n",
       "    </tr>\n",
       "    <tr>\n",
       "      <th>avg_class_frequency_total</th>\n",
       "      <td>1.982055</td>\n",
       "      <td>1.847220</td>\n",
       "      <td>1.660461</td>\n",
       "      <td>1.247634</td>\n",
       "      <td>2.852002</td>\n",
       "    </tr>\n",
       "    <tr>\n",
       "      <th>avg_class_frequency_current_month</th>\n",
       "      <td>1.974789</td>\n",
       "      <td>1.716369</td>\n",
       "      <td>1.477324</td>\n",
       "      <td>1.012983</td>\n",
       "      <td>2.850161</td>\n",
       "    </tr>\n",
       "  </tbody>\n",
       "</table>\n",
       "</div>"
      ],
      "text/plain": [
       "cluster                                     0           1           2  \\\n",
       "gender                               0.502970    0.522078    0.495050   \n",
       "near_location                        0.959406    0.862338    0.000000   \n",
       "partner                              0.783168    0.470130    0.463366   \n",
       "promo_friends                        0.574257    0.306494    0.079208   \n",
       "phone                                1.000000    0.000000    1.000000   \n",
       "contract_period                     10.889109    4.787013    2.352475   \n",
       "group_visits                         0.542574    0.425974    0.215842   \n",
       "age                                 29.982178   29.301299   28.477228   \n",
       "avg_additional_charges_total       160.761016  143.957664  135.457501   \n",
       "month_to_end_contract                9.954455    4.475325    2.198020   \n",
       "lifetime                             4.736634    3.924675    2.809901   \n",
       "avg_class_frequency_total            1.982055    1.847220    1.660461   \n",
       "avg_class_frequency_current_month    1.974789    1.716369    1.477324   \n",
       "\n",
       "cluster                                     3           4  \n",
       "gender                               0.485737    0.559666  \n",
       "near_location                        1.000000    0.976134  \n",
       "partner                              0.350238    0.356802  \n",
       "promo_friends                        0.240095    0.230310  \n",
       "phone                                1.000000    0.998807  \n",
       "contract_period                      1.948494    2.669451  \n",
       "group_visits                         0.341521    0.473747  \n",
       "age                                 28.167987   30.125298  \n",
       "avg_additional_charges_total       131.622204  161.657905  \n",
       "month_to_end_contract                1.856577    2.459427  \n",
       "lifetime                             2.440571    4.898568  \n",
       "avg_class_frequency_total            1.247634    2.852002  \n",
       "avg_class_frequency_current_month    1.012983    2.850161  "
      ]
     },
     "execution_count": 25,
     "metadata": {},
     "output_type": "execute_result"
    }
   ],
   "source": [
    "df_cl_1_mean = df_cl_1.groupby('cluster').mean().T\n",
    "df_cl_1_mean"
   ]
  },
  {
   "cell_type": "markdown",
   "metadata": {},
   "source": [
    "### Кластеризация с целевым признаком"
   ]
  },
  {
   "cell_type": "code",
   "execution_count": 26,
   "metadata": {},
   "outputs": [],
   "source": [
    "X_sc = scaler.fit_transform(df)    # стандартизация"
   ]
  },
  {
   "cell_type": "code",
   "execution_count": 27,
   "metadata": {},
   "outputs": [
    {
     "data": {
      "image/png": "[encoded data removed]",
      "text/plain": [
       "<Figure size 1656x504 with 1 Axes>"
      ]
     },
     "metadata": {
      "needs_background": "light"
     },
     "output_type": "display_data"
    }
   ],
   "source": [
    "linked = linkage(X_sc, method = 'ward')   #матрица расстояний\n",
    "plt.figure(figsize=(23, 7))  \n",
    "dendrogram(linked, orientation='top', no_labels=True)   # дендрограмма с таблицей связок между объектами\n",
    "plt.title('Дендрограмма иерархической кластеризации клиентов фитнес-клуба', size=16)\n",
    "plt.show() "
   ]
  },
  {
   "cell_type": "code",
   "execution_count": 28,
   "metadata": {},
   "outputs": [],
   "source": [
    "ro = KMeans(n_clusters = 5, random_state=0)     # модель k_means с количеством кластеров 5\n",
    "cluster_number = ro.fit_predict(X_sc)           # разбиение на кластеры в пределах [0; 4]"
   ]
  },
  {
   "cell_type": "code",
   "execution_count": 29,
   "metadata": {},
   "outputs": [],
   "source": [
    "df['cluster'] = cluster_number               # сохранение метки кластера в поле датасета"
   ]
  },
  {
   "cell_type": "code",
   "execution_count": 30,
   "metadata": {},
   "outputs": [
    {
     "data": {
      "text/html": [
       "<div>\n",
       "<style scoped>\n",
       "    .dataframe tbody tr th:only-of-type {\n",
       "        vertical-align: middle;\n",
       "    }\n",
       "\n",
       "    .dataframe tbody tr th {\n",
       "        vertical-align: top;\n",
       "    }\n",
       "\n",
       "    .dataframe thead th {\n",
       "        text-align: right;\n",
       "    }\n",
       "</style>\n",
       "<table border=\"1\" class=\"dataframe\">\n",
       "  <thead>\n",
       "    <tr style=\"text-align: right;\">\n",
       "      <th>cluster</th>\n",
       "      <th>0</th>\n",
       "      <th>1</th>\n",
       "      <th>2</th>\n",
       "      <th>3</th>\n",
       "      <th>4</th>\n",
       "    </tr>\n",
       "  </thead>\n",
       "  <tbody>\n",
       "    <tr>\n",
       "      <th>gender</th>\n",
       "      <td>0.503676</td>\n",
       "      <td>0.492829</td>\n",
       "      <td>0.507917</td>\n",
       "      <td>0.521186</td>\n",
       "      <td>0.518895</td>\n",
       "    </tr>\n",
       "    <tr>\n",
       "      <th>near_location</th>\n",
       "      <td>0.000000</td>\n",
       "      <td>0.936115</td>\n",
       "      <td>1.000000</td>\n",
       "      <td>0.996610</td>\n",
       "      <td>0.968023</td>\n",
       "    </tr>\n",
       "    <tr>\n",
       "      <th>partner</th>\n",
       "      <td>0.459559</td>\n",
       "      <td>0.764016</td>\n",
       "      <td>0.323995</td>\n",
       "      <td>0.282203</td>\n",
       "      <td>0.744186</td>\n",
       "    </tr>\n",
       "    <tr>\n",
       "      <th>promo_friends</th>\n",
       "      <td>0.075368</td>\n",
       "      <td>0.534550</td>\n",
       "      <td>0.213155</td>\n",
       "      <td>0.208475</td>\n",
       "      <td>0.526163</td>\n",
       "    </tr>\n",
       "    <tr>\n",
       "      <th>phone</th>\n",
       "      <td>0.917279</td>\n",
       "      <td>0.919166</td>\n",
       "      <td>0.903776</td>\n",
       "      <td>0.904237</td>\n",
       "      <td>0.873547</td>\n",
       "    </tr>\n",
       "    <tr>\n",
       "      <th>contract_period</th>\n",
       "      <td>2.069853</td>\n",
       "      <td>10.447197</td>\n",
       "      <td>1.546894</td>\n",
       "      <td>1.882203</td>\n",
       "      <td>8.859012</td>\n",
       "    </tr>\n",
       "    <tr>\n",
       "      <th>group_visits</th>\n",
       "      <td>0.211397</td>\n",
       "      <td>0.516297</td>\n",
       "      <td>0.287454</td>\n",
       "      <td>0.452542</td>\n",
       "      <td>0.534884</td>\n",
       "    </tr>\n",
       "    <tr>\n",
       "      <th>age</th>\n",
       "      <td>28.522059</td>\n",
       "      <td>29.962190</td>\n",
       "      <td>26.926918</td>\n",
       "      <td>30.237288</td>\n",
       "      <td>29.728198</td>\n",
       "    </tr>\n",
       "    <tr>\n",
       "      <th>avg_additional_charges_total</th>\n",
       "      <td>132.741216</td>\n",
       "      <td>161.853561</td>\n",
       "      <td>113.173051</td>\n",
       "      <td>157.988625</td>\n",
       "      <td>162.907495</td>\n",
       "    </tr>\n",
       "    <tr>\n",
       "      <th>month_to_end_contract</th>\n",
       "      <td>1.950368</td>\n",
       "      <td>9.477184</td>\n",
       "      <td>1.500609</td>\n",
       "      <td>1.794915</td>\n",
       "      <td>8.155523</td>\n",
       "    </tr>\n",
       "    <tr>\n",
       "      <th>lifetime</th>\n",
       "      <td>2.757353</td>\n",
       "      <td>4.833116</td>\n",
       "      <td>1.031669</td>\n",
       "      <td>4.923729</td>\n",
       "      <td>4.411337</td>\n",
       "    </tr>\n",
       "    <tr>\n",
       "      <th>avg_class_frequency_total</th>\n",
       "      <td>1.706629</td>\n",
       "      <td>2.788103</td>\n",
       "      <td>1.449720</td>\n",
       "      <td>2.203432</td>\n",
       "      <td>0.957744</td>\n",
       "    </tr>\n",
       "    <tr>\n",
       "      <th>avg_class_frequency_current_month</th>\n",
       "      <td>1.515890</td>\n",
       "      <td>2.786919</td>\n",
       "      <td>1.037592</td>\n",
       "      <td>2.207359</td>\n",
       "      <td>0.943967</td>\n",
       "    </tr>\n",
       "    <tr>\n",
       "      <th>churn</th>\n",
       "      <td>0.450368</td>\n",
       "      <td>0.007823</td>\n",
       "      <td>0.961023</td>\n",
       "      <td>0.003390</td>\n",
       "      <td>0.024709</td>\n",
       "    </tr>\n",
       "  </tbody>\n",
       "</table>\n",
       "</div>"
      ],
      "text/plain": [
       "cluster                                     0           1           2  \\\n",
       "gender                               0.503676    0.492829    0.507917   \n",
       "near_location                        0.000000    0.936115    1.000000   \n",
       "partner                              0.459559    0.764016    0.323995   \n",
       "promo_friends                        0.075368    0.534550    0.213155   \n",
       "phone                                0.917279    0.919166    0.903776   \n",
       "contract_period                      2.069853   10.447197    1.546894   \n",
       "group_visits                         0.211397    0.516297    0.287454   \n",
       "age                                 28.522059   29.962190   26.926918   \n",
       "avg_additional_charges_total       132.741216  161.853561  113.173051   \n",
       "month_to_end_contract                1.950368    9.477184    1.500609   \n",
       "lifetime                             2.757353    4.833116    1.031669   \n",
       "avg_class_frequency_total            1.706629    2.788103    1.449720   \n",
       "avg_class_frequency_current_month    1.515890    2.786919    1.037592   \n",
       "churn                                0.450368    0.007823    0.961023   \n",
       "\n",
       "cluster                                     3           4  \n",
       "gender                               0.521186    0.518895  \n",
       "near_location                        0.996610    0.968023  \n",
       "partner                              0.282203    0.744186  \n",
       "promo_friends                        0.208475    0.526163  \n",
       "phone                                0.904237    0.873547  \n",
       "contract_period                      1.882203    8.859012  \n",
       "group_visits                         0.452542    0.534884  \n",
       "age                                 30.237288   29.728198  \n",
       "avg_additional_charges_total       157.988625  162.907495  \n",
       "month_to_end_contract                1.794915    8.155523  \n",
       "lifetime                             4.923729    4.411337  \n",
       "avg_class_frequency_total            2.203432    0.957744  \n",
       "avg_class_frequency_current_month    2.207359    0.943967  \n",
       "churn                                0.003390    0.024709  "
      ]
     },
     "execution_count": 30,
     "metadata": {},
     "output_type": "execute_result"
    }
   ],
   "source": [
    "df_cl_2_mean = df.groupby('cluster').mean().T\n",
    "df_cl_2_mean"
   ]
  },
  {
   "cell_type": "markdown",
   "metadata": {},
   "source": [
    "### Распределение признаков для кластеров"
   ]
  },
  {
   "cell_type": "code",
   "execution_count": 31,
   "metadata": {},
   "outputs": [
    {
     "data": {
      "text/html": [
       "<div>\n",
       "<style scoped>\n",
       "    .dataframe tbody tr th:only-of-type {\n",
       "        vertical-align: middle;\n",
       "    }\n",
       "\n",
       "    .dataframe tbody tr th {\n",
       "        vertical-align: top;\n",
       "    }\n",
       "\n",
       "    .dataframe thead th {\n",
       "        text-align: right;\n",
       "    }\n",
       "</style>\n",
       "<table border=\"1\" class=\"dataframe\">\n",
       "  <thead>\n",
       "    <tr style=\"text-align: right;\">\n",
       "      <th></th>\n",
       "      <th>gender</th>\n",
       "      <th>near_location</th>\n",
       "      <th>partner</th>\n",
       "      <th>promo_friends</th>\n",
       "      <th>phone</th>\n",
       "      <th>contract_period</th>\n",
       "      <th>group_visits</th>\n",
       "      <th>age</th>\n",
       "      <th>avg_additional_charges_total</th>\n",
       "      <th>month_to_end_contract</th>\n",
       "      <th>lifetime</th>\n",
       "      <th>avg_class_frequency_total</th>\n",
       "      <th>avg_class_frequency_current_month</th>\n",
       "      <th>churn</th>\n",
       "      <th>cluster</th>\n",
       "    </tr>\n",
       "  </thead>\n",
       "  <tbody>\n",
       "    <tr>\n",
       "      <th>0</th>\n",
       "      <td>1</td>\n",
       "      <td>1</td>\n",
       "      <td>1</td>\n",
       "      <td>1</td>\n",
       "      <td>0</td>\n",
       "      <td>6</td>\n",
       "      <td>1</td>\n",
       "      <td>29</td>\n",
       "      <td>14.227470</td>\n",
       "      <td>5.0</td>\n",
       "      <td>3</td>\n",
       "      <td>0.020398</td>\n",
       "      <td>0.000000</td>\n",
       "      <td>0</td>\n",
       "      <td>4</td>\n",
       "    </tr>\n",
       "    <tr>\n",
       "      <th>1</th>\n",
       "      <td>0</td>\n",
       "      <td>1</td>\n",
       "      <td>0</td>\n",
       "      <td>0</td>\n",
       "      <td>1</td>\n",
       "      <td>12</td>\n",
       "      <td>1</td>\n",
       "      <td>31</td>\n",
       "      <td>113.202938</td>\n",
       "      <td>12.0</td>\n",
       "      <td>7</td>\n",
       "      <td>1.922936</td>\n",
       "      <td>1.910244</td>\n",
       "      <td>0</td>\n",
       "      <td>1</td>\n",
       "    </tr>\n",
       "  </tbody>\n",
       "</table>\n",
       "</div>"
      ],
      "text/plain": [
       "   gender  near_location  partner  promo_friends  phone  contract_period  \\\n",
       "0       1              1        1              1      0                6   \n",
       "1       0              1        0              0      1               12   \n",
       "\n",
       "   group_visits  age  avg_additional_charges_total  month_to_end_contract  \\\n",
       "0             1   29                     14.227470                    5.0   \n",
       "1             1   31                    113.202938                   12.0   \n",
       "\n",
       "   lifetime  avg_class_frequency_total  avg_class_frequency_current_month  \\\n",
       "0         3                   0.020398                           0.000000   \n",
       "1         7                   1.922936                           1.910244   \n",
       "\n",
       "   churn  cluster  \n",
       "0      0        4  \n",
       "1      0        1  "
      ]
     },
     "execution_count": 31,
     "metadata": {},
     "output_type": "execute_result"
    }
   ],
   "source": [
    "df.head(2)"
   ]
  },
  {
   "cell_type": "code",
   "execution_count": 32,
   "metadata": {
    "scrolled": false
   },
   "outputs": [
    {
     "data": {
      "image/png": "[encoded data removed]",
      "text/plain": [
       "<Figure size 1080x288 with 1 Axes>"
      ]
     },
     "metadata": {
      "needs_background": "light"
     },
     "output_type": "display_data"
    },
    {
     "data": {
      "image/png": "[encoded data removed]",
      "text/plain": [
       "<Figure size 1080x288 with 1 Axes>"
      ]
     },
     "metadata": {
      "needs_background": "light"
     },
     "output_type": "display_data"
    },
    {
     "data": {
      "image/png": "[encoded data removed]",
      "text/plain": [
       "<Figure size 1080x288 with 1 Axes>"
      ]
     },
     "metadata": {
      "needs_background": "light"
     },
     "output_type": "display_data"
    },
    {
     "data": {
      "image/png": "[encoded data removed]",
      "text/plain": [
       "<Figure size 1080x288 with 1 Axes>"
      ]
     },
     "metadata": {
      "needs_background": "light"
     },
     "output_type": "display_data"
    },
    {
     "data": {
      "image/png": "[encoded data removed]",
      "text/plain": [
       "<Figure size 1080x288 with 1 Axes>"
      ]
     },
     "metadata": {
      "needs_background": "light"
     },
     "output_type": "display_data"
    },
    {
     "data": {
      "image/png": "[encoded data removed]",
      "text/plain": [
       "<Figure size 1080x288 with 1 Axes>"
      ]
     },
     "metadata": {
      "needs_background": "light"
     },
     "output_type": "display_data"
    },
    {
     "data": {
      "image/png": "[encoded data removed]",
      "text/plain": [
       "<Figure size 1080x288 with 1 Axes>"
      ]
     },
     "metadata": {
      "needs_background": "light"
     },
     "output_type": "display_data"
    },
    {
     "data": {
      "image/png": "[encoded data removed]",
      "text/plain": [
       "<Figure size 1080x288 with 1 Axes>"
      ]
     },
     "metadata": {
      "needs_background": "light"
     },
     "output_type": "display_data"
    },
    {
     "data": {
      "image/png": "[encoded data removed]",
      "text/plain": [
       "<Figure size 1080x288 with 1 Axes>"
      ]
     },
     "metadata": {
      "needs_background": "light"
     },
     "output_type": "display_data"
    },
    {
     "data": {
      "image/png": "[encoded data removed]",
      "text/plain": [
       "<Figure size 1080x288 with 1 Axes>"
      ]
     },
     "metadata": {
      "needs_background": "light"
     },
     "output_type": "display_data"
    }
   ],
   "source": [
    "for prop in ['gender','near_location','partner','promo_friends','phone','contract_period','group_visits', 'age','month_to_end_contract','lifetime']:\n",
    "    plt.figure(figsize=(15, 4))\n",
    "    sns.countplot(x = df[prop], hue='cluster', data=df)\n",
    "    plt.title(prop)\n",
    "    plt.show()"
   ]
  },
  {
   "cell_type": "markdown",
   "metadata": {},
   "source": [
    "### Отток в кластерах"
   ]
  },
  {
   "cell_type": "code",
   "execution_count": 33,
   "metadata": {},
   "outputs": [
    {
     "data": {
      "text/html": [
       "<div>\n",
       "<style scoped>\n",
       "    .dataframe tbody tr th:only-of-type {\n",
       "        vertical-align: middle;\n",
       "    }\n",
       "\n",
       "    .dataframe tbody tr th {\n",
       "        vertical-align: top;\n",
       "    }\n",
       "\n",
       "    .dataframe thead th {\n",
       "        text-align: right;\n",
       "    }\n",
       "</style>\n",
       "<table border=\"1\" class=\"dataframe\">\n",
       "  <thead>\n",
       "    <tr style=\"text-align: right;\">\n",
       "      <th></th>\n",
       "      <th>churn</th>\n",
       "    </tr>\n",
       "    <tr>\n",
       "      <th>cluster</th>\n",
       "      <th></th>\n",
       "    </tr>\n",
       "  </thead>\n",
       "  <tbody>\n",
       "    <tr>\n",
       "      <th>3</th>\n",
       "      <td>0.003390</td>\n",
       "    </tr>\n",
       "    <tr>\n",
       "      <th>1</th>\n",
       "      <td>0.007823</td>\n",
       "    </tr>\n",
       "    <tr>\n",
       "      <th>4</th>\n",
       "      <td>0.024709</td>\n",
       "    </tr>\n",
       "    <tr>\n",
       "      <th>0</th>\n",
       "      <td>0.450368</td>\n",
       "    </tr>\n",
       "    <tr>\n",
       "      <th>2</th>\n",
       "      <td>0.961023</td>\n",
       "    </tr>\n",
       "  </tbody>\n",
       "</table>\n",
       "</div>"
      ],
      "text/plain": [
       "            churn\n",
       "cluster          \n",
       "3        0.003390\n",
       "1        0.007823\n",
       "4        0.024709\n",
       "0        0.450368\n",
       "2        0.961023"
      ]
     },
     "execution_count": 33,
     "metadata": {},
     "output_type": "execute_result"
    }
   ],
   "source": [
    "df.groupby('cluster').agg({'churn':'mean'}).sort_values('churn')"
   ]
  },
  {
   "cell_type": "markdown",
   "metadata": {},
   "source": [
    "### **Вывод**\n",
    "* `gender`: клиенты по полу распределены в кластерах равномерно\n",
    "* `near_location`: в кластере №3 живут далеко от ФЦ, в №4 – близко, в остальных кластерах клиенты в подавляющем большинстве живут близко\n",
    "* `partner`: партнерской программой пользуются в основном в кластере № 0 (0,74)\n",
    "* `promo_friends`: в акции «приведи друга» почти не пользуются в кластере № 3 (0,07)\n",
    "* `phone`: во всех кластерах клиенты оставляют телефон на высоком уровне (0,87 – 0,92)\n",
    "* `contract_period`: в кластере №0 - максимальное среднее абонемента: 10,4 месяца\n",
    "* `group_visits`: в кластере №3 - минимальные кол-во клиентов в группах: 0,21, остальные кластеры: от 0,29 до 0,53\n",
    "* `age`: возраст в кластерах распределен равномерно в пределах от 27 до 30 лет по среднему\n",
    "* `avg_additional_charges_total`: дополнительные услуги покупаются клиентами минимально в кластере № 4 на уровне 113,2у.е. и кластере № 3 на уровне 132,7у.е., в остальных – на уровне (158, 163)\n",
    "* `month_to_end_contract`: кластер №1 и 4 имеет максимум среди кластеров в кол-ве месяцев до конца абонемента, которые равны 9,5 и 8,2 соответственно\n",
    "* `lifetime`: время с момента первого обращения в ФЦ минимально в кластере «№2 (1) и максимально в в кластерах №1 и 4: 4,8 и 4,4 соответственно\n",
    "* `avg_class_frequency_total`: среднее посещений в неделю за все время с начала действия абонемента имеет минимум в кластере №4 и равно 0,96 и максимум в кластере №1 и равно 2,79\n",
    "* `avg_class_frequency_current_month`: среднее посещений в неделю за прошедший месяц минимально в кластере №2 и равно 1,04 и максимально в кластере №2 и равно 2,79\n",
    "\n",
    "\n",
    "\n",
    "Также:\n",
    "* `age`: во всех кластерах возраст визуально имеем нормальное распределение\n",
    "* `lifetime` во всех кластерах имеет затухающее распределение количества по параметру '*время с момента первого обращения в фитнес-центр (в месяцах)*'\n",
    "\n",
    "Отток в кластерах:\n",
    "* Наиболее надежными с точки зрения оттока являются кластеры №№ 0 и 4 с показателями 2,8% и 6,8% соответственно\n",
    "* Наименее надежны по оттоку кластеры №№ 2 и 3 с показателями 44% и 51% соответственно"
   ]
  },
  {
   "cell_type": "markdown",
   "metadata": {},
   "source": [
    "## **Общий вывод**\n",
    "\n",
    "**Данные**\n",
    "\n",
    "* Данные представлены в одном файле\n",
    "* Пропуски отсуствуют\n",
    "* Дубликаты отсутствуют\n",
    "* Названия колонок преобразованы в соответствии с требованиями ***snake_style***\n",
    "* В данных присутсвуют признаки в кол-ве 14 в виде целых и действительных чисел\n",
    "\n",
    "\n",
    "\n",
    "**Ислледовательский анализ**\n",
    "\n",
    "* Изменчивость признаков (стандартное отклонение), обозначенных в бинарном виде, варьируется в пределах абсолютных величин статусов данных признаков `[0, 1]`: минимальна для признака «предоставление контактного телефона» `(~0.3)` и максимальна для указания пола клиента `(~0.5)`\n",
    "* Стандартное отклонение для небинарных признаков варьируется в широких пределах и зависит от единицы измерения, например: время и деньги. Для временного признака минимальная изменчивость соответствует показателю `Avg_class_frequency_total` — средняя частота посещений в неделю за все время с начала действия абонемента и равна `0,97`, максимальная – для `Contract_period` — длительность текущего действующего абонемента (месяц, 3 месяца, 6 месяцев, год) и равна `4,55`. Для денежного признака (единственного) стандартное отклонение равно `96,36`у.е.\n",
    "* *Следует отметить, что сравнение признаков с различными единицами измерения и/или логикой сбора данных некорректно. Данные показатели изменчивости приведены в справочных целях.*\n",
    "\n",
    "\n",
    "**Отток клиентов: параметры**\n",
    "\n",
    "* `gender` — пол\t– находится приблизительно на одном уровне для мужчин и женщин в группах посетителей, оставшихся в заведении и прекративших пользоваться услугами: 36-37% остаются,  около 13% уходят\n",
    "* `Near_Location`  (близость расположения) – влияет значительно: 64% пользователей услуг остаются против 9%, проживающих рядом. Для проживающих далеко от месторасположения центра 20% уходят, 6% остаются\n",
    "* `Partner` (партнерская программа) – влияет на отток клиентов, остаются при партнерской программе и без нее 34% и 39% соответственно, тогда как уходят без партнерской программы 17%, а с ней – 9%\n",
    "* `Promo_friends` (приведи друга) – влияет на отток клиентов, остаются без нее и сней 47% и 26% соответственно, а уходят без нее значительно больше чем с ней – 21% против 4%\n",
    "* `Phone` (предоставление контактного телефона) – в обоих группах клиентов значительно больше тех, кто предоставляет контактных телефон: в ушедших – 24% против 3%, в остающихся – 66% против 7%\n",
    "* `Group_visits`  (групповые визиты) – наличие общение между посетителями положительно влияет на удержание клиентов – 39% таких клиентов остаются против 19% ушедших, без нее 34% клиентов остаются, 7% уходят\n",
    "\n",
    "* `Age` — возраст – для ушедших выражен возрастной пик в районе 27 – 33 лет, для оставшихся клиентов пик выражен неявно и растянут на промежутке 24 – 31 года\n",
    "* `Avg_additional_charges_total` — суммарная выручка от других услуг фитнес-центра – уходят платящие клиента с пиком в районе 150у.е. до 600у.е., остаются менее платящие клиенты с менее выраженным пиком в районе от 0 до 100у.е.\n",
    "* `Month_to_end_contract — срок до окончания текущего действующего абонемента (в месяцах): уходящие клиенты не ждут 1, 5 и 12 месяцев до окончания действующего абонемента в количестве порядка 1200, 600 и 500 человек соответственно\n",
    "* `Lifetime` — время с момента первого обращения в фитнес-центр (в месяцах) – клиенты уходят в пике после 3-5 месяцев с момента первого обращения\n",
    "* `Avg_class_frequency_total` — средняя частота посещений в неделю за все время с начала действия абонемента – уходящие клиенты посещают в среднем центр до 4-х раз в неделю, остающиеся – до 3-х раз в неделю\n",
    "* `Avg_class_frequency_current_month` — средняя частота посещений в неделю за предыдущий месяц – за последний меся уходящие клиенты посещали центр в пике до 4-х раз, остающиеся – до 2-3х раз\n",
    "\n",
    "\n",
    "\n",
    "* Коррелирующими параметрами являются `Contract_period`' — длительность текущего действующего абонемента (месяц, 3 месяца, 6 месяцев, год) и `Month_to_end_contract` — срок до окончания текущего действующего абонемента (в месяцах) с коэффициентом корреляции **0,97**,\n",
    "\n",
    "* а также `Avg_class_frequency_current_month` — средняя частота посещений в неделю за предыдущий месяц и `Avg_additional_charges_total` — суммарная выручка от других услуг фитнес-центра: кафе, спорт-товары, косметический и массажный салон с коэффициентом корреляции **0,95**\n",
    "\n",
    "\n",
    "**Метрики моделей**\n",
    "\n",
    "\n",
    "* **Accuracy**: лучше показала модель Логистической регрессии: 0.902 против 0.895 Случайного леса\n",
    "* **Precision**: лучше показала модель Случайного леса: 0.791 против 0.813 Логистической регрессии\n",
    "* **Recall**: лучше показала модель Логистической регрессии: 0.823 против 0.747 Случайного леса\n",
    "* **F1**: лучше показала модель Логистической регрессии: 0.807 против 0.779 Случайного леса\n",
    "* **ROC_AUC**: лучше показала модель Логистической регрессии: 0.962 против 0.948 Случайного леса. С точки зрения графического отображения наглядно заметно, что Логистическая регрессия лучше отрабатывает ложно-позитивные события\n",
    "\n",
    "\n",
    "**Кластеризация**\n",
    "* `gender`: клиенты по полу распределены в кластерах равномерно\n",
    "* `near_location`: в кластере №3 живут далеко от ФЦ, в №4 – близко, в остальных кластерах клиенты в подавляющем большинстве живут близко\n",
    "* `partner`: партнерской программой пользуются в основном в кластере № 0 (0,74)\n",
    "* `promo_friends`: в акции «приведи друга» почти не пользуются в кластере № 3 (0,07)\n",
    "* `phone`: во всех кластерах клиенты оставляют телефон на высоком уровне (0,87 – 0,92)\n",
    "* `contract_period`: в кластере №0 - максимальное среднее абонемента: 10,4 месяца\n",
    "* `group_visits`: в кластере №3 - минимальные кол-во клиентов в группах: 0,21, остальные кластеры: от 0,29 до 0,53\n",
    "* `age`: возраст в кластерах распределен равномерно в пределах от 27 до 30 лет по среднему\n",
    "* `avg_additional_charges_total`: дополнительные услуги покупаются клиентами минимально в кластере № 4 на уровне 113,2у.е. и кластере № 3 на уровне 132,7у.е., в остальных – на уровне (158, 163)\n",
    "* `month_to_end_contract`: кластер №1 и 4 имеет максимум среди кластеров в кол-ве месяцев до конца абонемента, которые равны 9,5 и 8,2 соответственно\n",
    "* `lifetime`: время с момента первого обращения в ФЦ минимально в кластере «№2 (1) и максимально в в кластерах №1 и 4: 4,8 и 4,4 соответственно\n",
    "* `avg_class_frequency_total`: среднее посещений в неделю за все время с начала действия абонемента имеет минимум в кластере №4 и равно 0,96 и максимум в кластере №1 и равно 2,79\n",
    "* `avg_class_frequency_current_month`: среднее посещений в неделю за прошедший месяц минимально в кластере №2 и равно 1,04 и максимально в кластере №2 и равно 2,79\n",
    "\n",
    "Также:\n",
    "* `age`: во всех кластерах возраст визуально имеем нормальное распределение\n",
    "* `lifetime` во всех кластерах имеет затухающее распределение количества по параметру '*время с момента первого обращения в фитнес-центр (в месяцах)*'\n",
    "\n",
    "**Отток в кластерах**\n",
    "* Наиболее надежными с точки зрения оттока являются кластеры №№ 0 и 4 с показателями 2,8% и 6,8% соответственно\n",
    "* Наименее надежны по оттоку кластеры №№ 2 и 3 с показателями 44% и 51% соответственно\n",
    "\n",
    "\n",
    "\n"
   ]
  },
  {
   "cell_type": "markdown",
   "metadata": {},
   "source": [
    "## **Рекомендации**\n",
    "Для удержания клиентов можно предложить следующие шаги:\n",
    "* более широкое распространение партнерских программ\n",
    "* промотирование программ с более длительным абонентским периодом\n",
    "* групповое посещение\n",
    "* расширение ассортимента дополнительных услуг"
   ]
  }
 ],
 "metadata": {
  "ExecuteTimeLog": [
   {
    "duration": 1372,
    "start_time": "2022-06-13T11:45:15.460Z"
   },
   {
    "duration": 4,
    "start_time": "2022-06-13T11:45:20.651Z"
   },
   {
    "duration": 122,
    "start_time": "2022-06-13T11:45:41.574Z"
   },
   {
    "duration": 30,
    "start_time": "2022-06-13T11:45:53.444Z"
   },
   {
    "duration": 35,
    "start_time": "2022-06-13T11:46:25.537Z"
   },
   {
    "duration": 32,
    "start_time": "2022-06-13T11:46:34.446Z"
   },
   {
    "duration": 27,
    "start_time": "2022-06-13T11:46:42.313Z"
   },
   {
    "duration": 25,
    "start_time": "2022-06-13T11:46:50.495Z"
   },
   {
    "duration": 2690,
    "start_time": "2022-06-13T11:46:58.650Z"
   },
   {
    "duration": 19,
    "start_time": "2022-06-13T11:47:15.193Z"
   },
   {
    "duration": 1465,
    "start_time": "2022-06-13T11:47:24.348Z"
   },
   {
    "duration": 1294,
    "start_time": "2022-06-13T11:47:32.888Z"
   },
   {
    "duration": 86,
    "start_time": "2022-06-13T11:47:53.343Z"
   },
   {
    "duration": 2,
    "start_time": "2022-06-13T11:48:18.354Z"
   },
   {
    "duration": 24,
    "start_time": "2022-06-13T11:48:37.797Z"
   },
   {
    "duration": 9,
    "start_time": "2022-06-13T11:48:49.440Z"
   },
   {
    "duration": 14,
    "start_time": "2022-06-13T11:49:08.197Z"
   },
   {
    "duration": 103,
    "start_time": "2022-06-13T11:49:29.193Z"
   },
   {
    "duration": 355,
    "start_time": "2022-06-13T11:49:44.574Z"
   },
   {
    "duration": 16,
    "start_time": "2022-06-13T11:49:59.296Z"
   },
   {
    "duration": 133,
    "start_time": "2022-06-13T11:50:07.950Z"
   },
   {
    "duration": 7,
    "start_time": "2022-06-13T11:50:47.802Z"
   },
   {
    "duration": 796,
    "start_time": "2022-06-13T11:50:53.352Z"
   },
   {
    "duration": 946,
    "start_time": "2022-06-13T11:51:02.550Z"
   },
   {
    "duration": 3,
    "start_time": "2022-06-13T11:51:09.241Z"
   },
   {
    "duration": 15,
    "start_time": "2022-06-13T11:51:15.513Z"
   },
   {
    "duration": 7,
    "start_time": "2022-06-13T11:51:32.438Z"
   },
   {
    "duration": 737,
    "start_time": "2022-06-13T11:51:38.194Z"
   },
   {
    "duration": 1053,
    "start_time": "2022-06-13T11:51:53.440Z"
   },
   {
    "duration": 3,
    "start_time": "2022-06-13T11:52:02.041Z"
   },
   {
    "duration": 15,
    "start_time": "2022-06-13T11:52:16.877Z"
   },
   {
    "duration": 10,
    "start_time": "2022-06-13T11:52:32.575Z"
   },
   {
    "duration": 2232,
    "start_time": "2022-06-13T11:52:39.670Z"
   },
   {
    "duration": 9,
    "start_time": "2022-06-13T11:53:01.666Z"
   },
   {
    "duration": 46,
    "start_time": "2022-06-13T11:53:19.741Z"
   },
   {
    "duration": 1973,
    "start_time": "2022-06-13T13:15:58.387Z"
   },
   {
    "duration": 73,
    "start_time": "2022-06-13T13:16:00.362Z"
   },
   {
    "duration": 32,
    "start_time": "2022-06-13T13:16:00.437Z"
   },
   {
    "duration": 39,
    "start_time": "2022-06-13T13:16:00.471Z"
   },
   {
    "duration": 56,
    "start_time": "2022-06-13T13:16:00.512Z"
   },
   {
    "duration": 28,
    "start_time": "2022-06-13T13:16:00.570Z"
   },
   {
    "duration": 28,
    "start_time": "2022-06-13T13:16:00.600Z"
   },
   {
    "duration": 3015,
    "start_time": "2022-06-13T13:16:00.630Z"
   },
   {
    "duration": 30,
    "start_time": "2022-06-13T13:16:03.646Z"
   },
   {
    "duration": 1531,
    "start_time": "2022-06-13T13:16:03.677Z"
   },
   {
    "duration": 94,
    "start_time": "2022-06-13T13:16:05.210Z"
   },
   {
    "duration": 9,
    "start_time": "2022-06-13T13:16:05.305Z"
   },
   {
    "duration": 20,
    "start_time": "2022-06-13T13:16:05.315Z"
   },
   {
    "duration": 122,
    "start_time": "2022-06-13T13:16:05.337Z"
   },
   {
    "duration": 421,
    "start_time": "2022-06-13T13:16:05.462Z"
   },
   {
    "duration": 18,
    "start_time": "2022-06-13T13:16:05.885Z"
   },
   {
    "duration": 166,
    "start_time": "2022-06-13T13:16:05.904Z"
   },
   {
    "duration": 8,
    "start_time": "2022-06-13T13:16:06.072Z"
   },
   {
    "duration": 852,
    "start_time": "2022-06-13T13:16:06.081Z"
   },
   {
    "duration": 1427,
    "start_time": "2022-06-13T13:16:06.935Z"
   },
   {
    "duration": 94,
    "start_time": "2022-06-13T13:16:08.365Z"
   },
   {
    "duration": 19,
    "start_time": "2022-06-13T13:16:08.461Z"
   },
   {
    "duration": 7,
    "start_time": "2022-06-13T13:16:08.482Z"
   },
   {
    "duration": 916,
    "start_time": "2022-06-13T13:16:08.491Z"
   },
   {
    "duration": 1557,
    "start_time": "2022-06-13T13:16:09.409Z"
   },
   {
    "duration": 93,
    "start_time": "2022-06-13T13:16:10.968Z"
   },
   {
    "duration": 17,
    "start_time": "2022-06-13T13:16:11.063Z"
   },
   {
    "duration": 9,
    "start_time": "2022-06-13T13:16:11.083Z"
   },
   {
    "duration": 2475,
    "start_time": "2022-06-13T13:16:11.094Z"
   },
   {
    "duration": 9,
    "start_time": "2022-06-13T13:16:13.571Z"
   },
   {
    "duration": 37,
    "start_time": "2022-06-13T13:21:47.673Z"
   },
   {
    "duration": 31,
    "start_time": "2022-06-13T13:23:03.392Z"
   },
   {
    "duration": 30,
    "start_time": "2022-06-13T13:25:05.599Z"
   },
   {
    "duration": 29,
    "start_time": "2022-06-13T14:48:10.457Z"
   },
   {
    "duration": 24,
    "start_time": "2022-06-13T14:49:10.354Z"
   },
   {
    "duration": 44,
    "start_time": "2022-06-13T14:49:34.052Z"
   },
   {
    "duration": 6,
    "start_time": "2022-06-13T14:50:12.103Z"
   },
   {
    "duration": 1605,
    "start_time": "2022-06-13T14:51:49.416Z"
   },
   {
    "duration": 80,
    "start_time": "2022-06-13T14:51:51.023Z"
   },
   {
    "duration": 38,
    "start_time": "2022-06-13T14:51:51.418Z"
   },
   {
    "duration": 31,
    "start_time": "2022-06-13T14:51:57.054Z"
   },
   {
    "duration": 38,
    "start_time": "2022-06-13T14:52:00.050Z"
   },
   {
    "duration": 39,
    "start_time": "2022-06-13T14:52:00.895Z"
   },
   {
    "duration": 38,
    "start_time": "2022-06-13T14:52:01.784Z"
   },
   {
    "duration": 29,
    "start_time": "2022-06-13T14:52:03.264Z"
   },
   {
    "duration": 3045,
    "start_time": "2022-06-13T14:52:04.013Z"
   },
   {
    "duration": 22,
    "start_time": "2022-06-13T14:52:15.134Z"
   },
   {
    "duration": 1667,
    "start_time": "2022-06-13T14:52:15.965Z"
   },
   {
    "duration": 114,
    "start_time": "2022-06-13T14:52:23.254Z"
   },
   {
    "duration": 14,
    "start_time": "2022-06-13T14:52:42.296Z"
   },
   {
    "duration": 23,
    "start_time": "2022-06-13T14:52:43.713Z"
   },
   {
    "duration": 5,
    "start_time": "2022-06-13T14:52:46.818Z"
   },
   {
    "duration": 5,
    "start_time": "2022-06-13T14:52:51.519Z"
   },
   {
    "duration": 22,
    "start_time": "2022-06-13T14:53:00.540Z"
   },
   {
    "duration": 453,
    "start_time": "2022-06-13T14:53:01.877Z"
   },
   {
    "duration": 23,
    "start_time": "2022-06-13T14:53:03.420Z"
   },
   {
    "duration": 159,
    "start_time": "2022-06-13T14:53:04.373Z"
   },
   {
    "duration": 11,
    "start_time": "2022-06-13T14:53:10.659Z"
   },
   {
    "duration": 1053,
    "start_time": "2022-06-13T14:53:12.809Z"
   },
   {
    "duration": 1121,
    "start_time": "2022-06-13T14:53:17.248Z"
   },
   {
    "duration": 5,
    "start_time": "2022-06-13T14:53:18.994Z"
   },
   {
    "duration": 20,
    "start_time": "2022-06-13T14:53:19.978Z"
   },
   {
    "duration": 7,
    "start_time": "2022-06-13T14:53:24.113Z"
   },
   {
    "duration": 1088,
    "start_time": "2022-06-13T14:53:24.912Z"
   },
   {
    "duration": 1537,
    "start_time": "2022-06-13T14:53:29.722Z"
   },
   {
    "duration": 4,
    "start_time": "2022-06-13T14:53:31.261Z"
   },
   {
    "duration": 20,
    "start_time": "2022-06-13T14:53:32.097Z"
   },
   {
    "duration": 11,
    "start_time": "2022-06-13T14:53:36.997Z"
   },
   {
    "duration": 2541,
    "start_time": "2022-06-13T14:53:38.397Z"
   },
   {
    "duration": 12,
    "start_time": "2022-06-13T14:53:48.651Z"
   }
  ],
  "kernelspec": {
   "display_name": "Python 3 (ipykernel)",
   "language": "python",
   "name": "python3"
  },
  "language_info": {
   "codemirror_mode": {
    "name": "ipython",
    "version": 3
   },
   "file_extension": ".py",
   "mimetype": "text/x-python",
   "name": "python",
   "nbconvert_exporter": "python",
   "pygments_lexer": "ipython3",
   "version": "3.9.7"
  },
  "toc": {
   "base_numbering": 1,
   "nav_menu": {},
   "number_sections": true,
   "sideBar": true,
   "skip_h1_title": true,
   "title_cell": "Table of Contents",
   "title_sidebar": "Contents",
   "toc_cell": false,
   "toc_position": {},
   "toc_section_display": true,
   "toc_window_display": true
  }
 },
 "nbformat": 4,
 "nbformat_minor": 2
}
